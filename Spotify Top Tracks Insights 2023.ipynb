{
 "cells": [
  {
   "cell_type": "markdown",
   "id": "07c3af8b",
   "metadata": {},
   "source": [
    "# Spotify 2023 Analysis Project\n",
    "\n",
    "This project focuses on analyzing the **Spotify 2023 dataset**, which contains the most popular tracks of the year along with their corresponding metadata and audio features. The primary goals of this project are:\n",
    "\n",
    "- **Data Preparation and Cleaning**: ensuring the dataset is consistent, reliable, and free from irrelevant variables.  \n",
    "- **Exploratory Data Analysis (EDA)**: uncovering key trends such as the dominance of top artists, collaboration vs solo tracks, and the role of audio features in popularity.  \n",
    "- **Visualization**: building clear and structured plots to support insights and storytelling.  \n",
    "- **Predictive Modeling**: applying machine learning models (Linear Regression and Random Forest Regressor) to estimate whether audio features can explain or predict track popularity.  \n",
    "- **Insights and Storytelling**: interpreting findings to highlight what drives success on Spotify in 2023.  \n",
    "\n",
    "By combining exploratory analysis with predictive modeling, the project not only demonstrates **technical competency** in data science workflows but also provides meaningful insights into modern music consumption patterns."
   ]
  },
  {
   "cell_type": "markdown",
   "id": "b773b3be",
   "metadata": {},
   "source": [
    "---"
   ]
  },
  {
   "cell_type": "markdown",
   "id": "f7add6a1",
   "metadata": {},
   "source": [
    "### Library Imports and Environment Setup\n",
    "\n",
    "In this initial step, all necessary libraries are imported to facilitate the subsequent stages of the project:\n",
    "\n",
    "- **pandas**: For data manipulation and analysis, including reading CSV files and handling DataFrames.  \n",
    "- **plotly.express**: For interactive and high-quality visualizations that support exploration and storytelling.  \n",
    "- **matplotlib.pyplot**: For additional plotting capabilities, particularly for customized charts.  \n",
    "- **numpy**: For numerical operations, including transformations and calculations needed for data preprocessing and modeling.  \n",
    "- **scikit-learn modules**:  \n",
    "  - `train_test_split`: To split datasets into training and testing subsets for model evaluation.  \n",
    "  - `StandardScaler`: To normalize feature data for machine learning algorithms.  \n",
    "  - `RandomForestRegressor` and `LinearRegression`: The predictive models used to estimate track popularity.  \n",
    "  - `mean_squared_error` and `r2_score`: Metrics to evaluate the performance of the predictive models.  \n",
    "\n",
    "This step establishes the computational environment and ensures that all subsequent operations can be executed efficiently and accurately."
   ]
  },
  {
   "cell_type": "code",
   "execution_count": 1,
   "id": "f1627670",
   "metadata": {},
   "outputs": [],
   "source": [
    "import pandas as pd\n",
    "import plotly.express as px\n",
    "import matplotlib.pyplot as plt\n",
    "import numpy as np\n",
    "from sklearn.model_selection import train_test_split\n",
    "from sklearn.preprocessing import StandardScaler\n",
    "from sklearn.ensemble import RandomForestRegressor\n",
    "from sklearn.metrics import mean_squared_error, r2_score\n",
    "from sklearn.linear_model import LinearRegression"
   ]
  },
  {
   "cell_type": "markdown",
   "id": "6e8f1d85",
   "metadata": {},
   "source": [
    "### Data Loading\n",
    "\n",
    "In this cell, the Spotify dataset for 2023 is loaded into a pandas DataFrame:\n",
    "\n",
    "- The CSV file `\"spotify-2023.csv\"` contains detailed information about tracks, including streams, audio features, release dates, and artist information.  \n",
    "- Loading the dataset into `df_spotify` allows for structured data manipulation, exploration, and preparation for both visualization and machine learning.  \n",
    "\n",
    "This is the foundational step where the raw data becomes accessible for analysis."
   ]
  },
  {
   "cell_type": "code",
   "execution_count": 2,
   "id": "69e20bd0",
   "metadata": {},
   "outputs": [
    {
     "data": {
      "text/html": [
       "<div>\n",
       "<style scoped>\n",
       "    .dataframe tbody tr th:only-of-type {\n",
       "        vertical-align: middle;\n",
       "    }\n",
       "\n",
       "    .dataframe tbody tr th {\n",
       "        vertical-align: top;\n",
       "    }\n",
       "\n",
       "    .dataframe thead th {\n",
       "        text-align: right;\n",
       "    }\n",
       "</style>\n",
       "<table border=\"1\" class=\"dataframe\">\n",
       "  <thead>\n",
       "    <tr style=\"text-align: right;\">\n",
       "      <th></th>\n",
       "      <th>track_name</th>\n",
       "      <th>artist(s)_name</th>\n",
       "      <th>artist_count</th>\n",
       "      <th>released_year</th>\n",
       "      <th>released_month</th>\n",
       "      <th>released_day</th>\n",
       "      <th>in_spotify_playlists</th>\n",
       "      <th>in_spotify_charts</th>\n",
       "      <th>streams</th>\n",
       "      <th>in_apple_playlists</th>\n",
       "      <th>...</th>\n",
       "      <th>bpm</th>\n",
       "      <th>key</th>\n",
       "      <th>mode</th>\n",
       "      <th>danceability_%</th>\n",
       "      <th>valence_%</th>\n",
       "      <th>energy_%</th>\n",
       "      <th>acousticness_%</th>\n",
       "      <th>instrumentalness_%</th>\n",
       "      <th>liveness_%</th>\n",
       "      <th>speechiness_%</th>\n",
       "    </tr>\n",
       "  </thead>\n",
       "  <tbody>\n",
       "    <tr>\n",
       "      <th>0</th>\n",
       "      <td>Seven (feat. Latto) (Explicit Ver.)</td>\n",
       "      <td>Latto, Jung Kook</td>\n",
       "      <td>2</td>\n",
       "      <td>2023</td>\n",
       "      <td>7</td>\n",
       "      <td>14</td>\n",
       "      <td>553</td>\n",
       "      <td>147</td>\n",
       "      <td>141381703</td>\n",
       "      <td>43</td>\n",
       "      <td>...</td>\n",
       "      <td>125</td>\n",
       "      <td>B</td>\n",
       "      <td>Major</td>\n",
       "      <td>80</td>\n",
       "      <td>89</td>\n",
       "      <td>83</td>\n",
       "      <td>31</td>\n",
       "      <td>0</td>\n",
       "      <td>8</td>\n",
       "      <td>4</td>\n",
       "    </tr>\n",
       "    <tr>\n",
       "      <th>1</th>\n",
       "      <td>LALA</td>\n",
       "      <td>Myke Towers</td>\n",
       "      <td>1</td>\n",
       "      <td>2023</td>\n",
       "      <td>3</td>\n",
       "      <td>23</td>\n",
       "      <td>1474</td>\n",
       "      <td>48</td>\n",
       "      <td>133716286</td>\n",
       "      <td>48</td>\n",
       "      <td>...</td>\n",
       "      <td>92</td>\n",
       "      <td>C#</td>\n",
       "      <td>Major</td>\n",
       "      <td>71</td>\n",
       "      <td>61</td>\n",
       "      <td>74</td>\n",
       "      <td>7</td>\n",
       "      <td>0</td>\n",
       "      <td>10</td>\n",
       "      <td>4</td>\n",
       "    </tr>\n",
       "    <tr>\n",
       "      <th>2</th>\n",
       "      <td>vampire</td>\n",
       "      <td>Olivia Rodrigo</td>\n",
       "      <td>1</td>\n",
       "      <td>2023</td>\n",
       "      <td>6</td>\n",
       "      <td>30</td>\n",
       "      <td>1397</td>\n",
       "      <td>113</td>\n",
       "      <td>140003974</td>\n",
       "      <td>94</td>\n",
       "      <td>...</td>\n",
       "      <td>138</td>\n",
       "      <td>F</td>\n",
       "      <td>Major</td>\n",
       "      <td>51</td>\n",
       "      <td>32</td>\n",
       "      <td>53</td>\n",
       "      <td>17</td>\n",
       "      <td>0</td>\n",
       "      <td>31</td>\n",
       "      <td>6</td>\n",
       "    </tr>\n",
       "    <tr>\n",
       "      <th>3</th>\n",
       "      <td>Cruel Summer</td>\n",
       "      <td>Taylor Swift</td>\n",
       "      <td>1</td>\n",
       "      <td>2019</td>\n",
       "      <td>8</td>\n",
       "      <td>23</td>\n",
       "      <td>7858</td>\n",
       "      <td>100</td>\n",
       "      <td>800840817</td>\n",
       "      <td>116</td>\n",
       "      <td>...</td>\n",
       "      <td>170</td>\n",
       "      <td>A</td>\n",
       "      <td>Major</td>\n",
       "      <td>55</td>\n",
       "      <td>58</td>\n",
       "      <td>72</td>\n",
       "      <td>11</td>\n",
       "      <td>0</td>\n",
       "      <td>11</td>\n",
       "      <td>15</td>\n",
       "    </tr>\n",
       "    <tr>\n",
       "      <th>4</th>\n",
       "      <td>WHERE SHE GOES</td>\n",
       "      <td>Bad Bunny</td>\n",
       "      <td>1</td>\n",
       "      <td>2023</td>\n",
       "      <td>5</td>\n",
       "      <td>18</td>\n",
       "      <td>3133</td>\n",
       "      <td>50</td>\n",
       "      <td>303236322</td>\n",
       "      <td>84</td>\n",
       "      <td>...</td>\n",
       "      <td>144</td>\n",
       "      <td>A</td>\n",
       "      <td>Minor</td>\n",
       "      <td>65</td>\n",
       "      <td>23</td>\n",
       "      <td>80</td>\n",
       "      <td>14</td>\n",
       "      <td>63</td>\n",
       "      <td>11</td>\n",
       "      <td>6</td>\n",
       "    </tr>\n",
       "    <tr>\n",
       "      <th>...</th>\n",
       "      <td>...</td>\n",
       "      <td>...</td>\n",
       "      <td>...</td>\n",
       "      <td>...</td>\n",
       "      <td>...</td>\n",
       "      <td>...</td>\n",
       "      <td>...</td>\n",
       "      <td>...</td>\n",
       "      <td>...</td>\n",
       "      <td>...</td>\n",
       "      <td>...</td>\n",
       "      <td>...</td>\n",
       "      <td>...</td>\n",
       "      <td>...</td>\n",
       "      <td>...</td>\n",
       "      <td>...</td>\n",
       "      <td>...</td>\n",
       "      <td>...</td>\n",
       "      <td>...</td>\n",
       "      <td>...</td>\n",
       "      <td>...</td>\n",
       "    </tr>\n",
       "    <tr>\n",
       "      <th>948</th>\n",
       "      <td>My Mind &amp; Me</td>\n",
       "      <td>Selena Gomez</td>\n",
       "      <td>1</td>\n",
       "      <td>2022</td>\n",
       "      <td>11</td>\n",
       "      <td>3</td>\n",
       "      <td>953</td>\n",
       "      <td>0</td>\n",
       "      <td>91473363</td>\n",
       "      <td>61</td>\n",
       "      <td>...</td>\n",
       "      <td>144</td>\n",
       "      <td>A</td>\n",
       "      <td>Major</td>\n",
       "      <td>60</td>\n",
       "      <td>24</td>\n",
       "      <td>39</td>\n",
       "      <td>57</td>\n",
       "      <td>0</td>\n",
       "      <td>8</td>\n",
       "      <td>3</td>\n",
       "    </tr>\n",
       "    <tr>\n",
       "      <th>949</th>\n",
       "      <td>Bigger Than The Whole Sky</td>\n",
       "      <td>Taylor Swift</td>\n",
       "      <td>1</td>\n",
       "      <td>2022</td>\n",
       "      <td>10</td>\n",
       "      <td>21</td>\n",
       "      <td>1180</td>\n",
       "      <td>0</td>\n",
       "      <td>121871870</td>\n",
       "      <td>4</td>\n",
       "      <td>...</td>\n",
       "      <td>166</td>\n",
       "      <td>F#</td>\n",
       "      <td>Major</td>\n",
       "      <td>42</td>\n",
       "      <td>7</td>\n",
       "      <td>24</td>\n",
       "      <td>83</td>\n",
       "      <td>1</td>\n",
       "      <td>12</td>\n",
       "      <td>6</td>\n",
       "    </tr>\n",
       "    <tr>\n",
       "      <th>950</th>\n",
       "      <td>A Veces (feat. Feid)</td>\n",
       "      <td>Feid, Paulo Londra</td>\n",
       "      <td>2</td>\n",
       "      <td>2022</td>\n",
       "      <td>11</td>\n",
       "      <td>3</td>\n",
       "      <td>573</td>\n",
       "      <td>0</td>\n",
       "      <td>73513683</td>\n",
       "      <td>2</td>\n",
       "      <td>...</td>\n",
       "      <td>92</td>\n",
       "      <td>C#</td>\n",
       "      <td>Major</td>\n",
       "      <td>80</td>\n",
       "      <td>81</td>\n",
       "      <td>67</td>\n",
       "      <td>4</td>\n",
       "      <td>0</td>\n",
       "      <td>8</td>\n",
       "      <td>6</td>\n",
       "    </tr>\n",
       "    <tr>\n",
       "      <th>951</th>\n",
       "      <td>En La De Ella</td>\n",
       "      <td>Feid, Sech, Jhayco</td>\n",
       "      <td>3</td>\n",
       "      <td>2022</td>\n",
       "      <td>10</td>\n",
       "      <td>20</td>\n",
       "      <td>1320</td>\n",
       "      <td>0</td>\n",
       "      <td>133895612</td>\n",
       "      <td>29</td>\n",
       "      <td>...</td>\n",
       "      <td>97</td>\n",
       "      <td>C#</td>\n",
       "      <td>Major</td>\n",
       "      <td>82</td>\n",
       "      <td>67</td>\n",
       "      <td>77</td>\n",
       "      <td>8</td>\n",
       "      <td>0</td>\n",
       "      <td>12</td>\n",
       "      <td>5</td>\n",
       "    </tr>\n",
       "    <tr>\n",
       "      <th>952</th>\n",
       "      <td>Alone</td>\n",
       "      <td>Burna Boy</td>\n",
       "      <td>1</td>\n",
       "      <td>2022</td>\n",
       "      <td>11</td>\n",
       "      <td>4</td>\n",
       "      <td>782</td>\n",
       "      <td>2</td>\n",
       "      <td>96007391</td>\n",
       "      <td>27</td>\n",
       "      <td>...</td>\n",
       "      <td>90</td>\n",
       "      <td>E</td>\n",
       "      <td>Minor</td>\n",
       "      <td>61</td>\n",
       "      <td>32</td>\n",
       "      <td>67</td>\n",
       "      <td>15</td>\n",
       "      <td>0</td>\n",
       "      <td>11</td>\n",
       "      <td>5</td>\n",
       "    </tr>\n",
       "  </tbody>\n",
       "</table>\n",
       "<p>953 rows × 24 columns</p>\n",
       "</div>"
      ],
      "text/plain": [
       "                              track_name      artist(s)_name  artist_count  \\\n",
       "0    Seven (feat. Latto) (Explicit Ver.)    Latto, Jung Kook             2   \n",
       "1                                   LALA         Myke Towers             1   \n",
       "2                                vampire      Olivia Rodrigo             1   \n",
       "3                           Cruel Summer        Taylor Swift             1   \n",
       "4                         WHERE SHE GOES           Bad Bunny             1   \n",
       "..                                   ...                 ...           ...   \n",
       "948                         My Mind & Me        Selena Gomez             1   \n",
       "949            Bigger Than The Whole Sky        Taylor Swift             1   \n",
       "950                 A Veces (feat. Feid)  Feid, Paulo Londra             2   \n",
       "951                        En La De Ella  Feid, Sech, Jhayco             3   \n",
       "952                                Alone           Burna Boy             1   \n",
       "\n",
       "     released_year  released_month  released_day  in_spotify_playlists  \\\n",
       "0             2023               7            14                   553   \n",
       "1             2023               3            23                  1474   \n",
       "2             2023               6            30                  1397   \n",
       "3             2019               8            23                  7858   \n",
       "4             2023               5            18                  3133   \n",
       "..             ...             ...           ...                   ...   \n",
       "948           2022              11             3                   953   \n",
       "949           2022              10            21                  1180   \n",
       "950           2022              11             3                   573   \n",
       "951           2022              10            20                  1320   \n",
       "952           2022              11             4                   782   \n",
       "\n",
       "     in_spotify_charts    streams  in_apple_playlists  ...  bpm key   mode  \\\n",
       "0                  147  141381703                  43  ...  125   B  Major   \n",
       "1                   48  133716286                  48  ...   92  C#  Major   \n",
       "2                  113  140003974                  94  ...  138   F  Major   \n",
       "3                  100  800840817                 116  ...  170   A  Major   \n",
       "4                   50  303236322                  84  ...  144   A  Minor   \n",
       "..                 ...        ...                 ...  ...  ...  ..    ...   \n",
       "948                  0   91473363                  61  ...  144   A  Major   \n",
       "949                  0  121871870                   4  ...  166  F#  Major   \n",
       "950                  0   73513683                   2  ...   92  C#  Major   \n",
       "951                  0  133895612                  29  ...   97  C#  Major   \n",
       "952                  2   96007391                  27  ...   90   E  Minor   \n",
       "\n",
       "    danceability_%  valence_% energy_% acousticness_%  instrumentalness_%  \\\n",
       "0               80         89       83             31                   0   \n",
       "1               71         61       74              7                   0   \n",
       "2               51         32       53             17                   0   \n",
       "3               55         58       72             11                   0   \n",
       "4               65         23       80             14                  63   \n",
       "..             ...        ...      ...            ...                 ...   \n",
       "948             60         24       39             57                   0   \n",
       "949             42          7       24             83                   1   \n",
       "950             80         81       67              4                   0   \n",
       "951             82         67       77              8                   0   \n",
       "952             61         32       67             15                   0   \n",
       "\n",
       "     liveness_%  speechiness_%  \n",
       "0             8              4  \n",
       "1            10              4  \n",
       "2            31              6  \n",
       "3            11             15  \n",
       "4            11              6  \n",
       "..          ...            ...  \n",
       "948           8              3  \n",
       "949          12              6  \n",
       "950           8              6  \n",
       "951          12              5  \n",
       "952          11              5  \n",
       "\n",
       "[953 rows x 24 columns]"
      ]
     },
     "execution_count": 2,
     "metadata": {},
     "output_type": "execute_result"
    }
   ],
   "source": [
    "df_spotify = pd.read_csv(\"spotify-2023.csv\", encoding=\"latin1\")\n",
    "df_spotify"
   ]
  },
  {
   "cell_type": "markdown",
   "id": "eb62b41c",
   "metadata": {},
   "source": [
    "### Inspecting Column Names\n",
    "\n",
    "This cell examines the structure of the dataset by listing all column names:\n",
    "\n",
    "- It reveals all attributes available in the dataset, including track metadata (`track_name`, `artist(s)_name`, `released_year`, etc.), streaming metrics (`streams`), audio features (`danceability_%`, `valence_%`, `energy_%`, `acousticness_%`, etc.), and playlist/chart presence across different platforms.  \n",
    "- Understanding the column names is essential for data cleaning, feature selection, and ensuring that subsequent operations reference the correct fields.  \n",
    "- This step provides clarity on the raw structure before any transformation or renaming.\n"
   ]
  },
  {
   "cell_type": "code",
   "execution_count": 3,
   "id": "cc43261d",
   "metadata": {},
   "outputs": [
    {
     "data": {
      "text/plain": [
       "Index(['track_name', 'artist(s)_name', 'artist_count', 'released_year',\n",
       "       'released_month', 'released_day', 'in_spotify_playlists',\n",
       "       'in_spotify_charts', 'streams', 'in_apple_playlists', 'in_apple_charts',\n",
       "       'in_deezer_playlists', 'in_deezer_charts', 'in_shazam_charts', 'bpm',\n",
       "       'key', 'mode', 'danceability_%', 'valence_%', 'energy_%',\n",
       "       'acousticness_%', 'instrumentalness_%', 'liveness_%', 'speechiness_%'],\n",
       "      dtype='object')"
      ]
     },
     "execution_count": 3,
     "metadata": {},
     "output_type": "execute_result"
    }
   ],
   "source": [
    "df_spotify.columns"
   ]
  },
  {
   "cell_type": "markdown",
   "id": "8783e812",
   "metadata": {},
   "source": [
    "### Column Renaming for Readability\n",
    "\n",
    "This cell improves the readability and presentation of the dataset by modifying column names:\n",
    "\n",
    "1. **Underscore Replacement**: Replaces underscores (`_`) with spaces for clearer formatting.  \n",
    "   - Example: `artist(s)_name` → `artist(s) name`.\n",
    "\n",
    "2. **Title Case Conversion**: Converts all column names to title case (capitalizing each word).  \n",
    "   - Example: `released_year` → `Released Year`.\n",
    "\n",
    "These transformations make the dataset cleaner and more professional, particularly when visualizing or presenting results.\n"
   ]
  },
  {
   "cell_type": "code",
   "execution_count": 4,
   "id": "82d52a4d",
   "metadata": {},
   "outputs": [
    {
     "data": {
      "text/plain": [
       "Index(['Track Name', 'Artist(S) Name', 'Artist Count', 'Released Year',\n",
       "       'Released Month', 'Released Day', 'In Spotify Playlists',\n",
       "       'In Spotify Charts', 'Streams', 'In Apple Playlists', 'In Apple Charts',\n",
       "       'In Deezer Playlists', 'In Deezer Charts', 'In Shazam Charts', 'Bpm',\n",
       "       'Key', 'Mode', 'Danceability %', 'Valence %', 'Energy %',\n",
       "       'Acousticness %', 'Instrumentalness %', 'Liveness %', 'Speechiness %'],\n",
       "      dtype='object')"
      ]
     },
     "execution_count": 4,
     "metadata": {},
     "output_type": "execute_result"
    }
   ],
   "source": [
    "df_spotify.columns = df_spotify.columns.str.replace(\"_\", \" \")\n",
    "df_spotify.columns = df_spotify.columns.str.title()\n",
    "df_spotify.columns"
   ]
  },
  {
   "cell_type": "markdown",
   "id": "4c0fc858",
   "metadata": {},
   "source": [
    "### Handling Missing Data and Platform Focus\n",
    "\n",
    "This cell inspects the dataset for missing values, revealing that certain columns, particularly those related to other platforms like Shazam, Deezer, and Apple Music, contain significant null entries:\n",
    "\n",
    "- **Key** has 95 missing values.\n",
    "- **In Shazam Charts** has 50 missing values.\n",
    "- Other columns related to Spotify (`Streams`, `In Spotify Charts`, `In Spotify Playlists`) have no missing values.\n",
    "\n",
    "Since the analysis focuses solely on Spotify, columns related to other platforms can be safely ignored or removed. This ensures that the dataset is clean and relevant for subsequent analysis and visualization."
   ]
  },
  {
   "cell_type": "code",
   "execution_count": 5,
   "id": "7c57875b",
   "metadata": {},
   "outputs": [
    {
     "data": {
      "text/plain": [
       "Key                     95\n",
       "In Shazam Charts        50\n",
       "Track Name               0\n",
       "Artist(S) Name           0\n",
       "Liveness %               0\n",
       "Instrumentalness %       0\n",
       "Acousticness %           0\n",
       "Energy %                 0\n",
       "Valence %                0\n",
       "Danceability %           0\n",
       "Mode                     0\n",
       "Bpm                      0\n",
       "In Deezer Charts         0\n",
       "In Deezer Playlists      0\n",
       "In Apple Charts          0\n",
       "In Apple Playlists       0\n",
       "Streams                  0\n",
       "In Spotify Charts        0\n",
       "In Spotify Playlists     0\n",
       "Released Day             0\n",
       "Released Month           0\n",
       "Released Year            0\n",
       "Artist Count             0\n",
       "Speechiness %            0\n",
       "dtype: int64"
      ]
     },
     "execution_count": 5,
     "metadata": {},
     "output_type": "execute_result"
    }
   ],
   "source": [
    "df_spotify.isnull().sum().sort_values(ascending=False)"
   ]
  },
  {
   "cell_type": "markdown",
   "id": "b66d92ad",
   "metadata": {},
   "source": [
    "### Dropping Irrelevant and Redundant Columns\n",
    "\n",
    "In this step, columns that are either irrelevant to the current Spotify-focused analysis or not necessary for the core audio feature exploration are removed. These include:\n",
    "\n",
    "- **Platform-specific columns** for Apple, Deezer, Shazam, and some Spotify indicators.\n",
    "- **Musical attributes** such as `Bpm`, `Mode`, `Instrumentalness %`, `Liveness %`, and `Speechiness %`.\n",
    "\n",
    "This reduces noise in the dataset, simplifies analysis, and ensures that only meaningful features related to Spotify streams and key audio characteristics remain for further processing."
   ]
  },
  {
   "cell_type": "code",
   "execution_count": 6,
   "id": "3f11b145",
   "metadata": {},
   "outputs": [],
   "source": [
    "df_spotify.drop([\"Mode\", \"Key\", 'In Spotify Playlists',\n",
    "                 'In Spotify Charts', 'In Apple Playlists', 'In Apple Charts',\n",
    "                 'In Deezer Playlists', 'In Deezer Charts', 'In Shazam Charts',\n",
    "                 'Bpm', 'Instrumentalness %', 'Liveness %', 'Speechiness %'], axis=1, inplace=True)"
   ]
  },
  {
   "cell_type": "markdown",
   "id": "4bd44647",
   "metadata": {},
   "source": [
    "### Checking for Missing Values After Cleaning\n",
    "\n",
    "After dropping irrelevant columns, we re-evaluate the dataset for missing values. \n",
    "\n",
    "All remaining columns now have **no missing values**, which confirms that the dataset is clean and ready for further analysis, including feature engineering, visualization, and modeling.\n"
   ]
  },
  {
   "cell_type": "code",
   "execution_count": 7,
   "id": "b2b7ae02",
   "metadata": {},
   "outputs": [
    {
     "data": {
      "text/plain": [
       "Track Name        0\n",
       "Artist(S) Name    0\n",
       "Artist Count      0\n",
       "Released Year     0\n",
       "Released Month    0\n",
       "Released Day      0\n",
       "Streams           0\n",
       "Danceability %    0\n",
       "Valence %         0\n",
       "Energy %          0\n",
       "Acousticness %    0\n",
       "dtype: int64"
      ]
     },
     "execution_count": 7,
     "metadata": {},
     "output_type": "execute_result"
    }
   ],
   "source": [
    "df_spotify.isnull().sum().sort_values(ascending=False)"
   ]
  },
  {
   "cell_type": "markdown",
   "id": "336f2057",
   "metadata": {},
   "source": [
    "### Data Types Inspection\n",
    "\n",
    "We inspect the data types to ensure each column is in the correct format for analysis.\n",
    "\n",
    "- `Track Name` and `Artist(S) Name` are categorical/object types.\n",
    "- `Streams` is still an object because it contains commas; it needs to be converted to numeric for quantitative analysis.\n",
    "- All audio features (`Danceability %`, `Valence %`, `Energy %`, `Acousticness %`) are correctly stored as integers.\n",
    "- Date components (`Released Year`, `Released Month`, `Released Day`) are integers, ready for date processing.\n",
    "\n",
    "This step ensures proper data type handling before any transformations or modeling."
   ]
  },
  {
   "cell_type": "code",
   "execution_count": 8,
   "id": "3dad645a",
   "metadata": {},
   "outputs": [
    {
     "data": {
      "text/plain": [
       "Track Name        object\n",
       "Artist(S) Name    object\n",
       "Artist Count       int64\n",
       "Released Year      int64\n",
       "Released Month     int64\n",
       "Released Day       int64\n",
       "Streams           object\n",
       "Danceability %     int64\n",
       "Valence %          int64\n",
       "Energy %           int64\n",
       "Acousticness %     int64\n",
       "dtype: object"
      ]
     },
     "execution_count": 8,
     "metadata": {},
     "output_type": "execute_result"
    }
   ],
   "source": [
    "df_spotify.dtypes"
   ]
  },
  {
   "cell_type": "markdown",
   "id": "7d418133",
   "metadata": {},
   "source": [
    "### Streams Column Cleaning and Conversion\n",
    "\n",
    "In this step, we clean and convert the `Streams` column to a numeric format:\n",
    "\n",
    "1. Remove any rows where `Streams` cannot be converted to a number.\n",
    "2. Strip commas from the `Streams` strings.\n",
    "3. Convert the cleaned strings to `int64` for numerical analysis.\n",
    "\n",
    "This transformation ensures that the `Streams` column is ready for calculations, visualizations, and machine learning models."
   ]
  },
  {
   "cell_type": "code",
   "execution_count": 9,
   "id": "63864dc5",
   "metadata": {},
   "outputs": [
    {
     "name": "stderr",
     "output_type": "stream",
     "text": [
      "C:\\Users\\Mazen\\AppData\\Local\\Temp\\ipykernel_6948\\131622034.py:2: SettingWithCopyWarning: \n",
      "A value is trying to be set on a copy of a slice from a DataFrame.\n",
      "Try using .loc[row_indexer,col_indexer] = value instead\n",
      "\n",
      "See the caveats in the documentation: https://pandas.pydata.org/pandas-docs/stable/user_guide/indexing.html#returning-a-view-versus-a-copy\n",
      "  df_spotify[\"Streams\"] = df_spotify[\"Streams\"].str.replace(\",\", \"\").astype(\"int64\")\n"
     ]
    }
   ],
   "source": [
    "df_spotify = df_spotify[pd.to_numeric(df_spotify[\"Streams\"].str.replace(\",\", \"\"), errors=\"coerce\").notna()]\n",
    "df_spotify[\"Streams\"] = df_spotify[\"Streams\"].str.replace(\",\", \"\").astype(\"int64\")"
   ]
  },
  {
   "cell_type": "markdown",
   "id": "d796c8c2",
   "metadata": {},
   "source": [
    "### Data Types Verification\n",
    "\n",
    "After cleaning, we verify the data types to ensure all columns are in their appropriate formats:\n",
    "\n",
    "- `Streams` is now an integer (`int64`), suitable for numerical analysis.\n",
    "- Audio features (`Danceability %`, `Valence %`, `Energy %`, `Acousticness %`) are integers.\n",
    "- Track identifiers (`Track Name`, `Artist(S) Name`) remain as objects (strings).\n",
    "- Release date components (`Released Year`, `Released Month`, `Released Day`) are integers, ready for datetime conversion.\n",
    "\n",
    "This step confirms that the dataset is properly structured for subsequent analysis and modeling."
   ]
  },
  {
   "cell_type": "code",
   "execution_count": 10,
   "id": "6833d74f",
   "metadata": {},
   "outputs": [
    {
     "data": {
      "text/plain": [
       "Track Name        object\n",
       "Artist(S) Name    object\n",
       "Artist Count       int64\n",
       "Released Year      int64\n",
       "Released Month     int64\n",
       "Released Day       int64\n",
       "Streams            int64\n",
       "Danceability %     int64\n",
       "Valence %          int64\n",
       "Energy %           int64\n",
       "Acousticness %     int64\n",
       "dtype: object"
      ]
     },
     "execution_count": 10,
     "metadata": {},
     "output_type": "execute_result"
    }
   ],
   "source": [
    "df_spotify.dtypes"
   ]
  },
  {
   "cell_type": "markdown",
   "id": "abd9f395",
   "metadata": {},
   "source": [
    "### Duplicate Check\n",
    "\n",
    "We check the dataset for duplicate rows to ensure data integrity:\n",
    "\n",
    "- `df_spotify.duplicated()` returns no duplicates.\n",
    "- This confirms that each track entry is unique, preventing bias or redundancy in analysis and modeling.\n",
    "\n",
    "Ensuring uniqueness is critical before performing aggregations, visualizations, or machine learning tasks."
   ]
  },
  {
   "cell_type": "code",
   "execution_count": 11,
   "id": "6e9ebe21",
   "metadata": {},
   "outputs": [
    {
     "data": {
      "text/html": [
       "<div>\n",
       "<style scoped>\n",
       "    .dataframe tbody tr th:only-of-type {\n",
       "        vertical-align: middle;\n",
       "    }\n",
       "\n",
       "    .dataframe tbody tr th {\n",
       "        vertical-align: top;\n",
       "    }\n",
       "\n",
       "    .dataframe thead th {\n",
       "        text-align: right;\n",
       "    }\n",
       "</style>\n",
       "<table border=\"1\" class=\"dataframe\">\n",
       "  <thead>\n",
       "    <tr style=\"text-align: right;\">\n",
       "      <th></th>\n",
       "      <th>Track Name</th>\n",
       "      <th>Artist(S) Name</th>\n",
       "      <th>Artist Count</th>\n",
       "      <th>Released Year</th>\n",
       "      <th>Released Month</th>\n",
       "      <th>Released Day</th>\n",
       "      <th>Streams</th>\n",
       "      <th>Danceability %</th>\n",
       "      <th>Valence %</th>\n",
       "      <th>Energy %</th>\n",
       "      <th>Acousticness %</th>\n",
       "    </tr>\n",
       "  </thead>\n",
       "  <tbody>\n",
       "  </tbody>\n",
       "</table>\n",
       "</div>"
      ],
      "text/plain": [
       "Empty DataFrame\n",
       "Columns: [Track Name, Artist(S) Name, Artist Count, Released Year, Released Month, Released Day, Streams, Danceability %, Valence %, Energy %, Acousticness %]\n",
       "Index: []"
      ]
     },
     "execution_count": 11,
     "metadata": {},
     "output_type": "execute_result"
    }
   ],
   "source": [
    "df_spotify[df_spotify.duplicated()] # No Duplicates"
   ]
  },
  {
   "cell_type": "markdown",
   "id": "b1633451",
   "metadata": {},
   "source": [
    "### Setting Index\n",
    "\n",
    "We set the `Track Name` column as the DataFrame index:\n",
    "\n",
    "- This makes each track uniquely identifiable by its name.\n",
    "- It simplifies data selection, plotting, and referencing specific tracks throughout the analysis.\n",
    "- Using a meaningful index improves readability and organization of the dataset."
   ]
  },
  {
   "cell_type": "code",
   "execution_count": 12,
   "id": "543d9d33",
   "metadata": {},
   "outputs": [],
   "source": [
    "df_spotify = df_spotify.set_index(\"Track Name\")"
   ]
  },
  {
   "cell_type": "markdown",
   "id": "5b764bb9",
   "metadata": {},
   "source": [
    "### Creating a Unified Release Date Column\n",
    "\n",
    "In this step, we:\n",
    "\n",
    "1. Rename the release date components (`Released Year`, `Released Month`, `Released Day`) to lowercase for convenience.\n",
    "2. Combine the separate year, month, and day columns into a single `Release Date` column using `pd.to_datetime()`.\n",
    "3. Drop the original separate columns to simplify the dataset.\n",
    "\n",
    "This allows for easier date-based calculations and analysis, such as computing track age or filtering by release periods."
   ]
  },
  {
   "cell_type": "code",
   "execution_count": 13,
   "id": "95634bb5",
   "metadata": {},
   "outputs": [],
   "source": [
    "df_spotify_renamed = df_spotify.rename(columns={\n",
    "    'Released Year':  'year',\n",
    "    'Released Month': 'month',\n",
    "    'Released Day':   'day'\n",
    "})\n",
    "\n",
    "df_spotify_renamed['Release Date'] = pd.to_datetime(df_spotify_renamed[['year', 'month', 'day']])\n",
    "\n",
    "df_spotify['Release Date'] = df_spotify_renamed['Release Date']\n",
    "\n",
    "df_spotify = df_spotify.drop(columns=['Released Year', 'Released Month', 'Released Day'])"
   ]
  },
  {
   "cell_type": "markdown",
   "id": "8649978e",
   "metadata": {},
   "source": [
    "### Calculating Track Age in Years\n",
    "\n",
    "Here, we compute the age of each track relative to the end of 2023:\n",
    "\n",
    "1. Define `analysis_date` as December 31, 2023, since our dataset focuses exclusively on Spotify tracks for 2023.\n",
    "2. Subtract the track's `Release Date` from `analysis_date` to get the track's age in days.\n",
    "3. Convert days to years by dividing by 365.25 and cast the result to integer for simplicity.\n",
    "\n",
    "This new column, `Track Age Years`, enables us to analyze trends over time, such as the longevity of streams for older versus newer tracks."
   ]
  },
  {
   "cell_type": "code",
   "execution_count": 14,
   "id": "b7b84a29",
   "metadata": {},
   "outputs": [],
   "source": [
    "analysis_date = pd.Timestamp('2023-12-31')\n",
    "df_spotify['Track Age Years'] = ((analysis_date - df_spotify['Release Date']).dt.days / 365.25).astype(int)"
   ]
  },
  {
   "cell_type": "markdown",
   "id": "0cb66f90",
   "metadata": {},
   "source": [
    "### Creating a Summary Table for Solo vs Collaboration Tracks\n",
    "\n",
    "In this step, we categorize tracks based on the number of artists involved:\n",
    "\n",
    "1. `solo_count`: Counts tracks performed by a single artist (`Artist Count == 1`).\n",
    "2. `collab_count`: Counts tracks with multiple artists (`Artist Count > 1`).\n",
    "\n",
    "We then create a summary DataFrame `collab_table` containing:\n",
    "\n",
    "- `Track Type`: Solo or Collaboration\n",
    "- `Number of Tracks`: Absolute count of tracks for each type\n",
    "- `Percentage`: Proportion of each type relative to the total number of tracks, formatted to two decimal places\n",
    "\n",
    "This table allows us to quickly assess the distribution of solo versus collaborative tracks in the dataset."
   ]
  },
  {
   "cell_type": "code",
   "execution_count": 15,
   "id": "6bc6f264",
   "metadata": {},
   "outputs": [],
   "source": [
    "solo_count = (df_spotify[\"Artist Count\"] == 1).sum()\n",
    "collab_count = (df_spotify[\"Artist Count\"] > 1).sum()\n",
    "\n",
    "collab_table = pd.DataFrame({\n",
    "    \"Track Type\": [\"Solo\", \"Collaboration\"],\n",
    "    \"Number of Tracks\": [solo_count, collab_count],\n",
    "    \"Percentage\": [solo_count/len(df_spotify)*100, collab_count/len(df_spotify)*100]\n",
    "})\n",
    "\n",
    "collab_table[\"Percentage\"] = collab_table[\"Percentage\"].apply(lambda x: f\"{x:.2f}%\")"
   ]
  },
  {
   "cell_type": "markdown",
   "id": "91e7a414",
   "metadata": {},
   "source": [
    "### Solo vs Collaboration Tracks Analysis\n",
    "\n",
    "We create a summary table categorizing tracks as either **Solo** or **Collaboration**:\n",
    "\n",
    "- `Solo`: Tracks performed by a single artist.\n",
    "- `Collaboration`: Tracks performed by multiple artists.\n",
    "\n",
    "The table displays both the **count** and **percentage** of each type:\n",
    "\n",
    "- Solo tracks: 586 (61.55%)\n",
    "- Collaboration tracks: 366 (38.45%)\n",
    "\n",
    "This insight helps us understand the prevalence of collaborations in top Spotify tracks for 2023 and their potential impact on streaming performance."
   ]
  },
  {
   "cell_type": "code",
   "execution_count": 16,
   "id": "6866f7d1",
   "metadata": {},
   "outputs": [
    {
     "data": {
      "text/html": [
       "<div>\n",
       "<style scoped>\n",
       "    .dataframe tbody tr th:only-of-type {\n",
       "        vertical-align: middle;\n",
       "    }\n",
       "\n",
       "    .dataframe tbody tr th {\n",
       "        vertical-align: top;\n",
       "    }\n",
       "\n",
       "    .dataframe thead th {\n",
       "        text-align: right;\n",
       "    }\n",
       "</style>\n",
       "<table border=\"1\" class=\"dataframe\">\n",
       "  <thead>\n",
       "    <tr style=\"text-align: right;\">\n",
       "      <th></th>\n",
       "      <th>Track Type</th>\n",
       "      <th>Number of Tracks</th>\n",
       "      <th>Percentage</th>\n",
       "    </tr>\n",
       "  </thead>\n",
       "  <tbody>\n",
       "    <tr>\n",
       "      <th>0</th>\n",
       "      <td>Solo</td>\n",
       "      <td>586</td>\n",
       "      <td>61.55%</td>\n",
       "    </tr>\n",
       "    <tr>\n",
       "      <th>1</th>\n",
       "      <td>Collaboration</td>\n",
       "      <td>366</td>\n",
       "      <td>38.45%</td>\n",
       "    </tr>\n",
       "  </tbody>\n",
       "</table>\n",
       "</div>"
      ],
      "text/plain": [
       "      Track Type  Number of Tracks Percentage\n",
       "0           Solo               586     61.55%\n",
       "1  Collaboration               366     38.45%"
      ]
     },
     "execution_count": 16,
     "metadata": {},
     "output_type": "execute_result"
    }
   ],
   "source": [
    "collab_table"
   ]
  },
  {
   "cell_type": "markdown",
   "id": "bc4b6468",
   "metadata": {},
   "source": [
    "### Dropping the Artist Count Column\n",
    "\n",
    "Since we have already summarized artist participation in the `collab_table` as Solo vs Collaboration, the `Artist Count` column becomes redundant. Removing it simplifies the dataset and avoids duplication of information, ensuring a cleaner structure for subsequent analyses."
   ]
  },
  {
   "cell_type": "code",
   "execution_count": 17,
   "id": "481971d9",
   "metadata": {},
   "outputs": [],
   "source": [
    "df_spotify.drop(\"Artist Count\", axis=1, inplace=True)"
   ]
  },
  {
   "cell_type": "markdown",
   "id": "d1190212",
   "metadata": {},
   "source": [
    "### Current Dataset Overview\n",
    "\n",
    "At this stage, the Spotify dataset has been cleaned and structured for analysis. The key columns retained are:\n",
    "\n",
    "- **Artist(S) Name**: The performing artist(s) for each track.  \n",
    "- **Streams**: Total number of streams on Spotify, as an integer.  \n",
    "- **Danceability %, Valence %, Energy %, Acousticness %**: Audio features representing the musical characteristics of each track.  \n",
    "- **Release Date**: The official release date of the track.  \n",
    "- **Track Age Years**: The track's age in years, calculated relative to December 31, 2023.\n",
    "\n",
    "The dataset is now indexed by **Track Name**, with no missing values or duplicates, making it ready for both visualization and machine learning modeling."
   ]
  },
  {
   "cell_type": "code",
   "execution_count": 18,
   "id": "fbd4f2b0",
   "metadata": {},
   "outputs": [
    {
     "data": {
      "text/html": [
       "<div>\n",
       "<style scoped>\n",
       "    .dataframe tbody tr th:only-of-type {\n",
       "        vertical-align: middle;\n",
       "    }\n",
       "\n",
       "    .dataframe tbody tr th {\n",
       "        vertical-align: top;\n",
       "    }\n",
       "\n",
       "    .dataframe thead th {\n",
       "        text-align: right;\n",
       "    }\n",
       "</style>\n",
       "<table border=\"1\" class=\"dataframe\">\n",
       "  <thead>\n",
       "    <tr style=\"text-align: right;\">\n",
       "      <th></th>\n",
       "      <th>Artist(S) Name</th>\n",
       "      <th>Streams</th>\n",
       "      <th>Danceability %</th>\n",
       "      <th>Valence %</th>\n",
       "      <th>Energy %</th>\n",
       "      <th>Acousticness %</th>\n",
       "      <th>Release Date</th>\n",
       "      <th>Track Age Years</th>\n",
       "    </tr>\n",
       "    <tr>\n",
       "      <th>Track Name</th>\n",
       "      <th></th>\n",
       "      <th></th>\n",
       "      <th></th>\n",
       "      <th></th>\n",
       "      <th></th>\n",
       "      <th></th>\n",
       "      <th></th>\n",
       "      <th></th>\n",
       "    </tr>\n",
       "  </thead>\n",
       "  <tbody>\n",
       "    <tr>\n",
       "      <th>Seven (feat. Latto) (Explicit Ver.)</th>\n",
       "      <td>Latto, Jung Kook</td>\n",
       "      <td>141381703</td>\n",
       "      <td>80</td>\n",
       "      <td>89</td>\n",
       "      <td>83</td>\n",
       "      <td>31</td>\n",
       "      <td>2023-07-14</td>\n",
       "      <td>0</td>\n",
       "    </tr>\n",
       "    <tr>\n",
       "      <th>LALA</th>\n",
       "      <td>Myke Towers</td>\n",
       "      <td>133716286</td>\n",
       "      <td>71</td>\n",
       "      <td>61</td>\n",
       "      <td>74</td>\n",
       "      <td>7</td>\n",
       "      <td>2023-03-23</td>\n",
       "      <td>0</td>\n",
       "    </tr>\n",
       "    <tr>\n",
       "      <th>vampire</th>\n",
       "      <td>Olivia Rodrigo</td>\n",
       "      <td>140003974</td>\n",
       "      <td>51</td>\n",
       "      <td>32</td>\n",
       "      <td>53</td>\n",
       "      <td>17</td>\n",
       "      <td>2023-06-30</td>\n",
       "      <td>0</td>\n",
       "    </tr>\n",
       "    <tr>\n",
       "      <th>Cruel Summer</th>\n",
       "      <td>Taylor Swift</td>\n",
       "      <td>800840817</td>\n",
       "      <td>55</td>\n",
       "      <td>58</td>\n",
       "      <td>72</td>\n",
       "      <td>11</td>\n",
       "      <td>2019-08-23</td>\n",
       "      <td>4</td>\n",
       "    </tr>\n",
       "    <tr>\n",
       "      <th>WHERE SHE GOES</th>\n",
       "      <td>Bad Bunny</td>\n",
       "      <td>303236322</td>\n",
       "      <td>65</td>\n",
       "      <td>23</td>\n",
       "      <td>80</td>\n",
       "      <td>14</td>\n",
       "      <td>2023-05-18</td>\n",
       "      <td>0</td>\n",
       "    </tr>\n",
       "    <tr>\n",
       "      <th>...</th>\n",
       "      <td>...</td>\n",
       "      <td>...</td>\n",
       "      <td>...</td>\n",
       "      <td>...</td>\n",
       "      <td>...</td>\n",
       "      <td>...</td>\n",
       "      <td>...</td>\n",
       "      <td>...</td>\n",
       "    </tr>\n",
       "    <tr>\n",
       "      <th>My Mind &amp; Me</th>\n",
       "      <td>Selena Gomez</td>\n",
       "      <td>91473363</td>\n",
       "      <td>60</td>\n",
       "      <td>24</td>\n",
       "      <td>39</td>\n",
       "      <td>57</td>\n",
       "      <td>2022-11-03</td>\n",
       "      <td>1</td>\n",
       "    </tr>\n",
       "    <tr>\n",
       "      <th>Bigger Than The Whole Sky</th>\n",
       "      <td>Taylor Swift</td>\n",
       "      <td>121871870</td>\n",
       "      <td>42</td>\n",
       "      <td>7</td>\n",
       "      <td>24</td>\n",
       "      <td>83</td>\n",
       "      <td>2022-10-21</td>\n",
       "      <td>1</td>\n",
       "    </tr>\n",
       "    <tr>\n",
       "      <th>A Veces (feat. Feid)</th>\n",
       "      <td>Feid, Paulo Londra</td>\n",
       "      <td>73513683</td>\n",
       "      <td>80</td>\n",
       "      <td>81</td>\n",
       "      <td>67</td>\n",
       "      <td>4</td>\n",
       "      <td>2022-11-03</td>\n",
       "      <td>1</td>\n",
       "    </tr>\n",
       "    <tr>\n",
       "      <th>En La De Ella</th>\n",
       "      <td>Feid, Sech, Jhayco</td>\n",
       "      <td>133895612</td>\n",
       "      <td>82</td>\n",
       "      <td>67</td>\n",
       "      <td>77</td>\n",
       "      <td>8</td>\n",
       "      <td>2022-10-20</td>\n",
       "      <td>1</td>\n",
       "    </tr>\n",
       "    <tr>\n",
       "      <th>Alone</th>\n",
       "      <td>Burna Boy</td>\n",
       "      <td>96007391</td>\n",
       "      <td>61</td>\n",
       "      <td>32</td>\n",
       "      <td>67</td>\n",
       "      <td>15</td>\n",
       "      <td>2022-11-04</td>\n",
       "      <td>1</td>\n",
       "    </tr>\n",
       "  </tbody>\n",
       "</table>\n",
       "<p>952 rows × 8 columns</p>\n",
       "</div>"
      ],
      "text/plain": [
       "                                         Artist(S) Name    Streams  \\\n",
       "Track Name                                                           \n",
       "Seven (feat. Latto) (Explicit Ver.)    Latto, Jung Kook  141381703   \n",
       "LALA                                        Myke Towers  133716286   \n",
       "vampire                                  Olivia Rodrigo  140003974   \n",
       "Cruel Summer                               Taylor Swift  800840817   \n",
       "WHERE SHE GOES                                Bad Bunny  303236322   \n",
       "...                                                 ...        ...   \n",
       "My Mind & Me                               Selena Gomez   91473363   \n",
       "Bigger Than The Whole Sky                  Taylor Swift  121871870   \n",
       "A Veces (feat. Feid)                 Feid, Paulo Londra   73513683   \n",
       "En La De Ella                        Feid, Sech, Jhayco  133895612   \n",
       "Alone                                         Burna Boy   96007391   \n",
       "\n",
       "                                     Danceability %  Valence %  Energy %  \\\n",
       "Track Name                                                                 \n",
       "Seven (feat. Latto) (Explicit Ver.)              80         89        83   \n",
       "LALA                                             71         61        74   \n",
       "vampire                                          51         32        53   \n",
       "Cruel Summer                                     55         58        72   \n",
       "WHERE SHE GOES                                   65         23        80   \n",
       "...                                             ...        ...       ...   \n",
       "My Mind & Me                                     60         24        39   \n",
       "Bigger Than The Whole Sky                        42          7        24   \n",
       "A Veces (feat. Feid)                             80         81        67   \n",
       "En La De Ella                                    82         67        77   \n",
       "Alone                                            61         32        67   \n",
       "\n",
       "                                     Acousticness % Release Date  \\\n",
       "Track Name                                                         \n",
       "Seven (feat. Latto) (Explicit Ver.)              31   2023-07-14   \n",
       "LALA                                              7   2023-03-23   \n",
       "vampire                                          17   2023-06-30   \n",
       "Cruel Summer                                     11   2019-08-23   \n",
       "WHERE SHE GOES                                   14   2023-05-18   \n",
       "...                                             ...          ...   \n",
       "My Mind & Me                                     57   2022-11-03   \n",
       "Bigger Than The Whole Sky                        83   2022-10-21   \n",
       "A Veces (feat. Feid)                              4   2022-11-03   \n",
       "En La De Ella                                     8   2022-10-20   \n",
       "Alone                                            15   2022-11-04   \n",
       "\n",
       "                                     Track Age Years  \n",
       "Track Name                                            \n",
       "Seven (feat. Latto) (Explicit Ver.)                0  \n",
       "LALA                                               0  \n",
       "vampire                                            0  \n",
       "Cruel Summer                                       4  \n",
       "WHERE SHE GOES                                     0  \n",
       "...                                              ...  \n",
       "My Mind & Me                                       1  \n",
       "Bigger Than The Whole Sky                          1  \n",
       "A Veces (feat. Feid)                               1  \n",
       "En La De Ella                                      1  \n",
       "Alone                                              1  \n",
       "\n",
       "[952 rows x 8 columns]"
      ]
     },
     "execution_count": 18,
     "metadata": {},
     "output_type": "execute_result"
    }
   ],
   "source": [
    "df_spotify"
   ]
  },
  {
   "cell_type": "markdown",
   "id": "1477ab14",
   "metadata": {},
   "source": [
    "### Top 10 Artists by Spotify Streams in 2023\n",
    "\n",
    "This table identifies the leading artists based on the cumulative Spotify streams for the year 2023. The **Streams** column represents the total number of streams for all tracks by each artist:\n",
    "\n",
    "- **The Weeknd**: 14,185,552,870  \n",
    "- **Taylor Swift**: 14,053,658,300  \n",
    "- **Ed Sheeran**: 13,908,947,204  \n",
    "- **Harry Styles**: 11,608,645,649  \n",
    "- **Bad Bunny**: 9,997,799,607  \n",
    "- **Olivia Rodrigo**: 7,442,148,916  \n",
    "- **Eminem**: 6,183,805,596  \n",
    "- **Bruno Mars**: 5,846,920,599  \n",
    "- **Arctic Monkeys**: 5,569,806,731  \n",
    "- **Imagine Dragons**: 5,272,484,650  \n",
    "\n",
    "This ranking highlights the global dominance of certain pop and contemporary artists, emphasizing both popularity and consistency in releasing high-stream tracks. It also provides a benchmark for analyzing audience engagement and streaming trends across top performers.\n"
   ]
  },
  {
   "cell_type": "code",
   "execution_count": 19,
   "id": "bedf2911",
   "metadata": {},
   "outputs": [
    {
     "data": {
      "text/html": [
       "<div>\n",
       "<style scoped>\n",
       "    .dataframe tbody tr th:only-of-type {\n",
       "        vertical-align: middle;\n",
       "    }\n",
       "\n",
       "    .dataframe tbody tr th {\n",
       "        vertical-align: top;\n",
       "    }\n",
       "\n",
       "    .dataframe thead th {\n",
       "        text-align: right;\n",
       "    }\n",
       "</style>\n",
       "<table border=\"1\" class=\"dataframe\">\n",
       "  <thead>\n",
       "    <tr style=\"text-align: right;\">\n",
       "      <th></th>\n",
       "      <th>Streams</th>\n",
       "    </tr>\n",
       "    <tr>\n",
       "      <th>Artist(S) Name</th>\n",
       "      <th></th>\n",
       "    </tr>\n",
       "  </thead>\n",
       "  <tbody>\n",
       "    <tr>\n",
       "      <th>The Weeknd</th>\n",
       "      <td>14185552870</td>\n",
       "    </tr>\n",
       "    <tr>\n",
       "      <th>Taylor Swift</th>\n",
       "      <td>14053658300</td>\n",
       "    </tr>\n",
       "    <tr>\n",
       "      <th>Ed Sheeran</th>\n",
       "      <td>13908947204</td>\n",
       "    </tr>\n",
       "    <tr>\n",
       "      <th>Harry Styles</th>\n",
       "      <td>11608645649</td>\n",
       "    </tr>\n",
       "    <tr>\n",
       "      <th>Bad Bunny</th>\n",
       "      <td>9997799607</td>\n",
       "    </tr>\n",
       "    <tr>\n",
       "      <th>Olivia Rodrigo</th>\n",
       "      <td>7442148916</td>\n",
       "    </tr>\n",
       "    <tr>\n",
       "      <th>Eminem</th>\n",
       "      <td>6183805596</td>\n",
       "    </tr>\n",
       "    <tr>\n",
       "      <th>Bruno Mars</th>\n",
       "      <td>5846920599</td>\n",
       "    </tr>\n",
       "    <tr>\n",
       "      <th>Arctic Monkeys</th>\n",
       "      <td>5569806731</td>\n",
       "    </tr>\n",
       "    <tr>\n",
       "      <th>Imagine Dragons</th>\n",
       "      <td>5272484650</td>\n",
       "    </tr>\n",
       "  </tbody>\n",
       "</table>\n",
       "</div>"
      ],
      "text/plain": [
       "                     Streams\n",
       "Artist(S) Name              \n",
       "The Weeknd       14185552870\n",
       "Taylor Swift     14053658300\n",
       "Ed Sheeran       13908947204\n",
       "Harry Styles     11608645649\n",
       "Bad Bunny         9997799607\n",
       "Olivia Rodrigo    7442148916\n",
       "Eminem            6183805596\n",
       "Bruno Mars        5846920599\n",
       "Arctic Monkeys    5569806731\n",
       "Imagine Dragons   5272484650"
      ]
     },
     "execution_count": 19,
     "metadata": {},
     "output_type": "execute_result"
    }
   ],
   "source": [
    "top_artists = (df_spotify.groupby(\"Artist(S) Name\")[\"Streams\"].sum()\n",
    "      .sort_values(ascending=False).head(10).to_frame(name=\"Streams\"))\n",
    "top_artists"
   ]
  },
  {
   "cell_type": "markdown",
   "id": "9c831280",
   "metadata": {},
   "source": [
    "### Top 10 Tracks by Spotify Streams in 2023\n",
    "\n",
    "This table lists the individual tracks with the highest number of Spotify streams in 2023. The **Streams** column represents the total streams for each track:\n",
    "\n",
    "- **Blinding Lights – The Weeknd**: 3,703,895,074  \n",
    "- **Shape of You – Ed Sheeran**: 3,562,543,890  \n",
    "- **Someone You Loved – Lewis Capaldi**: 2,887,241,814  \n",
    "- **Dance Monkey – Tones and I**: 2,864,791,672  \n",
    "- **Sunflower – Post Malone, Swae Lee**: 2,808,096,550  \n",
    "- **One Dance – Drake, WizKid, Kyla**: 2,713,922,350  \n",
    "- **STAY – Justin Bieber, The Kid Laroi**: 2,665,343,922  \n",
    "- **Believer – Imagine Dragons**: 2,594,040,133  \n",
    "- **Closer – The Chainsmokers, Halsey**: 2,591,224,264  \n",
    "- **Starboy – The Weeknd, Daft Punk**: 2,565,529,693  \n",
    "\n",
    "This ranking illustrates the dominance of high-performing tracks from pop and contemporary artists, highlighting which songs captured the most listener engagement on Spotify during the year. It also helps identify trends in audience preferences and streaming longevity for hit singles.\n"
   ]
  },
  {
   "cell_type": "code",
   "execution_count": 20,
   "id": "5d601f0a",
   "metadata": {},
   "outputs": [
    {
     "data": {
      "text/html": [
       "<div>\n",
       "<style scoped>\n",
       "    .dataframe tbody tr th:only-of-type {\n",
       "        vertical-align: middle;\n",
       "    }\n",
       "\n",
       "    .dataframe tbody tr th {\n",
       "        vertical-align: top;\n",
       "    }\n",
       "\n",
       "    .dataframe thead th {\n",
       "        text-align: right;\n",
       "    }\n",
       "</style>\n",
       "<table border=\"1\" class=\"dataframe\">\n",
       "  <thead>\n",
       "    <tr style=\"text-align: right;\">\n",
       "      <th></th>\n",
       "      <th>Artist(S) Name</th>\n",
       "      <th>Streams</th>\n",
       "    </tr>\n",
       "    <tr>\n",
       "      <th>Track Name</th>\n",
       "      <th></th>\n",
       "      <th></th>\n",
       "    </tr>\n",
       "  </thead>\n",
       "  <tbody>\n",
       "    <tr>\n",
       "      <th>Blinding Lights</th>\n",
       "      <td>The Weeknd</td>\n",
       "      <td>3703895074</td>\n",
       "    </tr>\n",
       "    <tr>\n",
       "      <th>Shape of You</th>\n",
       "      <td>Ed Sheeran</td>\n",
       "      <td>3562543890</td>\n",
       "    </tr>\n",
       "    <tr>\n",
       "      <th>Someone You Loved</th>\n",
       "      <td>Lewis Capaldi</td>\n",
       "      <td>2887241814</td>\n",
       "    </tr>\n",
       "    <tr>\n",
       "      <th>Dance Monkey</th>\n",
       "      <td>Tones and I</td>\n",
       "      <td>2864791672</td>\n",
       "    </tr>\n",
       "    <tr>\n",
       "      <th>Sunflower - Spider-Man: Into the Spider-Verse</th>\n",
       "      <td>Post Malone, Swae Lee</td>\n",
       "      <td>2808096550</td>\n",
       "    </tr>\n",
       "    <tr>\n",
       "      <th>One Dance</th>\n",
       "      <td>Drake, WizKid, Kyla</td>\n",
       "      <td>2713922350</td>\n",
       "    </tr>\n",
       "    <tr>\n",
       "      <th>STAY (with Justin Bieber)</th>\n",
       "      <td>Justin Bieber, The Kid Laroi</td>\n",
       "      <td>2665343922</td>\n",
       "    </tr>\n",
       "    <tr>\n",
       "      <th>Believer</th>\n",
       "      <td>Imagine Dragons</td>\n",
       "      <td>2594040133</td>\n",
       "    </tr>\n",
       "    <tr>\n",
       "      <th>Closer</th>\n",
       "      <td>The Chainsmokers, Halsey</td>\n",
       "      <td>2591224264</td>\n",
       "    </tr>\n",
       "    <tr>\n",
       "      <th>Starboy</th>\n",
       "      <td>The Weeknd, Daft Punk</td>\n",
       "      <td>2565529693</td>\n",
       "    </tr>\n",
       "  </tbody>\n",
       "</table>\n",
       "</div>"
      ],
      "text/plain": [
       "                                                             Artist(S) Name  \\\n",
       "Track Name                                                                    \n",
       "Blinding Lights                                                  The Weeknd   \n",
       "Shape of You                                                     Ed Sheeran   \n",
       "Someone You Loved                                             Lewis Capaldi   \n",
       "Dance Monkey                                                    Tones and I   \n",
       "Sunflower - Spider-Man: Into the Spider-Verse         Post Malone, Swae Lee   \n",
       "One Dance                                               Drake, WizKid, Kyla   \n",
       "STAY (with Justin Bieber)                      Justin Bieber, The Kid Laroi   \n",
       "Believer                                                    Imagine Dragons   \n",
       "Closer                                             The Chainsmokers, Halsey   \n",
       "Starboy                                               The Weeknd, Daft Punk   \n",
       "\n",
       "                                                  Streams  \n",
       "Track Name                                                 \n",
       "Blinding Lights                                3703895074  \n",
       "Shape of You                                   3562543890  \n",
       "Someone You Loved                              2887241814  \n",
       "Dance Monkey                                   2864791672  \n",
       "Sunflower - Spider-Man: Into the Spider-Verse  2808096550  \n",
       "One Dance                                      2713922350  \n",
       "STAY (with Justin Bieber)                      2665343922  \n",
       "Believer                                       2594040133  \n",
       "Closer                                         2591224264  \n",
       "Starboy                                        2565529693  "
      ]
     },
     "execution_count": 20,
     "metadata": {},
     "output_type": "execute_result"
    }
   ],
   "source": [
    "top_songs = df_spotify[[ \"Artist(S) Name\", \"Streams\"]].sort_values(by=\"Streams\",\n",
    "                                                                  ascending=False).head(10)\n",
    "top_songs"
   ]
  },
  {
   "cell_type": "markdown",
   "id": "4b210094",
   "metadata": {},
   "source": [
    "---"
   ]
  },
  {
   "cell_type": "markdown",
   "id": "76f3de93",
   "metadata": {},
   "source": [
    "### Data Visualization\n",
    "\n",
    "With the dataset cleaned and structured, we proceed to explore the key patterns, distributions, and relationships within the Spotify 2023 dataset using interactive and static visualizations. The purpose of this section is to uncover trends in streams, audio features, artist performance, and track characteristics, providing a foundation for insights and storytelling in subsequent analysis."
   ]
  },
  {
   "cell_type": "markdown",
   "id": "691b0e5e",
   "metadata": {},
   "source": [
    "### Insights from Track Age vs Streams (Last 50 Years)\n",
    "\n",
    "The scatter plot of track age versus streams reveals more nuanced patterns regarding Spotify listening behavior:\n",
    "\n",
    "- **Dominance of Recent Hits**: Tracks released within the last 5–6 years dominate the top streaming numbers. For instance, *Blinding Lights* (4 years old) with over 3.7 billion streams, *Shape of You* (6 years old) with 3.56 billion, and *Someone You Loved* (5 years old) with 2.88 billion streams exemplify the strong correlation between recency and streaming performance. This highlights the impact of Spotify’s recommendation algorithms, playlist placements, and contemporary marketing strategies on driving massive streams for recent hits.\n",
    "\n",
    "- **Resilience of Classics**: Despite the prevalence of recent tracks, older songs maintain significant streaming numbers. *Riptide* (48 years old) with 2 billion streams and *Bohemian Rhapsody* (48 years old) with 2.19 billion streams demonstrate that iconic or culturally significant tracks continue to attract listeners across generations. Even 50-year-old tracks like *Dream On* achieve over 830 million streams, emphasizing the enduring appeal of timeless music.\n",
    "\n",
    "- **High Variance Among Mid-Age Tracks**: Tracks aged between 10 and 40 years show a wide dispersion in streaming numbers. Some tracks, like *Pass The Dutchie* (41 years old, ~196 million streams), retain moderate popularity, while many others accumulate relatively fewer streams. This indicates that longevity alone does not guarantee high engagement; cultural relevance, rediscovery via media, and playlist features influence mid-aged track popularity.\n",
    "\n",
    "- **Exponential Skew in Stream Distribution**: The dataset demonstrates a strong right-skew, with a small subset of tracks accumulating billions of streams while the majority remain below 100 million. This reflects the Pareto-like distribution of popularity in digital music platforms, where a few top-performing tracks capture the lion’s share of listener attention.\n",
    "\n",
    "- **Recency Effect vs Legacy Effect**: The top 10 streamed tracks are predominantly recent releases (0–6 years old), showcasing the recency effect, new content benefits from immediate exposure and algorithmic promotion. Conversely, older tracks achieve high streams primarily through legacy effects: cultural significance, historical popularity, and continued relevance across generations.\n",
    "\n",
    "- **Insights for Strategic Decisions**: For artists and labels, this analysis indicates that new releases can rapidly accumulate streams if supported by strong promotional strategies, while legacy tracks can remain monetizable assets through curated playlists, covers, and media features. Streaming longevity for older tracks is highly selective, rewarding only those with enduring cultural impact.\n",
    "\n",
    "In conclusion, the detailed scatter and sorted data confirm that Spotify streaming success is driven by a combination of recency and enduring appeal. While the platform heavily favors new releases, iconic tracks from previous decades continue to secure substantial engagement, highlighting the dual dynamics of modern and classic music consumption.\n"
   ]
  },
  {
   "cell_type": "code",
   "execution_count": 21,
   "id": "cc1d7795",
   "metadata": {},
   "outputs": [
    {
     "data": {
      "application/vnd.plotly.v1+json": {
       "config": {
        "plotlyServerURL": "https://plot.ly"
       },
       "data": [
        {
         "customdata": [
          [
           "Latto, Jung Kook",
           "2023-07-14T00:00:00"
          ],
          [
           "Myke Towers",
           "2023-03-23T00:00:00"
          ],
          [
           "Olivia Rodrigo",
           "2023-06-30T00:00:00"
          ],
          [
           "Taylor Swift",
           "2019-08-23T00:00:00"
          ],
          [
           "Bad Bunny",
           "2023-05-18T00:00:00"
          ],
          [
           "Dave, Central Cee",
           "2023-06-01T00:00:00"
          ],
          [
           "Eslabon Armado, Peso Pluma",
           "2023-03-16T00:00:00"
          ],
          [
           "Quevedo",
           "2023-07-07T00:00:00"
          ],
          [
           "Gunna",
           "2023-05-15T00:00:00"
          ],
          [
           "Peso Pluma, Yng Lvcas",
           "2023-03-17T00:00:00"
          ],
          [
           "Bad Bunny, Grupo Frontera",
           "2023-04-17T00:00:00"
          ],
          [
           "NewJeans",
           "2023-07-07T00:00:00"
          ],
          [
           "Miley Cyrus",
           "2023-01-12T00:00:00"
          ],
          [
           "David Kushner",
           "2023-04-14T00:00:00"
          ],
          [
           "Harry Styles",
           "2022-03-31T00:00:00"
          ],
          [
           "SZA",
           "2022-12-08T00:00:00"
          ],
          [
           "Fifty Fifty",
           "2023-02-24T00:00:00"
          ],
          [
           "Billie Eilish",
           "2023-07-13T00:00:00"
          ],
          [
           "Feid, Young Miko",
           "2023-03-31T00:00:00"
          ],
          [
           "Jimin",
           "2023-03-24T00:00:00"
          ],
          [
           "Gabito Ballesteros, Junior H, Peso Pluma",
           "2023-06-22T00:00:00"
          ],
          [
           "Taylor Swift",
           "2023-07-07T00:00:00"
          ],
          [
           "Arctic Monkeys",
           "2013-01-01T00:00:00"
          ],
          [
           "Bizarrap, Peso Pluma",
           "2023-05-31T00:00:00"
          ],
          [
           "The Weeknd, Madonna, Playboi Carti",
           "2023-06-02T00:00:00"
          ],
          [
           "Fuerza Regida",
           "2023-06-22T00:00:00"
          ],
          [
           "Rï¿½ï¿½ma, Selena G",
           "2022-03-25T00:00:00"
          ],
          [
           "Tainy, Bad Bunny",
           "2023-06-29T00:00:00"
          ],
          [
           "Morgan Wallen",
           "2023-01-31T00:00:00"
          ],
          [
           "Dua Lipa",
           "2023-05-25T00:00:00"
          ],
          [
           "Troye Sivan",
           "2023-07-13T00:00:00"
          ],
          [
           "Peso Pluma, Grupo Frontera",
           "2023-06-28T00:00:00"
          ],
          [
           "The Weeknd, 21 Savage, Metro Boomin",
           "2022-12-02T00:00:00"
          ],
          [
           "Taylor Swift",
           "2022-10-21T00:00:00"
          ],
          [
           "Karol G, Shakira",
           "2023-02-23T00:00:00"
          ],
          [
           "Big One, Duki, Lit Killah, Maria Becerra, FMK, Rusherking, Emilia, Tiago pzk",
           "2023-06-01T00:00:00"
          ],
          [
           "Yahritza Y Su Esencia, Grupo Frontera",
           "2023-04-07T00:00:00"
          ],
          [
           "Taylor Swift",
           "2014-01-01T00:00:00"
          ],
          [
           "Taylor Swift",
           "2014-01-01T00:00:00"
          ],
          [
           "Fuerza Regida",
           "2023-05-19T00:00:00"
          ],
          [
           "Junior H, Peso Pluma",
           "2023-02-10T00:00:00"
          ],
          [
           "Post Malone, Swae Lee",
           "2018-10-09T00:00:00"
          ],
          [
           "Bebe Rexha, David Guetta",
           "2022-08-26T00:00:00"
          ],
          [
           "Tyler, The Creator, Kali Uchis",
           "2017-07-21T00:00:00"
          ],
          [
           "Nicki Minaj, Aqua, Ice Spice",
           "2023-06-23T00:00:00"
          ],
          [
           "Miley Cyrus",
           "2020-11-27T00:00:00"
          ],
          [
           "OneRepublic",
           "2022-05-13T00:00:00"
          ],
          [
           "The Weeknd",
           "2016-11-24T00:00:00"
          ],
          [
           "The Weeknd, Daft Punk",
           "2016-09-21T00:00:00"
          ],
          [
           "Ariana Grande, The Weeknd",
           "2023-02-24T00:00:00"
          ],
          [
           "Feid, Myke Towers, Sky Rompiendo",
           "2023-06-02T00:00:00"
          ],
          [
           "David Guetta, Anne-Marie, Coi Leray",
           "2023-04-06T00:00:00"
          ],
          [
           "Karol G",
           "2023-02-24T00:00:00"
          ],
          [
           "Peggy Gou",
           "2023-06-15T00:00:00"
          ],
          [
           "Tom Odell",
           "2012-10-15T00:00:00"
          ],
          [
           "The Weeknd",
           "2019-11-29T00:00:00"
          ],
          [
           "Kali Uchis",
           "2023-02-24T00:00:00"
          ],
          [
           "Manuel Turizo",
           "2022-05-26T00:00:00"
          ],
          [
           "Karol G",
           "2023-07-14T00:00:00"
          ],
          [
           "Taylor Swift",
           "2020-07-24T00:00:00"
          ],
          [
           "dennis, MC Kevin o Chris",
           "2023-05-04T00:00:00"
          ],
          [
           "PinkPantheress, Ice Spice",
           "2023-02-03T00:00:00"
          ],
          [
           "Charlie Puth, BTS, Jung Kook",
           "2022-06-24T00:00:00"
          ],
          [
           "Rauw Alejandro, ROSALï¿½",
           "2023-03-24T00:00:00"
          ],
          [
           "Ozuna, Feid",
           "2022-10-06T00:00:00"
          ],
          [
           "Chris Molitor",
           "1999-01-01T00:00:00"
          ],
          [
           "Taylor Swift",
           "2022-10-21T00:00:00"
          ],
          [
           "Libianca",
           "2022-12-02T00:00:00"
          ],
          [
           "Post Malone",
           "2023-07-14T00:00:00"
          ],
          [
           "Taylor Swift",
           "2023-07-07T00:00:00"
          ],
          [
           "Rauw Alejandro, Bizarrap",
           "2023-06-23T00:00:00"
          ],
          [
           "Glass Animals",
           "2020-06-28T00:00:00"
          ],
          [
           "JVKE",
           "2022-07-15T00:00:00"
          ],
          [
           "The Neighbourhood",
           "2012-05-14T00:00:00"
          ],
          [
           "Bizarrap, Quevedo",
           "2022-07-06T00:00:00"
          ],
          [
           "Coldplay",
           "2008-01-01T00:00:00"
          ],
          [
           "d4vd",
           "2022-07-17T00:00:00"
          ],
          [
           "Sam Smith, Kim Petras",
           "2022-09-22T00:00:00"
          ],
          [
           "Yandel, Feid",
           "2022-12-20T00:00:00"
          ],
          [
           "Maria Becerra",
           "2023-06-22T00:00:00"
          ],
          [
           "Vance Joy",
           "1975-01-01T00:00:00"
          ],
          [
           "Em Beihold, Stephen Sanchez",
           "2022-04-22T00:00:00"
          ],
          [
           "Mc Livinho, DJ Matt D",
           "2023-06-23T00:00:00"
          ],
          [
           "Taylor Swift",
           "2023-07-07T00:00:00"
          ],
          [
           "Justin Bieber, The Kid Laroi",
           "2021-07-09T00:00:00"
          ],
          [
           "Marshmello, Manuel Turizo",
           "2023-03-03T00:00:00"
          ],
          [
           "Lewis Capaldi",
           "2018-11-08T00:00:00"
          ],
          [
           "Chencho Corleone, Bad Bunny",
           "2022-05-06T00:00:00"
          ],
          [
           "Jain",
           "2015-06-22T00:00:00"
          ],
          [
           "Ayparia, unxbected",
           "2012-06-20T00:00:00"
          ],
          [
           "Luke Combs",
           "2023-03-24T00:00:00"
          ],
          [
           "Doechii",
           "2023-03-17T00:00:00"
          ],
          [
           "Bad Bunny, Eladio Carrion",
           "2023-03-17T00:00:00"
          ],
          [
           "Taylor Swift",
           "2017-11-08T00:00:00"
          ],
          [
           "Jung Kook",
           "2020-06-05T00:00:00"
          ],
          [
           "J. Cole, Lil Durk",
           "2023-05-12T00:00:00"
          ],
          [
           "Lana Del Rey",
           "2023-03-17T00:00:00"
          ],
          [
           "SZA",
           "2022-12-09T00:00:00"
          ],
          [
           "Lana Del Rey",
           "2011-01-01T00:00:00"
          ],
          [
           "BTS",
           "2023-06-09T00:00:00"
          ],
          [
           "Taylor Swift",
           "2012-01-01T00:00:00"
          ],
          [
           "Future, Metro Boomin, Don Toliver",
           "2022-12-02T00:00:00"
          ],
          [
           "Post Malone",
           "2023-04-14T00:00:00"
          ],
          [
           "Eminem",
           "2004-01-01T00:00:00"
          ],
          [
           "NewJeans",
           "2023-07-07T00:00:00"
          ],
          [
           "Carin Leon",
           "2022-04-20T00:00:00"
          ],
          [
           "Dua Lipa, Elton John, Pnau",
           "2017-11-10T00:00:00"
          ],
          [
           "Ruth B.",
           "2017-04-28T00:00:00"
          ],
          [
           "Imagine Dragons",
           "2021-03-11T00:00:00"
          ],
          [
           "Adele",
           "2011-01-01T00:00:00"
          ],
          [
           "Kendrick Lamar, Jay Rock",
           "2012-01-01T00:00:00"
          ],
          [
           "Anggi Marito",
           "2022-12-02T00:00:00"
          ],
          [
           "Jasiel Nuï¿½ï¿½ez, Peso P",
           "2023-06-22T00:00:00"
          ],
          [
           "Taylor Swift",
           "2023-07-07T00:00:00"
          ],
          [
           "Tears For Fears",
           "1985-02-17T00:00:00"
          ],
          [
           "J. Cole",
           "2014-12-09T00:00:00"
          ],
          [
           "Loreen",
           "2023-02-25T00:00:00"
          ],
          [
           "Taiu, Milo j",
           "2023-02-08T00:00:00"
          ],
          [
           "Sebastian Yatra, Manuel Turizo, Beï¿½ï",
           "2023-05-12T00:00:00"
          ],
          [
           "Taylor Swift",
           "2020-07-24T00:00:00"
          ],
          [
           "Junior H, Peso Pluma",
           "2023-06-22T00:00:00"
          ],
          [
           "Calvin Harris, Ellie Goulding",
           "2023-03-10T00:00:00"
          ],
          [
           "Sabrina Carpenter",
           "2022-07-15T00:00:00"
          ],
          [
           "Carin Leon, Grupo Frontera",
           "2022-12-09T00:00:00"
          ],
          [
           "Peso Pluma",
           "2021-06-11T00:00:00"
          ],
          [
           "Feid",
           "2022-08-19T00:00:00"
          ],
          [
           "Ray Dalton, Ryan Lewis, Macklemore",
           "2011-08-16T00:00:00"
          ],
          [
           "Harry Styles",
           "2019-11-17T00:00:00"
          ],
          [
           "Billie Eilish, Khalid",
           "2017-08-11T00:00:00"
          ],
          [
           "Rauw Alejandro, Bizarrap",
           "2023-06-21T00:00:00"
          ],
          [
           "(G)I-DLE",
           "2023-05-15T00:00:00"
          ],
          [
           "NewJeans",
           "2023-01-02T00:00:00"
          ],
          [
           "Lana Del Rey",
           "2011-01-01T00:00:00"
          ],
          [
           "Shakira, Bizarrap",
           "2023-01-11T00:00:00"
          ],
          [
           "Arctic Monkeys",
           "2007-04-20T00:00:00"
          ],
          [
           "Swae Lee, A Boogie Wit da Hoodie, Metro Boomin, NAV",
           "2023-06-02T00:00:00"
          ],
          [
           "Travis Scott, Young Thug, Metro Boomin",
           "2022-12-02T00:00:00"
          ],
          [
           "Sachin-Jigar, Shadab Faridi, Altamash Faridi, Amitabh Bhattacharya, Varun Jain",
           "2023-05-22T00:00:00"
          ],
          [
           "Ed Sheeran",
           "2017-01-01T00:00:00"
          ],
          [
           "d4vd",
           "2022-07-20T00:00:00"
          ],
          [
           "Imagine Dragons",
           "2017-01-31T00:00:00"
          ],
          [
           "Veigh, Bvga Beatz, Supernova Ent, Prod Malax",
           "2023-05-19T00:00:00"
          ],
          [
           "Mc Pedrinho, DJ 900",
           "2023-06-01T00:00:00"
          ],
          [
           "Eminem",
           "2002-01-01T00:00:00"
          ],
          [
           "Sog, Ryan Castro, Peso Pluma",
           "2023-07-13T00:00:00"
          ],
          [
           "The Weeknd, Lana Del Rey",
           "2016-11-24T00:00:00"
          ],
          [
           "Bomba Estï¿½ï¿½reo, Bad B",
           "2022-05-06T00:00:00"
          ],
          [
           "Keane",
           "2004-01-01T00:00:00"
          ],
          [
           "New West",
           "2019-05-10T00:00:00"
          ],
          [
           "Chino Pacas",
           "2023-01-27T00:00:00"
          ],
          [
           "Natanael Cano",
           "2023-06-30T00:00:00"
          ],
          [
           "Peso Pluma",
           "2023-05-26T00:00:00"
          ],
          [
           "Don Omar, Lucenzo",
           "2010-01-01T00:00:00"
          ],
          [
           "Ana Castela, AgroPlay",
           "2023-02-02T00:00:00"
          ],
          [
           "Bruno Mars",
           "2012-12-05T00:00:00"
          ],
          [
           "Big One, FMK, Ke personajes",
           "2023-04-04T00:00:00"
          ],
          [
           "Drake, 21 Savage",
           "2022-06-17T00:00:00"
          ],
          [
           "OneRepublic",
           "2013-01-01T00:00:00"
          ],
          [
           "Justin Bieber",
           "2021-03-19T00:00:00"
          ],
          [
           "Chris Brown",
           "2019-10-04T00:00:00"
          ],
          [
           "Natanael Cano, Peso Pluma",
           "2023-01-23T00:00:00"
          ],
          [
           "Daddy Yankee",
           "2004-07-13T00:00:00"
          ],
          [
           "Drake, WizKid, Kyla",
           "2016-04-04T00:00:00"
          ],
          [
           "Taylor Swift",
           "2010-01-01T00:00:00"
          ],
          [
           "The Weeknd",
           "2020-03-20T00:00:00"
          ],
          [
           "Miguel",
           "2010-05-25T00:00:00"
          ],
          [
           "The Police",
           "1983-01-06T00:00:00"
          ],
          [
           "Lord Huron",
           "2015-02-02T00:00:00"
          ],
          [
           "Rihanna, Calvin Harris",
           "2011-01-01T00:00:00"
          ],
          [
           "Bruno Mars",
           "2012-12-05T00:00:00"
          ],
          [
           "Alec Benjamin",
           "2018-05-25T00:00:00"
          ],
          [
           "A$AP Rocky, Metro Boomin, Roisee",
           "2023-06-02T00:00:00"
          ],
          [
           "Arctic Monkeys",
           "2013-01-01T00:00:00"
          ],
          [
           "Imagine Dragons",
           "2012-01-01T00:00:00"
          ],
          [
           "YOASOBI",
           "2023-04-12T00:00:00"
          ],
          [
           "The Weeknd",
           "2016-11-25T00:00:00"
          ],
          [
           "Taylor Swift",
           "2014-01-01T00:00:00"
          ],
          [
           "Arctic Monkeys",
           "2013-01-01T00:00:00"
          ],
          [
           "Rosa Linn",
           "2022-03-19T00:00:00"
          ],
          [
           "Ed Sheeran",
           "2017-01-06T00:00:00"
          ],
          [
           "One Direction",
           "2014-11-17T00:00:00"
          ],
          [
           "Oscar Maydon, Junior H",
           "2023-01-13T00:00:00"
          ],
          [
           "Radiohead",
           "1992-09-21T00:00:00"
          ],
          [
           "James Arthur",
           "2019-10-18T00:00:00"
          ],
          [
           "Cigarettes After Sex",
           "2017-03-21T00:00:00"
          ],
          [
           "Shubh",
           "2023-05-19T00:00:00"
          ],
          [
           "Frank Ocean",
           "2016-08-20T00:00:00"
          ],
          [
           "Post Malone",
           "2019-08-30T00:00:00"
          ],
          [
           "Bruno Mars",
           "2010-01-01T00:00:00"
          ],
          [
           "Hozier",
           "2013-09-13T00:00:00"
          ],
          [
           "Fuerza Regida, Grupo Frontera",
           "2022-12-16T00:00:00"
          ],
          [
           "Taylor Swift",
           "2021-04-09T00:00:00"
          ],
          [
           "Bad Bunny",
           "2022-05-06T00:00:00"
          ],
          [
           "Taylor Swift",
           "2023-07-07T00:00:00"
          ],
          [
           "Hotel Ugly",
           "2020-02-10T00:00:00"
          ],
          [
           "Plan B",
           "2010-07-20T00:00:00"
          ],
          [
           "Feid, Mora, Saiko, Quevedo",
           "2023-06-08T00:00:00"
          ],
          [
           "NewJeans",
           "2022-12-19T00:00:00"
          ],
          [
           "a-ha",
           "1984-10-19T00:00:00"
          ],
          [
           "Swae Lee, Lil Wayne, Offset, Metro Boomin",
           "2023-06-02T00:00:00"
          ],
          [
           "Kodak Black, NLE Choppa, Muni Long, JVKE, Jimin",
           "2023-05-01T00:00:00"
          ],
          [
           "Shakira",
           "2023-05-11T00:00:00"
          ],
          [
           "Natanael Cano, Gabito Ballesteros, Peso Pluma",
           "2022-11-24T00:00:00"
          ],
          [
           "Arijit Singh, Sachin-Jigar, Amitabha Bhattacharya",
           "2023-05-15T00:00:00"
          ],
          [
           "Stray Kids",
           "2023-06-02T00:00:00"
          ],
          [
           "Taylor Swift",
           "2023-05-26T00:00:00"
          ],
          [
           "Becky G, Peso Pluma",
           "2023-03-30T00:00:00"
          ],
          [
           "Metro Boomin, Coi Leray",
           "2023-06-02T00:00:00"
          ],
          [
           "Kaliii, Kaliii",
           "2023-03-17T00:00:00"
          ],
          [
           "Junior H, Eden Muï¿½ï",
           "2023-05-13T00:00:00"
          ],
          [
           "Abhijay Sharma, Riar Saab",
           "2022-09-29T00:00:00"
          ],
          [
           "Semicenk, Doï¿½ï¿½u ",
           "2023-06-02T00:00:00"
          ],
          [
           "JISOO",
           "2023-03-31T00:00:00"
          ],
          [
           "Future, Lil Uzi Vert, Metro Boomin",
           "2023-06-02T00:00:00"
          ],
          [
           "Ed Sheeran",
           "2023-03-23T00:00:00"
          ],
          [
           "RAYE, 070 Shake",
           "2022-10-12T00:00:00"
          ],
          [
           "Arcangel, Bad Bunny",
           "2022-11-30T00:00:00"
          ],
          [
           "Taylor Swift, Ice Spice",
           "2023-05-26T00:00:00"
          ],
          [
           "Future, Chris Brown, Metro Boomin",
           "2022-12-02T00:00:00"
          ],
          [
           "BLESSD, Peso Pluma",
           "2023-04-04T00:00:00"
          ],
          [
           "Feid",
           "2022-12-02T00:00:00"
          ],
          [
           "Fuerza Regida, Natanael Cano",
           "2022-12-01T00:00:00"
          ],
          [
           "Lana Del Rey, Taylor Swift",
           "2023-05-26T00:00:00"
          ],
          [
           "Coi Leray",
           "2022-11-30T00:00:00"
          ],
          [
           "ENHYPEN",
           "2023-05-22T00:00:00"
          ],
          [
           "Lil Durk, Morgan Wallen",
           "2023-05-26T00:00:00"
          ],
          [
           "Feid",
           "2022-07-08T00:00:00"
          ],
          [
           "James Blake, Metro Boomin",
           "2023-06-02T00:00:00"
          ],
          [
           "Israel & Rodolffo, Mari Fernandez",
           "2023-03-01T00:00:00"
          ],
          [
           "Steve Lacy",
           "2022-06-29T00:00:00"
          ],
          [
           "Beyoncï¿",
           "2022-07-29T00:00:00"
          ],
          [
           "Halsey, Suga",
           "2023-06-05T00:00:00"
          ],
          [
           "Nicky Jam, Feid",
           "2023-05-18T00:00:00"
          ],
          [
           "Sean Paul, Feid",
           "2023-04-21T00:00:00"
          ],
          [
           "Drake",
           "2023-04-07T00:00:00"
          ],
          [
           "Kendrick Lamar, Beyoncï¿",
           "2023-05-19T00:00:00"
          ],
          [
           "Taylor Swift",
           "2022-10-21T00:00:00"
          ],
          [
           "WizKid, Toian, Metro Boomin, Don Toliver, Beam",
           "2023-06-02T00:00:00"
          ],
          [
           "Bad Bunny",
           "2022-05-06T00:00:00"
          ],
          [
           "Simone Mendes",
           "2023-01-27T00:00:00"
          ],
          [
           "Tini",
           "2023-02-14T00:00:00"
          ],
          [
           "Lil Uzi Vert",
           "2022-10-17T00:00:00"
          ],
          [
           "Sia",
           "2016-01-21T00:00:00"
          ],
          [
           "Stephen Sanchez",
           "2021-09-01T00:00:00"
          ],
          [
           "Drake, 21 Savage",
           "2022-11-04T00:00:00"
          ],
          [
           "Adele",
           "2021-10-14T00:00:00"
          ],
          [
           "MC Caverinha, KayBlack",
           "2023-05-11T00:00:00"
          ],
          [
           "Offset, JID",
           "2023-06-02T00:00:00"
          ],
          [
           "Zï¿½ï¿½ Neto & Crist",
           "2023-02-14T00:00:00"
          ],
          [
           "Eminem",
           "2000-01-01T00:00:00"
          ],
          [
           "Migrantes, LiL CaKe, Nico Valdi",
           "2022-12-16T00:00:00"
          ],
          [
           "Tory Lanez",
           "2021-12-10T00:00:00"
          ],
          [
           "Joji",
           "2022-06-10T00:00:00"
          ],
          [
           "Mambo Kingz, DJ Luian, Anuel Aa",
           "2023-05-04T00:00:00"
          ],
          [
           "Ed Sheeran",
           "2023-05-05T00:00:00"
          ],
          [
           "Nile Rodgers, LE SSERAFIM",
           "2023-05-01T00:00:00"
          ],
          [
           "Agust D",
           "2023-04-21T00:00:00"
          ],
          [
           "Rich The Kid, Matuï¿",
           "2023-04-30T00:00:00"
          ],
          [
           "Karol G",
           "2023-02-24T00:00:00"
          ],
          [
           "Labrinth",
           "2023-04-07T00:00:00"
          ],
          [
           "Karol G, Romeo Santos",
           "2023-02-02T00:00:00"
          ],
          [
           "Lizzy McAlpine",
           "2022-04-08T00:00:00"
          ],
          [
           "Fifty Fifty",
           "2023-02-24T00:00:00"
          ],
          [
           "IVE",
           "2023-04-10T00:00:00"
          ],
          [
           "sped up 8282",
           "1997-01-01T00:00:00"
          ],
          [
           "Cartel De Santa, La Kelly",
           "2023-03-04T00:00:00"
          ],
          [
           "SEVENTEEN",
           "2023-04-24T00:00:00"
          ],
          [
           "NLE Choppa",
           "2022-04-22T00:00:00"
          ],
          [
           "The Weeknd, Future",
           "2023-04-21T00:00:00"
          ],
          [
           "Taylor Swift",
           "2019-08-23T00:00:00"
          ],
          [
           "Karol G",
           "2022-04-21T00:00:00"
          ],
          [
           "Nicki Minaj, Ice Spice",
           "2023-04-14T00:00:00"
          ],
          [
           "Grupo Marca Registrada, Grupo Frontera",
           "2023-02-03T00:00:00"
          ],
          [
           "Ed Sheeran",
           "2021-09-09T00:00:00"
          ],
          [
           "Fuerza Regida, Peso Pluma",
           "2022-12-30T00:00:00"
          ],
          [
           "TAEYANG, Lisa",
           "2023-04-25T00:00:00"
          ],
          [
           "Raim Laode",
           "2022-08-16T00:00:00"
          ],
          [
           "ROSALï¿½",
           "2022-07-28T00:00:00"
          ],
          [
           "Meghan Trainor",
           "2022-10-21T00:00:00"
          ],
          [
           "sped up nightcore, ARIZONATEARS, Lil Uzi Vert",
           "2023-02-05T00:00:00"
          ],
          [
           "Grupo Frontera",
           "2022-04-28T00:00:00"
          ],
          [
           "Quevedo",
           "2022-11-04T00:00:00"
          ],
          [
           "TV Girl",
           "2014-06-05T00:00:00"
          ],
          [
           "INTERWORLD",
           "2021-11-25T00:00:00"
          ],
          [
           "Quevedo, Jhayco",
           "2023-04-27T00:00:00"
          ],
          [
           "El Chachito, Junior H",
           "2022-12-24T00:00:00"
          ],
          [
           "Jimin",
           "2023-03-17T00:00:00"
          ],
          [
           "The Weeknd, Gesaffelstein",
           "2018-03-29T00:00:00"
          ],
          [
           "RM, Colde",
           "2023-05-04T00:00:00"
          ],
          [
           "BLACKPINK",
           "2022-09-16T00:00:00"
          ],
          [
           "Nengo Flow, Bad Bunny",
           "2022-12-22T00:00:00"
          ],
          [
           "The Weeknd",
           "2018-03-29T00:00:00"
          ],
          [
           "Jimin",
           "2023-03-24T00:00:00"
          ],
          [
           "Jasiel Nuï¿½ï¿½ez, Peso P",
           "2023-02-02T00:00:00"
          ],
          [
           "Nicky Youre, Dazy",
           "2021-12-03T00:00:00"
          ],
          [
           "Eminem",
           "2002-01-01T00:00:00"
          ],
          [
           "Eminem, Dina Rae",
           "2002-05-26T00:00:00"
          ],
          [
           "Mambo Kingz, DJ Luian, Anuel Aa",
           "2023-03-02T00:00:00"
          ],
          [
           "IU, Agust D",
           "2023-04-07T00:00:00"
          ],
          [
           "Feid",
           "2023-03-17T00:00:00"
          ],
          [
           "Arcangel, Bizarrap",
           "2023-03-22T00:00:00"
          ],
          [
           "Tyler, The Creator",
           "2023-03-27T00:00:00"
          ],
          [
           "Tiï¿½ï¿½sto, Tate M",
           "2022-11-01T00:00:00"
          ],
          [
           "Tyler, The Creator",
           "2023-03-31T00:00:00"
          ],
          [
           "NF",
           "2023-03-25T00:00:00"
          ],
          [
           "Yng Lvcas",
           "2021-12-24T00:00:00"
          ],
          [
           "Kanii, PR1ISVX",
           "2023-03-24T00:00:00"
          ],
          [
           "Harry Styles",
           "2022-05-20T00:00:00"
          ],
          [
           "Marï¿½ï¿½lia Mendo",
           "2022-12-09T00:00:00"
          ],
          [
           "Ariana Grande, The Weeknd",
           "2020-03-20T00:00:00"
          ],
          [
           "Zach Bryan",
           "2022-04-22T00:00:00"
          ],
          [
           "Melanie Martinez",
           "2023-03-29T00:00:00"
          ],
          [
           "Fuerza Regida, Chino Pacas",
           "2023-03-14T00:00:00"
          ],
          [
           "Taylor Swift",
           "2022-10-21T00:00:00"
          ],
          [
           "Mae Stephens",
           "2023-02-10T00:00:00"
          ],
          [
           "Morgan Wallen",
           "2022-05-13T00:00:00"
          ],
          [
           "Feid, Mora",
           "2022-04-01T00:00:00"
          ],
          [
           "Kenia OS",
           "2022-10-26T00:00:00"
          ],
          [
           "Kordhell",
           "2022-01-21T00:00:00"
          ],
          [
           "Coolio, L.V.",
           "1995-07-11T00:00:00"
          ],
          [
           "Karol G, Ovy On The Drums",
           "2022-11-13T00:00:00"
          ],
          [
           "The Walters",
           "2014-11-28T00:00:00"
          ],
          [
           "Steve Lacy",
           "2017-02-20T00:00:00"
          ],
          [
           "James Arthur",
           "2016-09-09T00:00:00"
          ],
          [
           "The Weeknd",
           "2015-05-27T00:00:00"
          ],
          [
           "Mac DeMarco",
           "2019-05-10T00:00:00"
          ],
          [
           "Jack Black",
           "2023-04-07T00:00:00"
          ],
          [
           "Duki, NICKI NICOLE, Cris Mj, Standly, Stars Music Chile",
           "2022-12-15T00:00:00"
          ],
          [
           "Brray, Rauw Alejandro, Lyanno",
           "2022-07-25T00:00:00"
          ],
          [
           "SZA",
           "2022-12-09T00:00:00"
          ],
          [
           "Linkin Park",
           "2003-03-24T00:00:00"
          ],
          [
           "Gorillaz, Bad Bunny",
           "2023-02-24T00:00:00"
          ],
          [
           "j-hope, J. Cole",
           "2023-03-03T00:00:00"
          ],
          [
           "Morgan Wallen",
           "2022-12-02T00:00:00"
          ],
          [
           "Robin Schulz, Oliver Tree",
           "2022-08-05T00:00:00"
          ],
          [
           "Morgan Wallen",
           "2023-03-03T00:00:00"
          ],
          [
           "Morgan Wallen",
           "2023-03-03T00:00:00"
          ],
          [
           "Don Toliver, Future, Justin Bieber",
           "2023-02-23T00:00:00"
          ],
          [
           "Morgan Wallen",
           "2023-01-31T00:00:00"
          ],
          [
           "Niall Horan",
           "2023-02-17T00:00:00"
          ],
          [
           "Central Cee",
           "2022-12-15T00:00:00"
          ],
          [
           "Mahalini",
           "2023-01-23T00:00:00"
          ],
          [
           "Morgan Wallen",
           "2023-01-31T00:00:00"
          ],
          [
           "Arijit Singh, Sachin-Jigar",
           "2022-11-05T00:00:00"
          ],
          [
           "ThxSoMch",
           "2022-10-31T00:00:00"
          ],
          [
           "Myke Towers, Quevedo",
           "2022-12-15T00:00:00"
          ],
          [
           "Morgan Wallen, Eric Church",
           "2023-03-03T00:00:00"
          ],
          [
           "Nicki Minaj",
           "2023-03-03T00:00:00"
          ],
          [
           "Kaifi Khalil",
           "2022-05-31T00:00:00"
          ],
          [
           "SZA",
           "2022-12-09T00:00:00"
          ],
          [
           "Karol G, Quevedo",
           "2023-02-23T00:00:00"
          ],
          [
           "NewJeans",
           "2022-08-01T00:00:00"
          ],
          [
           "Lady Gaga",
           "2011-01-01T00:00:00"
          ],
          [
           "Ozuna, Shakira",
           "2022-10-19T00:00:00"
          ],
          [
           "Morgan Wallen",
           "2023-03-03T00:00:00"
          ],
          [
           "Quevedo",
           "2023-01-20T00:00:00"
          ],
          [
           "Morgan Wallen",
           "2022-05-06T00:00:00"
          ],
          [
           "Linkin Park",
           "2000-10-24T00:00:00"
          ],
          [
           "Leo Santana",
           "2022-12-08T00:00:00"
          ],
          [
           "Treyce",
           "2022-07-28T00:00:00"
          ],
          [
           "Post Malone, Doja Cat",
           "2022-06-03T00:00:00"
          ],
          [
           "Bad Bunny",
           "2022-05-06T00:00:00"
          ],
          [
           "Quevedo",
           "2022-09-08T00:00:00"
          ],
          [
           "MC Xenon, Os Gemeos da Putaria",
           "2022-12-23T00:00:00"
          ],
          [
           "Imagine Dragons, League of Legends, JID, Arcane",
           "2021-09-03T00:00:00"
          ],
          [
           "XXXTENTACION",
           "2017-08-25T00:00:00"
          ],
          [
           "Israel & Rodolffo, Ana Castela",
           "2022-11-03T00:00:00"
          ],
          [
           "J Balvin, Bad Bunny",
           "2019-06-28T00:00:00"
          ],
          [
           "Yuridia, Angela Aguilar",
           "2022-10-20T00:00:00"
          ],
          [
           "The Kid Laroi",
           "2023-01-27T00:00:00"
          ],
          [
           "The Weeknd",
           "2020-02-19T00:00:00"
          ],
          [
           "Lizzo",
           "2022-07-15T00:00:00"
          ],
          [
           "Morgan Wallen",
           "2023-03-03T00:00:00"
          ],
          [
           "Fujii Kaze",
           "2020-05-20T00:00:00"
          ],
          [
           "Wisin & Yandel, ROSALï¿½",
           "2022-09-29T00:00:00"
          ],
          [
           "King",
           "2022-10-12T00:00:00"
          ],
          [
           "Bad Bunny",
           "2022-05-06T00:00:00"
          ],
          [
           "Coldplay, BTS",
           "2021-09-24T00:00:00"
          ],
          [
           "Morgan Wallen",
           "2023-03-03T00:00:00"
          ],
          [
           "ROSALï¿½",
           "2023-01-27T00:00:00"
          ],
          [
           "Sam Smith, Calvin Harris, Jessie Reyez",
           "2023-01-27T00:00:00"
          ],
          [
           "P!nk",
           "2023-01-27T00:00:00"
          ],
          [
           "LE SSERAFIM",
           "2022-10-17T00:00:00"
          ],
          [
           "PinkPantheress",
           "2022-11-30T00:00:00"
          ],
          [
           "TAEYANG, Jimin",
           "2023-01-13T00:00:00"
          ],
          [
           "SZA",
           "2022-10-28T00:00:00"
          ],
          [
           "Rihanna",
           "2022-10-28T00:00:00"
          ],
          [
           "Lil Nas X",
           "2022-09-22T00:00:00"
          ],
          [
           "Beach Weather",
           "2016-11-04T00:00:00"
          ],
          [
           "Halsey, BTS",
           "2019-04-12T00:00:00"
          ],
          [
           "Baby Tate",
           "2016-09-27T00:00:00"
          ],
          [
           "Rï¿½ï",
           "2022-02-09T00:00:00"
          ],
          [
           "Arijit Singh, Vishal Dadlani, Sukriti Kakar, Vishal-Shekhar, Shekhar Ravjiani, Kumaar",
           "2022-12-22T00:00:00"
          ],
          [
           "RAYE, 070 Shake",
           "2022-11-25T00:00:00"
          ],
          [
           "Beach House",
           "2015-01-01T00:00:00"
          ],
          [
           "BTS, Jung Kook, FIFA Sound",
           "2022-11-20T00:00:00"
          ],
          [
           "Shakira, Rauw Alejandro",
           "2022-04-21T00:00:00"
          ],
          [
           "Steve Aoki, Tini, La Joaqui",
           "2023-01-12T00:00:00"
          ],
          [
           "Billie Eilish",
           "2022-07-21T00:00:00"
          ],
          [
           "Sam Smith",
           "2014-01-01T00:00:00"
          ],
          [
           "Conan Gray",
           "2020-03-20T00:00:00"
          ],
          [
           "Vishal-Shekhar, Shilpa Rao, Caralisa Monteiro, Kumaar, Vishal Dadlani, Shekhar Ravjiani",
           "2022-12-12T00:00:00"
          ],
          [
           "Calvin Harris, Dua Lipa",
           "2017-06-02T00:00:00"
          ],
          [
           "TOMORROW X TOGETHER",
           "2023-01-27T00:00:00"
          ],
          [
           "BLACKPINK",
           "2022-08-19T00:00:00"
          ],
          [
           "Drake, Future, Tems",
           "2022-04-27T00:00:00"
          ],
          [
           "Dua Lipa",
           "2019-10-31T00:00:00"
          ],
          [
           "Mr.Kitty",
           "2014-08-08T00:00:00"
          ],
          [
           "Gustavo Mioto, Mari Fernandez",
           "2022-09-16T00:00:00"
          ],
          [
           "Jack Harlow, Lil Nas X",
           "2021-07-23T00:00:00"
          ],
          [
           "Elley Duhï¿",
           "2020-01-10T00:00:00"
          ],
          [
           "Seafret",
           "2015-04-22T00:00:00"
          ],
          [
           "Baby Rasta, Rauw Alejandro",
           "2022-09-22T00:00:00"
          ],
          [
           "DJ Escobar, MC MENOR SG, MC MENOR HR",
           "2022-09-09T00:00:00"
          ],
          [
           "Dean Lewis",
           "2022-08-05T00:00:00"
          ],
          [
           "SZA",
           "2022-12-09T00:00:00"
          ],
          [
           "Joji",
           "2022-11-04T00:00:00"
          ],
          [
           "Central Cee",
           "2022-07-20T00:00:00"
          ],
          [
           "Bellakath",
           "2022-10-03T00:00:00"
          ],
          [
           "Skrillex, Flowdan, Fred again..",
           "2022-01-17T00:00:00"
          ],
          [
           "Travis Scott, 21 Savage, Metro Boomin",
           "2022-12-02T00:00:00"
          ],
          [
           "Bad Bunny",
           "2021-06-04T00:00:00"
          ],
          [
           "Nicki Minaj",
           "2022-08-12T00:00:00"
          ],
          [
           "Kate Bush",
           "1985-09-16T00:00:00"
          ],
          [
           "Aerosmith",
           "1973-01-05T00:00:00"
          ],
          [
           "Freddie Dredd",
           "2022-08-11T00:00:00"
          ],
          [
           "Lost Frequencies, Calum Scott",
           "2021-07-30T00:00:00"
          ],
          [
           "Twisted, Oliver Tree",
           "2022-09-28T00:00:00"
          ],
          [
           "Ed Sheeran",
           "2020-09-03T00:00:00"
          ],
          [
           "Kenshi Yonezu",
           "2022-10-12T00:00:00"
          ],
          [
           "Omar Apollo",
           "2022-04-08T00:00:00"
          ],
          [
           "SZA",
           "2020-12-24T00:00:00"
          ],
          [
           "Dua Lipa, DaBaby",
           "2020-03-27T00:00:00"
          ],
          [
           "Doja Cat",
           "2021-06-25T00:00:00"
          ],
          [
           "Hotel Ugly",
           "2022-09-14T00:00:00"
          ],
          [
           "James Hype, Miggy Dela Rosa",
           "2022-03-14T00:00:00"
          ],
          [
           "Taylor Swift",
           "2022-10-21T00:00:00"
          ],
          [
           "Pritam, Arijit Singh, Amitabh Bhattacharya",
           "2022-07-17T00:00:00"
          ],
          [
           "Maroon 5, Wiz Khalifa",
           "2012-01-01T00:00:00"
          ],
          [
           "Mariah Carey",
           "1994-10-28T00:00:00"
          ],
          [
           "Wham!",
           "1984-01-01T00:00:00"
          ],
          [
           "Michael Bublï¿",
           "2011-10-14T00:00:00"
          ],
          [
           "Ariana Grande",
           "2013-12-13T00:00:00"
          ],
          [
           "Sia",
           "2017-01-01T00:00:00"
          ],
          [
           "Kelly Clarkson",
           "2013-10-25T00:00:00"
          ],
          [
           "Michael Bublï¿",
           "2011-10-14T00:00:00"
          ],
          [
           "Justin Bieber",
           "2011-01-01T00:00:00"
          ],
          [
           "SZA",
           "2022-12-09T00:00:00"
          ],
          [
           "SZA",
           "2022-12-09T00:00:00"
          ],
          [
           "SZA, Don Toliver",
           "2022-12-08T00:00:00"
          ],
          [
           "Paul McCartney",
           "1979-11-16T00:00:00"
          ],
          [
           "Band Aid",
           "1984-11-25T00:00:00"
          ],
          [
           "SZA, Phoebe Bridgers",
           "2022-12-09T00:00:00"
          ],
          [
           "SZA",
           "2022-12-09T00:00:00"
          ],
          [
           "Shakin' Stevens",
           "1984-01-01T00:00:00"
          ],
          [
           "SZA",
           "2022-12-09T00:00:00"
          ],
          [
           "SZA, Travis Scott",
           "2022-12-08T00:00:00"
          ],
          [
           "Chris Rea",
           "1986-01-01T00:00:00"
          ],
          [
           "SZA",
           "2022-12-09T00:00:00"
          ],
          [
           "SZA",
           "2022-12-09T00:00:00"
          ],
          [
           "SZA",
           "2022-12-09T00:00:00"
          ],
          [
           "Ed Sheeran, Elton John",
           "2017-11-10T00:00:00"
          ],
          [
           "Britney Spears",
           "2000-11-07T00:00:00"
          ],
          [
           "Mabel Matiz, Mert Demir",
           "2022-11-04T00:00:00"
          ],
          [
           "RM",
           "2022-12-02T00:00:00"
          ],
          [
           "SZA",
           "2021-12-03T00:00:00"
          ],
          [
           "Travis Scott, Metro Boomin",
           "2022-12-02T00:00:00"
          ],
          [
           "ThxSoMch",
           "2022-10-31T00:00:00"
          ],
          [
           "SZA",
           "2022-12-09T00:00:00"
          ],
          [
           "SZA",
           "2022-12-09T00:00:00"
          ],
          [
           "Taylor Swift, Lana Del Rey",
           "2022-10-21T00:00:00"
          ],
          [
           "Taylor Swift",
           "2022-10-21T00:00:00"
          ],
          [
           "Dj LK da Escï¿½ï¿½cia, Tchakabum, mc jhenny, M",
           "2022-09-28T00:00:00"
          ],
          [
           "Taylor Swift",
           "2022-10-21T00:00:00"
          ],
          [
           "Bad Bunny, Jhay Cortez",
           "2022-05-06T00:00:00"
          ],
          [
           "Gwen Stefani, Blake Shelton",
           "2005-09-20T00:00:00"
          ],
          [
           "Chencho Corleone, Rauw Alejandro",
           "2021-06-25T00:00:00"
          ],
          [
           "SZA",
           "2022-12-08T00:00:00"
          ],
          [
           "Bad Bunny, Rauw Alejandro",
           "2022-05-06T00:00:00"
          ],
          [
           "SZA",
           "2022-12-09T00:00:00"
          ],
          [
           "John Legend, Metro Boomin",
           "2022-12-02T00:00:00"
          ],
          [
           "Maldy, Karol G",
           "2022-08-25T00:00:00"
          ],
          [
           "Gayle",
           "2021-08-13T00:00:00"
          ],
          [
           "The Weeknd",
           "2022-01-07T00:00:00"
          ],
          [
           "The Weeknd",
           "2022-01-07T00:00:00"
          ],
          [
           "Lauren Spencer Smith, Lauren Spencer Smith, Lauren Spencer Smith",
           "2022-01-05T00:00:00"
          ],
          [
           "The Weeknd",
           "2022-01-07T00:00:00"
          ],
          [
           "Cherish, ACRAZE",
           "2021-08-20T00:00:00"
          ],
          [
           "Adassa, Mauro Castillo, Stephanie Beatriz, Encanto - Cast, Rhenzy Feliz, Diane Guerrero, Carolina Gaitan",
           "2021-11-19T00:00:00"
          ],
          [
           "Farruko",
           "2021-06-24T00:00:00"
          ],
          [
           "The Weeknd",
           "2022-01-07T00:00:00"
          ],
          [
           "The Weeknd",
           "2022-01-07T00:00:00"
          ],
          [
           "Jaymes Young",
           "2017-06-23T00:00:00"
          ],
          [
           "The Weeknd",
           "2022-01-07T00:00:00"
          ],
          [
           "The Weeknd",
           "2021-08-06T00:00:00"
          ],
          [
           "Olivia Rodrigo",
           "2021-05-14T00:00:00"
          ],
          [
           "The Weeknd, Tyler, The Creator",
           "2022-01-07T00:00:00"
          ],
          [
           "The Weeknd",
           "2022-01-07T00:00:00"
          ],
          [
           "SZA, Doja Cat",
           "2021-04-09T00:00:00"
          ],
          [
           "The Weeknd, Lil Wayne",
           "2022-01-07T00:00:00"
          ],
          [
           "Doja Cat",
           "2021-06-11T00:00:00"
          ],
          [
           "Lil Nas X",
           "2020-09-18T00:00:00"
          ],
          [
           "Ckay",
           "2019-07-26T00:00:00"
          ],
          [
           "The Weeknd",
           "2022-01-07T00:00:00"
          ],
          [
           "Jessica Darrow",
           "2021-11-19T00:00:00"
          ],
          [
           "The Weeknd",
           "2022-01-07T00:00:00"
          ],
          [
           "Lil Nas X",
           "2021-09-17T00:00:00"
          ],
          [
           "The Weeknd, Post Malone",
           "2021-11-05T00:00:00"
          ],
          [
           "Mï¿½ï¿½ne",
           "2017-12-08T00:00:00"
          ],
          [
           "Aitana, zzoilo",
           "2020-09-21T00:00:00"
          ],
          [
           "Julieta Venegas, Bad Bunny, Tainy",
           "2021-10-05T00:00:00"
          ],
          [
           "Lisa",
           "2021-09-10T00:00:00"
          ],
          [
           "Tiï¿½ï¿½sto, Ava",
           "2021-11-04T00:00:00"
          ],
          [
           "Billie Eilish",
           "2021-07-30T00:00:00"
          ],
          [
           "The Weeknd, Swedish House Mafia",
           "2021-10-22T00:00:00"
          ],
          [
           "Juan Cruz Toledo, Huilen Toledo",
           "2021-05-21T00:00:00"
          ],
          [
           "BoyWithUke",
           "2021-09-10T00:00:00"
          ],
          [
           "Olivia Rodrigo",
           "2021-01-08T00:00:00"
          ],
          [
           "Xamï¿½ï¿½, Gustah, Neo B",
           "2021-11-30T00:00:00"
          ],
          [
           "Taylor Swift",
           "2021-11-12T00:00:00"
          ],
          [
           "The Weeknd",
           "2022-01-07T00:00:00"
          ],
          [
           "Adele",
           "2021-11-19T00:00:00"
          ],
          [
           "Lit Killah, Maria Becerra, Tiago pzk, NICKI NICOLE",
           "2022-01-05T00:00:00"
          ],
          [
           "The Weeknd",
           "2022-01-07T00:00:00"
          ],
          [
           "Emmy Meli",
           "2021-11-18T00:00:00"
          ],
          [
           "Justin Quiles, Lenny Tavï¿½ï¿½rez, BL",
           "2021-10-27T00:00:00"
          ],
          [
           "Shawn Mendes",
           "2021-12-01T00:00:00"
          ],
          [
           "The Neighbourhood",
           "2018-03-09T00:00:00"
          ],
          [
           "Kodak Black",
           "2021-10-30T00:00:00"
          ],
          [
           "Aventura, Bad Bunny",
           "2021-08-03T00:00:00"
          ],
          [
           "Rauw Alejandro",
           "2020-11-02T00:00:00"
          ],
          [
           "Ckay, AX'EL, Dj Yo!",
           "2019-08-30T00:00:00"
          ],
          [
           "Bruno Mars, Anderson .Paak, Silk Sonic",
           "2021-11-05T00:00:00"
          ],
          [
           "THE ANXIETY, Willow, Tyler Cole",
           "2020-03-13T00:00:00"
          ],
          [
           "The Weeknd",
           "2022-01-07T00:00:00"
          ],
          [
           "Sebastian Yatra",
           "2021-10-22T00:00:00"
          ],
          [
           "Justin Bieber, Daniel Caesar, Giveon",
           "2021-03-19T00:00:00"
          ],
          [
           "Bad Bunny, Jhay Cortez",
           "2020-10-30T00:00:00"
          ],
          [
           "Bizarrap, Tiago pzk",
           "2021-12-29T00:00:00"
          ],
          [
           "Stromae",
           "2022-01-09T00:00:00"
          ],
          [
           "Chris Brown, Rvssian, Rauw Alejandro",
           "2021-09-08T00:00:00"
          ],
          [
           "NEIKED, Mae Muller, Polo G",
           "2021-09-24T00:00:00"
          ],
          [
           "Oliver Tree",
           "2020-07-17T00:00:00"
          ],
          [
           "Kali Uchis, Amaarae, Moliy",
           "2021-09-16T00:00:00"
          ],
          [
           "BTS",
           "2021-05-21T00:00:00"
          ],
          [
           "Young Thug, Future, Gunna",
           "2022-01-07T00:00:00"
          ],
          [
           "Doja Cat, The Weeknd",
           "2021-06-24T00:00:00"
          ],
          [
           "Olivia Rodrigo",
           "2021-04-01T00:00:00"
          ],
          [
           "BTS",
           "2020-08-21T00:00:00"
          ],
          [
           "Jnr Choi",
           "2021-11-05T00:00:00"
          ],
          [
           "The Weeknd, Gesaffelstein",
           "2019-01-11T00:00:00"
          ],
          [
           "Trueno, Tiago pzk",
           "2021-10-21T00:00:00"
          ],
          [
           "Sech, Bad Bunny, Mora",
           "2021-07-08T00:00:00"
          ],
          [
           "Bruno Mars, Anderson .Paak, Silk Sonic",
           "2021-03-05T00:00:00"
          ],
          [
           "Drake, Project Pat, 21 Savage",
           "2021-09-03T00:00:00"
          ],
          [
           "Tiï¿½ï¿½sto, Kar",
           "2021-08-01T00:00:00"
          ],
          [
           "The Weeknd, ROSALï¿½",
           "2021-11-11T00:00:00"
          ],
          [
           "Olga Merediz, Stephanie Beatriz, Encanto - Cast",
           "2021-11-19T00:00:00"
          ],
          [
           "The Weeknd",
           "2022-01-07T00:00:00"
          ],
          [
           "Sebastian Yatra",
           "2021-11-19T00:00:00"
          ],
          [
           "Surf Curse",
           "2015-05-10T00:00:00"
          ],
          [
           "Jason Derulo",
           "2021-09-01T00:00:00"
          ],
          [
           "The Neighbourhood",
           "2015-10-30T00:00:00"
          ],
          [
           "21 Savage, Gunna",
           "2022-01-07T00:00:00"
          ],
          [
           "IVE",
           "2021-12-01T00:00:00"
          ],
          [
           "24kgoldn, Iann Dior",
           "2020-07-24T00:00:00"
          ],
          [
           "Stephanie Beatriz, Diane Guerrero",
           "2021-11-19T00:00:00"
          ],
          [
           "Trueno",
           "2021-11-17T00:00:00"
          ],
          [
           "David Kushner",
           "2022-01-07T00:00:00"
          ],
          [
           "Olivia Rodrigo",
           "2021-05-21T00:00:00"
          ],
          [
           "Kanye West",
           "2021-08-29T00:00:00"
          ],
          [
           "Doja Cat",
           "2021-06-25T00:00:00"
          ],
          [
           "Lewis Capaldi",
           "2019-11-01T00:00:00"
          ],
          [
           "Playboi Carti",
           "2020-12-25T00:00:00"
          ],
          [
           "Adele",
           "2010-11-29T00:00:00"
          ],
          [
           "Maluma",
           "2021-07-08T00:00:00"
          ],
          [
           "Ed Sheeran, Fireboy DML",
           "2021-12-23T00:00:00"
          ],
          [
           "Olivia Rodrigo",
           "2021-05-21T00:00:00"
          ],
          [
           "Prezioso, Gabry Ponte, LUM!X",
           "2021-05-07T00:00:00"
          ],
          [
           "Tiï¿½ï¿",
           "2020-01-01T00:00:00"
          ],
          [
           "Ariana Grande",
           "2020-10-23T00:00:00"
          ],
          [
           "Mï¿½ï¿½ne",
           "2021-03-19T00:00:00"
          ],
          [
           "Marï¿½ï¿½lia Mendonï¿½ï¿½a, George Henrique &",
           "2021-10-22T00:00:00"
          ],
          [
           "TWICE",
           "2021-10-01T00:00:00"
          ],
          [
           "Giveon",
           "2020-02-21T00:00:00"
          ],
          [
           "Sean Paul, Dua Lipa",
           "2016-11-18T00:00:00"
          ],
          [
           "Charli XCX, Jax Jones, Joel Corry, Saweetie",
           "2021-08-13T00:00:00"
          ],
          [
           "SALES",
           "2016-04-20T00:00:00"
          ],
          [
           "Sleepy hallow",
           "2021-04-14T00:00:00"
          ],
          [
           "Billie Eilish",
           "2017-03-30T00:00:00"
          ],
          [
           "Billie Eilish",
           "2021-07-28T00:00:00"
          ],
          [
           "Masked Wolf",
           "2019-01-01T00:00:00"
          ],
          [
           "Anuel Aa, Jhay Cortez",
           "2021-09-02T00:00:00"
          ],
          [
           "NIKI",
           "2021-08-10T00:00:00"
          ],
          [
           "Bruno Mars",
           "2010-10-04T00:00:00"
          ],
          [
           "Tate McRae",
           "2020-04-17T00:00:00"
          ],
          [
           "Avicii",
           "2014-01-01T00:00:00"
          ],
          [
           "The Weeknd",
           "2021-08-06T00:00:00"
          ],
          [
           "Drake, Future, Young Thug",
           "2021-09-03T00:00:00"
          ],
          [
           "Rauw Alejandro",
           "2021-06-25T00:00:00"
          ],
          [
           "Imagine Dragons, League of Legends, Arcane",
           "2021-10-27T00:00:00"
          ],
          [
           "Tones and I",
           "2019-05-10T00:00:00"
          ],
          [
           "Juice WRLD",
           "2017-06-15T00:00:00"
          ],
          [
           "J Balvin, Maria Becerra",
           "2021-01-28T00:00:00"
          ],
          [
           "John Legend",
           "2013-08-01T00:00:00"
          ],
          [
           "Nirvana",
           "1991-09-10T00:00:00"
          ],
          [
           "Duncan Laurence",
           "2019-03-07T00:00:00"
          ],
          [
           "Drake, Travis Scott",
           "2021-09-03T00:00:00"
          ],
          [
           "Tini, L-Gante",
           "2021-11-11T00:00:00"
          ],
          [
           "SiM",
           "2022-01-10T00:00:00"
          ],
          [
           "Kendrick Lamar, Baby Keem",
           "2021-08-27T00:00:00"
          ],
          [
           "The Killers",
           "2003-09-23T00:00:00"
          ],
          [
           "ENHYPEN",
           "2022-01-10T00:00:00"
          ],
          [
           "J Balvin, Nio Garcia, Bad Bunny",
           "2021-06-24T00:00:00"
          ],
          [
           "Doja Cat",
           "2019-11-07T00:00:00"
          ],
          [
           "Lady Gaga, Bradley Cooper",
           "2018-09-27T00:00:00"
          ],
          [
           "ENHYPEN",
           "2022-01-10T00:00:00"
          ],
          [
           "Marshmello, Jonas Brothers",
           "2021-04-28T00:00:00"
          ],
          [
           "BTS",
           "2021-07-09T00:00:00"
          ],
          [
           "Riton, Nightcrawlers, Mufasa & Hypeman, Dopamine",
           "2021-01-15T00:00:00"
          ],
          [
           "Polo G",
           "2021-04-09T00:00:00"
          ],
          [
           "Eminem, Nate Dogg",
           "2002-05-26T00:00:00"
          ],
          [
           "Maroon 5",
           "2019-09-20T00:00:00"
          ],
          [
           "Arcangel, De La Ghetto, Justin Quiles, Lenny Tavï¿½ï¿½rez, Sech, Dalex, Dimelo Flow, Rich Music",
           "2021-08-12T00:00:00"
          ],
          [
           "Gunna, Lil Baby",
           "2022-01-07T00:00:00"
          ],
          [
           "Katy Perry, Alesso",
           "2021-12-29T00:00:00"
          ],
          [
           "Marï¿½ï¿½lia Mendonï¿½ï¿½a, Maiara &",
           "2021-10-14T00:00:00"
          ],
          [
           "Tini, Maria Becerra",
           "2021-04-29T00:00:00"
          ],
          [
           "Anuel Aa, Myke Towers, Jhay Cortez",
           "2021-11-18T00:00:00"
          ],
          [
           "Karol G, Becky G",
           "2022-02-10T00:00:00"
          ],
          [
           "Dr. Dre, Snoop Dogg",
           "1999-01-01T00:00:00"
          ],
          [
           "Jung Kook",
           "2022-02-11T00:00:00"
          ],
          [
           "Dove Cameron",
           "2022-02-11T00:00:00"
          ],
          [
           "Ed Sheeran, Taylor Swift",
           "2022-02-11T00:00:00"
          ],
          [
           "Dr. Dre, Snoop Dogg",
           "1999-01-01T00:00:00"
          ],
          [
           "Charlie Puth",
           "2022-01-19T00:00:00"
          ],
          [
           "Kanye West, Alicia Keys, Fivio Foreign",
           "2022-02-11T00:00:00"
          ],
          [
           "Mahmood, Blanco",
           "2022-02-02T00:00:00"
          ],
          [
           "Frank Ocean",
           "2012-01-01T00:00:00"
          ],
          [
           "50 Cent",
           "2002-01-01T00:00:00"
          ],
          [
           "Tate McRae",
           "2022-02-04T00:00:00"
          ],
          [
           "Yung Lean",
           "2013-08-16T00:00:00"
          ],
          [
           "Labrinth, Zendaya",
           "2019-08-04T00:00:00"
          ],
          [
           "The Rare Occasions",
           "2016-08-05T00:00:00"
          ],
          [
           "Labrinth",
           "2019-10-04T00:00:00"
          ],
          [
           "Labrinth",
           "2019-06-21T00:00:00"
          ],
          [
           "Intense, AP Dhillon, Gurinder Gill",
           "2020-07-24T00:00:00"
          ],
          [
           "Juice WRLD",
           "2021-12-10T00:00:00"
          ],
          [
           "Quevedo, La Pantera, Juseph, Cruz Cafunï¿½ï¿½, Bï¿½ï¿½jo, Abhir Hathi",
           "2022-01-14T00:00:00"
          ],
          [
           "Dr. Dre, 2Pac, Roger",
           "1995-12-28T00:00:00"
          ],
          [
           "Eminem, Dr. Dre",
           "1999-01-01T00:00:00"
          ],
          [
           "Luude, Colin Hay",
           "2021-11-19T00:00:00"
          ],
          [
           "Ryan Castro",
           "2021-12-17T00:00:00"
          ],
          [
           "Kendrick Lamar",
           "2017-03-30T00:00:00"
          ],
          [
           "Eminem, Dido",
           "1999-11-21T00:00:00"
          ],
          [
           "GODZZ__-, Zakaria",
           "2020-01-16T00:00:00"
          ],
          [
           "Chase Atlantic",
           "2017-10-04T00:00:00"
          ],
          [
           "Bad Bunny",
           "2020-02-29T00:00:00"
          ],
          [
           "Em Beihold",
           "2022-01-28T00:00:00"
          ],
          [
           "Mainstreet, Chefin",
           "2022-01-15T00:00:00"
          ],
          [
           "Alvaro Diaz, Rauw Alejandro",
           "2021-10-22T00:00:00"
          ],
          [
           "Nicki Minaj, Lil Baby",
           "2022-02-11T00:00:00"
          ],
          [
           "Future",
           "2022-02-11T00:00:00"
          ],
          [
           "Zï¿½ï¿½ Fe",
           "2022-01-28T00:00:00"
          ],
          [
           "Muni Long",
           "2021-11-19T00:00:00"
          ],
          [
           "Vundabar",
           "2015-07-24T00:00:00"
          ],
          [
           "Ed Sheeran",
           "2014-01-01T00:00:00"
          ],
          [
           "Labrinth",
           "2019-10-04T00:00:00"
          ],
          [
           "V",
           "2021-12-24T00:00:00"
          ],
          [
           "Marï¿½ï¿½lia Mendonï¿½ï¿½a, Hugo & G",
           "2022-01-14T00:00:00"
          ],
          [
           "Labrinth",
           "2019-10-04T00:00:00"
          ],
          [
           "Nicki Minaj, Lil Baby",
           "2022-02-04T00:00:00"
          ],
          [
           "Labrinth",
           "2019-10-04T00:00:00"
          ],
          [
           "Eminem, Dr. Dre",
           "2022-02-04T00:00:00"
          ],
          [
           "Shawn Mendes, Camila Cabello",
           "2019-06-19T00:00:00"
          ],
          [
           "Tyler, The Creator",
           "2019-05-16T00:00:00"
          ],
          [
           "Harry Styles",
           "2019-12-06T00:00:00"
          ],
          [
           "Daddy Yankee, Bad Bunny",
           "2020-02-29T00:00:00"
          ],
          [
           "Nirvana",
           "1991-09-24T00:00:00"
          ],
          [
           "Dua Lipa, Megan Thee Stallion",
           "2022-03-11T00:00:00"
          ],
          [
           "Camila Cabello, Ed Sheeran",
           "2022-03-04T00:00:00"
          ],
          [
           "Cris Mj",
           "2022-01-21T00:00:00"
          ],
          [
           "Anitta",
           "2021-11-11T00:00:00"
          ],
          [
           "Dave",
           "2022-03-03T00:00:00"
          ],
          [
           "Tulus",
           "2022-03-03T00:00:00"
          ],
          [
           "Labrinth",
           "2022-02-04T00:00:00"
          ],
          [
           "Mc Pedrinho, Pedro Sampaio",
           "2022-02-01T00:00:00"
          ],
          [
           "Zion & Lennox",
           "2004-05-04T00:00:00"
          ],
          [
           "Residente, Bizarrap",
           "2022-03-03T00:00:00"
          ],
          [
           "Ryan Castro",
           "2021-04-30T00:00:00"
          ],
          [
           "Jack Harlow",
           "2022-02-18T00:00:00"
          ],
          [
           "Eden Muï¿½ï",
           "2022-02-18T00:00:00"
          ],
          [
           "Treasure",
           "2022-02-15T00:00:00"
          ],
          [
           "Christian Nodal",
           "2022-02-18T00:00:00"
          ],
          [
           "Kevin Gates, Juicy J",
           "2013-07-16T00:00:00"
          ],
          [
           "Tyga, Doja Cat",
           "2022-02-25T00:00:00"
          ],
          [
           "JVKE",
           "2021-09-03T00:00:00"
          ],
          [
           "Bad Bunny",
           "2020-02-29T00:00:00"
          ],
          [
           "Queen",
           "1975-10-31T00:00:00"
          ],
          [
           "XXXTENTACION",
           "2018-03-16T00:00:00"
          ],
          [
           "Dua Lipa",
           "2020-03-27T00:00:00"
          ],
          [
           "Avicii",
           "2013-01-01T00:00:00"
          ],
          [
           "Olivia Rodrigo",
           "2021-05-21T00:00:00"
          ],
          [
           "YEAT",
           "2021-09-10T00:00:00"
          ],
          [
           "C. Tangana",
           "2020-10-08T00:00:00"
          ],
          [
           "The Chainsmokers, Coldplay",
           "2017-02-22T00:00:00"
          ],
          [
           "The Chainsmokers, Halsey",
           "2016-05-31T00:00:00"
          ],
          [
           "NMIXX",
           "2022-02-22T00:00:00"
          ],
          [
           "Gotye, Kimbra",
           "2011-01-01T00:00:00"
          ],
          [
           "AnnenMayKantereit, Giant Rooks",
           "2019-06-28T00:00:00"
          ],
          [
           "Jack Harlow",
           "2022-04-08T00:00:00"
          ],
          [
           "Paulo Londra",
           "2022-03-23T00:00:00"
          ],
          [
           "Danny Ocean",
           "2022-02-17T00:00:00"
          ],
          [
           "Daddy Yankee, Bad Bunny",
           "2022-03-25T00:00:00"
          ],
          [
           "Shawn Mendes",
           "2022-03-31T00:00:00"
          ],
          [
           "Lil Tjay",
           "2022-04-01T00:00:00"
          ],
          [
           "Willow",
           "2015-01-11T00:00:00"
          ],
          [
           "IVE",
           "2022-04-05T00:00:00"
          ],
          [
           "Feid, Alejo, Robi",
           "2022-03-18T00:00:00"
          ],
          [
           "Paulo Londra",
           "2022-04-06T00:00:00"
          ],
          [
           "Demi Lovato",
           "2015-01-01T00:00:00"
          ],
          [
           "Camila Cabello, Willow",
           "2022-04-07T00:00:00"
          ],
          [
           "Troye Sivan",
           "2021-09-09T00:00:00"
          ],
          [
           "Matuï¿½ï¿½, Wiu, ",
           "2022-01-30T00:00:00"
          ],
          [
           "De La Ghetto, Duki, Quevedo",
           "2022-03-31T00:00:00"
          ],
          [
           "Lil Baby",
           "2022-04-08T00:00:00"
          ],
          [
           "Ak4:20, Cris Mj, Pailita",
           "2022-03-30T00:00:00"
          ],
          [
           "Charlie Puth",
           "2022-04-08T00:00:00"
          ],
          [
           "Yahritza Y Su Esencia",
           "2022-03-25T00:00:00"
          ],
          [
           "Daddy Yankee",
           "2022-03-25T00:00:00"
          ],
          [
           "Luï¿½ï¿½sa Sonza, MC Frog, Dj Gabriel do Borel, Davi K",
           "2022-03-17T00:00:00"
          ],
          [
           "Harry Styles",
           "2019-12-13T00:00:00"
          ],
          [
           "Ed Sheeran, J Balvin",
           "1996-11-24T00:00:00"
          ],
          [
           "teto",
           "2022-03-30T00:00:00"
          ],
          [
           "Stray Kids",
           "2022-03-18T00:00:00"
          ],
          [
           "Shawn Mendes",
           "2016-09-23T00:00:00"
          ],
          [
           "Blackbear, BoyWithUke",
           "2022-03-18T00:00:00"
          ],
          [
           "Harry Styles",
           "2019-12-13T00:00:00"
          ],
          [
           "Pharrell Williams, Nile Rodgers, Daft Punk",
           "2013-01-01T00:00:00"
          ],
          [
           "Doja Cat",
           "2021-06-25T00:00:00"
          ],
          [
           "Jordan Fisher, Josh Levi, Finneas O'Connell, 4*TOWN (From Disney and Pixarï¿½ï¿½ï¿½s Turning Red), Topher Ngo, Grayson Vill",
           "2022-02-25T00:00:00"
          ],
          [
           "BIGBANG",
           "2022-04-05T00:00:00"
          ],
          [
           "Ed Sheeran",
           "2014-06-20T00:00:00"
          ],
          [
           "Justin Bieber",
           "2015-11-09T00:00:00"
          ],
          [
           "Kendrick Lamar",
           "2022-05-13T00:00:00"
          ],
          [
           "Lizzo",
           "2022-04-14T00:00:00"
          ],
          [
           "Kendrick Lamar, Blxst, Amanda Reifer",
           "2022-05-13T00:00:00"
          ],
          [
           "Bad Bunny",
           "2022-05-06T00:00:00"
          ],
          [
           "Bad Bunny",
           "2022-05-06T00:00:00"
          ],
          [
           "Kendrick Lamar",
           "2022-05-13T00:00:00"
          ],
          [
           "Kendrick Lamar, Sampha",
           "2022-05-13T00:00:00"
          ],
          [
           "Bad Bunny",
           "2022-05-06T00:00:00"
          ],
          [
           "Kendrick Lamar",
           "2022-05-13T00:00:00"
          ],
          [
           "Post Malone, Roddy Ricch",
           "2022-05-12T00:00:00"
          ],
          [
           "Bad Bunny",
           "2022-05-06T00:00:00"
          ],
          [
           "Kendrick Lamar, Kodak Black",
           "2022-05-13T00:00:00"
          ],
          [
           "Tony Dize, Bad Bunny",
           "2022-05-06T00:00:00"
          ],
          [
           "Kendrick Lamar",
           "2022-05-13T00:00:00"
          ],
          [
           "Buscabulla, Bad Bunny",
           "2022-05-06T00:00:00"
          ],
          [
           "Bad Bunny",
           "2022-05-06T00:00:00"
          ],
          [
           "Kendrick Lamar, Taylour Paige",
           "2022-05-13T00:00:00"
          ],
          [
           "Kendrick Lamar, Sam Dew, Baby Keem",
           "2022-05-13T00:00:00"
          ],
          [
           "Bad Bunny",
           "2022-05-06T00:00:00"
          ],
          [
           "Bad Bunny, The Marï¿½ï",
           "2022-05-06T00:00:00"
          ],
          [
           "Kendrick Lamar",
           "2022-05-13T00:00:00"
          ],
          [
           "Bad Bunny",
           "2022-05-06T00:00:00"
          ],
          [
           "Kendrick Lamar, Ghostface Killah, Summer Walker",
           "2022-05-13T00:00:00"
          ],
          [
           "Bad Bunny",
           "2022-05-06T00:00:00"
          ],
          [
           "Polima WestCoast, Pailita",
           "2022-02-14T00:00:00"
          ],
          [
           "Bad Bunny",
           "2022-05-06T00:00:00"
          ],
          [
           "Bad Bunny",
           "2022-05-06T00:00:00"
          ],
          [
           "Bad Bunny, Tainy",
           "2019-05-31T00:00:00"
          ],
          [
           "Jack Harlow",
           "2022-05-06T00:00:00"
          ],
          [
           "Bad Bunny",
           "2022-05-06T00:00:00"
          ],
          [
           "Panic! At The Disco",
           "2016-01-15T00:00:00"
          ],
          [
           "Kendrick Lamar, Tanna Leone",
           "2022-05-13T00:00:00"
          ],
          [
           "PSY, Suga",
           "2022-04-29T00:00:00"
          ],
          [
           "Benson Boone",
           "2022-04-29T00:00:00"
          ],
          [
           "Kendrick Lamar",
           "2022-05-13T00:00:00"
          ],
          [
           "Mï¿½ï¿½ne",
           "2022-05-13T00:00:00"
          ],
          [
           "KALUSH",
           "2022-03-10T00:00:00"
          ],
          [
           "The Kid Laroi",
           "2022-04-22T00:00:00"
          ],
          [
           "Kendrick Lamar",
           "2022-05-13T00:00:00"
          ],
          [
           "Kendrick Lamar",
           "2022-05-13T00:00:00"
          ],
          [
           "Future",
           "2022-04-29T00:00:00"
          ],
          [
           "Kendrick Lamar",
           "2022-05-13T00:00:00"
          ],
          [
           "Luciano",
           "2022-04-22T00:00:00"
          ],
          [
           "Bizarrap, Paulo Londra",
           "2022-04-25T00:00:00"
          ],
          [
           "Kendrick Lamar",
           "2022-05-13T00:00:00"
          ],
          [
           "Shae Gill, Ali Sethi",
           "2022-02-06T00:00:00"
          ],
          [
           "Kendrick Lamar, Beth Gibbons",
           "2022-05-13T00:00:00"
          ],
          [
           "Sech, Mora",
           "2022-04-01T00:00:00"
          ],
          [
           "MNEK, Jax Jones",
           "2022-01-26T00:00:00"
          ],
          [
           "Ugly Dray, Tesla Jnr",
           "2022-05-06T00:00:00"
          ],
          [
           "Justin Bieber, Don Toliver",
           "2022-04-29T00:00:00"
          ],
          [
           "Jessi",
           "2022-04-13T00:00:00"
          ],
          [
           "Chanel",
           "2021-12-24T00:00:00"
          ],
          [
           "LE SSERAFIM",
           "2022-05-02T00:00:00"
          ],
          [
           "Leah Kate",
           "2022-03-23T00:00:00"
          ],
          [
           "Sam Ryder",
           "2022-02-22T00:00:00"
          ],
          [
           "HA SUNG WOON, Jimin",
           "2022-04-24T00:00:00"
          ],
          [
           "The Goo Goo Dolls",
           "1998-03-31T00:00:00"
          ],
          [
           "Kendrick Lamar",
           "2022-05-08T00:00:00"
          ],
          [
           "Kevin Kaarl",
           "2019-11-07T00:00:00"
          ],
          [
           "Taylor Swift",
           "2022-05-06T00:00:00"
          ],
          [
           "Suki Waterhouse",
           "2017-10-20T00:00:00"
          ],
          [
           "Lauren Spencer Smith",
           "2021-08-09T00:00:00"
          ],
          [
           "BTS",
           "2022-06-10T00:00:00"
          ],
          [
           "BTS",
           "2022-06-10T00:00:00"
          ],
          [
           "Harry Styles",
           "2022-05-20T00:00:00"
          ],
          [
           "Harry Styles",
           "2022-05-20T00:00:00"
          ],
          [
           "BTS",
           "2022-06-10T00:00:00"
          ],
          [
           "Harry Styles",
           "2022-05-20T00:00:00"
          ],
          [
           "Doja Cat",
           "2022-05-06T00:00:00"
          ],
          [
           "Pharrell Williams, Tyler, The Creator, 21 Savage",
           "2022-06-10T00:00:00"
          ],
          [
           "Calvin Harris, Dua Lipa, Young Thug",
           "2022-05-27T00:00:00"
          ],
          [
           "BTS",
           "2022-06-10T00:00:00"
          ],
          [
           "Harry Styles",
           "2022-05-20T00:00:00"
          ],
          [
           "Nengo Flow, Anuel Aa, Chris Jedi, Chencho Corleone",
           "2022-05-20T00:00:00"
          ],
          [
           "Kanye West, XXXTENTACION",
           "2022-05-27T00:00:00"
          ],
          [
           "Harry Styles",
           "2022-05-20T00:00:00"
          ],
          [
           "Musical Youth",
           "1982-01-01T00:00:00"
          ],
          [
           "Bizarrap, Villano Antillano",
           "2022-06-08T00:00:00"
          ],
          [
           "Harry Styles",
           "2022-05-20T00:00:00"
          ],
          [
           "Harry Styles",
           "2022-05-20T00:00:00"
          ],
          [
           "Halsey",
           "2022-06-09T00:00:00"
          ],
          [
           "BYOR, Imanbek",
           "2022-02-18T00:00:00"
          ],
          [
           "Harry Styles",
           "2022-05-20T00:00:00"
          ],
          [
           "Harry Styles",
           "2022-05-20T00:00:00"
          ],
          [
           "Sleepy hallow, 347aidan",
           "2022-05-25T00:00:00"
          ],
          [
           "Paloma Faith",
           "2014-01-01T00:00:00"
          ],
          [
           "Lady Gaga",
           "2022-05-03T00:00:00"
          ],
          [
           "Harry Styles",
           "2022-05-20T00:00:00"
          ],
          [
           "Marshmello, Khalid",
           "2022-06-10T00:00:00"
          ],
          [
           "Ozuna, Tiago pzk",
           "2022-06-02T00:00:00"
          ],
          [
           "Childish Gambino",
           "2016-11-10T00:00:00"
          ],
          [
           "David Guetta, Ella Henderson, Becky Hill",
           "2022-03-18T00:00:00"
          ],
          [
           "Joji",
           "2018-09-12T00:00:00"
          ],
          [
           "Duki",
           "2022-06-02T00:00:00"
          ],
          [
           "Harry Styles",
           "2022-05-20T00:00:00"
          ],
          [
           "Sidhu Moose Wala",
           "2021-05-15T00:00:00"
          ],
          [
           "Keisya Levronka",
           "2022-05-13T00:00:00"
          ],
          [
           "Victor Cibrian",
           "2022-05-13T00:00:00"
          ],
          [
           "Metallica",
           "1986-03-03T00:00:00"
          ],
          [
           "Beyoncï¿",
           "2022-06-21T00:00:00"
          ],
          [
           "De La Ghetto, Feid, Polima WestCoast, Paloma Mami, Pailita",
           "2022-06-16T00:00:00"
          ],
          [
           "Drake",
           "2022-06-17T00:00:00"
          ],
          [
           "Yung Gravy",
           "2022-06-10T00:00:00"
          ],
          [
           "Lasso",
           "2022-02-06T00:00:00"
          ],
          [
           "Nayeon",
           "2022-06-24T00:00:00"
          ],
          [
           "Schï¿½ï¿½rze, DJ R",
           "2022-03-24T00:00:00"
          ],
          [
           "j-hope",
           "2022-07-01T00:00:00"
          ],
          [
           "Guns N' Roses",
           "1987-01-01T00:00:00"
          ],
          [
           "Burna Boy",
           "2022-05-12T00:00:00"
          ],
          [
           "Rosa Linn",
           "2022-03-19T00:00:00"
          ],
          [
           "Drake",
           "2022-06-17T00:00:00"
          ],
          [
           "Kanye West, Lil Durk, Cardi B",
           "2022-07-01T00:00:00"
          ],
          [
           "L7nnon, DJ Biel do Furduncinho, Bianca",
           "2022-06-03T00:00:00"
          ],
          [
           "Anitta, Tini, Becky G",
           "2022-07-06T00:00:00"
          ],
          [
           "Nessa Barrett",
           "2022-06-24T00:00:00"
          ],
          [
           "LF System",
           "2022-05-02T00:00:00"
          ],
          [
           "Mc Vitin Da Igrejinha, MC Tairon, DJ Win",
           "2022-06-10T00:00:00"
          ],
          [
           "Rels B",
           "2022-08-04T00:00:00"
          ],
          [
           "Snoop Dogg, BTS, Benny Blanco",
           "2022-08-05T00:00:00"
          ],
          [
           "Drake, DJ Khaled, Lil Baby",
           "2022-08-05T00:00:00"
          ],
          [
           "Luar La L",
           "2020-12-18T00:00:00"
          ],
          [
           "Feid",
           "2022-08-05T00:00:00"
          ],
          [
           "Duki",
           "2022-07-20T00:00:00"
          ],
          [
           "Beyoncï¿",
           "2022-07-29T00:00:00"
          ],
          [
           "Ghost",
           "2019-09-13T00:00:00"
          ],
          [
           "NewJeans",
           "2022-08-01T00:00:00"
          ],
          [
           "Rex Orange County",
           "2022-03-11T00:00:00"
          ],
          [
           "Sofia Carson",
           "2022-07-12T00:00:00"
          ],
          [
           "Grupo Marca Registrada, Junior H",
           "2022-07-22T00:00:00"
          ],
          [
           "Kanye West",
           "2008-01-01T00:00:00"
          ],
          [
           "Calvin Harris, Halsey, Pharrell Williams, Justin Timberlake",
           "2022-07-15T00:00:00"
          ],
          [
           "Peso Pluma, Luis R Conriquez",
           "2022-08-15T00:00:00"
          ],
          [
           "Luis R Conriquez, La Adictiva",
           "2022-02-18T00:00:00"
          ],
          [
           "David Guetta, Shakira, Black Eyed Peas",
           "2022-06-16T00:00:00"
          ],
          [
           "Melody, Ana Castela, Dj Chris No Beat",
           "2022-05-20T00:00:00"
          ],
          [
           "Elton John, Britney Spears",
           "2017-11-10T00:00:00"
          ],
          [
           "Lewis Capaldi",
           "2022-09-09T00:00:00"
          ],
          [
           "IVE",
           "2022-08-22T00:00:00"
          ],
          [
           "Kanye West",
           "2013-01-01T00:00:00"
          ],
          [
           "Interplanetary Criminal, Eliza Rose",
           "2022-06-15T00:00:00"
          ],
          [
           "TWICE",
           "2022-08-26T00:00:00"
          ],
          [
           "Armani White",
           "2022-01-20T00:00:00"
          ],
          [
           "Feid",
           "2022-06-03T00:00:00"
          ],
          [
           "Oxlade",
           "2022-06-10T00:00:00"
          ],
          [
           "Feid",
           "2022-09-13T00:00:00"
          ],
          [
           "Steve Lacy",
           "2022-07-15T00:00:00"
          ],
          [
           "Coldplay",
           "2002-08-05T00:00:00"
          ],
          [
           "Coldplay",
           "2000-07-10T00:00:00"
          ],
          [
           "YEAT",
           "2022-09-02T00:00:00"
          ],
          [
           "Yandel, Feid",
           "2022-09-13T00:00:00"
          ],
          [
           "PnB Rock",
           "2016-06-23T00:00:00"
          ],
          [
           "Ovy On The Drums, Quevedo",
           "2022-07-22T00:00:00"
          ],
          [
           "Feid",
           "2022-09-13T00:00:00"
          ],
          [
           "Lil Yachty",
           "2022-06-23T00:00:00"
          ],
          [
           "Mï¿½ï¿½ne",
           "2022-10-07T00:00:00"
          ],
          [
           "Marshmello, Juice WRLD",
           "2022-10-14T00:00:00"
          ],
          [
           "Fran C, Polima WestCoast, Nickoog Clk, Pablito Pesadilla",
           "2022-08-18T00:00:00"
          ],
          [
           "(G)I-DLE",
           "2022-10-17T00:00:00"
          ],
          [
           "Southstar",
           "1982-05-16T00:00:00"
          ],
          [
           "girl in red",
           "2018-11-21T00:00:00"
          ],
          [
           "Lizzo",
           "2022-07-14T00:00:00"
          ],
          [
           "Ed Sheeran",
           "2022-09-29T00:00:00"
          ],
          [
           "BLACKPINK",
           "2022-09-16T00:00:00"
          ],
          [
           "Rosa Walton, Hallie Coggins",
           "2020-12-18T00:00:00"
          ],
          [
           "Lil Baby",
           "2022-10-14T00:00:00"
          ],
          [
           "Luciano, Aitch, Bï¿½",
           "2022-09-22T00:00:00"
          ],
          [
           "MC Ryan SP, Love Funk, Mc Paiva ZS",
           "2022-07-01T00:00:00"
          ],
          [
           "Drake, 21 Savage",
           "2022-11-04T00:00:00"
          ],
          [
           "Drake, Travis Scott, 21 Savage",
           "2022-11-04T00:00:00"
          ],
          [
           "Taylor Swift",
           "2022-10-21T00:00:00"
          ],
          [
           "Taylor Swift",
           "2022-10-21T00:00:00"
          ],
          [
           "Drake, 21 Savage",
           "2022-11-04T00:00:00"
          ],
          [
           "Taylor Swift",
           "2022-10-21T00:00:00"
          ],
          [
           "Drake, 21 Savage",
           "2022-11-04T00:00:00"
          ],
          [
           "Taylor Swift",
           "2022-10-21T00:00:00"
          ],
          [
           "Drake, 21 Savage",
           "2022-11-04T00:00:00"
          ],
          [
           "Taylor Swift",
           "2022-10-21T00:00:00"
          ],
          [
           "Taylor Swift",
           "2022-10-21T00:00:00"
          ],
          [
           "Ludwig Goransson, Foudeqush",
           "2022-11-04T00:00:00"
          ],
          [
           "Drake, 21 Savage",
           "2022-11-04T00:00:00"
          ],
          [
           "Jin",
           "2022-10-28T00:00:00"
          ],
          [
           "Drake",
           "2022-11-04T00:00:00"
          ],
          [
           "Drake, 21 Savage",
           "2022-11-04T00:00:00"
          ],
          [
           "Taylor Swift",
           "2022-10-21T00:00:00"
          ],
          [
           "Selena Gomez",
           "2022-11-03T00:00:00"
          ],
          [
           "Taylor Swift",
           "2022-10-21T00:00:00"
          ],
          [
           "Feid, Paulo Londra",
           "2022-11-03T00:00:00"
          ],
          [
           "Feid, Sech, Jhayco",
           "2022-10-20T00:00:00"
          ],
          [
           "Burna Boy",
           "2022-11-04T00:00:00"
          ]
         ],
         "hovertemplate": "<b>%{hovertext}</b><br><br>Track Age (Years)=%{marker.color}<br>Streams=%{marker.size}<br>Artist(S) Name=%{customdata[0]}<br>Release Date=%{customdata[1]}<extra></extra>",
         "hovertext": [
          "Seven (feat. Latto) (Explicit Ver.)",
          "LALA",
          "vampire",
          "Cruel Summer",
          "WHERE SHE GOES",
          "Sprinter",
          "Ella Baila Sola",
          "Columbia",
          "fukumean",
          "La Bebe - Remix",
          "un x100to",
          "Super Shy",
          "Flowers",
          "Daylight",
          "As It Was",
          "Kill Bill",
          "Cupid - Twin Ver.",
          "What Was I Made For? [From The Motion Picture \"Barbie\"]",
          "Classy 101",
          "Like Crazy",
          "LADY GAGA",
          "I Can See You (Taylorï¿½ï¿½ï¿½s Version) (From The ",
          "I Wanna Be Yours",
          "Peso Pluma: Bzrp Music Sessions, Vol. 55",
          "Popular (with Playboi Carti & Madonna) - The Idol Vol. 1 (Music from the HBO Original Series)",
          "SABOR FRESA",
          "Calm Down (with Selena Gomez)",
          "MOJABI GHOST",
          "Last Night",
          "Dance The Night (From Barbie The Album)",
          "Rush",
          "TULUM",
          "Creepin'",
          "Anti-Hero",
          "TQG",
          "Los del Espacio",
          "Frï¿½ï¿½gil (feat. Grupo Front",
          "Blank Space",
          "Style",
          "TQM",
          "El Azul",
          "Sunflower - Spider-Man: Into the Spider-Verse",
          "I'm Good (Blue)",
          "See You Again",
          "Barbie World (with Aqua) [From Barbie The Album]",
          "Angels Like You",
          "I Ain't Worried",
          "Die For You",
          "Starboy",
          "Die For You - Remix",
          "El Cielo",
          "Baby Don't Hurt Me",
          "AMARGURA",
          "(It Goes Like) Nanana - Edit",
          "Another Love",
          "Blinding Lights",
          "Moonlight",
          "La Bachata",
          "S91",
          "cardigan",
          "Tï¿½ï¿",
          "Boy's a liar Pt. 2",
          "Left and Right (Feat. Jung Kook of BTS)",
          "BESO",
          "Hey Mor",
          "Yellow",
          "Karma",
          "People",
          "Overdrive",
          "Enchanted (Taylor's Version)",
          "BABY HELLO",
          "Heat Waves",
          "golden hour",
          "Sweater Weather",
          "Quevedo: Bzrp Music Sessions, Vol. 52",
          "Viva La Vida",
          "Here With Me",
          "Unholy (feat. Kim Petras)",
          "Yandel 150",
          "CORAZï¿½ï¿½N VA",
          "Riptide",
          "Until I Found You (with Em Beihold) - Em Beihold Version",
          "Novidade na ï¿½ï¿",
          "Back To December (Taylor's Version)",
          "STAY (with Justin Bieber)",
          "El Merengue",
          "Someone You Loved",
          "Me Porto Bonito",
          "Makeba",
          "MONTAGEM - FR PUNK",
          "Fast Car",
          "What It Is (Solo Version)",
          "Coco Chanel",
          "Donï¿½ï¿½ï¿½t Bl",
          "Still With You",
          "All My Life (feat. J. Cole)",
          "Say Yes To Heaven",
          "Snooze",
          "Summertime Sadness",
          "Take Two",
          "Lover",
          "Too Many Nights (feat. Don Toliver & with Future)",
          "Chemical",
          "Mockingbird",
          "New Jeans",
          "Primera Cita",
          "Cold Heart - PNAU Remix",
          "Dandelions",
          "Bones",
          "Set Fire to the Rain",
          "Money Trees",
          "Tak Segampang Itu",
          "LAGUNAS",
          "Mine (Taylor's Version)",
          "Everybody Wants To Rule The World",
          "No Role Modelz",
          "Tattoo",
          "Rara Vez",
          "VAGABUNDO",
          "august",
          "LUNA",
          "Miracle (with Ellie Goulding)",
          "Nonsense",
          "Que Vuelvas",
          "Por las Noches",
          "Feliz Cumpleaï¿½ï¿½os Fe",
          "Can't Hold Us (feat. Ray Dalton)",
          "Watermelon Sugar",
          "lovely - Bonus Track",
          "Rauw Alejandro: Bzrp Music Sessions, Vol. 56",
          "Queencard",
          "OMG",
          "Radio",
          "Shakira: Bzrp Music Sessions, Vol. 53",
          "505",
          "Calling (Spider-Man: Across the Spider-Verse) (Metro Boomin & Swae Lee, NAV, feat. A Boogie Wit da Hoodie)",
          "Trance (with Travis Scott & Young Thug)",
          "Tere Vaaste (From \"Zara Hatke Zara Bachke\")",
          "Perfect",
          "Romantic Homicide",
          "Believer",
          "Novo Balanï¿½",
          "Gol Bolinha, Gol Quadrado 2",
          "Without Me",
          "QUEMA",
          "Stargirl Interlude",
          "Ojitos Lindos",
          "Somewhere Only We Know",
          "Those Eyes",
          "El Gordo Trae El Mando",
          "Mi Bello Angel",
          "Bye",
          "Danza Kuduro",
          "Nosso Quadro",
          "Locked Out Of Heaven",
          "Un Finde | CROSSOVER #2",
          "Jimmy Cooks (feat. 21 Savage)",
          "Counting Stars",
          "Ghost",
          "Under The Influence",
          "PRC",
          "Gasolina",
          "One Dance",
          "Enchanted",
          "Save Your Tears",
          "Sure Thing",
          "Every Breath You Take - Remastered 2003",
          "The Night We Met",
          "We Found Love",
          "When I Was Your Man",
          "Let Me Down Slowly",
          "Am I Dreaming (Metro Boomin & A$AP Rocky, Roisee)",
          "Do I Wanna Know?",
          "Demons",
          "ýýýýýýýýýýýý",
          "Reminder",
          "Shake It Off",
          "Why'd You Only Call Me When You're High?",
          "SNAP",
          "Shape of You",
          "Night Changes",
          "Fin de Semana",
          "Creep",
          "Car's Outside",
          "Apocalypse",
          "Cheques",
          "Pink + White",
          "Circles",
          "Just The Way You Are",
          "Take Me To Church",
          "Bebe Dame",
          "You Belong With Me (Taylorï¿½ï¿½ï¿½s Ve",
          "Titi Me Preguntï¿",
          "Better Than Revenge (Taylor's Version)",
          "Shut up My Moms Calling",
          "Es un Secreto",
          "POLARIS - Remix",
          "Ditto",
          "Take On Me",
          "Annihilate (Spider-Man: Across the Spider-Verse) (Metro Boomin & Swae Lee, Lil Wayne, Offset)",
          "Angel Pt 1 (feat. Jimin of BTS, JVKE & Muni Long)",
          "Acrï¿½ï¿½s",
          "AMG",
          "Phir Aur Kya Chahiye (From \"Zara Hatke Zara Bachke\")",
          "S-Class",
          "Hits Different",
          "Chanel",
          "Self Love (Spider-Man: Across the Spider-Verse) (Metro Boomin & Coi Leray)",
          "Area Codes",
          "Abcdario",
          "Obsessed",
          "Piï¿½ï¿½man Deï¿",
          "FLOWER",
          "All The Way Live (Spider-Man: Across the Spider-Verse) (Metro Boomin & Future, Lil Uzi Vert)",
          "Eyes Closed",
          "Escapism.",
          "La Jumpa",
          "Karma (feat. Ice Spice)",
          "Superhero (Heroes & Villains) [with Future & Chris Brown]",
          "Las Morras",
          "CHORRITO PA LAS ANIMAS",
          "Ch y la Pizza",
          "Snow On The Beach (feat. More Lana Del Rey)",
          "Players",
          "Bite Me",
          "Stand By Me (feat. Morgan Wallen)",
          "Normal",
          "Hummingbird (Metro Boomin & James Blake)",
          "Seu Brilho Sumiu - Ao Vivo",
          "Bad Habit",
          "CUFF IT",
          "Lilith (feat. SUGA of BTS) (Diablo IV Anthem)",
          "69",
          "Niï¿½ï¿½a Bo",
          "Search & Rescue",
          "AMERICA HAS A PROBLEM (feat. Kendrick Lamar)",
          "Lavender Haze",
          "Link Up (Metro Boomin & Don Toliver, Wizkid feat. BEAM & Toian) - Spider-Verse Remix (Spider-Man: Across the Spider-Verse )",
          "Efecto",
          "Erro Gostoso - Ao Vivo",
          "Cupido",
          "Just Wanna Rock",
          "Unstoppable",
          "Until I Found You",
          "Rich Flex",
          "Easy On Me",
          "Cartï¿½ï¿½o B",
          "Danger (Spider) (Offset & JID)",
          "Oi Balde - Ao Vivo",
          "The Real Slim Shady",
          "MERCHO",
          "The Color Violet",
          "Glimpse of Us",
          "Mejor Que Yo",
          "Curtains",
          "UNFORGIVEN (feat. Nile Rodgers)",
          "Haegeum",
          "Conexï¿½ï¿½es de Mï¿½ï¿½fia (feat. Rich ",
          "MIENTRAS ME CURO DEL CORA",
          "Never Felt So Alone",
          "X SI VOLVEMOS",
          "ceilings",
          "Cupid",
          "I AM",
          "Cupid ï¿½ï¿½ï¿½ Twin Ver. (FIFTY FIFTY) ï¿½ï¿½ï¿½ Spe",
          "Shorty Party",
          "Super",
          "Slut Me Out",
          "Double Fantasy (with Future)",
          "All Of The Girls You Loved Before",
          "PROVENZA",
          "Princess Diana (with Nicki Minaj)",
          "Di Que Si",
          "Shivers",
          "Igualito a Mi Apï¿",
          "Shoong! (feat. LISA of BLACKPINK)",
          "Komang",
          "DESPECHï¿",
          "Made You Look",
          "Watch This - ARIZONATEARS Pluggnb Remix",
          "No Se Va",
          "Punto G",
          "Lovers Rock",
          "METAMORPHOSIS",
          "Mami Chula",
          "En Paris",
          "Set Me Free Pt.2",
          "I Was Never There",
          "Don't ever say love me (feat. RM of BTS)",
          "Shut Down",
          "Gato de Noche",
          "Call Out My Name",
          "Like Crazy (English Version)",
          "Rosa Pastel",
          "Sunroof",
          "Lose Yourself - Soundtrack Version",
          "Superman",
          "Mas Rica Que Ayer",
          "People Pt.2 (feat. IU)",
          "REMIX EXCLUSIVO",
          "Arcï¿½ï¿½ngel: Bzrp Music Sessions, Vol",
          "DOGTOOTH",
          "10:35",
          "SORRY NOT SORRY",
          "HAPPY",
          "La Bebe",
          "I Know - PR1SVX Edit",
          "Late Night Talking",
          "Leï¿½",
          "Save Your Tears (with Ariana Grande) (Remix)",
          "Something in the Orange",
          "VOID",
          "Dijeron Que No La Iba Lograr",
          "Midnight Rain",
          "If We Ever Broke Up",
          "You Proof",
          "LA INOCENTE",
          "Malas Decisiones",
          "Murder In My Mind",
          "Gangsta's Paradise",
          "CAIRO",
          "I Love You So",
          "Dark Red",
          "Say You Won't Let Go",
          "The Hills",
          "Heart To Heart",
          "Peaches (from The Super Mario Bros. Movie)",
          "Marisola - Remix",
          "LOKERA",
          "Low",
          "Numb",
          "Tormenta (feat. Bad Bunny)",
          "on the street (with J. Cole)",
          "One Thing At A Time",
          "Miss You",
          "Ainï¿½ï¿½ï¿½t Tha",
          "Thinkinï¿½ï¿½ï¿½ B",
          "Private Landing (feat. Justin Bieber & Future)",
          "Everything I Love",
          "Heaven",
          "LET GO",
          "Sial",
          "I Wrote The Book",
          "Apna Bana Le (From \"Bhediya\")",
          "SPIT IN MY FACE!",
          "PLAYA DEL INGLï¿½",
          "Man Made A Bar (feat. Eric Church)",
          "Red Ruby Da Sleeze",
          "Kahani Suno 2.0",
          "Nobody Gets Me",
          "PERO Tï¿",
          "Hype Boy",
          "Bloody Mary",
          "Monotonï¿½",
          "ýýý98 Braves",
          "WANDA",
          "Thought You Should Know",
          "In The End",
          "Zona De Perigo",
          "Lovezinho",
          "I Like You (A Happier Song) (with Doja Cat)",
          "Neverita",
          "Vista Al Mar",
          "Sem Alianï¿½ï¿½a no ",
          "Enemy (with JID) - from the series Arcane League of Legends",
          "Revenge",
          "Bombonzinho - Ao Vivo",
          "LA CANCIï¿½",
          "Quï¿½ï¿½ Ago",
          "Love Again",
          "After Hours",
          "About Damn Time",
          "Born With A Beer In My Hand",
          "ýýýýýýýýýýýýýýýýýýýýý",
          "Besos Moja2",
          "Maan Meri Jaan",
          "Moscow Mule",
          "My Universe",
          "Devil Donï¿½ï¿½ï¿½",
          "LLYLM",
          "I'm Not Here To Make Friends",
          "TRUSTFALL",
          "ANTIFRAGILE",
          "Boy's a liar",
          "VIBE (feat. Jimin of BTS)",
          "Shirt",
          "Lift Me Up - From Black Panther: Wakanda Forever - Music From and Inspired By",
          "STAR WALKIN' (League of Legends Worlds Anthem)",
          "Sex, Drugs, Etc.",
          "Boy With Luv (feat. Halsey)",
          "Hey, Mickey!",
          "Calm Down",
          "Jhoome Jo Pathaan",
          "Escapism. - Sped Up",
          "Space Song",
          "Dreamers [Music from the FIFA World Cup Qatar 2022 Official Soundtrack]",
          "Te Felicito",
          "Muï¿½ï¿½",
          "TV",
          "I'm Not The Only One",
          "Heather",
          "Besharam Rang (From \"Pathaan\")",
          "One Kiss (with Dua Lipa)",
          "Sugar Rush Ride",
          "Pink Venom",
          "WAIT FOR U (feat. Drake & Tems)",
          "Don't Start Now",
          "After Dark",
          "Eu Gosto Assim - Ao Vivo",
          "INDUSTRY BABY (feat. Jack Harlow)",
          "MIDDLE OF THE NIGHT",
          "Atlantis",
          "PUNTO 40",
          "Evoque Prata",
          "How Do I Say Goodbye",
          "Blind",
          "Die For You",
          "Doja",
          "Gatita",
          "Rumble",
          "Niagara Falls (Foot or 2) [with Travis Scott & 21 Savage]",
          "Yonaguni",
          "Super Freaky Girl",
          "Running Up That Hill (A Deal With God)",
          "Dream On",
          "Limbo",
          "Where Are You Now",
          "WORTH NOTHING",
          "Bad Habits",
          "KICK BACK",
          "Evergreen (You Didnï¿½ï¿½ï¿½t Deserve Me A",
          "Good Days",
          "Levitating (feat. DaBaby)",
          "Woman",
          "Shut up My Moms Calling - (Sped Up)",
          "Ferrari",
          "You're On Your Own, Kid",
          "Kesariya (From \"Brahmastra\")",
          "Payphone",
          "All I Want for Christmas Is You",
          "Last Christmas",
          "It's Beginning To Look A Lot Like Christmas",
          "Santa Tell Me",
          "Snowman",
          "Underneath the Tree",
          "Holly Jolly Christmas",
          "Mistletoe",
          "Seek & Destroy",
          "Love Language",
          "Used (feat. Don Toliver)",
          "Wonderful Christmastime - Edited Version / Remastered 2011",
          "Do They Know It's Christmas? - 1984 Version",
          "Ghost in the Machine (feat. Phoebe Bridgers)",
          "Special",
          "Merry Christmas Everyone",
          "SOS",
          "Open Arms (feat. Travis Scott)",
          "Driving Home for Christmas - 2019 Remaster",
          "Gone Girl",
          "F2F",
          "Notice Me",
          "Merry Christmas",
          "My Only Wish (This Year)",
          "Antidepresan",
          "Wild Flower (with youjeen)",
          "I Hate U",
          "Raindrops (Insane) [with Travis Scott]",
          "SPIT IN MY FACE!",
          "Smoking on my Ex Pack",
          "Conceited",
          "Snow On The Beach (feat. Lana Del Rey)",
          "Maroon",
          "Tubarï¿½ï¿½o Te",
          "Bejeweled",
          "Tarot",
          "You Make It Feel Like Christmas (feat. Blake Shelton)",
          "Desesperados",
          "Too Late",
          "Party",
          "Far",
          "On Time (with John Legend)",
          "GATï¿½ï¿½",
          "ýýýabcdefu",
          "Sacrifice",
          "Is There Someone Else?",
          "Fingers Crossed",
          "Out of Time",
          "Do It To It",
          "We Don't Talk About Bruno",
          "Pepas",
          "How Do I Make You Love Me?",
          "Gasoline",
          "Infinity",
          "Less Than Zero",
          "Take My Breath",
          "good 4 u",
          "Here We Goï¿½ï¿½ï¿½ Again (feat. Tyler, the Cr",
          "Best Friends",
          "Kiss Me More (feat. SZA)",
          "I Heard You're Married (feat. Lil Wayne)",
          "Need To Know",
          "MONTERO (Call Me By Your Name)",
          "love nwantiti (ah ah ah)",
          "Dawn FM",
          "Surface Pressure",
          "Starry Eyes",
          "THATS WHAT I WANT",
          "One Right Now (with The Weeknd)",
          "Beggin",
          "Mon Amour - Remix",
          "Lo Siento BB:/ (with Bad Bunny & Julieta Venegas)",
          "MONEY",
          "The Motto",
          "Happier Than Ever",
          "Moth To A Flame (with The Weeknd)",
          "traitor",
          "Toxic",
          "drivers license",
          "Malvadï¿½ï¿",
          "All Too Well (10 Minute Version) (Taylor's Version) (From The Vault)",
          "Donï¿½ï¿½ï¿½t Break My",
          "Oh My God",
          "Entre Nosotros (Remix) [con Nicki Nicole]",
          "A Tale By Quincy",
          "I AM WOMAN",
          "Medallo",
          "It'll Be Okay",
          "Softcore",
          "Super Gremlin",
          "Volvï¿",
          "Todo De Ti",
          "Love Nwantiti - Remix",
          "Smokin Out The Window",
          "Meet Me At Our Spot",
          "Every Angel is Terrifying",
          "Tacones Rojos",
          "Peaches (feat. Daniel Caesar & Giveon)",
          "Dakiti",
          "Tiago PZK: Bzrp Music Sessions, Vol. 48",
          "Lï¿½ï¿½ï¿",
          "Nostï¿½ï¿½l",
          "Better Days (NEIKED x Mae Muller x Polo G)",
          "Life Goes On",
          "Sad Girlz Luv Money Remix (feat. Kali Uchis)",
          "Butter",
          "pushin P (feat. Young Thug)",
          "You Right",
          "deja vu",
          "Dynamite",
          "TO THE MOON",
          "Lost in the Fire",
          "Salimo de Noche",
          "Volando - Remix",
          "Leave The Door Open",
          "Knife Talk (with 21 Savage ft. Project Pat)",
          "Don't Be Shy",
          "LA FAMA (with The Weeknd)",
          "The Family Madrigal",
          "Phantom Regret by Jim",
          "Dos Oruguitas",
          "Freaks",
          "Acapulco",
          "Daddy Issues",
          "thought i was playing",
          "ELEVEN",
          "Mood (feat. Iann Dior)",
          "What Else Can I Do?",
          "DANCE CRIP",
          "Miserable Man",
          "happier",
          "Praise God",
          "Get Into It (Yuh)",
          "Before You Go",
          "Sky",
          "Rolling in the Deep",
          "Sobrio",
          "Peru",
          "favorite crime",
          "Thunder",
          "The Business",
          "positions",
          "I WANNA BE YOUR SLAVE",
          "Vai Lï¿½ï¿½ Em Casa ",
          "The Feels",
          "HEARTBREAK ANNIVERSARY",
          "No Lie",
          "OUT OUT (feat. Charli XCX & Saweetie)",
          "Pope Is a Rockstar",
          "2055",
          "Bored",
          "Happier Than Ever - Edit",
          "Astronaut In The Ocean",
          "Ley Seca",
          "Every Summertime",
          "Talking To The Moon",
          "you broke me first",
          "The Nights",
          "Take My Breath",
          "Way 2 Sexy (with Future & Young Thug)",
          "Cï¿½ï¿½",
          "Enemy - from the series Arcane League of Legends",
          "Dance Monkey",
          "Lucid Dreams",
          "Quï¿½ï¿½ Mï¿½ï¿",
          "All of Me",
          "Smells Like Teen Spirit - Remastered 2021",
          "Arcade",
          "Fair Trade (with Travis Scott)",
          "Bar",
          "The Rumbling (TV Size)",
          "family ties (with Kendrick Lamar)",
          "Mr. Brightside",
          "Blessed-Cursed",
          "AM Remix",
          "Streets",
          "Shallow",
          "Polaroid Love",
          "Leave Before You Love Me (with Jonas Brothers)",
          "Permission to Dance",
          "Friday (feat. Mufasa & Hypeman) - Dopamine Re-Edit",
          "RAPSTAR",
          "'Till I Collapse",
          "Memories",
          "Se Le Ve",
          "25k jacket (feat. Lil Baby)",
          "When Iï¿½ï¿½ï¿½m Gone (with Katy ",
          "Esqueï¿½ï¿½a-Me Se For C",
          "Miï¿½ï¿½n",
          "Sï¿½ï¿½",
          "MAMIII",
          "Still D.R.E.",
          "Stay Alive (Prod. SUGA of BTS)",
          "Boyfriend",
          "The Joker And The Queen (feat. Taylor Swift)",
          "The Next Episode",
          "Light Switch",
          "City of Gods",
          "Brividi",
          "Lost",
          "In Da Club",
          "she's all i wanna be",
          "Ginseng Strip 2002",
          "All For Us - from the HBO Original Series Euphoria",
          "Notion",
          "Formula",
          "Mount Everest",
          "Excuses",
          "Cigarettes",
          "Cayï¿½ï¿½ La Noche (feat. Cruz Cafunï¿½ï¿½, Abhir Hathi, Bejo, EL IMA)",
          "California Love - Original Version (Explicit)",
          "Forgot About Dre",
          "Down Under (feat. Colin Hay)",
          "Mujeriego",
          "HUMBLE.",
          "Stan",
          "Contection",
          "Swim",
          "A Tu Merced",
          "Numb Little Bug",
          "212",
          "Problemï¿½",
          "Bussin",
          "Worst Day",
          "Malvada",
          "Hrs and Hrs",
          "Alien Blues",
          "Thinking Out Loud",
          "Still Don't Know My Name",
          "Christmas Tree",
          "Mal Feito - Ao Vivo",
          "When I R.I.P.",
          "Do We Have A Problem?",
          "Forever",
          "Gospel (with Eminem)",
          "Seï¿½ï¿½o",
          "NEW MAGIC WAND",
          "Adore You",
          "La Santa",
          "Something In The Way - Remastered 2021",
          "Sweetest Pie",
          "Bam Bam (feat. Ed Sheeran)",
          "Una Noche en Medellï¿½",
          "Envolver",
          "Starlight",
          "Hati-Hati di Jalan",
          "I'm Tired - From \"Euphoria\" An Original HBO Series",
          "DANï¿½ï¿½A",
          "Yo Voy (feat. Daddy Yankee)",
          "Residente: Bzrp Music Sessions, Vol. 49",
          "Jordan",
          "Nail Tech",
          "Chale",
          "DARARI",
          "Ya No Somos Ni Seremos",
          "Thinking with My Dick",
          "Freaky Deaky",
          "this is what falling in love feels like",
          "La Zona",
          "Bohemian Rhapsody - Remastered 2011",
          "Hope",
          "Levitating",
          "Wake Me Up - Radio Edit",
          "jealousy, jealousy",
          "Monï¿½ï¿½y so",
          "Demasiadas Mujeres",
          "Something Just Like This",
          "Closer",
          "O.O",
          "Somebody That I Used To Know",
          "Tom's Diner",
          "First Class",
          "Plan A",
          "Fuera del mercado",
          "X ï¿½ï¿½LTIMA",
          "When You're Gone",
          "In My Head",
          "Wait a Minute!",
          "LOVE DIVE",
          "Pantysito",
          "Chance",
          "Cool for the Summer",
          "psychofreak (feat. WILLOW)",
          "Angel Baby",
          "Vampiro",
          "Si Quieren Frontear",
          "Right On",
          "Me Arrepentï¿",
          "That's Hilarious",
          "Soy El Unico",
          "RUMBATï¿½",
          "sentaDONA (Remix) s2",
          "Falling",
          "Sigue",
          "Fim de Semana no Rio",
          "MANIAC",
          "There's Nothing Holdin' Me Back",
          "IDGAF (with blackbear)",
          "Golden",
          "Get Lucky - Radio Edit",
          "Ain't Shit",
          "Nobody Like U - From \"Turning Red\"",
          "Still Life",
          "Photograph",
          "Love Yourself",
          "N95",
          "About Damn Time",
          "Die Hard",
          "Despuï¿½ï¿½s de la P",
          "Un Ratito",
          "United In Grief",
          "Father Time (feat. Sampha)",
          "Yo No Soy Celoso",
          "Rich Spirit",
          "Cooped Up (with Roddy Ricch)",
          "Me Fui de Vacaciones",
          "Silent Hill",
          "La Corriente",
          "Count Me Out",
          "Andrea",
          "Dos Mil 16",
          "We Cry Together",
          "Savior",
          "Un Coco",
          "Otro Atardecer",
          "Worldwide Steppers",
          "Aguacero",
          "Purple Hearts",
          "Un Verano Sin Ti",
          "ULTRA SOLO",
          "Ensï¿½ï¿½ï¿½ï¿½ame ",
          "El Apagï¿½",
          "Callaita",
          "Dua Lipa",
          "Agosto",
          "House Of Memories",
          "Mr. Morale",
          "That That (prod. & feat. SUGA of BTS)",
          "In The Stars",
          "Rich - Interlude",
          "SUPERMODEL",
          "Stefania (Kalush Orchestra)",
          "Thousand Miles",
          "Crown",
          "Auntie Diaries",
          "PUFFIN ON ZOOTIEZ",
          "Mirror",
          "Beautiful Girl",
          "Paulo Londra: Bzrp Music Sessions, Vol. 23",
          "Savior - Interlude",
          "Pasoori",
          "Mother I Sober (feat. Beth Gibbons of Portishead)",
          "TUS Lï¿½ï¿½GR",
          "Where Did You Go?",
          "I Tried to Tell Y'all",
          "Honest (feat. Don Toliver)",
          "ZOOM",
          "SloMo",
          "FEARLESS",
          "10 Things I Hate About You",
          "SPACE MAN",
          "With you",
          "Iris",
          "The Heart Part 5",
          "San Lucas",
          "This Love (Taylorï¿½ï¿½ï¿½s Ve",
          "Good Looking",
          "Flowers",
          "Yet To Come",
          "Run BTS",
          "Music For a Sushi Restaurant",
          "Matilda",
          "For Youth",
          "Daylight",
          "Vegas (From the Original Motion Picture Soundtrack ELVIS)",
          "Cash In Cash Out",
          "Potion (with Dua Lipa & Young Thug)",
          "Born Singer",
          "Little Freak",
          "La Llevo Al Cielo (Ft. ï¿½ï¿½engo F",
          "True Love",
          "Satellite",
          "Pass The Dutchie",
          "Villano Antillano: Bzrp Music Sessions, Vol. 51",
          "Love Of My Life",
          "Grapejuice",
          "So Good",
          "Belly Dancer",
          "Keep Driving",
          "Cinema",
          "Die Young (feat. 347aidan)",
          "Only Love Can Hurt Like This",
          "Hold My Hand",
          "Daydreaming",
          "Numb",
          "Nos Comemos (feat. Ozuna)",
          "Me and Your Mama",
          "Crazy What Love Can Do",
          "SLOW DANCING IN THE DARK",
          "Antes de Perderte",
          "Boyfriends",
          "295",
          "Tak Ingin Usai",
          "En El Radio Un Cochinero",
          "Master of Puppets (Remastered)",
          "BREAK MY SOUL",
          "ULTRA SOLO REMIX",
          "Massive",
          "Betty (Get Money)",
          "Ojos Marrones",
          "POP!",
          "Layla",
          "MORE",
          "Sweet Child O' Mine",
          "Last Last",
          "SNAP",
          "Sticky",
          "Hot Shit (feat. Ye & Lil Durk)",
          "Ai Preto",
          "La Loto",
          "die first",
          "Afraid To Feel",
          "Baile no Morro",
          "cï¿½ï¿½mo dormi",
          "Bad Decisions (with BTS & Snoop Dogg)",
          "STAYING ALIVE (feat. Drake & Lil Baby)",
          "Caile",
          "Si Te La Encuentras Por Ahï¿",
          "GIVENCHY",
          "ALIEN SUPERSTAR",
          "Mary On A Cross",
          "Attention",
          "THE SHADE",
          "Come Back Home - From \"Purple Hearts\"",
          "El Rescate",
          "Heartless",
          "Stay With Me (with Justin Timberlake, Halsey, & Pharrell)",
          "Siempre Pendientes",
          "JGL",
          "Don't You Worry",
          "Pipoco",
          "Hold Me Closer",
          "Forget Me",
          "After LIKE",
          "Bound 2",
          "B.O.T.A. (Baddest Of Them All) - Edit",
          "Talk that Talk",
          "BILLIE EILISH.",
          "Ferxxo 100",
          "KU LO SA - A COLORS SHOW",
          "Prohibidox",
          "Static",
          "The Scientist",
          "Sparks",
          "Talk",
          "XQ Te Pones Asï¿",
          "Selfish",
          "Sin Seï¿½ï",
          "Lady Mi Amor",
          "Poland",
          "THE LONELIEST",
          "Bye Bye",
          "BABY OTAKU",
          "Nxde",
          "Miss You",
          "we fell in love in october",
          "2 Be Loved (Am I Ready)",
          "Celestial",
          "Typa Girl",
          "I Really Want to Stay at Your House",
          "California Breeze",
          "Bamba (feat. Aitch & BIA)",
          "Casei Com a Putaria",
          "Major Distribution",
          "Pussy & Millions (feat. Travis Scott)",
          "Vigilante Shit",
          "Question...?",
          "On BS",
          "Mastermind",
          "Circo Loco",
          "Labyrinth",
          "Spin Bout U",
          "Sweet Nothing",
          "Would've, Could've, Should've",
          "Con La Brisa",
          "Privileged Rappers",
          "The Astronaut",
          "BackOutsideBoyz",
          "Broke Boys",
          "The Great War",
          "My Mind & Me",
          "Bigger Than The Whole Sky",
          "A Veces (feat. Feid)",
          "En La De Ella",
          "Alone"
         ],
         "legendgroup": "",
         "marker": {
          "color": {
           "bdata": "AAAABAAAAAAAAAAAAAABAQAAAAAAAAoAAAABAAAAAAABAQAAAAkJAAAFAQYAAwEHBwAAAAAACwQAAQADAAABAAEYAQEAAAADAQsBDwEBAQAwAQAAAgAFAQgLAAAABgMAAAEMAAsBABMAAQYGAgwLAQAAJgkAAAADAAABAQIBDAQGAAAADAAQAAEABgEGAAAVAAcBEwQAAAANAAsAAQoCBAATBw0DDSgIDAsFAAoLAAcJCgEGCQAfBAYABwQNCgECAQADDQABJwAAAAEAAAAAAAAAAQAAAAABAQABAAEBAAEAAAEAAAEBAAAAAAABAAEAAAEHAgECAAAAFwECAQAAAAAAAAAAAQAAGgAAAQAEAQAAAgEAAQEBAAEBCQIAAQAFAAEBBQAAAhUVAAAAAAABAAACAAEBAwEAAAEAAQEBARwBCQYHCAQAAQEBFAAAAQEAAAAAAAEAAAEBAQAAAQEAAQwBAAABFwEBAQEBAQIGAQQBAAMBAAMBAQECAAAAAAEBAAEBAQcEBwEBAQgBAQABCQMBBgABAQQJAQIDCAEBAQEBAQEBAQIBJjIBAgEDAQEDAwIBAQEBCx0nDAoGCgwMAQEBLCcBAScBASUBAQEGFwEBAgEBAQEBAQEBARICAQEBAQECAQEBAQICAgEBBgECAgEBAgECAwQBAgECAgYDAgICAgICAgICAgECAQECAgIFAgIDBAIDAQICAwIBAgIDAgIBAgIDAgQCAgICAgICAQIIAggBAgMCAgECAgIEAw0CAgICAwMCAgIDBwIHAgYCBAICDQMJAgICAgQGAgogBAICAQIUAQIEBQECAgICFQQCAQICAgIBGAEBARgBAQELFQEKBAcEBAMCARwYAgIGGAMGAwEBAgEBAQIICQQCAQQBBAEEBAQDIAEBAQIBAQEBEwECAQEBAQoBAgMwBQMKAgIDBgcBDAQBAQEBAQEIAQEBCAECAQEBAQEBAQEEGwEBBwEECgIBAQkIAQEBAQEBAQEBAQEBAQEBAQEBAQEBAQEBAQEBBAEBBwEBAQEBAQEBAQEBAQEBAQEBAQEBAQIBAQEBGQEEAQYCAQEBAQEBAQEBAQEBAQEpAQEBAQEBAQEJAQEBAQcBBQEBAgEBJQEBAQEBAQEBJAEBAQEBAQEBAQEBAQMBAQEEAQEBAQ8BAQEBAQYBAQoBAQEBAQEBFRcBAQcBAQEBAQEBKQUBAQEDAQEBAQEBAQEBAQEBAQEBAQEBAQEBAQEBAQ==",
           "dtype": "i1"
          },
          "coloraxis": "coloraxis",
          "opacity": 0.6,
          "size": [
           141381703,
           133716286,
           140003974,
           800840817,
           303236322,
           183706234,
           725980112,
           58149378,
           95217315,
           553634067,
           505671438,
           58255150,
           1316855716,
           387570742,
           2513188493,
           1163093654,
           496795686,
           30546883,
           335222234,
           363369738,
           86444842,
           52135248,
           1297026226,
           200647221,
           115364561,
           78300654,
           899183384,
           61245289,
           429829812,
           127408954,
           22581161,
           52294266,
           843957510,
           999748277,
           618990393,
           123122413,
           188933502,
           1355959075,
           786181836,
           176553476,
           354495408,
           2808096550,
           1109433169,
           1047101291,
           65156199,
           570515054,
           1085685420,
           1647990401,
           2565529693,
           518745108,
           107753850,
           177740666,
           153372011,
           57876440,
           1813673666,
           3703895074,
           256483385,
           1214083358,
           16011326,
           812019557,
           111947664,
           156338624,
           720434240,
           357925728,
           674072710,
           1755214421,
           404562836,
           373199958,
           14780425,
           39578178,
           54266102,
           2557975762,
           751134527,
           2282771485,
           1356565093,
           1592909789,
           635412045,
           1230675890,
           585695368,
           43857627,
           2009094673,
           600976848,
           39709092,
           39228929,
           2665343922,
           223633238,
           2887241814,
           1440757818,
           165484133,
           58054811,
           157058870,
           95131998,
           250305248,
           685032533,
           38411956,
           144565150,
           127567540,
           399686758,
           983637508,
           118482347,
           882831184,
           286400165,
           172825906,
           1241559043,
           29562220,
           77309611,
           1605224506,
           1116995633,
           838079900,
           1163620694,
           1093605526,
           179659294,
           39058561,
           36912123,
           1205951614,
           1791000570,
           201660859,
           248088961,
           90839753,
           607123776,
           55842345,
           211050784,
           342897938,
           2762,
           330346424,
           601863821,
           1953533826,
           2322580122,
           2355719893,
           66902503,
           96273746,
           430977451,
           284819874,
           721975598,
           1217120710,
           109276132,
           276259178,
           54225632,
           2559529074,
           681583126,
           2594040133,
           81102253,
           11956641,
           1687664027,
           11599388,
           611700552,
           1133865788,
           1089402494,
           411747614,
           255932395,
           31873544,
           95053634,
           1279434863,
           233801632,
           1481349984,
           142095275,
           618885532,
           2011464183,
           1167330737,
           929964809,
           436027885,
           657723613,
           2713922350,
           621660989,
           1591223784,
           950906471,
           1593270737,
           1410088830,
           1235005533,
           1661187319,
           1374581173,
           94186466,
           1788326445,
           1840364617,
           143573775,
           684675814,
           1113838873,
           1267333350,
           726307468,
           3562543890,
           1131090940,
           307370144,
           1271293243,
           265882712,
           841749534,
           47956378,
           806397070,
           2132335812,
           1641426668,
           2135158446,
           367316268,
           350381515,
           1264310836,
           30343206,
           405136812,
           540654286,
           57312735,
           397582059,
           1479115056,
           86773632,
           133753727,
           123124076,
           463564958,
           64533040,
           65496046,
           68616963,
           161460990,
           70106975,
           113509496,
           89933133,
           71007139,
           43522589,
           232896922,
           37126685,
           195576623,
           532336353,
           538115192,
           46142772,
           401036314,
           127026613,
           345031710,
           288101651,
           60350538,
           335074782,
           76767396,
           46065667,
           459276435,
           39666245,
           138517666,
           822633917,
           595900742,
           51985779,
           57945987,
           115010040,
           175097833,
           57089066,
           488386797,
           32761689,
           1047480053,
           153454328,
           217672943,
           457184829,
           939844851,
           726434358,
           573633020,
           1406111294,
           71573339,
           24975653,
           145458418,
           1424589568,
           231332117,
           415932686,
           988515741,
           50847624,
           39893489,
           92035115,
           118810253,
           77233241,
           206399629,
           117747907,
           266624541,
           293186992,
           139681964,
           123132751,
           103762518,
           162887075,
           91221625,
           190490915,
           96180277,
           185240616,
           885093467,
           104992946,
           147290338,
           1302184087,
           158950978,
           76910644,
           137123880,
           782369383,
           502574952,
           207033255,
           404887295,
           381161027,
           466231982,
           357580552,
           61105704,
           198275403,
           168448603,
           705469769,
           34502215,
           482175240,
           304118600,
           1449799467,
           173627354,
           90025258,
           652704649,
           1829992958,
           655466831,
           146409671,
           95816024,
           117206995,
           100409613,
           80758350,
           325592432,
           58473276,
           52722996,
           191945597,
           77377503,
           743693613,
           267789608,
           1221813483,
           449701773,
           67070410,
           116334601,
           433356509,
           165584767,
           367814306,
           477033549,
           156214700,
           448843705,
           1357608774,
           294352144,
           972164968,
           920045682,
           2420461338,
           1947371785,
           244658767,
           68216992,
           223582566,
           471819764,
           272377463,
           1361425037,
           149778242,
           116599790,
           148469433,
           497225336,
           88791109,
           125917280,
           105062254,
           95623148,
           144584800,
           298063749,
           166570053,
           83021468,
           139836056,
           303216294,
           221409663,
           58890931,
           81419389,
           156777415,
           284908316,
           93438910,
           363472647,
           372476382,
           380726517,
           56533272,
           175399345,
           203221468,
           1624165576,
           134294498,
           70069745,
           609293408,
           671365962,
           362361576,
           93587665,
           1223481149,
           1022258230,
           263453310,
           1435127549,
           236857112,
           147538971,
           698086140,
           723894473,
           34450974,
           403097450,
           309483971,
           319566866,
           909001996,
           1061966512,
           32526947,
           124988687,
           103787664,
           134255790,
           301051721,
           156338624,
           152850295,
           309653982,
           297328960,
           332506354,
           480507035,
           1065580332,
           122763672,
           445763624,
           1365184,
           184308753,
           789753877,
           323358833,
           606361689,
           120972253,
           338564981,
           1606986953,
           1301799902,
           140187018,
           1897517891,
           107642809,
           551305895,
           556585270,
           2303033973,
           646886885,
           222612678,
           1814349763,
           872137015,
           571386359,
           304079786,
           174006928,
           284785823,
           163284000,
           246390068,
           482257456,
           168684524,
           78489819,
           195516622,
           1260594497,
           428685680,
           1024858327,
           838586769,
           199386237,
           972509632,
           213438580,
           1555511105,
           210038833,
           227918678,
           826623384,
           1802514301,
           1329090101,
           181831132,
           462791599,
           348647203,
           366599607,
           1479264469,
           1449779435,
           1159176109,
           807561936,
           834129063,
           690104769,
           485285717,
           476244795,
           629173063,
           98709329,
           110849052,
           94005786,
           403939487,
           481697415,
           110073250,
           88092256,
           351636786,
           73981293,
           155653938,
           429504768,
           65362788,
           67540165,
           62019074,
           135723538,
           261116938,
           136689549,
           135611421,
           356709897,
           110649992,
           301869854,
           57144458,
           56870689,
           323437194,
           317726339,
           116144341,
           328207708,
           608228647,
           180577478,
           809306935,
           49262961,
           614555082,
           51641685,
           78139948,
           322336177,
           1007612429,
           326792833,
           391251368,
           349585590,
           339659802,
           674772936,
           432719968,
           1309887447,
           119238316,
           116903579,
           888046992,
           200660871,
           130655803,
           1887039593,
           88103848,
           101114984,
           1575467011,
           91656026,
           1042568408,
           1735441776,
           726837877,
           53933526,
           267758538,
           74601456,
           920797189,
           539595276,
           1367810478,
           578207856,
           775542072,
           863625566,
           656013912,
           1056760045,
           611994237,
           1230855859,
           582981380,
           1858144199,
           240684449,
           583687007,
           63803529,
           466214729,
           236940480,
           41924466,
           225259194,
           393230256,
           287201015,
           599770206,
           342779426,
           673801126,
           1168642797,
           540539717,
           383550148,
           530511203,
           37307967,
           510876816,
           1445941661,
           1763363713,
           374191487,
           108809090,
           436695353,
           421040617,
           501541661,
           354065229,
           1143647827,
           311395144,
           672656250,
           1256880657,
           1692897992,
           245095641,
           686734357,
           261414174,
           610045621,
           1115880852,
           594482982,
           566954746,
           374706940,
           184937148,
           31959571,
           167076418,
           824420218,
           363467642,
           1127468248,
           60680939,
           247737946,
           1699402402,
           154797871,
           198883004,
           124407432,
           850608354,
           376333030,
           516784627,
           1608045237,
           506778838,
           1472799873,
           513643924,
           261286503,
           783706581,
           422691058,
           1062345656,
           1252563873,
           851070493,
           263894529,
           345903614,
           951637566,
           956865266,
           427486004,
           156658366,
           624515457,
           777765388,
           412795151,
           1138474110,
           355219175,
           290228626,
           1062956628,
           1180094974,
           1456081449,
           432702334,
           489945871,
           465959382,
           1223481149,
           2864791672,
           2288695111,
           720825549,
           2086124197,
           1690192927,
           991336132,
           593917618,
           200972675,
           71014967,
           560222750,
           1806617704,
           77337771,
           528544703,
           865640097,
           2159346687,
           211372494,
           651732901,
           608334048,
           863756573,
           797402345,
           1695712020,
           1759567999,
           223319934,
           54937991,
           226897599,
           258316038,
           596152090,
           177129919,
           716591492,
           1210599487,
           246376690,
           496311364,
           146789379,
           843309044,
           500340342,
           107255472,
           135079152,
           822239726,
           1202722675,
           343197054,
           240769997,
           426204830,
           421135627,
           554875730,
           467727006,
           327498031,
           185408548,
           245400167,
           579395142,
           675039469,
           252871192,
           231996128,
           1929770265,
           918915401,
           1180896317,
           498960285,
           685071800,
           258714692,
           143139338,
           209768491,
           64714573,
           50746620,
           154119539,
           181328253,
           370068639,
           2280566092,
           563902868,
           317622165,
           291709698,
           203680270,
           81350745,
           282883169,
           64787943,
           2484812918,
           461437791,
           1439191367,
           759208783,
           368646862,
           299634472,
           756907987,
           682475162,
           546191065,
           229473310,
           202677468,
           121913181,
           208166039,
           527033089,
           94616487,
           394030335,
           193443895,
           299648208,
           182978249,
           319757142,
           109091573,
           153240879,
           346127840,
           312622938,
           2197010679,
           1200808494,
           797196073,
           1970673297,
           665765558,
           263779030,
           339473453,
           2204080728,
           2591224264,
           135444283,
           1457139296,
           236872197,
           694525298,
           240661097,
           421365166,
           349746291,
           255120451,
           190981339,
           924193303,
           305771063,
           273005485,
           89566512,
           677389855,
           75476209,
           408843328,
           187772591,
           178512385,
           101780047,
           118381354,
           146363130,
           126443991,
           157990698,
           176290831,
           1023187129,
           106933107,
           139193812,
           212234990,
           1714490998,
           197643795,
           807015863,
           933815613,
           499710590,
           120847157,
           53909146,
           2236667932,
           2123309722,
           301242089,
           723894473,
           237351106,
           461558540,
           417230415,
           156898322,
           127309180,
           313113297,
           173702135,
           271666301,
           305650299,
           123216717,
           479655659,
           126191104,
           344055883,
           338422004,
           68895644,
           86176890,
           403231558,
           319546754,
           61739839,
           283359161,
           76831876,
           283332261,
           307752576,
           279737940,
           212351890,
           1304313953,
           150500965,
           246127838,
           582863434,
           58687425,
           212109195,
           382199619,
           41210087,
           231657891,
           53729194,
           244741137,
           42485571,
           37778188,
           254218729,
           53603447,
           160035717,
           164163229,
           37091576,
           284249832,
           33381454,
           184622518,
           300983101,
           121077868,
           106919680,
           136996305,
           65719930,
           229497852,
           185550869,
           54682594,
           240580042,
           1284942608,
           71423324,
           244891912,
           132171975,
           184706613,
           184826429,
           302006641,
           330881149,
           334733572,
           366214458,
           114546317,
           290833204,
           448500832,
           136676504,
           190625045,
           79095270,
           273194684,
           333146475,
           194902696,
           311482393,
           195918494,
           248511839,
           233671263,
           199587884,
           91781263,
           383835984,
           236060709,
           189236868,
           160845341,
           588955257,
           238350348,
           187703102,
           295307001,
           138334433,
           445590495,
           286739476,
           1122364376,
           157136970,
           137070925,
           183273246,
           184807630,
           164856284,
           704171068,
           354614964,
           279717388,
           195628667,
           221752937,
           263280370,
           213505179,
           130419412,
           155795783,
           1553497987,
           293466523,
           711366595,
           191448892,
           85924992,
           176103902,
           121189256,
           131746175,
           244790012,
           129314708,
           331511413,
           219196651,
           170732845,
           273914335,
           179061440,
           185236961,
           171788484,
           387080183,
           264717480,
           244928911,
           97610446,
           287278853,
           887906111,
           123473120,
           295152154,
           323455692,
           240918092,
           191873381,
           284216603,
           239411309,
           265548837,
           703301727,
           244585109,
           189476119,
           277132266,
           278920007,
           222410722,
           185392587,
           202452860,
           1608164312,
           624101957,
           148461629,
           47093942,
           380319238,
           209106362,
           53987404,
           115331792,
           225093344,
           84697729,
           159240673,
           170709584,
           154356956,
           723043854,
           247689123,
           176474912,
           235549288,
           140430339,
           85559365,
           146223492,
           187701588,
           154863153,
           191333656,
           253650850,
           223064273,
           170413877,
           218320587,
           141720999,
           187339835,
           198365537,
           186104310,
           177503916,
           71095708,
           112436403,
           203436468,
           93367537,
           106249219,
           181382590,
           91473363,
           121871870,
           73513683,
           133895612,
           96007391
          ],
          "sizemode": "area",
          "sizeref": 9259737.685,
          "symbol": "circle"
         },
         "mode": "markers",
         "name": "",
         "orientation": "v",
         "showlegend": false,
         "type": "scatter",
         "x": {
          "bdata": "AAAABAAAAAAAAAAAAAABAQAAAAAAAAoAAAABAAAAAAABAQAAAAkJAAAFAQYAAwEHBwAAAAAACwQAAQADAAABAAEYAQEAAAADAQsBDwEBAQAwAQAAAgAFAQgLAAAABgMAAAEMAAsBABMAAQYGAgwLAQAAJgkAAAADAAABAQIBDAQGAAAADAAQAAEABgEGAAAVAAcBEwQAAAANAAsAAQoCBAATBw0DDSgIDAsFAAoLAAcJCgEGCQAfBAYABwQNCgECAQADDQABJwAAAAEAAAAAAAAAAQAAAAABAQABAAEBAAEAAAEAAAEBAAAAAAABAAEAAAEHAgECAAAAFwECAQAAAAAAAAAAAQAAGgAAAQAEAQAAAgEAAQEBAAEBCQIAAQAFAAEBBQAAAhUVAAAAAAABAAACAAEBAwEAAAEAAQEBARwBCQYHCAQAAQEBFAAAAQEAAAAAAAEAAAEBAQAAAQEAAQwBAAABFwEBAQEBAQIGAQQBAAMBAAMBAQECAAAAAAEBAAEBAQcEBwEBAQgBAQABCQMBBgABAQQJAQIDCAEBAQEBAQEBAQIBJjIBAgEDAQEDAwIBAQEBCx0nDAoGCgwMAQEBLCcBAScBASUBAQEGFwEBAgEBAQEBAQEBARICAQEBAQECAQEBAQICAgEBBgECAgEBAgECAwQBAgECAgYDAgICAgICAgICAgECAQECAgIFAgIDBAIDAQICAwIBAgIDAgIBAgIDAgQCAgICAgICAQIIAggBAgMCAgECAgIEAw0CAgICAwMCAgIDBwIHAgYCBAICDQMJAgICAgQGAgogBAICAQIUAQIEBQECAgICFQQCAQICAgIBGAEBARgBAQELFQEKBAcEBAMCARwYAgIGGAMGAwEBAgEBAQIICQQCAQQBBAEEBAQDIAEBAQIBAQEBEwECAQEBAQoBAgMwBQMKAgIDBgcBDAQBAQEBAQEIAQEBCAECAQEBAQEBAQEEGwEBBwEECgIBAQkIAQEBAQEBAQEBAQEBAQEBAQEBAQEBAQEBAQEBBAEBBwEBAQEBAQEBAQEBAQEBAQEBAQEBAQIBAQEBGQEEAQYCAQEBAQEBAQEBAQEBAQEpAQEBAQEBAQEJAQEBAQcBBQEBAgEBJQEBAQEBAQEBJAEBAQEBAQEBAQEBAQMBAQEEAQEBAQ8BAQEBAQYBAQoBAQEBAQEBFRcBAQcBAQEBAQEBKQUBAQEDAQEBAQEBAQEBAQEBAQEBAQEBAQEBAQEBAQ==",
          "dtype": "i1"
         },
         "xaxis": "x",
         "y": [
          141381703,
          133716286,
          140003974,
          800840817,
          303236322,
          183706234,
          725980112,
          58149378,
          95217315,
          553634067,
          505671438,
          58255150,
          1316855716,
          387570742,
          2513188493,
          1163093654,
          496795686,
          30546883,
          335222234,
          363369738,
          86444842,
          52135248,
          1297026226,
          200647221,
          115364561,
          78300654,
          899183384,
          61245289,
          429829812,
          127408954,
          22581161,
          52294266,
          843957510,
          999748277,
          618990393,
          123122413,
          188933502,
          1355959075,
          786181836,
          176553476,
          354495408,
          2808096550,
          1109433169,
          1047101291,
          65156199,
          570515054,
          1085685420,
          1647990401,
          2565529693,
          518745108,
          107753850,
          177740666,
          153372011,
          57876440,
          1813673666,
          3703895074,
          256483385,
          1214083358,
          16011326,
          812019557,
          111947664,
          156338624,
          720434240,
          357925728,
          674072710,
          1755214421,
          404562836,
          373199958,
          14780425,
          39578178,
          54266102,
          2557975762,
          751134527,
          2282771485,
          1356565093,
          1592909789,
          635412045,
          1230675890,
          585695368,
          43857627,
          2009094673,
          600976848,
          39709092,
          39228929,
          2665343922,
          223633238,
          2887241814,
          1440757818,
          165484133,
          58054811,
          157058870,
          95131998,
          250305248,
          685032533,
          38411956,
          144565150,
          127567540,
          399686758,
          983637508,
          118482347,
          882831184,
          286400165,
          172825906,
          1241559043,
          29562220,
          77309611,
          1605224506,
          1116995633,
          838079900,
          1163620694,
          1093605526,
          179659294,
          39058561,
          36912123,
          1205951614,
          1791000570,
          201660859,
          248088961,
          90839753,
          607123776,
          55842345,
          211050784,
          342897938,
          2762,
          330346424,
          601863821,
          1953533826,
          2322580122,
          2355719893,
          66902503,
          96273746,
          430977451,
          284819874,
          721975598,
          1217120710,
          109276132,
          276259178,
          54225632,
          2559529074,
          681583126,
          2594040133,
          81102253,
          11956641,
          1687664027,
          11599388,
          611700552,
          1133865788,
          1089402494,
          411747614,
          255932395,
          31873544,
          95053634,
          1279434863,
          233801632,
          1481349984,
          142095275,
          618885532,
          2011464183,
          1167330737,
          929964809,
          436027885,
          657723613,
          2713922350,
          621660989,
          1591223784,
          950906471,
          1593270737,
          1410088830,
          1235005533,
          1661187319,
          1374581173,
          94186466,
          1788326445,
          1840364617,
          143573775,
          684675814,
          1113838873,
          1267333350,
          726307468,
          3562543890,
          1131090940,
          307370144,
          1271293243,
          265882712,
          841749534,
          47956378,
          806397070,
          2132335812,
          1641426668,
          2135158446,
          367316268,
          350381515,
          1264310836,
          30343206,
          405136812,
          540654286,
          57312735,
          397582059,
          1479115056,
          86773632,
          133753727,
          123124076,
          463564958,
          64533040,
          65496046,
          68616963,
          161460990,
          70106975,
          113509496,
          89933133,
          71007139,
          43522589,
          232896922,
          37126685,
          195576623,
          532336353,
          538115192,
          46142772,
          401036314,
          127026613,
          345031710,
          288101651,
          60350538,
          335074782,
          76767396,
          46065667,
          459276435,
          39666245,
          138517666,
          822633917,
          595900742,
          51985779,
          57945987,
          115010040,
          175097833,
          57089066,
          488386797,
          32761689,
          1047480053,
          153454328,
          217672943,
          457184829,
          939844851,
          726434358,
          573633020,
          1406111294,
          71573339,
          24975653,
          145458418,
          1424589568,
          231332117,
          415932686,
          988515741,
          50847624,
          39893489,
          92035115,
          118810253,
          77233241,
          206399629,
          117747907,
          266624541,
          293186992,
          139681964,
          123132751,
          103762518,
          162887075,
          91221625,
          190490915,
          96180277,
          185240616,
          885093467,
          104992946,
          147290338,
          1302184087,
          158950978,
          76910644,
          137123880,
          782369383,
          502574952,
          207033255,
          404887295,
          381161027,
          466231982,
          357580552,
          61105704,
          198275403,
          168448603,
          705469769,
          34502215,
          482175240,
          304118600,
          1449799467,
          173627354,
          90025258,
          652704649,
          1829992958,
          655466831,
          146409671,
          95816024,
          117206995,
          100409613,
          80758350,
          325592432,
          58473276,
          52722996,
          191945597,
          77377503,
          743693613,
          267789608,
          1221813483,
          449701773,
          67070410,
          116334601,
          433356509,
          165584767,
          367814306,
          477033549,
          156214700,
          448843705,
          1357608774,
          294352144,
          972164968,
          920045682,
          2420461338,
          1947371785,
          244658767,
          68216992,
          223582566,
          471819764,
          272377463,
          1361425037,
          149778242,
          116599790,
          148469433,
          497225336,
          88791109,
          125917280,
          105062254,
          95623148,
          144584800,
          298063749,
          166570053,
          83021468,
          139836056,
          303216294,
          221409663,
          58890931,
          81419389,
          156777415,
          284908316,
          93438910,
          363472647,
          372476382,
          380726517,
          56533272,
          175399345,
          203221468,
          1624165576,
          134294498,
          70069745,
          609293408,
          671365962,
          362361576,
          93587665,
          1223481149,
          1022258230,
          263453310,
          1435127549,
          236857112,
          147538971,
          698086140,
          723894473,
          34450974,
          403097450,
          309483971,
          319566866,
          909001996,
          1061966512,
          32526947,
          124988687,
          103787664,
          134255790,
          301051721,
          156338624,
          152850295,
          309653982,
          297328960,
          332506354,
          480507035,
          1065580332,
          122763672,
          445763624,
          1365184,
          184308753,
          789753877,
          323358833,
          606361689,
          120972253,
          338564981,
          1606986953,
          1301799902,
          140187018,
          1897517891,
          107642809,
          551305895,
          556585270,
          2303033973,
          646886885,
          222612678,
          1814349763,
          872137015,
          571386359,
          304079786,
          174006928,
          284785823,
          163284000,
          246390068,
          482257456,
          168684524,
          78489819,
          195516622,
          1260594497,
          428685680,
          1024858327,
          838586769,
          199386237,
          972509632,
          213438580,
          1555511105,
          210038833,
          227918678,
          826623384,
          1802514301,
          1329090101,
          181831132,
          462791599,
          348647203,
          366599607,
          1479264469,
          1449779435,
          1159176109,
          807561936,
          834129063,
          690104769,
          485285717,
          476244795,
          629173063,
          98709329,
          110849052,
          94005786,
          403939487,
          481697415,
          110073250,
          88092256,
          351636786,
          73981293,
          155653938,
          429504768,
          65362788,
          67540165,
          62019074,
          135723538,
          261116938,
          136689549,
          135611421,
          356709897,
          110649992,
          301869854,
          57144458,
          56870689,
          323437194,
          317726339,
          116144341,
          328207708,
          608228647,
          180577478,
          809306935,
          49262961,
          614555082,
          51641685,
          78139948,
          322336177,
          1007612429,
          326792833,
          391251368,
          349585590,
          339659802,
          674772936,
          432719968,
          1309887447,
          119238316,
          116903579,
          888046992,
          200660871,
          130655803,
          1887039593,
          88103848,
          101114984,
          1575467011,
          91656026,
          1042568408,
          1735441776,
          726837877,
          53933526,
          267758538,
          74601456,
          920797189,
          539595276,
          1367810478,
          578207856,
          775542072,
          863625566,
          656013912,
          1056760045,
          611994237,
          1230855859,
          582981380,
          1858144199,
          240684449,
          583687007,
          63803529,
          466214729,
          236940480,
          41924466,
          225259194,
          393230256,
          287201015,
          599770206,
          342779426,
          673801126,
          1168642797,
          540539717,
          383550148,
          530511203,
          37307967,
          510876816,
          1445941661,
          1763363713,
          374191487,
          108809090,
          436695353,
          421040617,
          501541661,
          354065229,
          1143647827,
          311395144,
          672656250,
          1256880657,
          1692897992,
          245095641,
          686734357,
          261414174,
          610045621,
          1115880852,
          594482982,
          566954746,
          374706940,
          184937148,
          31959571,
          167076418,
          824420218,
          363467642,
          1127468248,
          60680939,
          247737946,
          1699402402,
          154797871,
          198883004,
          124407432,
          850608354,
          376333030,
          516784627,
          1608045237,
          506778838,
          1472799873,
          513643924,
          261286503,
          783706581,
          422691058,
          1062345656,
          1252563873,
          851070493,
          263894529,
          345903614,
          951637566,
          956865266,
          427486004,
          156658366,
          624515457,
          777765388,
          412795151,
          1138474110,
          355219175,
          290228626,
          1062956628,
          1180094974,
          1456081449,
          432702334,
          489945871,
          465959382,
          1223481149,
          2864791672,
          2288695111,
          720825549,
          2086124197,
          1690192927,
          991336132,
          593917618,
          200972675,
          71014967,
          560222750,
          1806617704,
          77337771,
          528544703,
          865640097,
          2159346687,
          211372494,
          651732901,
          608334048,
          863756573,
          797402345,
          1695712020,
          1759567999,
          223319934,
          54937991,
          226897599,
          258316038,
          596152090,
          177129919,
          716591492,
          1210599487,
          246376690,
          496311364,
          146789379,
          843309044,
          500340342,
          107255472,
          135079152,
          822239726,
          1202722675,
          343197054,
          240769997,
          426204830,
          421135627,
          554875730,
          467727006,
          327498031,
          185408548,
          245400167,
          579395142,
          675039469,
          252871192,
          231996128,
          1929770265,
          918915401,
          1180896317,
          498960285,
          685071800,
          258714692,
          143139338,
          209768491,
          64714573,
          50746620,
          154119539,
          181328253,
          370068639,
          2280566092,
          563902868,
          317622165,
          291709698,
          203680270,
          81350745,
          282883169,
          64787943,
          2484812918,
          461437791,
          1439191367,
          759208783,
          368646862,
          299634472,
          756907987,
          682475162,
          546191065,
          229473310,
          202677468,
          121913181,
          208166039,
          527033089,
          94616487,
          394030335,
          193443895,
          299648208,
          182978249,
          319757142,
          109091573,
          153240879,
          346127840,
          312622938,
          2197010679,
          1200808494,
          797196073,
          1970673297,
          665765558,
          263779030,
          339473453,
          2204080728,
          2591224264,
          135444283,
          1457139296,
          236872197,
          694525298,
          240661097,
          421365166,
          349746291,
          255120451,
          190981339,
          924193303,
          305771063,
          273005485,
          89566512,
          677389855,
          75476209,
          408843328,
          187772591,
          178512385,
          101780047,
          118381354,
          146363130,
          126443991,
          157990698,
          176290831,
          1023187129,
          106933107,
          139193812,
          212234990,
          1714490998,
          197643795,
          807015863,
          933815613,
          499710590,
          120847157,
          53909146,
          2236667932,
          2123309722,
          301242089,
          723894473,
          237351106,
          461558540,
          417230415,
          156898322,
          127309180,
          313113297,
          173702135,
          271666301,
          305650299,
          123216717,
          479655659,
          126191104,
          344055883,
          338422004,
          68895644,
          86176890,
          403231558,
          319546754,
          61739839,
          283359161,
          76831876,
          283332261,
          307752576,
          279737940,
          212351890,
          1304313953,
          150500965,
          246127838,
          582863434,
          58687425,
          212109195,
          382199619,
          41210087,
          231657891,
          53729194,
          244741137,
          42485571,
          37778188,
          254218729,
          53603447,
          160035717,
          164163229,
          37091576,
          284249832,
          33381454,
          184622518,
          300983101,
          121077868,
          106919680,
          136996305,
          65719930,
          229497852,
          185550869,
          54682594,
          240580042,
          1284942608,
          71423324,
          244891912,
          132171975,
          184706613,
          184826429,
          302006641,
          330881149,
          334733572,
          366214458,
          114546317,
          290833204,
          448500832,
          136676504,
          190625045,
          79095270,
          273194684,
          333146475,
          194902696,
          311482393,
          195918494,
          248511839,
          233671263,
          199587884,
          91781263,
          383835984,
          236060709,
          189236868,
          160845341,
          588955257,
          238350348,
          187703102,
          295307001,
          138334433,
          445590495,
          286739476,
          1122364376,
          157136970,
          137070925,
          183273246,
          184807630,
          164856284,
          704171068,
          354614964,
          279717388,
          195628667,
          221752937,
          263280370,
          213505179,
          130419412,
          155795783,
          1553497987,
          293466523,
          711366595,
          191448892,
          85924992,
          176103902,
          121189256,
          131746175,
          244790012,
          129314708,
          331511413,
          219196651,
          170732845,
          273914335,
          179061440,
          185236961,
          171788484,
          387080183,
          264717480,
          244928911,
          97610446,
          287278853,
          887906111,
          123473120,
          295152154,
          323455692,
          240918092,
          191873381,
          284216603,
          239411309,
          265548837,
          703301727,
          244585109,
          189476119,
          277132266,
          278920007,
          222410722,
          185392587,
          202452860,
          1608164312,
          624101957,
          148461629,
          47093942,
          380319238,
          209106362,
          53987404,
          115331792,
          225093344,
          84697729,
          159240673,
          170709584,
          154356956,
          723043854,
          247689123,
          176474912,
          235549288,
          140430339,
          85559365,
          146223492,
          187701588,
          154863153,
          191333656,
          253650850,
          223064273,
          170413877,
          218320587,
          141720999,
          187339835,
          198365537,
          186104310,
          177503916,
          71095708,
          112436403,
          203436468,
          93367537,
          106249219,
          181382590,
          91473363,
          121871870,
          73513683,
          133895612,
          96007391
         ],
         "yaxis": "y"
        },
        {
         "hovertemplate": "<b>OLS trendline</b><br>Streams = 3.30824e+07 * Track Age Years + 3.98786e+08<br>R<sup>2</sup>=0.159627<br><br>Track Age (Years)=%{x}<br>Streams=%{y} <b>(trend)</b><extra></extra>",
         "legendgroup": "",
         "marker": {
          "symbol": "circle"
         },
         "mode": "lines",
         "name": "",
         "showlegend": false,
         "type": "scatter",
         "x": {
          "bdata": "AAAAAAAAAAAAAAAAAAAAAAAAAAAAAAAAAAAAAAAAAAAAAAAAAAAAAAAAAAAAAAAAAAAAAAAAAAAAAAAAAAAAAAAAAAAAAAAAAAAAAAAAAAAAAAAAAAAAAAAAAAAAAAAAAAAAAAAAAAAAAAAAAAAAAAAAAAAAAAAAAAAAAAAAAAAAAAAAAAAAAAAAAAAAAAAAAAAAAAAAAAAAAAAAAAAAAAAAAAAAAAAAAAAAAAAAAAEBAQEBAQEBAQEBAQEBAQEBAQEBAQEBAQEBAQEBAQEBAQEBAQEBAQEBAQEBAQEBAQEBAQEBAQEBAQEBAQEBAQEBAQEBAQEBAQEBAQEBAQEBAQEBAQEBAQEBAQEBAQEBAQEBAQEBAQEBAQEBAQEBAQEBAQEBAQEBAQEBAQEBAQEBAQEBAQEBAQEBAQEBAQEBAQEBAQEBAQEBAQEBAQEBAQEBAQEBAQEBAQEBAQEBAQEBAQEBAQEBAQEBAQEBAQEBAQEBAQEBAQEBAQEBAQEBAQEBAQEBAQEBAQEBAQEBAQEBAQEBAQEBAQEBAQEBAQEBAQEBAQEBAQEBAQEBAQEBAQEBAQEBAQEBAQEBAQEBAQEBAQEBAQEBAQEBAQEBAQEBAQEBAQEBAQEBAQEBAQEBAQEBAQEBAQEBAQEBAQEBAQEBAQEBAQEBAQEBAQEBAQEBAQEBAQEBAQEBAQEBAQEBAQEBAQEBAQEBAQEBAQEBAQEBAQEBAQEBAQEBAQEBAQEBAQEBAQEBAQEBAQEBAQEBAQEBAQICAgICAgICAgICAgICAgICAgICAgICAgICAgICAgICAgICAgICAgICAgICAgICAgICAgICAgICAgICAgICAgICAgICAgICAgICAgICAgICAgICAgICAgICAgICAgICAgICAgICAgICAgICAgICAgICAgICAgICAwMDAwMDAwMDAwMDAwMDAwMDAwMDAwMDAwMDAwMDAwMDAwMDAwQEBAQEBAQEBAQEBAQEBAQEBAQEBAQEBAQEBAQEBAQEBAQEBAUFBQUFBQUFBQUGBgYGBgYGBgYGBgYGBgYGBgYGBgYGBgcHBwcHBwcHBwcHBwcHBwcHBwgICAgICAgICAgICQkJCQkJCQkJCQkJCQoKCgoKCgoKCgoKCgoLCwsLCwsLCwsLDAwMDAwMDAwMDA0NDQ0NDQ0PDxASExMTExQUFRUVFRUVFxcXFxgYGBgYGRobHBwdHyAgJCUlJiYnJycnKCkpLDAwMg==",
          "dtype": "i1"
         },
         "xaxis": "x",
         "y": {
          "bdata": "LrlEaf3Et0EuuURp/cS3QS65RGn9xLdBLrlEaf3Et0EuuURp/cS3QS65RGn9xLdBLrlEaf3Et0EuuURp/cS3QS65RGn9xLdBLrlEaf3Et0EuuURp/cS3QS65RGn9xLdBLrlEaf3Et0EuuURp/cS3QS65RGn9xLdBLrlEaf3Et0EuuURp/cS3QS65RGn9xLdBLrlEaf3Et0EuuURp/cS3QS65RGn9xLdBLrlEaf3Et0EuuURp/cS3QS65RGn9xLdBLrlEaf3Et0EuuURp/cS3QS65RGn9xLdBLrlEaf3Et0EuuURp/cS3QS65RGn9xLdBLrlEaf3Et0EuuURp/cS3QS65RGn9xLdBLrlEaf3Et0EuuURp/cS3QS65RGn9xLdBLrlEaf3Et0EuuURp/cS3QS65RGn9xLdBLrlEaf3Et0EuuURp/cS3QS65RGn9xLdBLrlEaf3Et0EuuURp/cS3QS65RGn9xLdBLrlEaf3Et0EuuURp/cS3QS65RGn9xLdBLrlEaf3Et0EuuURp/cS3QS65RGn9xLdBLrlEaf3Et0EuuURp/cS3QS65RGn9xLdBLrlEaf3Et0EuuURp/cS3QS65RGn9xLdBLrlEaf3Et0EuuURp/cS3QS65RGn9xLdBLrlEaf3Et0EuuURp/cS3QS65RGn9xLdBLrlEaf3Et0EuuURp/cS3QS65RGn9xLdBLrlEaf3Et0EuuURp/cS3QS65RGn9xLdBLrlEaf3Et0EuuURp/cS3QS65RGn9xLdBLrlEaf3Et0EuuURp/cS3QS65RGn9xLdBLrlEaf3Et0EuuURp/cS3QS65RGn9xLdBLrlEaf3Et0EuuURp/cS3QS65RGn9xLdBLrlEaf3Et0EuuURp/cS3QS65RGn9xLdBLrlEaf3Et0EuuURp/cS3QS65RGn9xLdBLrlEaf3Et0EuuURp/cS3QS65RGn9xLdBLrlEaf3Et0EuuURp/cS3QS65RGn9xLdBLrlEaf3Et0EuuURp/cS3QS65RGn9xLdBLrlEaf3Et0EuuURp/cS3QS65RGn9xLdBLrlEaf3Et0EuuURp/cS3QS65RGn9xLdBLrlEaf3Et0EuuURp/cS3QS65RGn9xLdBLrlEaf3Et0EuuURp/cS3QS65RGn9xLdBLrlEaf3Et0EuuURp/cS3QS65RGn9xLdBLrlEaf3Et0EuuURp/cS3QS65RGn9xLdBLrlEaf3Et0EuuURp/cS3QS65RGn9xLdBLrlEaf3Et0EuuURp/cS3QS65RGn9xLdBLrlEaf3Et0EuuURp/cS3QS65RGn9xLdBLrlEaf3Et0EuuURp/cS3QS65RGn9xLdBLrlEaf3Et0EuuURp/cS3QS65RGn9xLdBLrlEaf3Et0EuuURp/cS3QS65RGn9xLdBLrlEaf3Et0EuuURp/cS3QS65RGn9xLdBLrlEaf3Et0EuuURp/cS3QS65RGn9xLdBLrlEaf3Et0EuuURp/cS3QS65RGn9xLdBLrlEaf3Et0EuuURp/cS3QS65RGn9xLdBLrlEaf3Et0EuuURp/cS3QS65RGn9xLdBLrlEaf3Et0EuuURp/cS3QS65RGn9xLdBLrlEaf3Et0EuuURp/cS3QS65RGn9xLdBLrlEaf3Et0EuuURp/cS3QS65RGn9xLdBLrlEaf3Et0EuuURp/cS3QS65RGn9xLdBLrlEaf3Et0EuuURp/cS3QS65RGn9xLdBLrlEaf3Et0EuuURp/cS3QS65RGn9xLdBLrlEaf3Et0EuuURp/cS3QS65RGn9xLdBLrlEaf3Et0EuuURp/cS3QS65RGn9xLdBLrlEaf3Et0EuuURp/cS3QS65RGn9xLdBLrlEaf3Et0HLE0+Syb25QcsTT5LJvblByxNPksm9uUHLE0+Syb25QcsTT5LJvblByxNPksm9uUHLE0+Syb25QcsTT5LJvblByxNPksm9uUHLE0+Syb25QcsTT5LJvblByxNPksm9uUHLE0+Syb25QcsTT5LJvblByxNPksm9uUHLE0+Syb25QcsTT5LJvblByxNPksm9uUHLE0+Syb25QcsTT5LJvblByxNPksm9uUHLE0+Syb25QcsTT5LJvblByxNPksm9uUHLE0+Syb25QcsTT5LJvblByxNPksm9uUHLE0+Syb25QcsTT5LJvblByxNPksm9uUHLE0+Syb25QcsTT5LJvblByxNPksm9uUHLE0+Syb25QcsTT5LJvblByxNPksm9uUHLE0+Syb25QcsTT5LJvblByxNPksm9uUHLE0+Syb25QcsTT5LJvblByxNPksm9uUHLE0+Syb25QcsTT5LJvblByxNPksm9uUHLE0+Syb25QcsTT5LJvblByxNPksm9uUHLE0+Syb25QcsTT5LJvblByxNPksm9uUHLE0+Syb25QcsTT5LJvblByxNPksm9uUHLE0+Syb25QcsTT5LJvblByxNPksm9uUHLE0+Syb25QcsTT5LJvblByxNPksm9uUHLE0+Syb25QcsTT5LJvblByxNPksm9uUHLE0+Syb25QcsTT5LJvblByxNPksm9uUHLE0+Syb25QcsTT5LJvblByxNPksm9uUHLE0+Syb25QcsTT5LJvblByxNPksm9uUHLE0+Syb25QcsTT5LJvblByxNPksm9uUHLE0+Syb25QcsTT5LJvblByxNPksm9uUHLE0+Syb25QcsTT5LJvblByxNPksm9uUHLE0+Syb25QcsTT5LJvblByxNPksm9uUHLE0+Syb25QcsTT5LJvblByxNPksm9uUHLE0+Syb25QcsTT5LJvblByxNPksm9uUHLE0+Syb25QcsTT5LJvblByxNPksm9uUHLE0+Syb25QcsTT5LJvblByxNPksm9uUHLE0+Syb25QcsTT5LJvblByxNPksm9uUHLE0+Syb25QcsTT5LJvblByxNPksm9uUHLE0+Syb25QcsTT5LJvblByxNPksm9uUHLE0+Syb25QcsTT5LJvblByxNPksm9uUHLE0+Syb25QcsTT5LJvblByxNPksm9uUHLE0+Syb25QcsTT5LJvblByxNPksm9uUHLE0+Syb25QcsTT5LJvblByxNPksm9uUHLE0+Syb25QcsTT5LJvblByxNPksm9uUHLE0+Syb25QcsTT5LJvblByxNPksm9uUHLE0+Syb25QcsTT5LJvblByxNPksm9uUHLE0+Syb25QcsTT5LJvblByxNPksm9uUHLE0+Syb25QcsTT5LJvblByxNPksm9uUHLE0+Syb25QcsTT5LJvblByxNPksm9uUHLE0+Syb25QcsTT5LJvblByxNPksm9uUHLE0+Syb25QcsTT5LJvblByxNPksm9uUHLE0+Syb25QcsTT5LJvblByxNPksm9uUHLE0+Syb25QcsTT5LJvblByxNPksm9uUHLE0+Syb25QcsTT5LJvblByxNPksm9uUHLE0+Syb25QcsTT5LJvblByxNPksm9uUHLE0+Syb25QcsTT5LJvblByxNPksm9uUHLE0+Syb25QcsTT5LJvblByxNPksm9uUHLE0+Syb25QcsTT5LJvblByxNPksm9uUHLE0+Syb25QcsTT5LJvblByxNPksm9uUHLE0+Syb25QcsTT5LJvblByxNPksm9uUHLE0+Syb25QcsTT5LJvblByxNPksm9uUHLE0+Syb25QcsTT5LJvblByxNPksm9uUHLE0+Syb25QcsTT5LJvblByxNPksm9uUHLE0+Syb25QcsTT5LJvblByxNPksm9uUHLE0+Syb25QcsTT5LJvblByxNPksm9uUHLE0+Syb25QcsTT5LJvblByxNPksm9uUHLE0+Syb25QcsTT5LJvblByxNPksm9uUHLE0+Syb25QcsTT5LJvblByxNPksm9uUHLE0+Syb25QcsTT5LJvblByxNPksm9uUHLE0+Syb25QcsTT5LJvblByxNPksm9uUHLE0+Syb25QcsTT5LJvblByxNPksm9uUHLE0+Syb25QcsTT5LJvblByxNPksm9uUHLE0+Syb25QcsTT5LJvblByxNPksm9uUHLE0+Syb25QcsTT5LJvblByxNPksm9uUHLE0+Syb25QcsTT5LJvblByxNPksm9uUHLE0+Syb25QcsTT5LJvblByxNPksm9uUHLE0+Syb25QcsTT5LJvblByxNPksm9uUHLE0+Syb25QcsTT5LJvblByxNPksm9uUHLE0+Syb25QcsTT5LJvblByxNPksm9uUHLE0+Syb25QcsTT5LJvblByxNPksm9uUHLE0+Syb25QcsTT5LJvblByxNPksm9uUHLE0+Syb25QcsTT5LJvblByxNPksm9uUHLE0+Syb25QcsTT5LJvblByxNPksm9uUHLE0+Syb25QcsTT5LJvblByxNPksm9uUHLE0+Syb25QcsTT5LJvblByxNPksm9uUHLE0+Syb25QcsTT5LJvblByxNPksm9uUHLE0+Syb25QcsTT5LJvblByxNPksm9uUHLE0+Syb25QcsTT5LJvblByxNPksm9uUHLE0+Syb25QcsTT5LJvblByxNPksm9uUHLE0+Syb25QcsTT5LJvblByxNPksm9uUHLE0+Syb25QcsTT5LJvblByxNPksm9uUHLE0+Syb25QcsTT5LJvblByxNPksm9uUHLE0+Syb25QcsTT5LJvblByxNPksm9uUHLE0+Syb25QcsTT5LJvblByxNPksm9uUHLE0+Syb25QcsTT5LJvblByxNPksm9uUHLE0+Syb25QcsTT5LJvblByxNPksm9uUHLE0+Syb25QcsTT5LJvblByxNPksm9uUHLE0+Syb25QcsTT5LJvblByxNPksm9uUHLE0+Syb25QcsTT5LJvblByxNPksm9uUHLE0+Syb25QcsTT5LJvblByxNPksm9uUHLE0+Syb25QcsTT5LJvblByxNPksm9uUHLE0+Syb25QcsTT5LJvblByxNPksm9uUHLE0+Syb25QcsTT5LJvblByxNPksm9uUHLE0+Syb25QcsTT5LJvblByxNPksm9uUHLE0+Syb25QcsTT5LJvblByxNPksm9uUHLE0+Syb25QcsTT5LJvblByxNPksm9uUHLE0+Syb25QcsTT5LJvblByxNPksm9uUHLE0+Syb25QcsTT5LJvblByxNPksm9uUHLE0+Syb25QcsTT5LJvblByxNPksm9uUHLE0+Syb25QcsTT5LJvblByxNPksm9uUHLE0+Syb25QcsTT5LJvblByxNPksm9uUHLE0+Syb25QcsTT5LJvblByxNPksm9uUHLE0+Syb25QcsTT5LJvblByxNPksm9uUHLE0+Syb25QcsTT5LJvblByxNPksm9uUHLE0+Syb25QcsTT5LJvblByxNPksm9uUHLE0+Syb25QcsTT5LJvblByxNPksm9uUHLE0+Syb25QcsTT5LJvblByxNPksm9uUHLE0+Syb25QcsTT5LJvblByxNPksm9uUHLE0+Syb25QcsTT5LJvblByxNPksm9uUHLE0+Syb25QcsTT5LJvblByxNPksm9uUHLE0+Syb25QcsTT5LJvblByxNPksm9uUHLE0+Syb25QcsTT5LJvblByxNPksm9uUHLE0+Syb25QcsTT5LJvblByxNPksm9uUHLE0+Syb25QcsTT5LJvblByxNPksm9uUHLE0+Syb25QcsTT5LJvblByxNPksm9uUHLE0+Syb25QcsTT5LJvblByxNPksm9uUHLE0+Syb25QcsTT5LJvblByxNPksm9uUHLE0+Syb25QcsTT5LJvblByxNPksm9uUHLE0+Syb25QcsTT5LJvblByxNPksm9uUHLE0+Syb25QcsTT5LJvblByxNPksm9uUHLE0+Syb25QcsTT5LJvblByxNPksm9uUHLE0+Syb25QcsTT5LJvblByxNPksm9uUHLE0+Syb25QcsTT5LJvblByxNPksm9uUHLE0+Syb25QcsTT5LJvblByxNPksm9uUHLE0+Syb25QcsTT5LJvblByxNPksm9uUHLE0+Syb25QcsTT5LJvblByxNPksm9uUHLE0+Syb25QcsTT5LJvblByxNPksm9uUHLE0+Syb25QcsTT5LJvblByxNPksm9uUFoblm7lba7QWhuWbuVtrtBaG5Zu5W2u0Foblm7lba7QWhuWbuVtrtBaG5Zu5W2u0Foblm7lba7QWhuWbuVtrtBaG5Zu5W2u0Foblm7lba7QWhuWbuVtrtBaG5Zu5W2u0Foblm7lba7QWhuWbuVtrtBaG5Zu5W2u0Foblm7lba7QWhuWbuVtrtBaG5Zu5W2u0Foblm7lba7QWhuWbuVtrtBaG5Zu5W2u0Foblm7lba7QWhuWbuVtrtBaG5Zu5W2u0Foblm7lba7QWhuWbuVtrtBaG5Zu5W2u0Foblm7lba7QWhuWbuVtrtBaG5Zu5W2u0Foblm7lba7QWhuWbuVtrtBaG5Zu5W2u0Foblm7lba7QWhuWbuVtrtBaG5Zu5W2u0Foblm7lba7QWhuWbuVtrtBaG5Zu5W2u0Foblm7lba7QWhuWbuVtrtBaG5Zu5W2u0Foblm7lba7QWhuWbuVtrtBaG5Zu5W2u0Foblm7lba7QWhuWbuVtrtBaG5Zu5W2u0Foblm7lba7QWhuWbuVtrtBaG5Zu5W2u0Foblm7lba7QWhuWbuVtrtBaG5Zu5W2u0Foblm7lba7QWhuWbuVtrtBaG5Zu5W2u0Foblm7lba7QWhuWbuVtrtBaG5Zu5W2u0Foblm7lba7QWhuWbuVtrtBaG5Zu5W2u0Foblm7lba7QWhuWbuVtrtBaG5Zu5W2u0Foblm7lba7QWhuWbuVtrtBaG5Zu5W2u0Foblm7lba7QWhuWbuVtrtBaG5Zu5W2u0Foblm7lba7QWhuWbuVtrtBaG5Zu5W2u0Foblm7lba7QWhuWbuVtrtBaG5Zu5W2u0Foblm7lba7QWhuWbuVtrtBaG5Zu5W2u0Foblm7lba7QWhuWbuVtrtBaG5Zu5W2u0Foblm7lba7QWhuWbuVtrtBaG5Zu5W2u0Foblm7lba7QWhuWbuVtrtBaG5Zu5W2u0Foblm7lba7QWhuWbuVtrtBaG5Zu5W2u0Foblm7lba7QWhuWbuVtrtBaG5Zu5W2u0Foblm7lba7QWhuWbuVtrtBaG5Zu5W2u0Foblm7lba7QWhuWbuVtrtBaG5Zu5W2u0Foblm7lba7QWhuWbuVtrtBaG5Zu5W2u0Foblm7lba7QWhuWbuVtrtBaG5Zu5W2u0Foblm7lba7QWhuWbuVtrtBaG5Zu5W2u0Foblm7lba7QWhuWbuVtrtBaG5Zu5W2u0Foblm7lba7QWhuWbuVtrtBaG5Zu5W2u0Foblm7lba7QWhuWbuVtrtBBslj5GGvvUEGyWPkYa+9QQbJY+Rhr71BBslj5GGvvUEGyWPkYa+9QQbJY+Rhr71BBslj5GGvvUEGyWPkYa+9QQbJY+Rhr71BBslj5GGvvUEGyWPkYa+9QQbJY+Rhr71BBslj5GGvvUEGyWPkYa+9QQbJY+Rhr71BBslj5GGvvUEGyWPkYa+9QQbJY+Rhr71BBslj5GGvvUEGyWPkYa+9QQbJY+Rhr71BBslj5GGvvUEGyWPkYa+9QQbJY+Rhr71BBslj5GGvvUEGyWPkYa+9QQbJY+Rhr71BBslj5GGvvUEGyWPkYa+9QQbJY+Rhr71BBslj5GGvvUEGyWPkYa+9QQbJY+Rhr71BBslj5GGvvUEGyWPkYa+9QQbJY+Rhr71BBslj5GGvvUGjI24NLqi/QaMjbg0uqL9BoyNuDS6ov0GjI24NLqi/QaMjbg0uqL9BoyNuDS6ov0GjI24NLqi/QaMjbg0uqL9BoyNuDS6ov0GjI24NLqi/QaMjbg0uqL9BoyNuDS6ov0GjI24NLqi/QaMjbg0uqL9BoyNuDS6ov0GjI24NLqi/QaMjbg0uqL9BoyNuDS6ov0GjI24NLqi/QaMjbg0uqL9BoyNuDS6ov0GjI24NLqi/QaMjbg0uqL9BoyNuDS6ov0GjI24NLqi/QaMjbg0uqL9BoyNuDS6ov0GjI24NLqi/QaMjbg0uqL9BoyNuDS6ov0GjI24NLqi/QaMjbg0uqL9BoyNuDS6ov0GjI24NLqi/QaMjbg0uqL9BoyNuDS6ov0EgPzwbfdDAQSA/PBt90MBBID88G33QwEEgPzwbfdDAQSA/PBt90MBBID88G33QwEEgPzwbfdDAQSA/PBt90MBBID88G33QwEEgPzwbfdDAQW9swS/jzMFBb2zBL+PMwUFvbMEv48zBQW9swS/jzMFBb2zBL+PMwUFvbMEv48zBQW9swS/jzMFBb2zBL+PMwUFvbMEv48zBQW9swS/jzMFBb2zBL+PMwUFvbMEv48zBQW9swS/jzMFBb2zBL+PMwUFvbMEv48zBQW9swS/jzMFBb2zBL+PMwUFvbMEv48zBQW9swS/jzMFBb2zBL+PMwUFvbMEv48zBQW9swS/jzMFBb2zBL+PMwUG+mUZEScnCQb6ZRkRJycJBvplGREnJwkG+mUZEScnCQb6ZRkRJycJBvplGREnJwkG+mUZEScnCQb6ZRkRJycJBvplGREnJwkG+mUZEScnCQb6ZRkRJycJBvplGREnJwkG+mUZEScnCQb6ZRkRJycJBvplGREnJwkG+mUZEScnCQb6ZRkRJycJBvplGREnJwkEMx8tYr8XDQQzHy1ivxcNBDMfLWK/Fw0EMx8tYr8XDQQzHy1ivxcNBDMfLWK/Fw0EMx8tYr8XDQQzHy1ivxcNBDMfLWK/Fw0EMx8tYr8XDQQzHy1ivxcNBWvRQbRXCxEFa9FBtFcLEQVr0UG0VwsRBWvRQbRXCxEFa9FBtFcLEQVr0UG0VwsRBWvRQbRXCxEFa9FBtFcLEQVr0UG0VwsRBWvRQbRXCxEFa9FBtFcLEQVr0UG0VwsRBWvRQbRXCxEGpIdaBe77FQakh1oF7vsVBqSHWgXu+xUGpIdaBe77FQakh1oF7vsVBqSHWgXu+xUGpIdaBe77FQakh1oF7vsVBqSHWgXu+xUGpIdaBe77FQakh1oF7vsVBqSHWgXu+xUGpIdaBe77FQfhOW5bhusZB+E5bluG6xkH4TluW4brGQfhOW5bhusZB+E5bluG6xkH4TluW4brGQfhOW5bhusZB+E5bluG6xkH4TluW4brGQfhOW5bhusZBRnzgqke3x0FGfOCqR7fHQUZ84KpHt8dBRnzgqke3x0FGfOCqR7fHQUZ84KpHt8dBRnzgqke3x0FGfOCqR7fHQUZ84KpHt8dBRnzgqke3x0GVqWW/rbPIQZWpZb+ts8hBlallv62zyEGVqWW/rbPIQZWpZb+ts8hBlallv62zyEGVqWW/rbPIQTIEcOh5rMpBMgRw6HmsykGBMfX836jLQR6M/yWsoc1BbbmEOhKezkFtuYQ6Ep7OQW25hDoSns5BbbmEOhKezkG75glPeJrPQbvmCU94ms9BBYrHMW9L0EEFiscxb0vQQQWKxzFvS9BBBYrHMW9L0EEFiscxb0vQQQWKxzFvS9BBVLdMRtVH0UFUt0xG1UfRQVS3TEbVR9FBVLdMRtVH0UH7TY9QCMbRQftNj1AIxtFB+02PUAjG0UH7TY9QCMbRQftNj1AIxtFBouTRWjtE0kFKexRlbsLSQfERV2+hQNNBmKiZedS+00GYqJl51L7TQUA/3IMHPdRBjmxhmG051UE2A6SioLfVQTYDpKKgt9VB0l2uy2yw10F69PDVny7YQXr08NWfLthBIosz4NKs2EEiizPg0qzYQcghduoFK9lByCF26gUr2UHIIXbqBSvZQcghduoFK9lBcLi49Dip2UEYT/v+ayfaQRhP+/5rJ9pBDhPDHQWi20Gqbc1G0ZrdQaptzUbRmt1B+ppSWzeX3kE=",
          "dtype": "f8"
         },
         "yaxis": "y"
        }
       ],
       "layout": {
        "coloraxis": {
         "colorbar": {
          "title": {
           "text": "Track Age (Years)"
          }
         },
         "colorscale": [
          [
           0,
           "#0d0887"
          ],
          [
           0.1111111111111111,
           "#46039f"
          ],
          [
           0.2222222222222222,
           "#7201a8"
          ],
          [
           0.3333333333333333,
           "#9c179e"
          ],
          [
           0.4444444444444444,
           "#bd3786"
          ],
          [
           0.5555555555555556,
           "#d8576b"
          ],
          [
           0.6666666666666666,
           "#ed7953"
          ],
          [
           0.7777777777777778,
           "#fb9f3a"
          ],
          [
           0.8888888888888888,
           "#fdca26"
          ],
          [
           1,
           "#f0f921"
          ]
         ]
        },
        "height": 600,
        "legend": {
         "itemsizing": "constant",
         "tracegroupgap": 0
        },
        "template": {
         "data": {
          "bar": [
           {
            "error_x": {
             "color": "#2a3f5f"
            },
            "error_y": {
             "color": "#2a3f5f"
            },
            "marker": {
             "line": {
              "color": "#E5ECF6",
              "width": 0.5
             },
             "pattern": {
              "fillmode": "overlay",
              "size": 10,
              "solidity": 0.2
             }
            },
            "type": "bar"
           }
          ],
          "barpolar": [
           {
            "marker": {
             "line": {
              "color": "#E5ECF6",
              "width": 0.5
             },
             "pattern": {
              "fillmode": "overlay",
              "size": 10,
              "solidity": 0.2
             }
            },
            "type": "barpolar"
           }
          ],
          "carpet": [
           {
            "aaxis": {
             "endlinecolor": "#2a3f5f",
             "gridcolor": "white",
             "linecolor": "white",
             "minorgridcolor": "white",
             "startlinecolor": "#2a3f5f"
            },
            "baxis": {
             "endlinecolor": "#2a3f5f",
             "gridcolor": "white",
             "linecolor": "white",
             "minorgridcolor": "white",
             "startlinecolor": "#2a3f5f"
            },
            "type": "carpet"
           }
          ],
          "choropleth": [
           {
            "colorbar": {
             "outlinewidth": 0,
             "ticks": ""
            },
            "type": "choropleth"
           }
          ],
          "contour": [
           {
            "colorbar": {
             "outlinewidth": 0,
             "ticks": ""
            },
            "colorscale": [
             [
              0,
              "#0d0887"
             ],
             [
              0.1111111111111111,
              "#46039f"
             ],
             [
              0.2222222222222222,
              "#7201a8"
             ],
             [
              0.3333333333333333,
              "#9c179e"
             ],
             [
              0.4444444444444444,
              "#bd3786"
             ],
             [
              0.5555555555555556,
              "#d8576b"
             ],
             [
              0.6666666666666666,
              "#ed7953"
             ],
             [
              0.7777777777777778,
              "#fb9f3a"
             ],
             [
              0.8888888888888888,
              "#fdca26"
             ],
             [
              1,
              "#f0f921"
             ]
            ],
            "type": "contour"
           }
          ],
          "contourcarpet": [
           {
            "colorbar": {
             "outlinewidth": 0,
             "ticks": ""
            },
            "type": "contourcarpet"
           }
          ],
          "heatmap": [
           {
            "colorbar": {
             "outlinewidth": 0,
             "ticks": ""
            },
            "colorscale": [
             [
              0,
              "#0d0887"
             ],
             [
              0.1111111111111111,
              "#46039f"
             ],
             [
              0.2222222222222222,
              "#7201a8"
             ],
             [
              0.3333333333333333,
              "#9c179e"
             ],
             [
              0.4444444444444444,
              "#bd3786"
             ],
             [
              0.5555555555555556,
              "#d8576b"
             ],
             [
              0.6666666666666666,
              "#ed7953"
             ],
             [
              0.7777777777777778,
              "#fb9f3a"
             ],
             [
              0.8888888888888888,
              "#fdca26"
             ],
             [
              1,
              "#f0f921"
             ]
            ],
            "type": "heatmap"
           }
          ],
          "histogram": [
           {
            "marker": {
             "pattern": {
              "fillmode": "overlay",
              "size": 10,
              "solidity": 0.2
             }
            },
            "type": "histogram"
           }
          ],
          "histogram2d": [
           {
            "colorbar": {
             "outlinewidth": 0,
             "ticks": ""
            },
            "colorscale": [
             [
              0,
              "#0d0887"
             ],
             [
              0.1111111111111111,
              "#46039f"
             ],
             [
              0.2222222222222222,
              "#7201a8"
             ],
             [
              0.3333333333333333,
              "#9c179e"
             ],
             [
              0.4444444444444444,
              "#bd3786"
             ],
             [
              0.5555555555555556,
              "#d8576b"
             ],
             [
              0.6666666666666666,
              "#ed7953"
             ],
             [
              0.7777777777777778,
              "#fb9f3a"
             ],
             [
              0.8888888888888888,
              "#fdca26"
             ],
             [
              1,
              "#f0f921"
             ]
            ],
            "type": "histogram2d"
           }
          ],
          "histogram2dcontour": [
           {
            "colorbar": {
             "outlinewidth": 0,
             "ticks": ""
            },
            "colorscale": [
             [
              0,
              "#0d0887"
             ],
             [
              0.1111111111111111,
              "#46039f"
             ],
             [
              0.2222222222222222,
              "#7201a8"
             ],
             [
              0.3333333333333333,
              "#9c179e"
             ],
             [
              0.4444444444444444,
              "#bd3786"
             ],
             [
              0.5555555555555556,
              "#d8576b"
             ],
             [
              0.6666666666666666,
              "#ed7953"
             ],
             [
              0.7777777777777778,
              "#fb9f3a"
             ],
             [
              0.8888888888888888,
              "#fdca26"
             ],
             [
              1,
              "#f0f921"
             ]
            ],
            "type": "histogram2dcontour"
           }
          ],
          "mesh3d": [
           {
            "colorbar": {
             "outlinewidth": 0,
             "ticks": ""
            },
            "type": "mesh3d"
           }
          ],
          "parcoords": [
           {
            "line": {
             "colorbar": {
              "outlinewidth": 0,
              "ticks": ""
             }
            },
            "type": "parcoords"
           }
          ],
          "pie": [
           {
            "automargin": true,
            "type": "pie"
           }
          ],
          "scatter": [
           {
            "fillpattern": {
             "fillmode": "overlay",
             "size": 10,
             "solidity": 0.2
            },
            "type": "scatter"
           }
          ],
          "scatter3d": [
           {
            "line": {
             "colorbar": {
              "outlinewidth": 0,
              "ticks": ""
             }
            },
            "marker": {
             "colorbar": {
              "outlinewidth": 0,
              "ticks": ""
             }
            },
            "type": "scatter3d"
           }
          ],
          "scattercarpet": [
           {
            "marker": {
             "colorbar": {
              "outlinewidth": 0,
              "ticks": ""
             }
            },
            "type": "scattercarpet"
           }
          ],
          "scattergeo": [
           {
            "marker": {
             "colorbar": {
              "outlinewidth": 0,
              "ticks": ""
             }
            },
            "type": "scattergeo"
           }
          ],
          "scattergl": [
           {
            "marker": {
             "colorbar": {
              "outlinewidth": 0,
              "ticks": ""
             }
            },
            "type": "scattergl"
           }
          ],
          "scattermap": [
           {
            "marker": {
             "colorbar": {
              "outlinewidth": 0,
              "ticks": ""
             }
            },
            "type": "scattermap"
           }
          ],
          "scattermapbox": [
           {
            "marker": {
             "colorbar": {
              "outlinewidth": 0,
              "ticks": ""
             }
            },
            "type": "scattermapbox"
           }
          ],
          "scatterpolar": [
           {
            "marker": {
             "colorbar": {
              "outlinewidth": 0,
              "ticks": ""
             }
            },
            "type": "scatterpolar"
           }
          ],
          "scatterpolargl": [
           {
            "marker": {
             "colorbar": {
              "outlinewidth": 0,
              "ticks": ""
             }
            },
            "type": "scatterpolargl"
           }
          ],
          "scatterternary": [
           {
            "marker": {
             "colorbar": {
              "outlinewidth": 0,
              "ticks": ""
             }
            },
            "type": "scatterternary"
           }
          ],
          "surface": [
           {
            "colorbar": {
             "outlinewidth": 0,
             "ticks": ""
            },
            "colorscale": [
             [
              0,
              "#0d0887"
             ],
             [
              0.1111111111111111,
              "#46039f"
             ],
             [
              0.2222222222222222,
              "#7201a8"
             ],
             [
              0.3333333333333333,
              "#9c179e"
             ],
             [
              0.4444444444444444,
              "#bd3786"
             ],
             [
              0.5555555555555556,
              "#d8576b"
             ],
             [
              0.6666666666666666,
              "#ed7953"
             ],
             [
              0.7777777777777778,
              "#fb9f3a"
             ],
             [
              0.8888888888888888,
              "#fdca26"
             ],
             [
              1,
              "#f0f921"
             ]
            ],
            "type": "surface"
           }
          ],
          "table": [
           {
            "cells": {
             "fill": {
              "color": "#EBF0F8"
             },
             "line": {
              "color": "white"
             }
            },
            "header": {
             "fill": {
              "color": "#C8D4E3"
             },
             "line": {
              "color": "white"
             }
            },
            "type": "table"
           }
          ]
         },
         "layout": {
          "annotationdefaults": {
           "arrowcolor": "#2a3f5f",
           "arrowhead": 0,
           "arrowwidth": 1
          },
          "autotypenumbers": "strict",
          "coloraxis": {
           "colorbar": {
            "outlinewidth": 0,
            "ticks": ""
           }
          },
          "colorscale": {
           "diverging": [
            [
             0,
             "#8e0152"
            ],
            [
             0.1,
             "#c51b7d"
            ],
            [
             0.2,
             "#de77ae"
            ],
            [
             0.3,
             "#f1b6da"
            ],
            [
             0.4,
             "#fde0ef"
            ],
            [
             0.5,
             "#f7f7f7"
            ],
            [
             0.6,
             "#e6f5d0"
            ],
            [
             0.7,
             "#b8e186"
            ],
            [
             0.8,
             "#7fbc41"
            ],
            [
             0.9,
             "#4d9221"
            ],
            [
             1,
             "#276419"
            ]
           ],
           "sequential": [
            [
             0,
             "#0d0887"
            ],
            [
             0.1111111111111111,
             "#46039f"
            ],
            [
             0.2222222222222222,
             "#7201a8"
            ],
            [
             0.3333333333333333,
             "#9c179e"
            ],
            [
             0.4444444444444444,
             "#bd3786"
            ],
            [
             0.5555555555555556,
             "#d8576b"
            ],
            [
             0.6666666666666666,
             "#ed7953"
            ],
            [
             0.7777777777777778,
             "#fb9f3a"
            ],
            [
             0.8888888888888888,
             "#fdca26"
            ],
            [
             1,
             "#f0f921"
            ]
           ],
           "sequentialminus": [
            [
             0,
             "#0d0887"
            ],
            [
             0.1111111111111111,
             "#46039f"
            ],
            [
             0.2222222222222222,
             "#7201a8"
            ],
            [
             0.3333333333333333,
             "#9c179e"
            ],
            [
             0.4444444444444444,
             "#bd3786"
            ],
            [
             0.5555555555555556,
             "#d8576b"
            ],
            [
             0.6666666666666666,
             "#ed7953"
            ],
            [
             0.7777777777777778,
             "#fb9f3a"
            ],
            [
             0.8888888888888888,
             "#fdca26"
            ],
            [
             1,
             "#f0f921"
            ]
           ]
          },
          "colorway": [
           "#636efa",
           "#EF553B",
           "#00cc96",
           "#ab63fa",
           "#FFA15A",
           "#19d3f3",
           "#FF6692",
           "#B6E880",
           "#FF97FF",
           "#FECB52"
          ],
          "font": {
           "color": "#2a3f5f"
          },
          "geo": {
           "bgcolor": "white",
           "lakecolor": "white",
           "landcolor": "#E5ECF6",
           "showlakes": true,
           "showland": true,
           "subunitcolor": "white"
          },
          "hoverlabel": {
           "align": "left"
          },
          "hovermode": "closest",
          "mapbox": {
           "style": "light"
          },
          "paper_bgcolor": "white",
          "plot_bgcolor": "#E5ECF6",
          "polar": {
           "angularaxis": {
            "gridcolor": "white",
            "linecolor": "white",
            "ticks": ""
           },
           "bgcolor": "#E5ECF6",
           "radialaxis": {
            "gridcolor": "white",
            "linecolor": "white",
            "ticks": ""
           }
          },
          "scene": {
           "xaxis": {
            "backgroundcolor": "#E5ECF6",
            "gridcolor": "white",
            "gridwidth": 2,
            "linecolor": "white",
            "showbackground": true,
            "ticks": "",
            "zerolinecolor": "white"
           },
           "yaxis": {
            "backgroundcolor": "#E5ECF6",
            "gridcolor": "white",
            "gridwidth": 2,
            "linecolor": "white",
            "showbackground": true,
            "ticks": "",
            "zerolinecolor": "white"
           },
           "zaxis": {
            "backgroundcolor": "#E5ECF6",
            "gridcolor": "white",
            "gridwidth": 2,
            "linecolor": "white",
            "showbackground": true,
            "ticks": "",
            "zerolinecolor": "white"
           }
          },
          "shapedefaults": {
           "line": {
            "color": "#2a3f5f"
           }
          },
          "ternary": {
           "aaxis": {
            "gridcolor": "white",
            "linecolor": "white",
            "ticks": ""
           },
           "baxis": {
            "gridcolor": "white",
            "linecolor": "white",
            "ticks": ""
           },
           "bgcolor": "#E5ECF6",
           "caxis": {
            "gridcolor": "white",
            "linecolor": "white",
            "ticks": ""
           }
          },
          "title": {
           "x": 0.05
          },
          "xaxis": {
           "automargin": true,
           "gridcolor": "white",
           "linecolor": "white",
           "ticks": "",
           "title": {
            "standoff": 15
           },
           "zerolinecolor": "white",
           "zerolinewidth": 2
          },
          "yaxis": {
           "automargin": true,
           "gridcolor": "white",
           "linecolor": "white",
           "ticks": "",
           "title": {
            "standoff": 15
           },
           "zerolinecolor": "white",
           "zerolinewidth": 2
          }
         }
        },
        "title": {
         "text": "Track Age vs Streams Last 50 Years"
        },
        "xaxis": {
         "anchor": "y",
         "domain": [
          0,
          1
         ],
         "title": {
          "text": "Track Age (Years)"
         }
        },
        "yaxis": {
         "anchor": "x",
         "domain": [
          0,
          1
         ],
         "title": {
          "text": "Streams"
         }
        }
       }
      }
     },
     "metadata": {},
     "output_type": "display_data"
    }
   ],
   "source": [
    "df_years = df_spotify[[\"Artist(S) Name\", \"Streams\", \"Release Date\", \"Track Age Years\"]]\n",
    "df_last50 = df_years[df_years[\"Track Age Years\"] <= 50]\n",
    "\n",
    "px.scatter(\n",
    "    df_last50,\n",
    "    x=\"Track Age Years\",\n",
    "    y=\"Streams\",\n",
    "    title=\"Track Age vs Streams Last 50 Years\",\n",
    "    labels={\n",
    "        \"Track Age Years\": \"Track Age (Years)\", \n",
    "        \"Streams\": \"Streams\"\n",
    "    },\n",
    "    opacity=0.6,\n",
    "    color=\"Track Age Years\",\n",
    "    size=\"Streams\",\n",
    "    hover_name=df_last50.index,\n",
    "    hover_data={\n",
    "        \"Track Age Years\": True,\n",
    "        \"Streams\": True,\n",
    "        \"Artist(S) Name\": True,\n",
    "        \"Release Date\": True\n",
    "    },\n",
    "    trendline=\"ols\",\n",
    "    height=600\n",
    ")\n"
   ]
  },
  {
   "cell_type": "markdown",
   "id": "9212d127",
   "metadata": {},
   "source": [
    "![Track Age vs Streams](screenshots/track_age_vs_streams.png)"
   ]
  },
  {
   "cell_type": "markdown",
   "id": "04ffaa31",
   "metadata": {},
   "source": [
    "### Insights from Solo vs Collaboration Tracks\n",
    "\n",
    "The pie chart comparing solo and collaboration tracks offers several notable insights into the composition of popular Spotify releases:\n",
    "\n",
    "- **Prevalence of Solo Tracks**: Solo tracks constitute the majority, accounting for 61.6% of the dataset. This suggests that individual artists continue to dominate streaming charts, emphasizing the significance of personal branding, fan loyalty, and consistent content output in achieving high streaming numbers.\n",
    "\n",
    "- **Substantial Role of Collaborations**: Collaboration tracks represent 38.4% of the total, indicating that nearly two-fifths of popular tracks involve multiple artists. Collaborative efforts can leverage the combined fan bases of the artists involved, potentially amplifying reach, visibility, and streaming performance.\n",
    "\n",
    "- **Strategic Implications**: The presence of a significant proportion of collaborations highlights the strategic advantage of joint releases. Artists seeking to penetrate new audiences or boost engagement may benefit from partnering with other popular musicians, as collaborations often result in cross-promotional synergy.\n",
    "\n",
    "- **Content Diversity and Market Trends**: The mixture of solo and collaborative tracks demonstrates diversity in content creation strategies within the music industry. While solo projects maintain consistent popularity, collaborations increasingly serve as a tool to capture attention in competitive streaming environments.\n",
    "\n",
    "- **Consumer Engagement Insights**: Given the substantial streaming numbers associated with collaborative releases, it can be inferred that listeners are receptive to multi-artist projects. This may reflect a preference for diverse vocal styles, genre blending, or the novelty of high-profile partnerships.\n",
    "\n",
    "In summary, while solo tracks remain the backbone of Spotify’s popular catalog, collaborations play a pivotal role in expanding reach and creating high-impact releases. This distribution underscores the dual approach in contemporary music production: maintaining strong individual presence while strategically leveraging collaborative ventures for enhanced streaming performance.\n"
   ]
  },
  {
   "cell_type": "code",
   "execution_count": 22,
   "id": "04f226c4",
   "metadata": {},
   "outputs": [
    {
     "data": {
      "application/vnd.plotly.v1+json": {
       "config": {
        "plotlyServerURL": "https://plot.ly"
       },
       "data": [
        {
         "customdata": [
          [
           "Solo"
          ],
          [
           "Collaboration"
          ]
         ],
         "domain": {
          "x": [
           0,
           1
          ],
          "y": [
           0,
           1
          ]
         },
         "hovertemplate": "Track Type=%{customdata[0]}<br>Number of Tracks=%{value}<extra></extra>",
         "labels": [
          "Solo",
          "Collaboration"
         ],
         "legendgroup": "",
         "marker": {
          "colors": [
           "#0A6983",
           "#F0803C"
          ]
         },
         "name": "",
         "showlegend": true,
         "type": "pie",
         "values": {
          "bdata": "SgJuAQ==",
          "dtype": "i2"
         }
        }
       ],
       "layout": {
        "legend": {
         "tracegroupgap": 0
        },
        "template": {
         "data": {
          "bar": [
           {
            "error_x": {
             "color": "#2a3f5f"
            },
            "error_y": {
             "color": "#2a3f5f"
            },
            "marker": {
             "line": {
              "color": "#E5ECF6",
              "width": 0.5
             },
             "pattern": {
              "fillmode": "overlay",
              "size": 10,
              "solidity": 0.2
             }
            },
            "type": "bar"
           }
          ],
          "barpolar": [
           {
            "marker": {
             "line": {
              "color": "#E5ECF6",
              "width": 0.5
             },
             "pattern": {
              "fillmode": "overlay",
              "size": 10,
              "solidity": 0.2
             }
            },
            "type": "barpolar"
           }
          ],
          "carpet": [
           {
            "aaxis": {
             "endlinecolor": "#2a3f5f",
             "gridcolor": "white",
             "linecolor": "white",
             "minorgridcolor": "white",
             "startlinecolor": "#2a3f5f"
            },
            "baxis": {
             "endlinecolor": "#2a3f5f",
             "gridcolor": "white",
             "linecolor": "white",
             "minorgridcolor": "white",
             "startlinecolor": "#2a3f5f"
            },
            "type": "carpet"
           }
          ],
          "choropleth": [
           {
            "colorbar": {
             "outlinewidth": 0,
             "ticks": ""
            },
            "type": "choropleth"
           }
          ],
          "contour": [
           {
            "colorbar": {
             "outlinewidth": 0,
             "ticks": ""
            },
            "colorscale": [
             [
              0,
              "#0d0887"
             ],
             [
              0.1111111111111111,
              "#46039f"
             ],
             [
              0.2222222222222222,
              "#7201a8"
             ],
             [
              0.3333333333333333,
              "#9c179e"
             ],
             [
              0.4444444444444444,
              "#bd3786"
             ],
             [
              0.5555555555555556,
              "#d8576b"
             ],
             [
              0.6666666666666666,
              "#ed7953"
             ],
             [
              0.7777777777777778,
              "#fb9f3a"
             ],
             [
              0.8888888888888888,
              "#fdca26"
             ],
             [
              1,
              "#f0f921"
             ]
            ],
            "type": "contour"
           }
          ],
          "contourcarpet": [
           {
            "colorbar": {
             "outlinewidth": 0,
             "ticks": ""
            },
            "type": "contourcarpet"
           }
          ],
          "heatmap": [
           {
            "colorbar": {
             "outlinewidth": 0,
             "ticks": ""
            },
            "colorscale": [
             [
              0,
              "#0d0887"
             ],
             [
              0.1111111111111111,
              "#46039f"
             ],
             [
              0.2222222222222222,
              "#7201a8"
             ],
             [
              0.3333333333333333,
              "#9c179e"
             ],
             [
              0.4444444444444444,
              "#bd3786"
             ],
             [
              0.5555555555555556,
              "#d8576b"
             ],
             [
              0.6666666666666666,
              "#ed7953"
             ],
             [
              0.7777777777777778,
              "#fb9f3a"
             ],
             [
              0.8888888888888888,
              "#fdca26"
             ],
             [
              1,
              "#f0f921"
             ]
            ],
            "type": "heatmap"
           }
          ],
          "histogram": [
           {
            "marker": {
             "pattern": {
              "fillmode": "overlay",
              "size": 10,
              "solidity": 0.2
             }
            },
            "type": "histogram"
           }
          ],
          "histogram2d": [
           {
            "colorbar": {
             "outlinewidth": 0,
             "ticks": ""
            },
            "colorscale": [
             [
              0,
              "#0d0887"
             ],
             [
              0.1111111111111111,
              "#46039f"
             ],
             [
              0.2222222222222222,
              "#7201a8"
             ],
             [
              0.3333333333333333,
              "#9c179e"
             ],
             [
              0.4444444444444444,
              "#bd3786"
             ],
             [
              0.5555555555555556,
              "#d8576b"
             ],
             [
              0.6666666666666666,
              "#ed7953"
             ],
             [
              0.7777777777777778,
              "#fb9f3a"
             ],
             [
              0.8888888888888888,
              "#fdca26"
             ],
             [
              1,
              "#f0f921"
             ]
            ],
            "type": "histogram2d"
           }
          ],
          "histogram2dcontour": [
           {
            "colorbar": {
             "outlinewidth": 0,
             "ticks": ""
            },
            "colorscale": [
             [
              0,
              "#0d0887"
             ],
             [
              0.1111111111111111,
              "#46039f"
             ],
             [
              0.2222222222222222,
              "#7201a8"
             ],
             [
              0.3333333333333333,
              "#9c179e"
             ],
             [
              0.4444444444444444,
              "#bd3786"
             ],
             [
              0.5555555555555556,
              "#d8576b"
             ],
             [
              0.6666666666666666,
              "#ed7953"
             ],
             [
              0.7777777777777778,
              "#fb9f3a"
             ],
             [
              0.8888888888888888,
              "#fdca26"
             ],
             [
              1,
              "#f0f921"
             ]
            ],
            "type": "histogram2dcontour"
           }
          ],
          "mesh3d": [
           {
            "colorbar": {
             "outlinewidth": 0,
             "ticks": ""
            },
            "type": "mesh3d"
           }
          ],
          "parcoords": [
           {
            "line": {
             "colorbar": {
              "outlinewidth": 0,
              "ticks": ""
             }
            },
            "type": "parcoords"
           }
          ],
          "pie": [
           {
            "automargin": true,
            "type": "pie"
           }
          ],
          "scatter": [
           {
            "fillpattern": {
             "fillmode": "overlay",
             "size": 10,
             "solidity": 0.2
            },
            "type": "scatter"
           }
          ],
          "scatter3d": [
           {
            "line": {
             "colorbar": {
              "outlinewidth": 0,
              "ticks": ""
             }
            },
            "marker": {
             "colorbar": {
              "outlinewidth": 0,
              "ticks": ""
             }
            },
            "type": "scatter3d"
           }
          ],
          "scattercarpet": [
           {
            "marker": {
             "colorbar": {
              "outlinewidth": 0,
              "ticks": ""
             }
            },
            "type": "scattercarpet"
           }
          ],
          "scattergeo": [
           {
            "marker": {
             "colorbar": {
              "outlinewidth": 0,
              "ticks": ""
             }
            },
            "type": "scattergeo"
           }
          ],
          "scattergl": [
           {
            "marker": {
             "colorbar": {
              "outlinewidth": 0,
              "ticks": ""
             }
            },
            "type": "scattergl"
           }
          ],
          "scattermap": [
           {
            "marker": {
             "colorbar": {
              "outlinewidth": 0,
              "ticks": ""
             }
            },
            "type": "scattermap"
           }
          ],
          "scattermapbox": [
           {
            "marker": {
             "colorbar": {
              "outlinewidth": 0,
              "ticks": ""
             }
            },
            "type": "scattermapbox"
           }
          ],
          "scatterpolar": [
           {
            "marker": {
             "colorbar": {
              "outlinewidth": 0,
              "ticks": ""
             }
            },
            "type": "scatterpolar"
           }
          ],
          "scatterpolargl": [
           {
            "marker": {
             "colorbar": {
              "outlinewidth": 0,
              "ticks": ""
             }
            },
            "type": "scatterpolargl"
           }
          ],
          "scatterternary": [
           {
            "marker": {
             "colorbar": {
              "outlinewidth": 0,
              "ticks": ""
             }
            },
            "type": "scatterternary"
           }
          ],
          "surface": [
           {
            "colorbar": {
             "outlinewidth": 0,
             "ticks": ""
            },
            "colorscale": [
             [
              0,
              "#0d0887"
             ],
             [
              0.1111111111111111,
              "#46039f"
             ],
             [
              0.2222222222222222,
              "#7201a8"
             ],
             [
              0.3333333333333333,
              "#9c179e"
             ],
             [
              0.4444444444444444,
              "#bd3786"
             ],
             [
              0.5555555555555556,
              "#d8576b"
             ],
             [
              0.6666666666666666,
              "#ed7953"
             ],
             [
              0.7777777777777778,
              "#fb9f3a"
             ],
             [
              0.8888888888888888,
              "#fdca26"
             ],
             [
              1,
              "#f0f921"
             ]
            ],
            "type": "surface"
           }
          ],
          "table": [
           {
            "cells": {
             "fill": {
              "color": "#EBF0F8"
             },
             "line": {
              "color": "white"
             }
            },
            "header": {
             "fill": {
              "color": "#C8D4E3"
             },
             "line": {
              "color": "white"
             }
            },
            "type": "table"
           }
          ]
         },
         "layout": {
          "annotationdefaults": {
           "arrowcolor": "#2a3f5f",
           "arrowhead": 0,
           "arrowwidth": 1
          },
          "autotypenumbers": "strict",
          "coloraxis": {
           "colorbar": {
            "outlinewidth": 0,
            "ticks": ""
           }
          },
          "colorscale": {
           "diverging": [
            [
             0,
             "#8e0152"
            ],
            [
             0.1,
             "#c51b7d"
            ],
            [
             0.2,
             "#de77ae"
            ],
            [
             0.3,
             "#f1b6da"
            ],
            [
             0.4,
             "#fde0ef"
            ],
            [
             0.5,
             "#f7f7f7"
            ],
            [
             0.6,
             "#e6f5d0"
            ],
            [
             0.7,
             "#b8e186"
            ],
            [
             0.8,
             "#7fbc41"
            ],
            [
             0.9,
             "#4d9221"
            ],
            [
             1,
             "#276419"
            ]
           ],
           "sequential": [
            [
             0,
             "#0d0887"
            ],
            [
             0.1111111111111111,
             "#46039f"
            ],
            [
             0.2222222222222222,
             "#7201a8"
            ],
            [
             0.3333333333333333,
             "#9c179e"
            ],
            [
             0.4444444444444444,
             "#bd3786"
            ],
            [
             0.5555555555555556,
             "#d8576b"
            ],
            [
             0.6666666666666666,
             "#ed7953"
            ],
            [
             0.7777777777777778,
             "#fb9f3a"
            ],
            [
             0.8888888888888888,
             "#fdca26"
            ],
            [
             1,
             "#f0f921"
            ]
           ],
           "sequentialminus": [
            [
             0,
             "#0d0887"
            ],
            [
             0.1111111111111111,
             "#46039f"
            ],
            [
             0.2222222222222222,
             "#7201a8"
            ],
            [
             0.3333333333333333,
             "#9c179e"
            ],
            [
             0.4444444444444444,
             "#bd3786"
            ],
            [
             0.5555555555555556,
             "#d8576b"
            ],
            [
             0.6666666666666666,
             "#ed7953"
            ],
            [
             0.7777777777777778,
             "#fb9f3a"
            ],
            [
             0.8888888888888888,
             "#fdca26"
            ],
            [
             1,
             "#f0f921"
            ]
           ]
          },
          "colorway": [
           "#636efa",
           "#EF553B",
           "#00cc96",
           "#ab63fa",
           "#FFA15A",
           "#19d3f3",
           "#FF6692",
           "#B6E880",
           "#FF97FF",
           "#FECB52"
          ],
          "font": {
           "color": "#2a3f5f"
          },
          "geo": {
           "bgcolor": "white",
           "lakecolor": "white",
           "landcolor": "#E5ECF6",
           "showlakes": true,
           "showland": true,
           "subunitcolor": "white"
          },
          "hoverlabel": {
           "align": "left"
          },
          "hovermode": "closest",
          "mapbox": {
           "style": "light"
          },
          "paper_bgcolor": "white",
          "plot_bgcolor": "#E5ECF6",
          "polar": {
           "angularaxis": {
            "gridcolor": "white",
            "linecolor": "white",
            "ticks": ""
           },
           "bgcolor": "#E5ECF6",
           "radialaxis": {
            "gridcolor": "white",
            "linecolor": "white",
            "ticks": ""
           }
          },
          "scene": {
           "xaxis": {
            "backgroundcolor": "#E5ECF6",
            "gridcolor": "white",
            "gridwidth": 2,
            "linecolor": "white",
            "showbackground": true,
            "ticks": "",
            "zerolinecolor": "white"
           },
           "yaxis": {
            "backgroundcolor": "#E5ECF6",
            "gridcolor": "white",
            "gridwidth": 2,
            "linecolor": "white",
            "showbackground": true,
            "ticks": "",
            "zerolinecolor": "white"
           },
           "zaxis": {
            "backgroundcolor": "#E5ECF6",
            "gridcolor": "white",
            "gridwidth": 2,
            "linecolor": "white",
            "showbackground": true,
            "ticks": "",
            "zerolinecolor": "white"
           }
          },
          "shapedefaults": {
           "line": {
            "color": "#2a3f5f"
           }
          },
          "ternary": {
           "aaxis": {
            "gridcolor": "white",
            "linecolor": "white",
            "ticks": ""
           },
           "baxis": {
            "gridcolor": "white",
            "linecolor": "white",
            "ticks": ""
           },
           "bgcolor": "#E5ECF6",
           "caxis": {
            "gridcolor": "white",
            "linecolor": "white",
            "ticks": ""
           }
          },
          "title": {
           "x": 0.05
          },
          "xaxis": {
           "automargin": true,
           "gridcolor": "white",
           "linecolor": "white",
           "ticks": "",
           "title": {
            "standoff": 15
           },
           "zerolinecolor": "white",
           "zerolinewidth": 2
          },
          "yaxis": {
           "automargin": true,
           "gridcolor": "white",
           "linecolor": "white",
           "ticks": "",
           "title": {
            "standoff": 15
           },
           "zerolinecolor": "white",
           "zerolinewidth": 2
          }
         }
        },
        "title": {
         "text": "Solo vs Collaboration Tracks"
        }
       }
      }
     },
     "metadata": {},
     "output_type": "display_data"
    }
   ],
   "source": [
    "px.pie(\n",
    "    collab_table,\n",
    "    values=\"Number of Tracks\",\n",
    "    names=\"Track Type\",\n",
    "    title=\"Solo vs Collaboration Tracks\",\n",
    "    color=\"Track Type\",\n",
    "    color_discrete_map={\"Solo\": \"#0A6983\", \"Collaboration\": \"#F0803C\"}\n",
    ")"
   ]
  },
  {
   "cell_type": "markdown",
   "id": "0a4bcbb7",
   "metadata": {},
   "source": [
    "![Track Age vs Streams](screenshots/solo_vs_collab.png)"
   ]
  },
  {
   "cell_type": "markdown",
   "id": "b207ebf8",
   "metadata": {},
   "source": [
    "### Top 10 Artists by Total Spotify Streams - 2023\n",
    "\n",
    "This vertical bar chart displays the artists with the **largest cumulative Spotify streams** in 2023. Key observations:  \n",
    "\n",
    "- The **top three artists** **The Weeknd**, **Taylor Swift**, and **Ed Sheeran** hold the majority of streams, each surpassing **- total streams**, demonstrating their overwhelming popularity.  \n",
    "  \n",
    "- Artists ranked **fourth to tenth** **Harry Styles**, **Bad Bunny**, **Olivia Rodrigo**, **Eminem**, **Bruno Mars**, **Arctic Monkeys**, and **Imagine Dragons** show a gradual decrease in total streams, highlighting a **steep drop-off after the very top performers**.  \n",
    "  \n",
    "- This concentration suggests that **a small number of superstar artists dominate global Spotify consumption**, while other artists capture smaller audience shares.  \n",
    "  \n",
    "- Factors influencing this distribution include:  \n",
    "  - **Global reach and dedicated fanbases**  \n",
    "  - **Consistent release schedules and viral tracks**  \n",
    "  - **Playlist inclusion and algorithmic promotion on Spotify**  \n",
    "  \n",
    "- The chart emphasizes **which artists are shaping listening trends**, providing context for streaming performance analysis and marketing strategies.  \n",
    "  \n",
    "- It also sets a foundation for **further investigations**, such as correlating artist streams with track audio features, release timing, or collaboration frequency.  \n",
    "\n",
    "Overall, the visualization offers a **concise and informative snapshot of Spotify’s top artists**, illustrating the dominance of leading musicians in the 2023 streaming landscape."
   ]
  },
  {
   "cell_type": "code",
   "execution_count": 23,
   "id": "28477613",
   "metadata": {},
   "outputs": [
    {
     "data": {
      "application/vnd.plotly.v1+json": {
       "config": {
        "plotlyServerURL": "https://plot.ly"
       },
       "data": [
        {
         "hovertemplate": "Artist=%{x}<br>Streams=%{marker.color}<extra></extra>",
         "legendgroup": "",
         "marker": {
          "color": [
           14185552870,
           14053658300,
           13908947204,
           11608645649,
           9997799607,
           7442148916,
           6183805596,
           5846920599,
           5569806731,
           5272484650
          ],
          "coloraxis": "coloraxis",
          "pattern": {
           "shape": ""
          }
         },
         "name": "",
         "orientation": "v",
         "showlegend": false,
         "textposition": "auto",
         "type": "bar",
         "x": [
          "The Weeknd",
          "Taylor Swift",
          "Ed Sheeran",
          "Harry Styles",
          "Bad Bunny",
          "Olivia Rodrigo",
          "Eminem",
          "Bruno Mars",
          "Arctic Monkeys",
          "Imagine Dragons"
         ],
         "xaxis": "x",
         "y": [
          14185552870,
          14053658300,
          13908947204,
          11608645649,
          9997799607,
          7442148916,
          6183805596,
          5846920599,
          5569806731,
          5272484650
         ],
         "yaxis": "y"
        }
       ],
       "layout": {
        "barmode": "relative",
        "coloraxis": {
         "colorbar": {
          "title": {
           "text": "Streams"
          }
         },
         "colorscale": [
          [
           0,
           "#0d0887"
          ],
          [
           0.1111111111111111,
           "#46039f"
          ],
          [
           0.2222222222222222,
           "#7201a8"
          ],
          [
           0.3333333333333333,
           "#9c179e"
          ],
          [
           0.4444444444444444,
           "#bd3786"
          ],
          [
           0.5555555555555556,
           "#d8576b"
          ],
          [
           0.6666666666666666,
           "#ed7953"
          ],
          [
           0.7777777777777778,
           "#fb9f3a"
          ],
          [
           0.8888888888888888,
           "#fdca26"
          ],
          [
           1,
           "#f0f921"
          ]
         ]
        },
        "legend": {
         "tracegroupgap": 0
        },
        "template": {
         "data": {
          "bar": [
           {
            "error_x": {
             "color": "#2a3f5f"
            },
            "error_y": {
             "color": "#2a3f5f"
            },
            "marker": {
             "line": {
              "color": "#E5ECF6",
              "width": 0.5
             },
             "pattern": {
              "fillmode": "overlay",
              "size": 10,
              "solidity": 0.2
             }
            },
            "type": "bar"
           }
          ],
          "barpolar": [
           {
            "marker": {
             "line": {
              "color": "#E5ECF6",
              "width": 0.5
             },
             "pattern": {
              "fillmode": "overlay",
              "size": 10,
              "solidity": 0.2
             }
            },
            "type": "barpolar"
           }
          ],
          "carpet": [
           {
            "aaxis": {
             "endlinecolor": "#2a3f5f",
             "gridcolor": "white",
             "linecolor": "white",
             "minorgridcolor": "white",
             "startlinecolor": "#2a3f5f"
            },
            "baxis": {
             "endlinecolor": "#2a3f5f",
             "gridcolor": "white",
             "linecolor": "white",
             "minorgridcolor": "white",
             "startlinecolor": "#2a3f5f"
            },
            "type": "carpet"
           }
          ],
          "choropleth": [
           {
            "colorbar": {
             "outlinewidth": 0,
             "ticks": ""
            },
            "type": "choropleth"
           }
          ],
          "contour": [
           {
            "colorbar": {
             "outlinewidth": 0,
             "ticks": ""
            },
            "colorscale": [
             [
              0,
              "#0d0887"
             ],
             [
              0.1111111111111111,
              "#46039f"
             ],
             [
              0.2222222222222222,
              "#7201a8"
             ],
             [
              0.3333333333333333,
              "#9c179e"
             ],
             [
              0.4444444444444444,
              "#bd3786"
             ],
             [
              0.5555555555555556,
              "#d8576b"
             ],
             [
              0.6666666666666666,
              "#ed7953"
             ],
             [
              0.7777777777777778,
              "#fb9f3a"
             ],
             [
              0.8888888888888888,
              "#fdca26"
             ],
             [
              1,
              "#f0f921"
             ]
            ],
            "type": "contour"
           }
          ],
          "contourcarpet": [
           {
            "colorbar": {
             "outlinewidth": 0,
             "ticks": ""
            },
            "type": "contourcarpet"
           }
          ],
          "heatmap": [
           {
            "colorbar": {
             "outlinewidth": 0,
             "ticks": ""
            },
            "colorscale": [
             [
              0,
              "#0d0887"
             ],
             [
              0.1111111111111111,
              "#46039f"
             ],
             [
              0.2222222222222222,
              "#7201a8"
             ],
             [
              0.3333333333333333,
              "#9c179e"
             ],
             [
              0.4444444444444444,
              "#bd3786"
             ],
             [
              0.5555555555555556,
              "#d8576b"
             ],
             [
              0.6666666666666666,
              "#ed7953"
             ],
             [
              0.7777777777777778,
              "#fb9f3a"
             ],
             [
              0.8888888888888888,
              "#fdca26"
             ],
             [
              1,
              "#f0f921"
             ]
            ],
            "type": "heatmap"
           }
          ],
          "histogram": [
           {
            "marker": {
             "pattern": {
              "fillmode": "overlay",
              "size": 10,
              "solidity": 0.2
             }
            },
            "type": "histogram"
           }
          ],
          "histogram2d": [
           {
            "colorbar": {
             "outlinewidth": 0,
             "ticks": ""
            },
            "colorscale": [
             [
              0,
              "#0d0887"
             ],
             [
              0.1111111111111111,
              "#46039f"
             ],
             [
              0.2222222222222222,
              "#7201a8"
             ],
             [
              0.3333333333333333,
              "#9c179e"
             ],
             [
              0.4444444444444444,
              "#bd3786"
             ],
             [
              0.5555555555555556,
              "#d8576b"
             ],
             [
              0.6666666666666666,
              "#ed7953"
             ],
             [
              0.7777777777777778,
              "#fb9f3a"
             ],
             [
              0.8888888888888888,
              "#fdca26"
             ],
             [
              1,
              "#f0f921"
             ]
            ],
            "type": "histogram2d"
           }
          ],
          "histogram2dcontour": [
           {
            "colorbar": {
             "outlinewidth": 0,
             "ticks": ""
            },
            "colorscale": [
             [
              0,
              "#0d0887"
             ],
             [
              0.1111111111111111,
              "#46039f"
             ],
             [
              0.2222222222222222,
              "#7201a8"
             ],
             [
              0.3333333333333333,
              "#9c179e"
             ],
             [
              0.4444444444444444,
              "#bd3786"
             ],
             [
              0.5555555555555556,
              "#d8576b"
             ],
             [
              0.6666666666666666,
              "#ed7953"
             ],
             [
              0.7777777777777778,
              "#fb9f3a"
             ],
             [
              0.8888888888888888,
              "#fdca26"
             ],
             [
              1,
              "#f0f921"
             ]
            ],
            "type": "histogram2dcontour"
           }
          ],
          "mesh3d": [
           {
            "colorbar": {
             "outlinewidth": 0,
             "ticks": ""
            },
            "type": "mesh3d"
           }
          ],
          "parcoords": [
           {
            "line": {
             "colorbar": {
              "outlinewidth": 0,
              "ticks": ""
             }
            },
            "type": "parcoords"
           }
          ],
          "pie": [
           {
            "automargin": true,
            "type": "pie"
           }
          ],
          "scatter": [
           {
            "fillpattern": {
             "fillmode": "overlay",
             "size": 10,
             "solidity": 0.2
            },
            "type": "scatter"
           }
          ],
          "scatter3d": [
           {
            "line": {
             "colorbar": {
              "outlinewidth": 0,
              "ticks": ""
             }
            },
            "marker": {
             "colorbar": {
              "outlinewidth": 0,
              "ticks": ""
             }
            },
            "type": "scatter3d"
           }
          ],
          "scattercarpet": [
           {
            "marker": {
             "colorbar": {
              "outlinewidth": 0,
              "ticks": ""
             }
            },
            "type": "scattercarpet"
           }
          ],
          "scattergeo": [
           {
            "marker": {
             "colorbar": {
              "outlinewidth": 0,
              "ticks": ""
             }
            },
            "type": "scattergeo"
           }
          ],
          "scattergl": [
           {
            "marker": {
             "colorbar": {
              "outlinewidth": 0,
              "ticks": ""
             }
            },
            "type": "scattergl"
           }
          ],
          "scattermap": [
           {
            "marker": {
             "colorbar": {
              "outlinewidth": 0,
              "ticks": ""
             }
            },
            "type": "scattermap"
           }
          ],
          "scattermapbox": [
           {
            "marker": {
             "colorbar": {
              "outlinewidth": 0,
              "ticks": ""
             }
            },
            "type": "scattermapbox"
           }
          ],
          "scatterpolar": [
           {
            "marker": {
             "colorbar": {
              "outlinewidth": 0,
              "ticks": ""
             }
            },
            "type": "scatterpolar"
           }
          ],
          "scatterpolargl": [
           {
            "marker": {
             "colorbar": {
              "outlinewidth": 0,
              "ticks": ""
             }
            },
            "type": "scatterpolargl"
           }
          ],
          "scatterternary": [
           {
            "marker": {
             "colorbar": {
              "outlinewidth": 0,
              "ticks": ""
             }
            },
            "type": "scatterternary"
           }
          ],
          "surface": [
           {
            "colorbar": {
             "outlinewidth": 0,
             "ticks": ""
            },
            "colorscale": [
             [
              0,
              "#0d0887"
             ],
             [
              0.1111111111111111,
              "#46039f"
             ],
             [
              0.2222222222222222,
              "#7201a8"
             ],
             [
              0.3333333333333333,
              "#9c179e"
             ],
             [
              0.4444444444444444,
              "#bd3786"
             ],
             [
              0.5555555555555556,
              "#d8576b"
             ],
             [
              0.6666666666666666,
              "#ed7953"
             ],
             [
              0.7777777777777778,
              "#fb9f3a"
             ],
             [
              0.8888888888888888,
              "#fdca26"
             ],
             [
              1,
              "#f0f921"
             ]
            ],
            "type": "surface"
           }
          ],
          "table": [
           {
            "cells": {
             "fill": {
              "color": "#EBF0F8"
             },
             "line": {
              "color": "white"
             }
            },
            "header": {
             "fill": {
              "color": "#C8D4E3"
             },
             "line": {
              "color": "white"
             }
            },
            "type": "table"
           }
          ]
         },
         "layout": {
          "annotationdefaults": {
           "arrowcolor": "#2a3f5f",
           "arrowhead": 0,
           "arrowwidth": 1
          },
          "autotypenumbers": "strict",
          "coloraxis": {
           "colorbar": {
            "outlinewidth": 0,
            "ticks": ""
           }
          },
          "colorscale": {
           "diverging": [
            [
             0,
             "#8e0152"
            ],
            [
             0.1,
             "#c51b7d"
            ],
            [
             0.2,
             "#de77ae"
            ],
            [
             0.3,
             "#f1b6da"
            ],
            [
             0.4,
             "#fde0ef"
            ],
            [
             0.5,
             "#f7f7f7"
            ],
            [
             0.6,
             "#e6f5d0"
            ],
            [
             0.7,
             "#b8e186"
            ],
            [
             0.8,
             "#7fbc41"
            ],
            [
             0.9,
             "#4d9221"
            ],
            [
             1,
             "#276419"
            ]
           ],
           "sequential": [
            [
             0,
             "#0d0887"
            ],
            [
             0.1111111111111111,
             "#46039f"
            ],
            [
             0.2222222222222222,
             "#7201a8"
            ],
            [
             0.3333333333333333,
             "#9c179e"
            ],
            [
             0.4444444444444444,
             "#bd3786"
            ],
            [
             0.5555555555555556,
             "#d8576b"
            ],
            [
             0.6666666666666666,
             "#ed7953"
            ],
            [
             0.7777777777777778,
             "#fb9f3a"
            ],
            [
             0.8888888888888888,
             "#fdca26"
            ],
            [
             1,
             "#f0f921"
            ]
           ],
           "sequentialminus": [
            [
             0,
             "#0d0887"
            ],
            [
             0.1111111111111111,
             "#46039f"
            ],
            [
             0.2222222222222222,
             "#7201a8"
            ],
            [
             0.3333333333333333,
             "#9c179e"
            ],
            [
             0.4444444444444444,
             "#bd3786"
            ],
            [
             0.5555555555555556,
             "#d8576b"
            ],
            [
             0.6666666666666666,
             "#ed7953"
            ],
            [
             0.7777777777777778,
             "#fb9f3a"
            ],
            [
             0.8888888888888888,
             "#fdca26"
            ],
            [
             1,
             "#f0f921"
            ]
           ]
          },
          "colorway": [
           "#636efa",
           "#EF553B",
           "#00cc96",
           "#ab63fa",
           "#FFA15A",
           "#19d3f3",
           "#FF6692",
           "#B6E880",
           "#FF97FF",
           "#FECB52"
          ],
          "font": {
           "color": "#2a3f5f"
          },
          "geo": {
           "bgcolor": "white",
           "lakecolor": "white",
           "landcolor": "#E5ECF6",
           "showlakes": true,
           "showland": true,
           "subunitcolor": "white"
          },
          "hoverlabel": {
           "align": "left"
          },
          "hovermode": "closest",
          "mapbox": {
           "style": "light"
          },
          "paper_bgcolor": "white",
          "plot_bgcolor": "#E5ECF6",
          "polar": {
           "angularaxis": {
            "gridcolor": "white",
            "linecolor": "white",
            "ticks": ""
           },
           "bgcolor": "#E5ECF6",
           "radialaxis": {
            "gridcolor": "white",
            "linecolor": "white",
            "ticks": ""
           }
          },
          "scene": {
           "xaxis": {
            "backgroundcolor": "#E5ECF6",
            "gridcolor": "white",
            "gridwidth": 2,
            "linecolor": "white",
            "showbackground": true,
            "ticks": "",
            "zerolinecolor": "white"
           },
           "yaxis": {
            "backgroundcolor": "#E5ECF6",
            "gridcolor": "white",
            "gridwidth": 2,
            "linecolor": "white",
            "showbackground": true,
            "ticks": "",
            "zerolinecolor": "white"
           },
           "zaxis": {
            "backgroundcolor": "#E5ECF6",
            "gridcolor": "white",
            "gridwidth": 2,
            "linecolor": "white",
            "showbackground": true,
            "ticks": "",
            "zerolinecolor": "white"
           }
          },
          "shapedefaults": {
           "line": {
            "color": "#2a3f5f"
           }
          },
          "ternary": {
           "aaxis": {
            "gridcolor": "white",
            "linecolor": "white",
            "ticks": ""
           },
           "baxis": {
            "gridcolor": "white",
            "linecolor": "white",
            "ticks": ""
           },
           "bgcolor": "#E5ECF6",
           "caxis": {
            "gridcolor": "white",
            "linecolor": "white",
            "ticks": ""
           }
          },
          "title": {
           "x": 0.05
          },
          "xaxis": {
           "automargin": true,
           "gridcolor": "white",
           "linecolor": "white",
           "ticks": "",
           "title": {
            "standoff": 15
           },
           "zerolinecolor": "white",
           "zerolinewidth": 2
          },
          "yaxis": {
           "automargin": true,
           "gridcolor": "white",
           "linecolor": "white",
           "ticks": "",
           "title": {
            "standoff": 15
           },
           "zerolinecolor": "white",
           "zerolinewidth": 2
          }
         }
        },
        "title": {
         "text": "Top 10 Artists - 2023"
        },
        "xaxis": {
         "anchor": "y",
         "domain": [
          0,
          1
         ],
         "title": {
          "text": "Artist"
         }
        },
        "yaxis": {
         "anchor": "x",
         "domain": [
          0,
          1
         ],
         "title": {
          "text": "Streams"
         }
        }
       }
      }
     },
     "metadata": {},
     "output_type": "display_data"
    }
   ],
   "source": [
    "px.bar(\n",
    "    top_artists,\n",
    "    y='Streams',\n",
    "    title=\"Top 10 Artists - 2023\",\n",
    "    labels={\"Streams\": \"Streams\", \"Artist(S) Name\": \"Artist\"},\n",
    "    color='Streams',\n",
    "    hover_data={'Streams': True}, \n",
    ")\n"
   ]
  },
  {
   "cell_type": "markdown",
   "id": "d5b17fa9",
   "metadata": {},
   "source": [
    "![Track Age vs Streams](screenshots/top_10_artists.png)\n"
   ]
  },
  {
   "cell_type": "markdown",
   "id": "45fc57ca",
   "metadata": {},
   "source": [
    "### Top 10 Tracks by Spotify Streams - 2023\n",
    "\n",
    "This horizontal bar chart presents the tracks with the **highest cumulative Spotify streams** in 2023. Key insights:  \n",
    "\n",
    "- The **most streamed track** is **\"Blinding Lights\" by The Weeknd**, followed closely by **\"Shape of You\" by Ed Sheeran** and **\"Someone You Loved\" by Lewis Capaldi**, each surpassing **- total streams**.  \n",
    "  \n",
    "- Other top-performing tracks **\"Dance Monkey\" (Tones and I)**, **\"Sunflower - Spider-Man: Into the Spider-Verse\" (Post Malone, Swae Lee)**, and **\"One Dance\" (Drake, WizKid, Kyla)** also demonstrate **substantial global reach**.  \n",
    "  \n",
    "- Collaborative tracks like **\"STAY\" (Justin Bieber, The Kid Laroi)** and **\"Starboy\" (The Weeknd, Daft Punk)** highlight how **artist collaborations amplify streaming performance**.  \n",
    "  \n",
    "- The **steep differences in stream counts** between the top three and lower-ranked tracks indicate that **a small subset of songs dominates listener attention**, consistent with streaming platform trends.  \n",
    "  \n",
    "- Factors contributing to these high streams include:  \n",
    "  - **Viral popularity and social media amplification**  \n",
    "  - **Playlist placements and algorithmic recommendations**  \n",
    "  - **Artist fan engagement and global fanbase distribution**  \n",
    "\n",
    "- This visualization offers a **clear view of the most influential tracks** of 2023, providing context for industry analysis, marketing strategies, and comparative studies of track performance.  "
   ]
  },
  {
   "cell_type": "code",
   "execution_count": 24,
   "id": "a154c03b",
   "metadata": {},
   "outputs": [
    {
     "data": {
      "application/vnd.plotly.v1+json": {
       "config": {
        "plotlyServerURL": "https://plot.ly"
       },
       "data": [
        {
         "customdata": [
          [
           "The Weeknd"
          ],
          [
           "Ed Sheeran"
          ],
          [
           "Lewis Capaldi"
          ],
          [
           "Tones and I"
          ],
          [
           "Post Malone, Swae Lee"
          ],
          [
           "Drake, WizKid, Kyla"
          ],
          [
           "Justin Bieber, The Kid Laroi"
          ],
          [
           "Imagine Dragons"
          ],
          [
           "The Chainsmokers, Halsey"
          ],
          [
           "The Weeknd, Daft Punk"
          ]
         ],
         "hovertemplate": "Streams=%{marker.color}<br>Track Name=%{y}<br>Artist(S) Name=%{customdata[0]}<extra></extra>",
         "legendgroup": "",
         "marker": {
          "color": [
           3703895074,
           3562543890,
           2887241814,
           2864791672,
           2808096550,
           2713922350,
           2665343922,
           2594040133,
           2591224264,
           2565529693
          ],
          "coloraxis": "coloraxis",
          "pattern": {
           "shape": ""
          }
         },
         "name": "",
         "orientation": "h",
         "showlegend": false,
         "textposition": "auto",
         "type": "bar",
         "x": [
          3703895074,
          3562543890,
          2887241814,
          2864791672,
          2808096550,
          2713922350,
          2665343922,
          2594040133,
          2591224264,
          2565529693
         ],
         "xaxis": "x",
         "y": [
          "Blinding Lights",
          "Shape of You",
          "Someone You Loved",
          "Dance Monkey",
          "Sunflower - Spider-Man: Into the Spider-Verse",
          "One Dance",
          "STAY (with Justin Bieber)",
          "Believer",
          "Closer",
          "Starboy"
         ],
         "yaxis": "y"
        }
       ],
       "layout": {
        "barmode": "relative",
        "coloraxis": {
         "colorbar": {
          "title": {
           "text": "Streams"
          }
         },
         "colorscale": [
          [
           0,
           "#0d0887"
          ],
          [
           0.1111111111111111,
           "#46039f"
          ],
          [
           0.2222222222222222,
           "#7201a8"
          ],
          [
           0.3333333333333333,
           "#9c179e"
          ],
          [
           0.4444444444444444,
           "#bd3786"
          ],
          [
           0.5555555555555556,
           "#d8576b"
          ],
          [
           0.6666666666666666,
           "#ed7953"
          ],
          [
           0.7777777777777778,
           "#fb9f3a"
          ],
          [
           0.8888888888888888,
           "#fdca26"
          ],
          [
           1,
           "#f0f921"
          ]
         ]
        },
        "height": 500,
        "legend": {
         "tracegroupgap": 0
        },
        "template": {
         "data": {
          "bar": [
           {
            "error_x": {
             "color": "#2a3f5f"
            },
            "error_y": {
             "color": "#2a3f5f"
            },
            "marker": {
             "line": {
              "color": "#E5ECF6",
              "width": 0.5
             },
             "pattern": {
              "fillmode": "overlay",
              "size": 10,
              "solidity": 0.2
             }
            },
            "type": "bar"
           }
          ],
          "barpolar": [
           {
            "marker": {
             "line": {
              "color": "#E5ECF6",
              "width": 0.5
             },
             "pattern": {
              "fillmode": "overlay",
              "size": 10,
              "solidity": 0.2
             }
            },
            "type": "barpolar"
           }
          ],
          "carpet": [
           {
            "aaxis": {
             "endlinecolor": "#2a3f5f",
             "gridcolor": "white",
             "linecolor": "white",
             "minorgridcolor": "white",
             "startlinecolor": "#2a3f5f"
            },
            "baxis": {
             "endlinecolor": "#2a3f5f",
             "gridcolor": "white",
             "linecolor": "white",
             "minorgridcolor": "white",
             "startlinecolor": "#2a3f5f"
            },
            "type": "carpet"
           }
          ],
          "choropleth": [
           {
            "colorbar": {
             "outlinewidth": 0,
             "ticks": ""
            },
            "type": "choropleth"
           }
          ],
          "contour": [
           {
            "colorbar": {
             "outlinewidth": 0,
             "ticks": ""
            },
            "colorscale": [
             [
              0,
              "#0d0887"
             ],
             [
              0.1111111111111111,
              "#46039f"
             ],
             [
              0.2222222222222222,
              "#7201a8"
             ],
             [
              0.3333333333333333,
              "#9c179e"
             ],
             [
              0.4444444444444444,
              "#bd3786"
             ],
             [
              0.5555555555555556,
              "#d8576b"
             ],
             [
              0.6666666666666666,
              "#ed7953"
             ],
             [
              0.7777777777777778,
              "#fb9f3a"
             ],
             [
              0.8888888888888888,
              "#fdca26"
             ],
             [
              1,
              "#f0f921"
             ]
            ],
            "type": "contour"
           }
          ],
          "contourcarpet": [
           {
            "colorbar": {
             "outlinewidth": 0,
             "ticks": ""
            },
            "type": "contourcarpet"
           }
          ],
          "heatmap": [
           {
            "colorbar": {
             "outlinewidth": 0,
             "ticks": ""
            },
            "colorscale": [
             [
              0,
              "#0d0887"
             ],
             [
              0.1111111111111111,
              "#46039f"
             ],
             [
              0.2222222222222222,
              "#7201a8"
             ],
             [
              0.3333333333333333,
              "#9c179e"
             ],
             [
              0.4444444444444444,
              "#bd3786"
             ],
             [
              0.5555555555555556,
              "#d8576b"
             ],
             [
              0.6666666666666666,
              "#ed7953"
             ],
             [
              0.7777777777777778,
              "#fb9f3a"
             ],
             [
              0.8888888888888888,
              "#fdca26"
             ],
             [
              1,
              "#f0f921"
             ]
            ],
            "type": "heatmap"
           }
          ],
          "histogram": [
           {
            "marker": {
             "pattern": {
              "fillmode": "overlay",
              "size": 10,
              "solidity": 0.2
             }
            },
            "type": "histogram"
           }
          ],
          "histogram2d": [
           {
            "colorbar": {
             "outlinewidth": 0,
             "ticks": ""
            },
            "colorscale": [
             [
              0,
              "#0d0887"
             ],
             [
              0.1111111111111111,
              "#46039f"
             ],
             [
              0.2222222222222222,
              "#7201a8"
             ],
             [
              0.3333333333333333,
              "#9c179e"
             ],
             [
              0.4444444444444444,
              "#bd3786"
             ],
             [
              0.5555555555555556,
              "#d8576b"
             ],
             [
              0.6666666666666666,
              "#ed7953"
             ],
             [
              0.7777777777777778,
              "#fb9f3a"
             ],
             [
              0.8888888888888888,
              "#fdca26"
             ],
             [
              1,
              "#f0f921"
             ]
            ],
            "type": "histogram2d"
           }
          ],
          "histogram2dcontour": [
           {
            "colorbar": {
             "outlinewidth": 0,
             "ticks": ""
            },
            "colorscale": [
             [
              0,
              "#0d0887"
             ],
             [
              0.1111111111111111,
              "#46039f"
             ],
             [
              0.2222222222222222,
              "#7201a8"
             ],
             [
              0.3333333333333333,
              "#9c179e"
             ],
             [
              0.4444444444444444,
              "#bd3786"
             ],
             [
              0.5555555555555556,
              "#d8576b"
             ],
             [
              0.6666666666666666,
              "#ed7953"
             ],
             [
              0.7777777777777778,
              "#fb9f3a"
             ],
             [
              0.8888888888888888,
              "#fdca26"
             ],
             [
              1,
              "#f0f921"
             ]
            ],
            "type": "histogram2dcontour"
           }
          ],
          "mesh3d": [
           {
            "colorbar": {
             "outlinewidth": 0,
             "ticks": ""
            },
            "type": "mesh3d"
           }
          ],
          "parcoords": [
           {
            "line": {
             "colorbar": {
              "outlinewidth": 0,
              "ticks": ""
             }
            },
            "type": "parcoords"
           }
          ],
          "pie": [
           {
            "automargin": true,
            "type": "pie"
           }
          ],
          "scatter": [
           {
            "fillpattern": {
             "fillmode": "overlay",
             "size": 10,
             "solidity": 0.2
            },
            "type": "scatter"
           }
          ],
          "scatter3d": [
           {
            "line": {
             "colorbar": {
              "outlinewidth": 0,
              "ticks": ""
             }
            },
            "marker": {
             "colorbar": {
              "outlinewidth": 0,
              "ticks": ""
             }
            },
            "type": "scatter3d"
           }
          ],
          "scattercarpet": [
           {
            "marker": {
             "colorbar": {
              "outlinewidth": 0,
              "ticks": ""
             }
            },
            "type": "scattercarpet"
           }
          ],
          "scattergeo": [
           {
            "marker": {
             "colorbar": {
              "outlinewidth": 0,
              "ticks": ""
             }
            },
            "type": "scattergeo"
           }
          ],
          "scattergl": [
           {
            "marker": {
             "colorbar": {
              "outlinewidth": 0,
              "ticks": ""
             }
            },
            "type": "scattergl"
           }
          ],
          "scattermap": [
           {
            "marker": {
             "colorbar": {
              "outlinewidth": 0,
              "ticks": ""
             }
            },
            "type": "scattermap"
           }
          ],
          "scattermapbox": [
           {
            "marker": {
             "colorbar": {
              "outlinewidth": 0,
              "ticks": ""
             }
            },
            "type": "scattermapbox"
           }
          ],
          "scatterpolar": [
           {
            "marker": {
             "colorbar": {
              "outlinewidth": 0,
              "ticks": ""
             }
            },
            "type": "scatterpolar"
           }
          ],
          "scatterpolargl": [
           {
            "marker": {
             "colorbar": {
              "outlinewidth": 0,
              "ticks": ""
             }
            },
            "type": "scatterpolargl"
           }
          ],
          "scatterternary": [
           {
            "marker": {
             "colorbar": {
              "outlinewidth": 0,
              "ticks": ""
             }
            },
            "type": "scatterternary"
           }
          ],
          "surface": [
           {
            "colorbar": {
             "outlinewidth": 0,
             "ticks": ""
            },
            "colorscale": [
             [
              0,
              "#0d0887"
             ],
             [
              0.1111111111111111,
              "#46039f"
             ],
             [
              0.2222222222222222,
              "#7201a8"
             ],
             [
              0.3333333333333333,
              "#9c179e"
             ],
             [
              0.4444444444444444,
              "#bd3786"
             ],
             [
              0.5555555555555556,
              "#d8576b"
             ],
             [
              0.6666666666666666,
              "#ed7953"
             ],
             [
              0.7777777777777778,
              "#fb9f3a"
             ],
             [
              0.8888888888888888,
              "#fdca26"
             ],
             [
              1,
              "#f0f921"
             ]
            ],
            "type": "surface"
           }
          ],
          "table": [
           {
            "cells": {
             "fill": {
              "color": "#EBF0F8"
             },
             "line": {
              "color": "white"
             }
            },
            "header": {
             "fill": {
              "color": "#C8D4E3"
             },
             "line": {
              "color": "white"
             }
            },
            "type": "table"
           }
          ]
         },
         "layout": {
          "annotationdefaults": {
           "arrowcolor": "#2a3f5f",
           "arrowhead": 0,
           "arrowwidth": 1
          },
          "autotypenumbers": "strict",
          "coloraxis": {
           "colorbar": {
            "outlinewidth": 0,
            "ticks": ""
           }
          },
          "colorscale": {
           "diverging": [
            [
             0,
             "#8e0152"
            ],
            [
             0.1,
             "#c51b7d"
            ],
            [
             0.2,
             "#de77ae"
            ],
            [
             0.3,
             "#f1b6da"
            ],
            [
             0.4,
             "#fde0ef"
            ],
            [
             0.5,
             "#f7f7f7"
            ],
            [
             0.6,
             "#e6f5d0"
            ],
            [
             0.7,
             "#b8e186"
            ],
            [
             0.8,
             "#7fbc41"
            ],
            [
             0.9,
             "#4d9221"
            ],
            [
             1,
             "#276419"
            ]
           ],
           "sequential": [
            [
             0,
             "#0d0887"
            ],
            [
             0.1111111111111111,
             "#46039f"
            ],
            [
             0.2222222222222222,
             "#7201a8"
            ],
            [
             0.3333333333333333,
             "#9c179e"
            ],
            [
             0.4444444444444444,
             "#bd3786"
            ],
            [
             0.5555555555555556,
             "#d8576b"
            ],
            [
             0.6666666666666666,
             "#ed7953"
            ],
            [
             0.7777777777777778,
             "#fb9f3a"
            ],
            [
             0.8888888888888888,
             "#fdca26"
            ],
            [
             1,
             "#f0f921"
            ]
           ],
           "sequentialminus": [
            [
             0,
             "#0d0887"
            ],
            [
             0.1111111111111111,
             "#46039f"
            ],
            [
             0.2222222222222222,
             "#7201a8"
            ],
            [
             0.3333333333333333,
             "#9c179e"
            ],
            [
             0.4444444444444444,
             "#bd3786"
            ],
            [
             0.5555555555555556,
             "#d8576b"
            ],
            [
             0.6666666666666666,
             "#ed7953"
            ],
            [
             0.7777777777777778,
             "#fb9f3a"
            ],
            [
             0.8888888888888888,
             "#fdca26"
            ],
            [
             1,
             "#f0f921"
            ]
           ]
          },
          "colorway": [
           "#636efa",
           "#EF553B",
           "#00cc96",
           "#ab63fa",
           "#FFA15A",
           "#19d3f3",
           "#FF6692",
           "#B6E880",
           "#FF97FF",
           "#FECB52"
          ],
          "font": {
           "color": "#2a3f5f"
          },
          "geo": {
           "bgcolor": "white",
           "lakecolor": "white",
           "landcolor": "#E5ECF6",
           "showlakes": true,
           "showland": true,
           "subunitcolor": "white"
          },
          "hoverlabel": {
           "align": "left"
          },
          "hovermode": "closest",
          "mapbox": {
           "style": "light"
          },
          "paper_bgcolor": "white",
          "plot_bgcolor": "#E5ECF6",
          "polar": {
           "angularaxis": {
            "gridcolor": "white",
            "linecolor": "white",
            "ticks": ""
           },
           "bgcolor": "#E5ECF6",
           "radialaxis": {
            "gridcolor": "white",
            "linecolor": "white",
            "ticks": ""
           }
          },
          "scene": {
           "xaxis": {
            "backgroundcolor": "#E5ECF6",
            "gridcolor": "white",
            "gridwidth": 2,
            "linecolor": "white",
            "showbackground": true,
            "ticks": "",
            "zerolinecolor": "white"
           },
           "yaxis": {
            "backgroundcolor": "#E5ECF6",
            "gridcolor": "white",
            "gridwidth": 2,
            "linecolor": "white",
            "showbackground": true,
            "ticks": "",
            "zerolinecolor": "white"
           },
           "zaxis": {
            "backgroundcolor": "#E5ECF6",
            "gridcolor": "white",
            "gridwidth": 2,
            "linecolor": "white",
            "showbackground": true,
            "ticks": "",
            "zerolinecolor": "white"
           }
          },
          "shapedefaults": {
           "line": {
            "color": "#2a3f5f"
           }
          },
          "ternary": {
           "aaxis": {
            "gridcolor": "white",
            "linecolor": "white",
            "ticks": ""
           },
           "baxis": {
            "gridcolor": "white",
            "linecolor": "white",
            "ticks": ""
           },
           "bgcolor": "#E5ECF6",
           "caxis": {
            "gridcolor": "white",
            "linecolor": "white",
            "ticks": ""
           }
          },
          "title": {
           "x": 0.05
          },
          "xaxis": {
           "automargin": true,
           "gridcolor": "white",
           "linecolor": "white",
           "ticks": "",
           "title": {
            "standoff": 15
           },
           "zerolinecolor": "white",
           "zerolinewidth": 2
          },
          "yaxis": {
           "automargin": true,
           "gridcolor": "white",
           "linecolor": "white",
           "ticks": "",
           "title": {
            "standoff": 15
           },
           "zerolinecolor": "white",
           "zerolinewidth": 2
          }
         }
        },
        "title": {
         "text": "Top 10 Tracks - 2023"
        },
        "xaxis": {
         "anchor": "y",
         "domain": [
          0,
          1
         ],
         "title": {
          "text": "Streams"
         }
        },
        "yaxis": {
         "anchor": "x",
         "domain": [
          0,
          1
         ],
         "title": {
          "text": "Track Name"
         }
        }
       }
      }
     },
     "metadata": {},
     "output_type": "display_data"
    }
   ],
   "source": [
    "px.bar(\n",
    "    top_songs,\n",
    "    x='Streams',\n",
    "    title=\"Top 10 Tracks - 2023\",\n",
    "    labels={\"Streams\": \"Streams\"},\n",
    "    color='Streams',\n",
    "    hover_data={'Streams': True,\n",
    "                'Artist(S) Name': True},\n",
    "    orientation='h',\n",
    "    height=500\n",
    ")"
   ]
  },
  {
   "cell_type": "markdown",
   "id": "9119e5b9",
   "metadata": {},
   "source": [
    "![Track Age vs Streams](screenshots/top_10_tracks.png)\n"
   ]
  },
  {
   "cell_type": "markdown",
   "id": "13ff125f",
   "metadata": {},
   "source": [
    "### Top 10 Tracks by Danceability\n",
    "\n",
    "This horizontal bar chart showcases the tracks with the **highest danceability scores** on Spotify. Key insights:  \n",
    "\n",
    "- **\"Peru\" by Ed Sheeran and Fireboy DML** leads the chart, closely followed by **\"Players\" (Coi Leray)** and **\"The Real Slim Shady\" (Eminem)**, all with **exceptionally high danceability ratings**.  \n",
    "  \n",
    "- Other top danceable tracks include **\"Super Freaky Girl\" (Nicki Minaj)**, **\"Starlight\" (Dave)**, and **\"CAIRO\" (Karol G, Ovy On The Drums)**, demonstrating **consistent listener preference for energetic, rhythm-driven songs**.  \n",
    "  \n",
    "- Tracks with slightly lower streams like **\"Gol Bolinha, Gol Quadrado 2\" (Mc Pedrinho, DJ 900)** still maintain high danceability, indicating that **danceability does not always correlate directly with total streams**.  \n",
    "  \n",
    "- The visualization highlights the **importance of rhythmic and tempo features** in crafting songs that engage audiences physically and emotionally.  \n",
    "  \n",
    "- By analyzing the interplay between danceability and streams, this chart provides **insights into listener behavior, content virality, and playlist curation trends**.  "
   ]
  },
  {
   "cell_type": "code",
   "execution_count": 25,
   "id": "0e198b00",
   "metadata": {},
   "outputs": [
    {
     "data": {
      "application/vnd.plotly.v1+json": {
       "config": {
        "plotlyServerURL": "https://plot.ly"
       },
       "data": [
        {
         "customdata": [
          [
           261286503,
           "Ed Sheeran, Fireboy DML"
          ],
          [
           335074782,
           "Coi Leray"
          ],
          [
           1424589568,
           "Eminem"
          ],
          [
           428685680,
           "Nicki Minaj"
          ],
          [
           229473310,
           "Dave"
          ],
          [
           294352144,
           "Karol G, Ovy On The Drums"
          ],
          [
           176103902,
           "L7nnon, DJ Biel do Furduncinho, Bianca"
          ],
          [
           190490915,
           "NLE Choppa"
          ],
          [
           112436403,
           "Drake, 21 Savage"
          ],
          [
           11956641,
           "Mc Pedrinho, DJ 900"
          ]
         ],
         "hovertemplate": "Danceability=%{marker.color}<br>Track Name=%{y}<br>Streams=%{customdata[0]}<br>Artist(S) Name=%{customdata[1]}<extra></extra>",
         "legendgroup": "",
         "marker": {
          "color": {
           "bdata": "YF9fX19fX15dXQ==",
           "dtype": "i1"
          },
          "coloraxis": "coloraxis",
          "pattern": {
           "shape": ""
          }
         },
         "name": "",
         "orientation": "h",
         "showlegend": false,
         "textposition": "auto",
         "type": "bar",
         "x": {
          "bdata": "YF9fX19fX15dXQ==",
          "dtype": "i1"
         },
         "xaxis": "x",
         "y": [
          "Peru",
          "Players",
          "The Real Slim Shady",
          "Super Freaky Girl",
          "Starlight",
          "CAIRO",
          "Ai Preto",
          "Slut Me Out",
          "Privileged Rappers",
          "Gol Bolinha, Gol Quadrado 2"
         ],
         "yaxis": "y"
        }
       ],
       "layout": {
        "barmode": "relative",
        "coloraxis": {
         "colorbar": {
          "title": {
           "text": "Danceability"
          }
         },
         "colorscale": [
          [
           0,
           "#0d0887"
          ],
          [
           0.1111111111111111,
           "#46039f"
          ],
          [
           0.2222222222222222,
           "#7201a8"
          ],
          [
           0.3333333333333333,
           "#9c179e"
          ],
          [
           0.4444444444444444,
           "#bd3786"
          ],
          [
           0.5555555555555556,
           "#d8576b"
          ],
          [
           0.6666666666666666,
           "#ed7953"
          ],
          [
           0.7777777777777778,
           "#fb9f3a"
          ],
          [
           0.8888888888888888,
           "#fdca26"
          ],
          [
           1,
           "#f0f921"
          ]
         ]
        },
        "height": 500,
        "legend": {
         "tracegroupgap": 0
        },
        "template": {
         "data": {
          "bar": [
           {
            "error_x": {
             "color": "#2a3f5f"
            },
            "error_y": {
             "color": "#2a3f5f"
            },
            "marker": {
             "line": {
              "color": "#E5ECF6",
              "width": 0.5
             },
             "pattern": {
              "fillmode": "overlay",
              "size": 10,
              "solidity": 0.2
             }
            },
            "type": "bar"
           }
          ],
          "barpolar": [
           {
            "marker": {
             "line": {
              "color": "#E5ECF6",
              "width": 0.5
             },
             "pattern": {
              "fillmode": "overlay",
              "size": 10,
              "solidity": 0.2
             }
            },
            "type": "barpolar"
           }
          ],
          "carpet": [
           {
            "aaxis": {
             "endlinecolor": "#2a3f5f",
             "gridcolor": "white",
             "linecolor": "white",
             "minorgridcolor": "white",
             "startlinecolor": "#2a3f5f"
            },
            "baxis": {
             "endlinecolor": "#2a3f5f",
             "gridcolor": "white",
             "linecolor": "white",
             "minorgridcolor": "white",
             "startlinecolor": "#2a3f5f"
            },
            "type": "carpet"
           }
          ],
          "choropleth": [
           {
            "colorbar": {
             "outlinewidth": 0,
             "ticks": ""
            },
            "type": "choropleth"
           }
          ],
          "contour": [
           {
            "colorbar": {
             "outlinewidth": 0,
             "ticks": ""
            },
            "colorscale": [
             [
              0,
              "#0d0887"
             ],
             [
              0.1111111111111111,
              "#46039f"
             ],
             [
              0.2222222222222222,
              "#7201a8"
             ],
             [
              0.3333333333333333,
              "#9c179e"
             ],
             [
              0.4444444444444444,
              "#bd3786"
             ],
             [
              0.5555555555555556,
              "#d8576b"
             ],
             [
              0.6666666666666666,
              "#ed7953"
             ],
             [
              0.7777777777777778,
              "#fb9f3a"
             ],
             [
              0.8888888888888888,
              "#fdca26"
             ],
             [
              1,
              "#f0f921"
             ]
            ],
            "type": "contour"
           }
          ],
          "contourcarpet": [
           {
            "colorbar": {
             "outlinewidth": 0,
             "ticks": ""
            },
            "type": "contourcarpet"
           }
          ],
          "heatmap": [
           {
            "colorbar": {
             "outlinewidth": 0,
             "ticks": ""
            },
            "colorscale": [
             [
              0,
              "#0d0887"
             ],
             [
              0.1111111111111111,
              "#46039f"
             ],
             [
              0.2222222222222222,
              "#7201a8"
             ],
             [
              0.3333333333333333,
              "#9c179e"
             ],
             [
              0.4444444444444444,
              "#bd3786"
             ],
             [
              0.5555555555555556,
              "#d8576b"
             ],
             [
              0.6666666666666666,
              "#ed7953"
             ],
             [
              0.7777777777777778,
              "#fb9f3a"
             ],
             [
              0.8888888888888888,
              "#fdca26"
             ],
             [
              1,
              "#f0f921"
             ]
            ],
            "type": "heatmap"
           }
          ],
          "histogram": [
           {
            "marker": {
             "pattern": {
              "fillmode": "overlay",
              "size": 10,
              "solidity": 0.2
             }
            },
            "type": "histogram"
           }
          ],
          "histogram2d": [
           {
            "colorbar": {
             "outlinewidth": 0,
             "ticks": ""
            },
            "colorscale": [
             [
              0,
              "#0d0887"
             ],
             [
              0.1111111111111111,
              "#46039f"
             ],
             [
              0.2222222222222222,
              "#7201a8"
             ],
             [
              0.3333333333333333,
              "#9c179e"
             ],
             [
              0.4444444444444444,
              "#bd3786"
             ],
             [
              0.5555555555555556,
              "#d8576b"
             ],
             [
              0.6666666666666666,
              "#ed7953"
             ],
             [
              0.7777777777777778,
              "#fb9f3a"
             ],
             [
              0.8888888888888888,
              "#fdca26"
             ],
             [
              1,
              "#f0f921"
             ]
            ],
            "type": "histogram2d"
           }
          ],
          "histogram2dcontour": [
           {
            "colorbar": {
             "outlinewidth": 0,
             "ticks": ""
            },
            "colorscale": [
             [
              0,
              "#0d0887"
             ],
             [
              0.1111111111111111,
              "#46039f"
             ],
             [
              0.2222222222222222,
              "#7201a8"
             ],
             [
              0.3333333333333333,
              "#9c179e"
             ],
             [
              0.4444444444444444,
              "#bd3786"
             ],
             [
              0.5555555555555556,
              "#d8576b"
             ],
             [
              0.6666666666666666,
              "#ed7953"
             ],
             [
              0.7777777777777778,
              "#fb9f3a"
             ],
             [
              0.8888888888888888,
              "#fdca26"
             ],
             [
              1,
              "#f0f921"
             ]
            ],
            "type": "histogram2dcontour"
           }
          ],
          "mesh3d": [
           {
            "colorbar": {
             "outlinewidth": 0,
             "ticks": ""
            },
            "type": "mesh3d"
           }
          ],
          "parcoords": [
           {
            "line": {
             "colorbar": {
              "outlinewidth": 0,
              "ticks": ""
             }
            },
            "type": "parcoords"
           }
          ],
          "pie": [
           {
            "automargin": true,
            "type": "pie"
           }
          ],
          "scatter": [
           {
            "fillpattern": {
             "fillmode": "overlay",
             "size": 10,
             "solidity": 0.2
            },
            "type": "scatter"
           }
          ],
          "scatter3d": [
           {
            "line": {
             "colorbar": {
              "outlinewidth": 0,
              "ticks": ""
             }
            },
            "marker": {
             "colorbar": {
              "outlinewidth": 0,
              "ticks": ""
             }
            },
            "type": "scatter3d"
           }
          ],
          "scattercarpet": [
           {
            "marker": {
             "colorbar": {
              "outlinewidth": 0,
              "ticks": ""
             }
            },
            "type": "scattercarpet"
           }
          ],
          "scattergeo": [
           {
            "marker": {
             "colorbar": {
              "outlinewidth": 0,
              "ticks": ""
             }
            },
            "type": "scattergeo"
           }
          ],
          "scattergl": [
           {
            "marker": {
             "colorbar": {
              "outlinewidth": 0,
              "ticks": ""
             }
            },
            "type": "scattergl"
           }
          ],
          "scattermap": [
           {
            "marker": {
             "colorbar": {
              "outlinewidth": 0,
              "ticks": ""
             }
            },
            "type": "scattermap"
           }
          ],
          "scattermapbox": [
           {
            "marker": {
             "colorbar": {
              "outlinewidth": 0,
              "ticks": ""
             }
            },
            "type": "scattermapbox"
           }
          ],
          "scatterpolar": [
           {
            "marker": {
             "colorbar": {
              "outlinewidth": 0,
              "ticks": ""
             }
            },
            "type": "scatterpolar"
           }
          ],
          "scatterpolargl": [
           {
            "marker": {
             "colorbar": {
              "outlinewidth": 0,
              "ticks": ""
             }
            },
            "type": "scatterpolargl"
           }
          ],
          "scatterternary": [
           {
            "marker": {
             "colorbar": {
              "outlinewidth": 0,
              "ticks": ""
             }
            },
            "type": "scatterternary"
           }
          ],
          "surface": [
           {
            "colorbar": {
             "outlinewidth": 0,
             "ticks": ""
            },
            "colorscale": [
             [
              0,
              "#0d0887"
             ],
             [
              0.1111111111111111,
              "#46039f"
             ],
             [
              0.2222222222222222,
              "#7201a8"
             ],
             [
              0.3333333333333333,
              "#9c179e"
             ],
             [
              0.4444444444444444,
              "#bd3786"
             ],
             [
              0.5555555555555556,
              "#d8576b"
             ],
             [
              0.6666666666666666,
              "#ed7953"
             ],
             [
              0.7777777777777778,
              "#fb9f3a"
             ],
             [
              0.8888888888888888,
              "#fdca26"
             ],
             [
              1,
              "#f0f921"
             ]
            ],
            "type": "surface"
           }
          ],
          "table": [
           {
            "cells": {
             "fill": {
              "color": "#EBF0F8"
             },
             "line": {
              "color": "white"
             }
            },
            "header": {
             "fill": {
              "color": "#C8D4E3"
             },
             "line": {
              "color": "white"
             }
            },
            "type": "table"
           }
          ]
         },
         "layout": {
          "annotationdefaults": {
           "arrowcolor": "#2a3f5f",
           "arrowhead": 0,
           "arrowwidth": 1
          },
          "autotypenumbers": "strict",
          "coloraxis": {
           "colorbar": {
            "outlinewidth": 0,
            "ticks": ""
           }
          },
          "colorscale": {
           "diverging": [
            [
             0,
             "#8e0152"
            ],
            [
             0.1,
             "#c51b7d"
            ],
            [
             0.2,
             "#de77ae"
            ],
            [
             0.3,
             "#f1b6da"
            ],
            [
             0.4,
             "#fde0ef"
            ],
            [
             0.5,
             "#f7f7f7"
            ],
            [
             0.6,
             "#e6f5d0"
            ],
            [
             0.7,
             "#b8e186"
            ],
            [
             0.8,
             "#7fbc41"
            ],
            [
             0.9,
             "#4d9221"
            ],
            [
             1,
             "#276419"
            ]
           ],
           "sequential": [
            [
             0,
             "#0d0887"
            ],
            [
             0.1111111111111111,
             "#46039f"
            ],
            [
             0.2222222222222222,
             "#7201a8"
            ],
            [
             0.3333333333333333,
             "#9c179e"
            ],
            [
             0.4444444444444444,
             "#bd3786"
            ],
            [
             0.5555555555555556,
             "#d8576b"
            ],
            [
             0.6666666666666666,
             "#ed7953"
            ],
            [
             0.7777777777777778,
             "#fb9f3a"
            ],
            [
             0.8888888888888888,
             "#fdca26"
            ],
            [
             1,
             "#f0f921"
            ]
           ],
           "sequentialminus": [
            [
             0,
             "#0d0887"
            ],
            [
             0.1111111111111111,
             "#46039f"
            ],
            [
             0.2222222222222222,
             "#7201a8"
            ],
            [
             0.3333333333333333,
             "#9c179e"
            ],
            [
             0.4444444444444444,
             "#bd3786"
            ],
            [
             0.5555555555555556,
             "#d8576b"
            ],
            [
             0.6666666666666666,
             "#ed7953"
            ],
            [
             0.7777777777777778,
             "#fb9f3a"
            ],
            [
             0.8888888888888888,
             "#fdca26"
            ],
            [
             1,
             "#f0f921"
            ]
           ]
          },
          "colorway": [
           "#636efa",
           "#EF553B",
           "#00cc96",
           "#ab63fa",
           "#FFA15A",
           "#19d3f3",
           "#FF6692",
           "#B6E880",
           "#FF97FF",
           "#FECB52"
          ],
          "font": {
           "color": "#2a3f5f"
          },
          "geo": {
           "bgcolor": "white",
           "lakecolor": "white",
           "landcolor": "#E5ECF6",
           "showlakes": true,
           "showland": true,
           "subunitcolor": "white"
          },
          "hoverlabel": {
           "align": "left"
          },
          "hovermode": "closest",
          "mapbox": {
           "style": "light"
          },
          "paper_bgcolor": "white",
          "plot_bgcolor": "#E5ECF6",
          "polar": {
           "angularaxis": {
            "gridcolor": "white",
            "linecolor": "white",
            "ticks": ""
           },
           "bgcolor": "#E5ECF6",
           "radialaxis": {
            "gridcolor": "white",
            "linecolor": "white",
            "ticks": ""
           }
          },
          "scene": {
           "xaxis": {
            "backgroundcolor": "#E5ECF6",
            "gridcolor": "white",
            "gridwidth": 2,
            "linecolor": "white",
            "showbackground": true,
            "ticks": "",
            "zerolinecolor": "white"
           },
           "yaxis": {
            "backgroundcolor": "#E5ECF6",
            "gridcolor": "white",
            "gridwidth": 2,
            "linecolor": "white",
            "showbackground": true,
            "ticks": "",
            "zerolinecolor": "white"
           },
           "zaxis": {
            "backgroundcolor": "#E5ECF6",
            "gridcolor": "white",
            "gridwidth": 2,
            "linecolor": "white",
            "showbackground": true,
            "ticks": "",
            "zerolinecolor": "white"
           }
          },
          "shapedefaults": {
           "line": {
            "color": "#2a3f5f"
           }
          },
          "ternary": {
           "aaxis": {
            "gridcolor": "white",
            "linecolor": "white",
            "ticks": ""
           },
           "baxis": {
            "gridcolor": "white",
            "linecolor": "white",
            "ticks": ""
           },
           "bgcolor": "#E5ECF6",
           "caxis": {
            "gridcolor": "white",
            "linecolor": "white",
            "ticks": ""
           }
          },
          "title": {
           "x": 0.05
          },
          "xaxis": {
           "automargin": true,
           "gridcolor": "white",
           "linecolor": "white",
           "ticks": "",
           "title": {
            "standoff": 15
           },
           "zerolinecolor": "white",
           "zerolinewidth": 2
          },
          "yaxis": {
           "automargin": true,
           "gridcolor": "white",
           "linecolor": "white",
           "ticks": "",
           "title": {
            "standoff": 15
           },
           "zerolinecolor": "white",
           "zerolinewidth": 2
          }
         }
        },
        "title": {
         "text": "Top 10 Tracks by Danceability"
        },
        "xaxis": {
         "anchor": "y",
         "domain": [
          0,
          1
         ],
         "title": {
          "text": "Danceability"
         }
        },
        "yaxis": {
         "anchor": "x",
         "domain": [
          0,
          1
         ],
         "title": {
          "text": "Track Name"
         }
        }
       }
      }
     },
     "metadata": {},
     "output_type": "display_data"
    }
   ],
   "source": [
    "df_percentage = df_spotify[[\"Artist(S) Name\", 'Streams', 'Danceability %', 'Valence %', 'Energy %', 'Acousticness %']]\n",
    "df_top_dance = df_percentage[[\"Artist(S) Name\", \"Danceability %\", \"Streams\"]].sort_values(by=\"Danceability %\"\n",
    "                                                                                          ,ascending=False).head(10)\n",
    "\n",
    "px.bar(\n",
    "    df_top_dance,\n",
    "    title=\"Top 10 Tracks by Danceability\",\n",
    "    y=df_top_dance.index,\n",
    "    x=\"Danceability %\",\n",
    "    color=\"Danceability %\",\n",
    "    labels={\"Danceability %\": \"Danceability\"},\n",
    "    hover_data={'Streams':        True,\n",
    "                'Artist(S) Name': True},\n",
    "    orientation='h',\n",
    "    height=500\n",
    ")"
   ]
  },
  {
   "cell_type": "markdown",
   "id": "58f92f61",
   "metadata": {},
   "source": [
    "![Track Age vs Streams](screenshots/top-10-tracks-by-danceability.png)\n"
   ]
  },
  {
   "cell_type": "markdown",
   "id": "827da9d0",
   "metadata": {},
   "source": [
    "### Top 10 Tracks by Valence\n",
    "\n",
    "This horizontal bar chart highlights the tracks with the **highest valence scores**, representing the **positivity or happiness conveyed in the music**. Key insights:  \n",
    "\n",
    "- **\"Doja\" by Central Cee** and **\"JGL\" (Luis R Conriquez, La Adictiva)** top the chart, both scoring **97 in valence**, indicating highly uplifting or cheerful tones.  \n",
    "\n",
    "- Popular mainstream hits like **\"There's Nothing Holdin' Me Back\" (Shawn Mendes)** also feature high valence, showing that **positivity often aligns with broad listener appeal**.  \n",
    "\n",
    "- Several regional or less globally popular tracks, such as **\"En El Radio Un Cochinero\" (Victor Cibrian)**, maintain **very high valence scores despite lower total streams**, highlighting that **emotional tone does not always predict commercial success**.  \n",
    "\n",
    "- Other notable tracks include **\"Zona De Perigo\" (Leo Santana)**, **\"If We Ever Broke Up\" (Mae Stephens)**, and **\"Feliz Navidad\" (José Felic)**, emphasizing a **diverse range of genres capable of generating positive emotions**.  \n",
    "\n",
    "- This visualization allows us to **identify the musical characteristics that evoke happiness** and can inform **playlist curation, content strategy, and listener targeting**.  \n"
   ]
  },
  {
   "cell_type": "code",
   "execution_count": 26,
   "id": "c087638e",
   "metadata": {},
   "outputs": [
    {
     "data": {
      "application/vnd.plotly.v1+json": {
       "config": {
        "plotlyServerURL": "https://plot.ly"
       },
       "data": [
        {
         "customdata": [
          [
           482257456,
           "Central Cee"
          ],
          [
           323455692,
           "Luis R Conriquez, La Adictiva"
          ],
          [
           164856284,
           "Victor Cibrian"
          ],
          [
           1714490998,
           "Shawn Mendes"
          ],
          [
           134294498,
           "Leo Santana"
          ],
          [
           165584767,
           "Mae Stephens"
          ],
          [
           520034544,
           "Josï¿½ï¿½ Felic"
          ],
          [
           248088961,
           "Taiu, Milo j"
          ],
          [
           175399345,
           "Quevedo"
          ],
          [
           78300654,
           "Fuerza Regida"
          ]
         ],
         "hovertemplate": "Valence=%{marker.color}<br>Track Name=%{y}<br>Streams=%{customdata[0]}<br>Artist(S) Name=%{customdata[1]}<extra></extra>",
         "legendgroup": "",
         "marker": {
          "color": {
           "bdata": "YWFhYWFgYGBgYA==",
           "dtype": "i1"
          },
          "coloraxis": "coloraxis",
          "pattern": {
           "shape": ""
          }
         },
         "name": "",
         "orientation": "h",
         "showlegend": false,
         "textposition": "auto",
         "type": "bar",
         "x": {
          "bdata": "YWFhYWFgYGBgYA==",
          "dtype": "i1"
         },
         "xaxis": "x",
         "y": [
          "Doja",
          "JGL",
          "En El Radio Un Cochinero",
          "There's Nothing Holdin' Me Back",
          "Zona De Perigo",
          "If We Ever Broke Up",
          "Feliz Navidad",
          "Rara Vez",
          "WANDA",
          "SABOR FRESA"
         ],
         "yaxis": "y"
        }
       ],
       "layout": {
        "barmode": "relative",
        "coloraxis": {
         "colorbar": {
          "title": {
           "text": "Valence"
          }
         },
         "colorscale": [
          [
           0,
           "#0d0887"
          ],
          [
           0.1111111111111111,
           "#46039f"
          ],
          [
           0.2222222222222222,
           "#7201a8"
          ],
          [
           0.3333333333333333,
           "#9c179e"
          ],
          [
           0.4444444444444444,
           "#bd3786"
          ],
          [
           0.5555555555555556,
           "#d8576b"
          ],
          [
           0.6666666666666666,
           "#ed7953"
          ],
          [
           0.7777777777777778,
           "#fb9f3a"
          ],
          [
           0.8888888888888888,
           "#fdca26"
          ],
          [
           1,
           "#f0f921"
          ]
         ]
        },
        "height": 500,
        "legend": {
         "tracegroupgap": 0
        },
        "template": {
         "data": {
          "bar": [
           {
            "error_x": {
             "color": "#2a3f5f"
            },
            "error_y": {
             "color": "#2a3f5f"
            },
            "marker": {
             "line": {
              "color": "#E5ECF6",
              "width": 0.5
             },
             "pattern": {
              "fillmode": "overlay",
              "size": 10,
              "solidity": 0.2
             }
            },
            "type": "bar"
           }
          ],
          "barpolar": [
           {
            "marker": {
             "line": {
              "color": "#E5ECF6",
              "width": 0.5
             },
             "pattern": {
              "fillmode": "overlay",
              "size": 10,
              "solidity": 0.2
             }
            },
            "type": "barpolar"
           }
          ],
          "carpet": [
           {
            "aaxis": {
             "endlinecolor": "#2a3f5f",
             "gridcolor": "white",
             "linecolor": "white",
             "minorgridcolor": "white",
             "startlinecolor": "#2a3f5f"
            },
            "baxis": {
             "endlinecolor": "#2a3f5f",
             "gridcolor": "white",
             "linecolor": "white",
             "minorgridcolor": "white",
             "startlinecolor": "#2a3f5f"
            },
            "type": "carpet"
           }
          ],
          "choropleth": [
           {
            "colorbar": {
             "outlinewidth": 0,
             "ticks": ""
            },
            "type": "choropleth"
           }
          ],
          "contour": [
           {
            "colorbar": {
             "outlinewidth": 0,
             "ticks": ""
            },
            "colorscale": [
             [
              0,
              "#0d0887"
             ],
             [
              0.1111111111111111,
              "#46039f"
             ],
             [
              0.2222222222222222,
              "#7201a8"
             ],
             [
              0.3333333333333333,
              "#9c179e"
             ],
             [
              0.4444444444444444,
              "#bd3786"
             ],
             [
              0.5555555555555556,
              "#d8576b"
             ],
             [
              0.6666666666666666,
              "#ed7953"
             ],
             [
              0.7777777777777778,
              "#fb9f3a"
             ],
             [
              0.8888888888888888,
              "#fdca26"
             ],
             [
              1,
              "#f0f921"
             ]
            ],
            "type": "contour"
           }
          ],
          "contourcarpet": [
           {
            "colorbar": {
             "outlinewidth": 0,
             "ticks": ""
            },
            "type": "contourcarpet"
           }
          ],
          "heatmap": [
           {
            "colorbar": {
             "outlinewidth": 0,
             "ticks": ""
            },
            "colorscale": [
             [
              0,
              "#0d0887"
             ],
             [
              0.1111111111111111,
              "#46039f"
             ],
             [
              0.2222222222222222,
              "#7201a8"
             ],
             [
              0.3333333333333333,
              "#9c179e"
             ],
             [
              0.4444444444444444,
              "#bd3786"
             ],
             [
              0.5555555555555556,
              "#d8576b"
             ],
             [
              0.6666666666666666,
              "#ed7953"
             ],
             [
              0.7777777777777778,
              "#fb9f3a"
             ],
             [
              0.8888888888888888,
              "#fdca26"
             ],
             [
              1,
              "#f0f921"
             ]
            ],
            "type": "heatmap"
           }
          ],
          "histogram": [
           {
            "marker": {
             "pattern": {
              "fillmode": "overlay",
              "size": 10,
              "solidity": 0.2
             }
            },
            "type": "histogram"
           }
          ],
          "histogram2d": [
           {
            "colorbar": {
             "outlinewidth": 0,
             "ticks": ""
            },
            "colorscale": [
             [
              0,
              "#0d0887"
             ],
             [
              0.1111111111111111,
              "#46039f"
             ],
             [
              0.2222222222222222,
              "#7201a8"
             ],
             [
              0.3333333333333333,
              "#9c179e"
             ],
             [
              0.4444444444444444,
              "#bd3786"
             ],
             [
              0.5555555555555556,
              "#d8576b"
             ],
             [
              0.6666666666666666,
              "#ed7953"
             ],
             [
              0.7777777777777778,
              "#fb9f3a"
             ],
             [
              0.8888888888888888,
              "#fdca26"
             ],
             [
              1,
              "#f0f921"
             ]
            ],
            "type": "histogram2d"
           }
          ],
          "histogram2dcontour": [
           {
            "colorbar": {
             "outlinewidth": 0,
             "ticks": ""
            },
            "colorscale": [
             [
              0,
              "#0d0887"
             ],
             [
              0.1111111111111111,
              "#46039f"
             ],
             [
              0.2222222222222222,
              "#7201a8"
             ],
             [
              0.3333333333333333,
              "#9c179e"
             ],
             [
              0.4444444444444444,
              "#bd3786"
             ],
             [
              0.5555555555555556,
              "#d8576b"
             ],
             [
              0.6666666666666666,
              "#ed7953"
             ],
             [
              0.7777777777777778,
              "#fb9f3a"
             ],
             [
              0.8888888888888888,
              "#fdca26"
             ],
             [
              1,
              "#f0f921"
             ]
            ],
            "type": "histogram2dcontour"
           }
          ],
          "mesh3d": [
           {
            "colorbar": {
             "outlinewidth": 0,
             "ticks": ""
            },
            "type": "mesh3d"
           }
          ],
          "parcoords": [
           {
            "line": {
             "colorbar": {
              "outlinewidth": 0,
              "ticks": ""
             }
            },
            "type": "parcoords"
           }
          ],
          "pie": [
           {
            "automargin": true,
            "type": "pie"
           }
          ],
          "scatter": [
           {
            "fillpattern": {
             "fillmode": "overlay",
             "size": 10,
             "solidity": 0.2
            },
            "type": "scatter"
           }
          ],
          "scatter3d": [
           {
            "line": {
             "colorbar": {
              "outlinewidth": 0,
              "ticks": ""
             }
            },
            "marker": {
             "colorbar": {
              "outlinewidth": 0,
              "ticks": ""
             }
            },
            "type": "scatter3d"
           }
          ],
          "scattercarpet": [
           {
            "marker": {
             "colorbar": {
              "outlinewidth": 0,
              "ticks": ""
             }
            },
            "type": "scattercarpet"
           }
          ],
          "scattergeo": [
           {
            "marker": {
             "colorbar": {
              "outlinewidth": 0,
              "ticks": ""
             }
            },
            "type": "scattergeo"
           }
          ],
          "scattergl": [
           {
            "marker": {
             "colorbar": {
              "outlinewidth": 0,
              "ticks": ""
             }
            },
            "type": "scattergl"
           }
          ],
          "scattermap": [
           {
            "marker": {
             "colorbar": {
              "outlinewidth": 0,
              "ticks": ""
             }
            },
            "type": "scattermap"
           }
          ],
          "scattermapbox": [
           {
            "marker": {
             "colorbar": {
              "outlinewidth": 0,
              "ticks": ""
             }
            },
            "type": "scattermapbox"
           }
          ],
          "scatterpolar": [
           {
            "marker": {
             "colorbar": {
              "outlinewidth": 0,
              "ticks": ""
             }
            },
            "type": "scatterpolar"
           }
          ],
          "scatterpolargl": [
           {
            "marker": {
             "colorbar": {
              "outlinewidth": 0,
              "ticks": ""
             }
            },
            "type": "scatterpolargl"
           }
          ],
          "scatterternary": [
           {
            "marker": {
             "colorbar": {
              "outlinewidth": 0,
              "ticks": ""
             }
            },
            "type": "scatterternary"
           }
          ],
          "surface": [
           {
            "colorbar": {
             "outlinewidth": 0,
             "ticks": ""
            },
            "colorscale": [
             [
              0,
              "#0d0887"
             ],
             [
              0.1111111111111111,
              "#46039f"
             ],
             [
              0.2222222222222222,
              "#7201a8"
             ],
             [
              0.3333333333333333,
              "#9c179e"
             ],
             [
              0.4444444444444444,
              "#bd3786"
             ],
             [
              0.5555555555555556,
              "#d8576b"
             ],
             [
              0.6666666666666666,
              "#ed7953"
             ],
             [
              0.7777777777777778,
              "#fb9f3a"
             ],
             [
              0.8888888888888888,
              "#fdca26"
             ],
             [
              1,
              "#f0f921"
             ]
            ],
            "type": "surface"
           }
          ],
          "table": [
           {
            "cells": {
             "fill": {
              "color": "#EBF0F8"
             },
             "line": {
              "color": "white"
             }
            },
            "header": {
             "fill": {
              "color": "#C8D4E3"
             },
             "line": {
              "color": "white"
             }
            },
            "type": "table"
           }
          ]
         },
         "layout": {
          "annotationdefaults": {
           "arrowcolor": "#2a3f5f",
           "arrowhead": 0,
           "arrowwidth": 1
          },
          "autotypenumbers": "strict",
          "coloraxis": {
           "colorbar": {
            "outlinewidth": 0,
            "ticks": ""
           }
          },
          "colorscale": {
           "diverging": [
            [
             0,
             "#8e0152"
            ],
            [
             0.1,
             "#c51b7d"
            ],
            [
             0.2,
             "#de77ae"
            ],
            [
             0.3,
             "#f1b6da"
            ],
            [
             0.4,
             "#fde0ef"
            ],
            [
             0.5,
             "#f7f7f7"
            ],
            [
             0.6,
             "#e6f5d0"
            ],
            [
             0.7,
             "#b8e186"
            ],
            [
             0.8,
             "#7fbc41"
            ],
            [
             0.9,
             "#4d9221"
            ],
            [
             1,
             "#276419"
            ]
           ],
           "sequential": [
            [
             0,
             "#0d0887"
            ],
            [
             0.1111111111111111,
             "#46039f"
            ],
            [
             0.2222222222222222,
             "#7201a8"
            ],
            [
             0.3333333333333333,
             "#9c179e"
            ],
            [
             0.4444444444444444,
             "#bd3786"
            ],
            [
             0.5555555555555556,
             "#d8576b"
            ],
            [
             0.6666666666666666,
             "#ed7953"
            ],
            [
             0.7777777777777778,
             "#fb9f3a"
            ],
            [
             0.8888888888888888,
             "#fdca26"
            ],
            [
             1,
             "#f0f921"
            ]
           ],
           "sequentialminus": [
            [
             0,
             "#0d0887"
            ],
            [
             0.1111111111111111,
             "#46039f"
            ],
            [
             0.2222222222222222,
             "#7201a8"
            ],
            [
             0.3333333333333333,
             "#9c179e"
            ],
            [
             0.4444444444444444,
             "#bd3786"
            ],
            [
             0.5555555555555556,
             "#d8576b"
            ],
            [
             0.6666666666666666,
             "#ed7953"
            ],
            [
             0.7777777777777778,
             "#fb9f3a"
            ],
            [
             0.8888888888888888,
             "#fdca26"
            ],
            [
             1,
             "#f0f921"
            ]
           ]
          },
          "colorway": [
           "#636efa",
           "#EF553B",
           "#00cc96",
           "#ab63fa",
           "#FFA15A",
           "#19d3f3",
           "#FF6692",
           "#B6E880",
           "#FF97FF",
           "#FECB52"
          ],
          "font": {
           "color": "#2a3f5f"
          },
          "geo": {
           "bgcolor": "white",
           "lakecolor": "white",
           "landcolor": "#E5ECF6",
           "showlakes": true,
           "showland": true,
           "subunitcolor": "white"
          },
          "hoverlabel": {
           "align": "left"
          },
          "hovermode": "closest",
          "mapbox": {
           "style": "light"
          },
          "paper_bgcolor": "white",
          "plot_bgcolor": "#E5ECF6",
          "polar": {
           "angularaxis": {
            "gridcolor": "white",
            "linecolor": "white",
            "ticks": ""
           },
           "bgcolor": "#E5ECF6",
           "radialaxis": {
            "gridcolor": "white",
            "linecolor": "white",
            "ticks": ""
           }
          },
          "scene": {
           "xaxis": {
            "backgroundcolor": "#E5ECF6",
            "gridcolor": "white",
            "gridwidth": 2,
            "linecolor": "white",
            "showbackground": true,
            "ticks": "",
            "zerolinecolor": "white"
           },
           "yaxis": {
            "backgroundcolor": "#E5ECF6",
            "gridcolor": "white",
            "gridwidth": 2,
            "linecolor": "white",
            "showbackground": true,
            "ticks": "",
            "zerolinecolor": "white"
           },
           "zaxis": {
            "backgroundcolor": "#E5ECF6",
            "gridcolor": "white",
            "gridwidth": 2,
            "linecolor": "white",
            "showbackground": true,
            "ticks": "",
            "zerolinecolor": "white"
           }
          },
          "shapedefaults": {
           "line": {
            "color": "#2a3f5f"
           }
          },
          "ternary": {
           "aaxis": {
            "gridcolor": "white",
            "linecolor": "white",
            "ticks": ""
           },
           "baxis": {
            "gridcolor": "white",
            "linecolor": "white",
            "ticks": ""
           },
           "bgcolor": "#E5ECF6",
           "caxis": {
            "gridcolor": "white",
            "linecolor": "white",
            "ticks": ""
           }
          },
          "title": {
           "x": 0.05
          },
          "xaxis": {
           "automargin": true,
           "gridcolor": "white",
           "linecolor": "white",
           "ticks": "",
           "title": {
            "standoff": 15
           },
           "zerolinecolor": "white",
           "zerolinewidth": 2
          },
          "yaxis": {
           "automargin": true,
           "gridcolor": "white",
           "linecolor": "white",
           "ticks": "",
           "title": {
            "standoff": 15
           },
           "zerolinecolor": "white",
           "zerolinewidth": 2
          }
         }
        },
        "title": {
         "text": "Top 10 Tracks by Valence"
        },
        "xaxis": {
         "anchor": "y",
         "domain": [
          0,
          1
         ],
         "title": {
          "text": "Valence"
         }
        },
        "yaxis": {
         "anchor": "x",
         "domain": [
          0,
          1
         ],
         "title": {
          "text": "Track Name"
         }
        }
       }
      }
     },
     "metadata": {},
     "output_type": "display_data"
    }
   ],
   "source": [
    "df_top_valence = df_percentage[[\"Artist(S) Name\", \"Valence %\", \"Streams\"]].sort_values(by=\"Valence %\"\n",
    "                                                                                          ,ascending=False).head(10)\n",
    "\n",
    "px.bar(\n",
    "    df_top_valence,\n",
    "    title=\"Top 10 Tracks by Valence\",\n",
    "    y=df_top_valence.index,\n",
    "    x=\"Valence %\",\n",
    "    color=\"Valence %\",\n",
    "    labels={\"Valence %\": \"Valence\"},\n",
    "    hover_data={'Streams':        True,\n",
    "                'Artist(S) Name': True},\n",
    "    orientation='h',\n",
    "    height=500\n",
    ")"
   ]
  },
  {
   "cell_type": "markdown",
   "id": "0f53c251",
   "metadata": {},
   "source": [
    "![Track Age vs Streams](screenshots/top-10-tracks-by-valence.png)"
   ]
  },
  {
   "cell_type": "markdown",
   "id": "6ece5dcd",
   "metadata": {},
   "source": [
    "### Top 10 Tracks by Energy\n",
    "\n",
    "This horizontal bar chart highlights the tracks with the **highest energy scores**, representing **intensity, tempo, and overall dynamism** in the music. Key insights:  \n",
    "\n",
    "- **\"I'm Good (Blue)\" (Bebe Rexha, David Guetta)** and **\"Murder In My Mind\" (Kordhell)** lead with **97 energy**, reflecting highly upbeat and vigorous tracks that likely stimulate listener engagement.  \n",
    "\n",
    "- Tracks like **\"That That\" (PSY, Suga)** and **\"Tï¿½ï¿\" (Dennis, MC Kevin o Chris)** demonstrate that **high energy spans multiple genres and regions**, from K-pop to Latin music.  \n",
    "\n",
    "- Even tracks with moderate streams, such as **\"Every Angel is Terrifying\" (The Weeknd)**, maintain high energy, showing that **energy does not directly predict total streams**.  \n",
    "\n",
    "- Other notable tracks, including **\"Bombonzinho - Ao Vivo\" (Israel & Rodolffo, Ana Castela)** and **\"Freaks\" (Surf Curse)**, underline the **diversity of musical styles capable of delivering intense auditory experiences**.  \n",
    "\n",
    "- This visualization enables a clear understanding of **which tracks maximize listener stimulation**, useful for **playlist creation, targeted recommendations, and energy-based music analysis**.  \n"
   ]
  },
  {
   "cell_type": "code",
   "execution_count": 27,
   "id": "e0e73724",
   "metadata": {},
   "outputs": [
    {
     "data": {
      "application/vnd.plotly.v1+json": {
       "config": {
        "plotlyServerURL": "https://plot.ly"
       },
       "data": [
        {
         "customdata": [
          [
           1109433169,
           "Bebe Rexha, David Guetta"
          ],
          [
           448843705,
           "Kordhell"
          ],
          [
           212109195,
           "PSY, Suga"
          ],
          [
           111947664,
           "dennis, MC Kevin o Chris"
          ],
          [
           263453310,
           "Israel & Rodolffo, Ana Castela"
          ],
          [
           143573775,
           "YOASOBI"
          ],
          [
           135723538,
           "Ed Sheeran, Elton John"
          ],
          [
           37307967,
           "The Weeknd"
          ],
          [
           210038833,
           "Kenshi Yonezu"
          ],
          [
           824420218,
           "Surf Curse"
          ]
         ],
         "hovertemplate": "Energy=%{marker.color}<br>Track Name=%{y}<br>Streams=%{customdata[0]}<br>Artist(S) Name=%{customdata[1]}<extra></extra>",
         "legendgroup": "",
         "marker": {
          "color": {
           "bdata": "YWFgYF9eXl5eXg==",
           "dtype": "i1"
          },
          "coloraxis": "coloraxis",
          "pattern": {
           "shape": ""
          }
         },
         "name": "",
         "orientation": "h",
         "showlegend": false,
         "textposition": "auto",
         "type": "bar",
         "x": {
          "bdata": "YWFgYF9eXl5eXg==",
          "dtype": "i1"
         },
         "xaxis": "x",
         "y": [
          "I'm Good (Blue)",
          "Murder In My Mind",
          "That That (prod. & feat. SUGA of BTS)",
          "Tï¿½ï¿",
          "Bombonzinho - Ao Vivo",
          "ýýýýýýýýýýýý",
          "Merry Christmas",
          "Every Angel is Terrifying",
          "KICK BACK",
          "Freaks"
         ],
         "yaxis": "y"
        }
       ],
       "layout": {
        "barmode": "relative",
        "coloraxis": {
         "colorbar": {
          "title": {
           "text": "Energy"
          }
         },
         "colorscale": [
          [
           0,
           "#0d0887"
          ],
          [
           0.1111111111111111,
           "#46039f"
          ],
          [
           0.2222222222222222,
           "#7201a8"
          ],
          [
           0.3333333333333333,
           "#9c179e"
          ],
          [
           0.4444444444444444,
           "#bd3786"
          ],
          [
           0.5555555555555556,
           "#d8576b"
          ],
          [
           0.6666666666666666,
           "#ed7953"
          ],
          [
           0.7777777777777778,
           "#fb9f3a"
          ],
          [
           0.8888888888888888,
           "#fdca26"
          ],
          [
           1,
           "#f0f921"
          ]
         ]
        },
        "height": 500,
        "legend": {
         "tracegroupgap": 0
        },
        "template": {
         "data": {
          "bar": [
           {
            "error_x": {
             "color": "#2a3f5f"
            },
            "error_y": {
             "color": "#2a3f5f"
            },
            "marker": {
             "line": {
              "color": "#E5ECF6",
              "width": 0.5
             },
             "pattern": {
              "fillmode": "overlay",
              "size": 10,
              "solidity": 0.2
             }
            },
            "type": "bar"
           }
          ],
          "barpolar": [
           {
            "marker": {
             "line": {
              "color": "#E5ECF6",
              "width": 0.5
             },
             "pattern": {
              "fillmode": "overlay",
              "size": 10,
              "solidity": 0.2
             }
            },
            "type": "barpolar"
           }
          ],
          "carpet": [
           {
            "aaxis": {
             "endlinecolor": "#2a3f5f",
             "gridcolor": "white",
             "linecolor": "white",
             "minorgridcolor": "white",
             "startlinecolor": "#2a3f5f"
            },
            "baxis": {
             "endlinecolor": "#2a3f5f",
             "gridcolor": "white",
             "linecolor": "white",
             "minorgridcolor": "white",
             "startlinecolor": "#2a3f5f"
            },
            "type": "carpet"
           }
          ],
          "choropleth": [
           {
            "colorbar": {
             "outlinewidth": 0,
             "ticks": ""
            },
            "type": "choropleth"
           }
          ],
          "contour": [
           {
            "colorbar": {
             "outlinewidth": 0,
             "ticks": ""
            },
            "colorscale": [
             [
              0,
              "#0d0887"
             ],
             [
              0.1111111111111111,
              "#46039f"
             ],
             [
              0.2222222222222222,
              "#7201a8"
             ],
             [
              0.3333333333333333,
              "#9c179e"
             ],
             [
              0.4444444444444444,
              "#bd3786"
             ],
             [
              0.5555555555555556,
              "#d8576b"
             ],
             [
              0.6666666666666666,
              "#ed7953"
             ],
             [
              0.7777777777777778,
              "#fb9f3a"
             ],
             [
              0.8888888888888888,
              "#fdca26"
             ],
             [
              1,
              "#f0f921"
             ]
            ],
            "type": "contour"
           }
          ],
          "contourcarpet": [
           {
            "colorbar": {
             "outlinewidth": 0,
             "ticks": ""
            },
            "type": "contourcarpet"
           }
          ],
          "heatmap": [
           {
            "colorbar": {
             "outlinewidth": 0,
             "ticks": ""
            },
            "colorscale": [
             [
              0,
              "#0d0887"
             ],
             [
              0.1111111111111111,
              "#46039f"
             ],
             [
              0.2222222222222222,
              "#7201a8"
             ],
             [
              0.3333333333333333,
              "#9c179e"
             ],
             [
              0.4444444444444444,
              "#bd3786"
             ],
             [
              0.5555555555555556,
              "#d8576b"
             ],
             [
              0.6666666666666666,
              "#ed7953"
             ],
             [
              0.7777777777777778,
              "#fb9f3a"
             ],
             [
              0.8888888888888888,
              "#fdca26"
             ],
             [
              1,
              "#f0f921"
             ]
            ],
            "type": "heatmap"
           }
          ],
          "histogram": [
           {
            "marker": {
             "pattern": {
              "fillmode": "overlay",
              "size": 10,
              "solidity": 0.2
             }
            },
            "type": "histogram"
           }
          ],
          "histogram2d": [
           {
            "colorbar": {
             "outlinewidth": 0,
             "ticks": ""
            },
            "colorscale": [
             [
              0,
              "#0d0887"
             ],
             [
              0.1111111111111111,
              "#46039f"
             ],
             [
              0.2222222222222222,
              "#7201a8"
             ],
             [
              0.3333333333333333,
              "#9c179e"
             ],
             [
              0.4444444444444444,
              "#bd3786"
             ],
             [
              0.5555555555555556,
              "#d8576b"
             ],
             [
              0.6666666666666666,
              "#ed7953"
             ],
             [
              0.7777777777777778,
              "#fb9f3a"
             ],
             [
              0.8888888888888888,
              "#fdca26"
             ],
             [
              1,
              "#f0f921"
             ]
            ],
            "type": "histogram2d"
           }
          ],
          "histogram2dcontour": [
           {
            "colorbar": {
             "outlinewidth": 0,
             "ticks": ""
            },
            "colorscale": [
             [
              0,
              "#0d0887"
             ],
             [
              0.1111111111111111,
              "#46039f"
             ],
             [
              0.2222222222222222,
              "#7201a8"
             ],
             [
              0.3333333333333333,
              "#9c179e"
             ],
             [
              0.4444444444444444,
              "#bd3786"
             ],
             [
              0.5555555555555556,
              "#d8576b"
             ],
             [
              0.6666666666666666,
              "#ed7953"
             ],
             [
              0.7777777777777778,
              "#fb9f3a"
             ],
             [
              0.8888888888888888,
              "#fdca26"
             ],
             [
              1,
              "#f0f921"
             ]
            ],
            "type": "histogram2dcontour"
           }
          ],
          "mesh3d": [
           {
            "colorbar": {
             "outlinewidth": 0,
             "ticks": ""
            },
            "type": "mesh3d"
           }
          ],
          "parcoords": [
           {
            "line": {
             "colorbar": {
              "outlinewidth": 0,
              "ticks": ""
             }
            },
            "type": "parcoords"
           }
          ],
          "pie": [
           {
            "automargin": true,
            "type": "pie"
           }
          ],
          "scatter": [
           {
            "fillpattern": {
             "fillmode": "overlay",
             "size": 10,
             "solidity": 0.2
            },
            "type": "scatter"
           }
          ],
          "scatter3d": [
           {
            "line": {
             "colorbar": {
              "outlinewidth": 0,
              "ticks": ""
             }
            },
            "marker": {
             "colorbar": {
              "outlinewidth": 0,
              "ticks": ""
             }
            },
            "type": "scatter3d"
           }
          ],
          "scattercarpet": [
           {
            "marker": {
             "colorbar": {
              "outlinewidth": 0,
              "ticks": ""
             }
            },
            "type": "scattercarpet"
           }
          ],
          "scattergeo": [
           {
            "marker": {
             "colorbar": {
              "outlinewidth": 0,
              "ticks": ""
             }
            },
            "type": "scattergeo"
           }
          ],
          "scattergl": [
           {
            "marker": {
             "colorbar": {
              "outlinewidth": 0,
              "ticks": ""
             }
            },
            "type": "scattergl"
           }
          ],
          "scattermap": [
           {
            "marker": {
             "colorbar": {
              "outlinewidth": 0,
              "ticks": ""
             }
            },
            "type": "scattermap"
           }
          ],
          "scattermapbox": [
           {
            "marker": {
             "colorbar": {
              "outlinewidth": 0,
              "ticks": ""
             }
            },
            "type": "scattermapbox"
           }
          ],
          "scatterpolar": [
           {
            "marker": {
             "colorbar": {
              "outlinewidth": 0,
              "ticks": ""
             }
            },
            "type": "scatterpolar"
           }
          ],
          "scatterpolargl": [
           {
            "marker": {
             "colorbar": {
              "outlinewidth": 0,
              "ticks": ""
             }
            },
            "type": "scatterpolargl"
           }
          ],
          "scatterternary": [
           {
            "marker": {
             "colorbar": {
              "outlinewidth": 0,
              "ticks": ""
             }
            },
            "type": "scatterternary"
           }
          ],
          "surface": [
           {
            "colorbar": {
             "outlinewidth": 0,
             "ticks": ""
            },
            "colorscale": [
             [
              0,
              "#0d0887"
             ],
             [
              0.1111111111111111,
              "#46039f"
             ],
             [
              0.2222222222222222,
              "#7201a8"
             ],
             [
              0.3333333333333333,
              "#9c179e"
             ],
             [
              0.4444444444444444,
              "#bd3786"
             ],
             [
              0.5555555555555556,
              "#d8576b"
             ],
             [
              0.6666666666666666,
              "#ed7953"
             ],
             [
              0.7777777777777778,
              "#fb9f3a"
             ],
             [
              0.8888888888888888,
              "#fdca26"
             ],
             [
              1,
              "#f0f921"
             ]
            ],
            "type": "surface"
           }
          ],
          "table": [
           {
            "cells": {
             "fill": {
              "color": "#EBF0F8"
             },
             "line": {
              "color": "white"
             }
            },
            "header": {
             "fill": {
              "color": "#C8D4E3"
             },
             "line": {
              "color": "white"
             }
            },
            "type": "table"
           }
          ]
         },
         "layout": {
          "annotationdefaults": {
           "arrowcolor": "#2a3f5f",
           "arrowhead": 0,
           "arrowwidth": 1
          },
          "autotypenumbers": "strict",
          "coloraxis": {
           "colorbar": {
            "outlinewidth": 0,
            "ticks": ""
           }
          },
          "colorscale": {
           "diverging": [
            [
             0,
             "#8e0152"
            ],
            [
             0.1,
             "#c51b7d"
            ],
            [
             0.2,
             "#de77ae"
            ],
            [
             0.3,
             "#f1b6da"
            ],
            [
             0.4,
             "#fde0ef"
            ],
            [
             0.5,
             "#f7f7f7"
            ],
            [
             0.6,
             "#e6f5d0"
            ],
            [
             0.7,
             "#b8e186"
            ],
            [
             0.8,
             "#7fbc41"
            ],
            [
             0.9,
             "#4d9221"
            ],
            [
             1,
             "#276419"
            ]
           ],
           "sequential": [
            [
             0,
             "#0d0887"
            ],
            [
             0.1111111111111111,
             "#46039f"
            ],
            [
             0.2222222222222222,
             "#7201a8"
            ],
            [
             0.3333333333333333,
             "#9c179e"
            ],
            [
             0.4444444444444444,
             "#bd3786"
            ],
            [
             0.5555555555555556,
             "#d8576b"
            ],
            [
             0.6666666666666666,
             "#ed7953"
            ],
            [
             0.7777777777777778,
             "#fb9f3a"
            ],
            [
             0.8888888888888888,
             "#fdca26"
            ],
            [
             1,
             "#f0f921"
            ]
           ],
           "sequentialminus": [
            [
             0,
             "#0d0887"
            ],
            [
             0.1111111111111111,
             "#46039f"
            ],
            [
             0.2222222222222222,
             "#7201a8"
            ],
            [
             0.3333333333333333,
             "#9c179e"
            ],
            [
             0.4444444444444444,
             "#bd3786"
            ],
            [
             0.5555555555555556,
             "#d8576b"
            ],
            [
             0.6666666666666666,
             "#ed7953"
            ],
            [
             0.7777777777777778,
             "#fb9f3a"
            ],
            [
             0.8888888888888888,
             "#fdca26"
            ],
            [
             1,
             "#f0f921"
            ]
           ]
          },
          "colorway": [
           "#636efa",
           "#EF553B",
           "#00cc96",
           "#ab63fa",
           "#FFA15A",
           "#19d3f3",
           "#FF6692",
           "#B6E880",
           "#FF97FF",
           "#FECB52"
          ],
          "font": {
           "color": "#2a3f5f"
          },
          "geo": {
           "bgcolor": "white",
           "lakecolor": "white",
           "landcolor": "#E5ECF6",
           "showlakes": true,
           "showland": true,
           "subunitcolor": "white"
          },
          "hoverlabel": {
           "align": "left"
          },
          "hovermode": "closest",
          "mapbox": {
           "style": "light"
          },
          "paper_bgcolor": "white",
          "plot_bgcolor": "#E5ECF6",
          "polar": {
           "angularaxis": {
            "gridcolor": "white",
            "linecolor": "white",
            "ticks": ""
           },
           "bgcolor": "#E5ECF6",
           "radialaxis": {
            "gridcolor": "white",
            "linecolor": "white",
            "ticks": ""
           }
          },
          "scene": {
           "xaxis": {
            "backgroundcolor": "#E5ECF6",
            "gridcolor": "white",
            "gridwidth": 2,
            "linecolor": "white",
            "showbackground": true,
            "ticks": "",
            "zerolinecolor": "white"
           },
           "yaxis": {
            "backgroundcolor": "#E5ECF6",
            "gridcolor": "white",
            "gridwidth": 2,
            "linecolor": "white",
            "showbackground": true,
            "ticks": "",
            "zerolinecolor": "white"
           },
           "zaxis": {
            "backgroundcolor": "#E5ECF6",
            "gridcolor": "white",
            "gridwidth": 2,
            "linecolor": "white",
            "showbackground": true,
            "ticks": "",
            "zerolinecolor": "white"
           }
          },
          "shapedefaults": {
           "line": {
            "color": "#2a3f5f"
           }
          },
          "ternary": {
           "aaxis": {
            "gridcolor": "white",
            "linecolor": "white",
            "ticks": ""
           },
           "baxis": {
            "gridcolor": "white",
            "linecolor": "white",
            "ticks": ""
           },
           "bgcolor": "#E5ECF6",
           "caxis": {
            "gridcolor": "white",
            "linecolor": "white",
            "ticks": ""
           }
          },
          "title": {
           "x": 0.05
          },
          "xaxis": {
           "automargin": true,
           "gridcolor": "white",
           "linecolor": "white",
           "ticks": "",
           "title": {
            "standoff": 15
           },
           "zerolinecolor": "white",
           "zerolinewidth": 2
          },
          "yaxis": {
           "automargin": true,
           "gridcolor": "white",
           "linecolor": "white",
           "ticks": "",
           "title": {
            "standoff": 15
           },
           "zerolinecolor": "white",
           "zerolinewidth": 2
          }
         }
        },
        "title": {
         "text": "Top 10 Tracks by Energy"
        },
        "xaxis": {
         "anchor": "y",
         "domain": [
          0,
          1
         ],
         "title": {
          "text": "Energy"
         }
        },
        "yaxis": {
         "anchor": "x",
         "domain": [
          0,
          1
         ],
         "title": {
          "text": "Track Name"
         }
        }
       }
      }
     },
     "metadata": {},
     "output_type": "display_data"
    }
   ],
   "source": [
    "df_top_energy = df_percentage[[\"Artist(S) Name\", \"Energy %\", \"Streams\"]].sort_values(by=\"Energy %\"\n",
    "                                                                                          ,ascending=False).head(10)\n",
    "\n",
    "px.bar(\n",
    "    df_top_energy,\n",
    "    title=\"Top 10 Tracks by Energy\",\n",
    "    y=df_top_energy.index,\n",
    "    x=\"Energy %\",\n",
    "    color=\"Energy %\",\n",
    "    labels={\"Energy %\": \"Energy\"},\n",
    "    hover_data={'Streams':        True,\n",
    "                'Artist(S) Name': True},\n",
    "    orientation='h',\n",
    "    height=500\n",
    ")"
   ]
  },
  {
   "cell_type": "markdown",
   "id": "cf6d65de",
   "metadata": {},
   "source": [
    "![Track Age vs Streams](screenshots/top-10-tracks-by-energy.png)"
   ]
  },
  {
   "cell_type": "markdown",
   "id": "ff0184e8",
   "metadata": {},
   "source": [
    "### Top 10 Tracks by Acousticness\n",
    "\n",
    "This horizontal bar chart showcases the tracks with the **highest acousticness percentages**, indicating a stronger presence of **organic instruments and minimal electronic production**. Key insights:  \n",
    "\n",
    "- **\"Sweet Nothing\" (Taylor Swift)** and **\"The Night We Met\" (Lord Huron)** top the list with **97 acousticness**, emphasizing highly melodic and unplugged qualities that resonate with listeners seeking a **softer, more natural sound**.  \n",
    "\n",
    "- Tracks like **\"What Was I Made For?\" (Billie Eilish)** and **\"LA FAMA\" (The Weeknd, ROSALï¿½)** illustrate that even modern chart-toppers can maintain **substantial acoustic elements**, blending traditional instrumentation with contemporary production.  \n",
    "\n",
    "- High acousticness does not necessarily equate to the **largest streaming numbers**; for example, **\"The Night We Met\"** has significantly fewer streams than some high-energy, electronically-driven tracks.  \n",
    "\n",
    "- Collaborations, such as **\"The Joker And The Queen\" (Ed Sheeran, Taylor Swift)**, demonstrate that acoustic tracks can still achieve mainstream popularity.  \n",
    "\n",
    "- This visualization helps identify tracks that **appeal to audiences favoring organic instrumentation**, guiding **playlist curation, genre-specific recommendations, and musicological studies**."
   ]
  },
  {
   "cell_type": "code",
   "execution_count": 28,
   "id": "da70cc04",
   "metadata": {},
   "outputs": [
    {
     "data": {
      "application/vnd.plotly.v1+json": {
       "config": {
        "plotlyServerURL": "https://plot.ly"
       },
       "data": [
        {
         "customdata": [
          [
           186104310,
           "Taylor Swift"
          ],
          [
           1410088830,
           "Lord Huron"
          ],
          [
           30546883,
           "Billie Eilish"
          ],
          [
           374706940,
           "The Weeknd, ROSALï¿½"
          ],
          [
           1661187319,
           "Bruno Mars"
          ],
          [
           137070925,
           "Harry Styles"
          ],
          [
           124407432,
           "David Kushner"
          ],
          [
           2355719893,
           "Billie Eilish, Khalid"
          ],
          [
           146789379,
           "Ed Sheeran, Taylor Swift"
          ],
          [
           2086124197,
           "John Legend"
          ]
         ],
         "hovertemplate": "Acousticness=%{marker.color}<br>Track Name=%{y}<br>Streams=%{customdata[0]}<br>Artist(S) Name=%{customdata[1]}<extra></extra>",
         "legendgroup": "",
         "marker": {
          "color": {
           "bdata": "YWFgX15eXV1cXA==",
           "dtype": "i1"
          },
          "coloraxis": "coloraxis",
          "pattern": {
           "shape": ""
          }
         },
         "name": "",
         "orientation": "h",
         "showlegend": false,
         "textposition": "auto",
         "type": "bar",
         "x": {
          "bdata": "YWFgX15eXV1cXA==",
          "dtype": "i1"
         },
         "xaxis": "x",
         "y": [
          "Sweet Nothing",
          "The Night We Met",
          "What Was I Made For? [From The Motion Picture \"Barbie\"]",
          "LA FAMA (with The Weeknd)",
          "When I Was Your Man",
          "Boyfriends",
          "Miserable Man",
          "lovely - Bonus Track",
          "The Joker And The Queen (feat. Taylor Swift)",
          "All of Me"
         ],
         "yaxis": "y"
        }
       ],
       "layout": {
        "barmode": "relative",
        "coloraxis": {
         "colorbar": {
          "title": {
           "text": "Acousticness"
          }
         },
         "colorscale": [
          [
           0,
           "#0d0887"
          ],
          [
           0.1111111111111111,
           "#46039f"
          ],
          [
           0.2222222222222222,
           "#7201a8"
          ],
          [
           0.3333333333333333,
           "#9c179e"
          ],
          [
           0.4444444444444444,
           "#bd3786"
          ],
          [
           0.5555555555555556,
           "#d8576b"
          ],
          [
           0.6666666666666666,
           "#ed7953"
          ],
          [
           0.7777777777777778,
           "#fb9f3a"
          ],
          [
           0.8888888888888888,
           "#fdca26"
          ],
          [
           1,
           "#f0f921"
          ]
         ]
        },
        "height": 500,
        "legend": {
         "tracegroupgap": 0
        },
        "template": {
         "data": {
          "bar": [
           {
            "error_x": {
             "color": "#2a3f5f"
            },
            "error_y": {
             "color": "#2a3f5f"
            },
            "marker": {
             "line": {
              "color": "#E5ECF6",
              "width": 0.5
             },
             "pattern": {
              "fillmode": "overlay",
              "size": 10,
              "solidity": 0.2
             }
            },
            "type": "bar"
           }
          ],
          "barpolar": [
           {
            "marker": {
             "line": {
              "color": "#E5ECF6",
              "width": 0.5
             },
             "pattern": {
              "fillmode": "overlay",
              "size": 10,
              "solidity": 0.2
             }
            },
            "type": "barpolar"
           }
          ],
          "carpet": [
           {
            "aaxis": {
             "endlinecolor": "#2a3f5f",
             "gridcolor": "white",
             "linecolor": "white",
             "minorgridcolor": "white",
             "startlinecolor": "#2a3f5f"
            },
            "baxis": {
             "endlinecolor": "#2a3f5f",
             "gridcolor": "white",
             "linecolor": "white",
             "minorgridcolor": "white",
             "startlinecolor": "#2a3f5f"
            },
            "type": "carpet"
           }
          ],
          "choropleth": [
           {
            "colorbar": {
             "outlinewidth": 0,
             "ticks": ""
            },
            "type": "choropleth"
           }
          ],
          "contour": [
           {
            "colorbar": {
             "outlinewidth": 0,
             "ticks": ""
            },
            "colorscale": [
             [
              0,
              "#0d0887"
             ],
             [
              0.1111111111111111,
              "#46039f"
             ],
             [
              0.2222222222222222,
              "#7201a8"
             ],
             [
              0.3333333333333333,
              "#9c179e"
             ],
             [
              0.4444444444444444,
              "#bd3786"
             ],
             [
              0.5555555555555556,
              "#d8576b"
             ],
             [
              0.6666666666666666,
              "#ed7953"
             ],
             [
              0.7777777777777778,
              "#fb9f3a"
             ],
             [
              0.8888888888888888,
              "#fdca26"
             ],
             [
              1,
              "#f0f921"
             ]
            ],
            "type": "contour"
           }
          ],
          "contourcarpet": [
           {
            "colorbar": {
             "outlinewidth": 0,
             "ticks": ""
            },
            "type": "contourcarpet"
           }
          ],
          "heatmap": [
           {
            "colorbar": {
             "outlinewidth": 0,
             "ticks": ""
            },
            "colorscale": [
             [
              0,
              "#0d0887"
             ],
             [
              0.1111111111111111,
              "#46039f"
             ],
             [
              0.2222222222222222,
              "#7201a8"
             ],
             [
              0.3333333333333333,
              "#9c179e"
             ],
             [
              0.4444444444444444,
              "#bd3786"
             ],
             [
              0.5555555555555556,
              "#d8576b"
             ],
             [
              0.6666666666666666,
              "#ed7953"
             ],
             [
              0.7777777777777778,
              "#fb9f3a"
             ],
             [
              0.8888888888888888,
              "#fdca26"
             ],
             [
              1,
              "#f0f921"
             ]
            ],
            "type": "heatmap"
           }
          ],
          "histogram": [
           {
            "marker": {
             "pattern": {
              "fillmode": "overlay",
              "size": 10,
              "solidity": 0.2
             }
            },
            "type": "histogram"
           }
          ],
          "histogram2d": [
           {
            "colorbar": {
             "outlinewidth": 0,
             "ticks": ""
            },
            "colorscale": [
             [
              0,
              "#0d0887"
             ],
             [
              0.1111111111111111,
              "#46039f"
             ],
             [
              0.2222222222222222,
              "#7201a8"
             ],
             [
              0.3333333333333333,
              "#9c179e"
             ],
             [
              0.4444444444444444,
              "#bd3786"
             ],
             [
              0.5555555555555556,
              "#d8576b"
             ],
             [
              0.6666666666666666,
              "#ed7953"
             ],
             [
              0.7777777777777778,
              "#fb9f3a"
             ],
             [
              0.8888888888888888,
              "#fdca26"
             ],
             [
              1,
              "#f0f921"
             ]
            ],
            "type": "histogram2d"
           }
          ],
          "histogram2dcontour": [
           {
            "colorbar": {
             "outlinewidth": 0,
             "ticks": ""
            },
            "colorscale": [
             [
              0,
              "#0d0887"
             ],
             [
              0.1111111111111111,
              "#46039f"
             ],
             [
              0.2222222222222222,
              "#7201a8"
             ],
             [
              0.3333333333333333,
              "#9c179e"
             ],
             [
              0.4444444444444444,
              "#bd3786"
             ],
             [
              0.5555555555555556,
              "#d8576b"
             ],
             [
              0.6666666666666666,
              "#ed7953"
             ],
             [
              0.7777777777777778,
              "#fb9f3a"
             ],
             [
              0.8888888888888888,
              "#fdca26"
             ],
             [
              1,
              "#f0f921"
             ]
            ],
            "type": "histogram2dcontour"
           }
          ],
          "mesh3d": [
           {
            "colorbar": {
             "outlinewidth": 0,
             "ticks": ""
            },
            "type": "mesh3d"
           }
          ],
          "parcoords": [
           {
            "line": {
             "colorbar": {
              "outlinewidth": 0,
              "ticks": ""
             }
            },
            "type": "parcoords"
           }
          ],
          "pie": [
           {
            "automargin": true,
            "type": "pie"
           }
          ],
          "scatter": [
           {
            "fillpattern": {
             "fillmode": "overlay",
             "size": 10,
             "solidity": 0.2
            },
            "type": "scatter"
           }
          ],
          "scatter3d": [
           {
            "line": {
             "colorbar": {
              "outlinewidth": 0,
              "ticks": ""
             }
            },
            "marker": {
             "colorbar": {
              "outlinewidth": 0,
              "ticks": ""
             }
            },
            "type": "scatter3d"
           }
          ],
          "scattercarpet": [
           {
            "marker": {
             "colorbar": {
              "outlinewidth": 0,
              "ticks": ""
             }
            },
            "type": "scattercarpet"
           }
          ],
          "scattergeo": [
           {
            "marker": {
             "colorbar": {
              "outlinewidth": 0,
              "ticks": ""
             }
            },
            "type": "scattergeo"
           }
          ],
          "scattergl": [
           {
            "marker": {
             "colorbar": {
              "outlinewidth": 0,
              "ticks": ""
             }
            },
            "type": "scattergl"
           }
          ],
          "scattermap": [
           {
            "marker": {
             "colorbar": {
              "outlinewidth": 0,
              "ticks": ""
             }
            },
            "type": "scattermap"
           }
          ],
          "scattermapbox": [
           {
            "marker": {
             "colorbar": {
              "outlinewidth": 0,
              "ticks": ""
             }
            },
            "type": "scattermapbox"
           }
          ],
          "scatterpolar": [
           {
            "marker": {
             "colorbar": {
              "outlinewidth": 0,
              "ticks": ""
             }
            },
            "type": "scatterpolar"
           }
          ],
          "scatterpolargl": [
           {
            "marker": {
             "colorbar": {
              "outlinewidth": 0,
              "ticks": ""
             }
            },
            "type": "scatterpolargl"
           }
          ],
          "scatterternary": [
           {
            "marker": {
             "colorbar": {
              "outlinewidth": 0,
              "ticks": ""
             }
            },
            "type": "scatterternary"
           }
          ],
          "surface": [
           {
            "colorbar": {
             "outlinewidth": 0,
             "ticks": ""
            },
            "colorscale": [
             [
              0,
              "#0d0887"
             ],
             [
              0.1111111111111111,
              "#46039f"
             ],
             [
              0.2222222222222222,
              "#7201a8"
             ],
             [
              0.3333333333333333,
              "#9c179e"
             ],
             [
              0.4444444444444444,
              "#bd3786"
             ],
             [
              0.5555555555555556,
              "#d8576b"
             ],
             [
              0.6666666666666666,
              "#ed7953"
             ],
             [
              0.7777777777777778,
              "#fb9f3a"
             ],
             [
              0.8888888888888888,
              "#fdca26"
             ],
             [
              1,
              "#f0f921"
             ]
            ],
            "type": "surface"
           }
          ],
          "table": [
           {
            "cells": {
             "fill": {
              "color": "#EBF0F8"
             },
             "line": {
              "color": "white"
             }
            },
            "header": {
             "fill": {
              "color": "#C8D4E3"
             },
             "line": {
              "color": "white"
             }
            },
            "type": "table"
           }
          ]
         },
         "layout": {
          "annotationdefaults": {
           "arrowcolor": "#2a3f5f",
           "arrowhead": 0,
           "arrowwidth": 1
          },
          "autotypenumbers": "strict",
          "coloraxis": {
           "colorbar": {
            "outlinewidth": 0,
            "ticks": ""
           }
          },
          "colorscale": {
           "diverging": [
            [
             0,
             "#8e0152"
            ],
            [
             0.1,
             "#c51b7d"
            ],
            [
             0.2,
             "#de77ae"
            ],
            [
             0.3,
             "#f1b6da"
            ],
            [
             0.4,
             "#fde0ef"
            ],
            [
             0.5,
             "#f7f7f7"
            ],
            [
             0.6,
             "#e6f5d0"
            ],
            [
             0.7,
             "#b8e186"
            ],
            [
             0.8,
             "#7fbc41"
            ],
            [
             0.9,
             "#4d9221"
            ],
            [
             1,
             "#276419"
            ]
           ],
           "sequential": [
            [
             0,
             "#0d0887"
            ],
            [
             0.1111111111111111,
             "#46039f"
            ],
            [
             0.2222222222222222,
             "#7201a8"
            ],
            [
             0.3333333333333333,
             "#9c179e"
            ],
            [
             0.4444444444444444,
             "#bd3786"
            ],
            [
             0.5555555555555556,
             "#d8576b"
            ],
            [
             0.6666666666666666,
             "#ed7953"
            ],
            [
             0.7777777777777778,
             "#fb9f3a"
            ],
            [
             0.8888888888888888,
             "#fdca26"
            ],
            [
             1,
             "#f0f921"
            ]
           ],
           "sequentialminus": [
            [
             0,
             "#0d0887"
            ],
            [
             0.1111111111111111,
             "#46039f"
            ],
            [
             0.2222222222222222,
             "#7201a8"
            ],
            [
             0.3333333333333333,
             "#9c179e"
            ],
            [
             0.4444444444444444,
             "#bd3786"
            ],
            [
             0.5555555555555556,
             "#d8576b"
            ],
            [
             0.6666666666666666,
             "#ed7953"
            ],
            [
             0.7777777777777778,
             "#fb9f3a"
            ],
            [
             0.8888888888888888,
             "#fdca26"
            ],
            [
             1,
             "#f0f921"
            ]
           ]
          },
          "colorway": [
           "#636efa",
           "#EF553B",
           "#00cc96",
           "#ab63fa",
           "#FFA15A",
           "#19d3f3",
           "#FF6692",
           "#B6E880",
           "#FF97FF",
           "#FECB52"
          ],
          "font": {
           "color": "#2a3f5f"
          },
          "geo": {
           "bgcolor": "white",
           "lakecolor": "white",
           "landcolor": "#E5ECF6",
           "showlakes": true,
           "showland": true,
           "subunitcolor": "white"
          },
          "hoverlabel": {
           "align": "left"
          },
          "hovermode": "closest",
          "mapbox": {
           "style": "light"
          },
          "paper_bgcolor": "white",
          "plot_bgcolor": "#E5ECF6",
          "polar": {
           "angularaxis": {
            "gridcolor": "white",
            "linecolor": "white",
            "ticks": ""
           },
           "bgcolor": "#E5ECF6",
           "radialaxis": {
            "gridcolor": "white",
            "linecolor": "white",
            "ticks": ""
           }
          },
          "scene": {
           "xaxis": {
            "backgroundcolor": "#E5ECF6",
            "gridcolor": "white",
            "gridwidth": 2,
            "linecolor": "white",
            "showbackground": true,
            "ticks": "",
            "zerolinecolor": "white"
           },
           "yaxis": {
            "backgroundcolor": "#E5ECF6",
            "gridcolor": "white",
            "gridwidth": 2,
            "linecolor": "white",
            "showbackground": true,
            "ticks": "",
            "zerolinecolor": "white"
           },
           "zaxis": {
            "backgroundcolor": "#E5ECF6",
            "gridcolor": "white",
            "gridwidth": 2,
            "linecolor": "white",
            "showbackground": true,
            "ticks": "",
            "zerolinecolor": "white"
           }
          },
          "shapedefaults": {
           "line": {
            "color": "#2a3f5f"
           }
          },
          "ternary": {
           "aaxis": {
            "gridcolor": "white",
            "linecolor": "white",
            "ticks": ""
           },
           "baxis": {
            "gridcolor": "white",
            "linecolor": "white",
            "ticks": ""
           },
           "bgcolor": "#E5ECF6",
           "caxis": {
            "gridcolor": "white",
            "linecolor": "white",
            "ticks": ""
           }
          },
          "title": {
           "x": 0.05
          },
          "xaxis": {
           "automargin": true,
           "gridcolor": "white",
           "linecolor": "white",
           "ticks": "",
           "title": {
            "standoff": 15
           },
           "zerolinecolor": "white",
           "zerolinewidth": 2
          },
          "yaxis": {
           "automargin": true,
           "gridcolor": "white",
           "linecolor": "white",
           "ticks": "",
           "title": {
            "standoff": 15
           },
           "zerolinecolor": "white",
           "zerolinewidth": 2
          }
         }
        },
        "title": {
         "text": "Top 10 Tracks by Acousticness"
        },
        "xaxis": {
         "anchor": "y",
         "domain": [
          0,
          1
         ],
         "title": {
          "text": "Acousticness"
         }
        },
        "yaxis": {
         "anchor": "x",
         "domain": [
          0,
          1
         ],
         "title": {
          "text": "Track Name"
         }
        }
       }
      }
     },
     "metadata": {},
     "output_type": "display_data"
    }
   ],
   "source": [
    "df_top_acousticness = df_percentage[[\"Artist(S) Name\", \"Acousticness %\", \"Streams\"]].sort_values(by=\"Acousticness %\"\n",
    "                                                                                          ,ascending=False).head(10)\n",
    "\n",
    "px.bar(\n",
    "    df_top_acousticness,\n",
    "    title=\"Top 10 Tracks by Acousticness\",\n",
    "    y=df_top_acousticness.index,\n",
    "    x=\"Acousticness %\",\n",
    "    color=\"Acousticness %\",\n",
    "    labels={\"Acousticness %\": \"Acousticness\"},\n",
    "    hover_data={'Streams':        True,\n",
    "                'Artist(S) Name': True},\n",
    "    orientation='h',\n",
    "    height=500\n",
    ")"
   ]
  },
  {
   "cell_type": "markdown",
   "id": "4d4706e8",
   "metadata": {},
   "source": [
    "![Track Age vs Streams](screenshots/top-10-tracks-by-acousticness.png)"
   ]
  },
  {
   "cell_type": "markdown",
   "id": "4e9fea15",
   "metadata": {},
   "source": [
    "### Streams vs Danceability %\n",
    "\n",
    "This histogram examines the relationship between **track danceability** and their **stream counts**, providing insight into how rhythm and groove may influence listener engagement. Key observations:\n",
    "\n",
    "- Tracks with **moderate to high danceability** tend to accumulate **higher streaming numbers**, suggesting that audiences are drawn to songs that are **energetic and rhythmically engaging**.  \n",
    "\n",
    "- Extremely low danceability tracks appear less frequently among high-streamed songs, indicating that **less rhythmic or more experimental tracks may attract fewer listeners**.  \n",
    "\n",
    "- Peaks in the histogram highlight specific **danceability ranges** where streaming performance is concentrated, showing **common listener preferences**.  \n",
    "\n",
    "- This visualization emphasizes that **danceability is an influential factor** in commercial success, though it is not the sole determinant, as other features like energy, valence, and artist popularity also play crucial roles.  \n",
    "\n",
    "- Overall, the chart provides a **clear visual correlation between track groove and listener engagement**, useful for **music producers, playlist curators, and trend analysis**.\n"
   ]
  },
  {
   "cell_type": "code",
   "execution_count": 29,
   "id": "5eb196f7",
   "metadata": {},
   "outputs": [
    {
     "data": {
      "application/vnd.plotly.v1+json": {
       "config": {
        "plotlyServerURL": "https://plot.ly"
       },
       "data": [
        {
         "bingroup": "x",
         "histfunc": "sum",
         "hovertemplate": "Danceability %=%{x}<br>sum of Streams=%{y}<extra></extra>",
         "legendgroup": "",
         "marker": {
          "color": "#0A6983",
          "opacity": 0.7,
          "pattern": {
           "shape": ""
          }
         },
         "name": "",
         "nbinsx": 20,
         "orientation": "v",
         "showlegend": false,
         "type": "histogram",
         "x": {
          "bdata": "UEczN0FcQ0NVUTlORzM0QE4sVj9BRTBVVU9QUTRDSjhHQEhRPUs8TzhMODhNQ0c7RDVIPFxDLTJAVFY9VkZYTVorQDs4M01MMz0+MTpHTkQwIj8yO04yW1I/R0pEPjVTMTg4PitEMj5RNlA9TT1KM01BQEY3VFIzS0BKMVFXPzcjTlJQKk40P0tMPDhNVF1cTztBLTxKUU4vRUkyNkI9SU5WTS1ERFItSTxBPDchOUdBRjhTQ0Y1IiVKNkY/OTY/QTIwSlQ+UTk9NUtNOFlDVU5SRlBJVE1ONkc+SE5KQkJfUExHOz9FTitPUlJOSVxQO1sxLyI4PFRTQ19UQSw+MlBGTTQsTzNNREpdTV48SFdaOU9MTEZcVEU7Szg7UEY7IDZSWS0+Rk1GUFJJQUhHRjBJTkNHSkE7SEZAWklMUUc/Xzo8KCRaR01TRjJARD07QEJUODlKOEQ7SU8yRjokVjs7VzFINTdRUkpYTDVIS0FLSUJCVDU8SkZQOjU4RkBYQk9SGUA5QVxRUiwzR0ZEKUQvTU9HUC5POkBKKShXVyguL1taUTFAXz8nUEM6UTpGLkZSQVRFOkFKIkpGSiMuGC1IMzJBQzVBRyFJQyRLPD48SDwzQxczIis1SDtJQ0YxNlBGRS9PQkBZRlA/Vy1TRTM9IT9GRkY8QVU6TFBKQzVGOCkxTUtCPUobQRxKREdLQFNLHzgdOztSP001Ri5BTyg5U0lROj9NLEs/SUI4SUhGVk9NUyxLSkJDQjtVTU07LiojTTtEU0ZIVj8nUFstT0lMYChDUElLLlE9Sk9JTjwtTkw/NEA1S1BNSVIsWSo0LUM0KUcjPEpLOUpIRlJPN004WkVQVT9UUTMjNVxFLzRbWj08JR85LlQ8Q01dH0xbTlFDVkpPSVlBWTMvTh8sSSdUOFxMPkRKLFFMV1FfQBxOUTtQQTdIO01QKkwpO0U1RkVDPUsnVkRbOi1RPERMRlNIOz84Tk9GVkdHRV05WVc6Vk4tT1ZbRD09UVROOE80N1dVMkdcQk5QUkE9VE44VjkyUFE/PVNVM0lbJCxAUyYlK1hCVD1CRzFETUdSV0lWNi81IEw6LyVGOEhIMz9FUFhSPDhQRzpJUjhBP1VIU1E5M0dbUzg8NFEqRDFGNkZbM0lRUCxOLVA4WFhfVSw6Rz9NSEZKPTcvUVo4T09RTUZSTUNDRCVKTVpGQUEiOCVGUUBSTkY0QVRJQjlIOVwxSlA7W0tQS1RCSTBNIjA+XTZVQDk8KlBSPQ==",
          "dtype": "i1"
         },
         "xaxis": "x",
         "y": [
          141381703,
          133716286,
          140003974,
          800840817,
          303236322,
          183706234,
          725980112,
          58149378,
          95217315,
          553634067,
          505671438,
          58255150,
          1316855716,
          387570742,
          2513188493,
          1163093654,
          496795686,
          30546883,
          335222234,
          363369738,
          86444842,
          52135248,
          1297026226,
          200647221,
          115364561,
          78300654,
          899183384,
          61245289,
          429829812,
          127408954,
          22581161,
          52294266,
          843957510,
          999748277,
          618990393,
          123122413,
          188933502,
          1355959075,
          786181836,
          176553476,
          354495408,
          2808096550,
          1109433169,
          1047101291,
          65156199,
          570515054,
          1085685420,
          1647990401,
          2565529693,
          518745108,
          107753850,
          177740666,
          153372011,
          57876440,
          1813673666,
          3703895074,
          256483385,
          1214083358,
          16011326,
          812019557,
          111947664,
          156338624,
          720434240,
          357925728,
          674072710,
          1755214421,
          404562836,
          373199958,
          14780425,
          39578178,
          54266102,
          2557975762,
          751134527,
          2282771485,
          1356565093,
          1592909789,
          635412045,
          1230675890,
          585695368,
          43857627,
          2009094673,
          600976848,
          39709092,
          39228929,
          2665343922,
          223633238,
          2887241814,
          1440757818,
          165484133,
          58054811,
          157058870,
          95131998,
          250305248,
          685032533,
          38411956,
          144565150,
          127567540,
          399686758,
          983637508,
          118482347,
          882831184,
          286400165,
          172825906,
          1241559043,
          29562220,
          77309611,
          1605224506,
          1116995633,
          838079900,
          1163620694,
          1093605526,
          179659294,
          39058561,
          36912123,
          1205951614,
          1791000570,
          201660859,
          248088961,
          90839753,
          607123776,
          55842345,
          211050784,
          342897938,
          2762,
          330346424,
          601863821,
          1953533826,
          2322580122,
          2355719893,
          66902503,
          96273746,
          430977451,
          284819874,
          721975598,
          1217120710,
          109276132,
          276259178,
          54225632,
          2559529074,
          681583126,
          2594040133,
          81102253,
          11956641,
          1687664027,
          11599388,
          611700552,
          1133865788,
          1089402494,
          411747614,
          255932395,
          31873544,
          95053634,
          1279434863,
          233801632,
          1481349984,
          142095275,
          618885532,
          2011464183,
          1167330737,
          929964809,
          436027885,
          657723613,
          2713922350,
          621660989,
          1591223784,
          950906471,
          1593270737,
          1410088830,
          1235005533,
          1661187319,
          1374581173,
          94186466,
          1788326445,
          1840364617,
          143573775,
          684675814,
          1113838873,
          1267333350,
          726307468,
          3562543890,
          1131090940,
          307370144,
          1271293243,
          265882712,
          841749534,
          47956378,
          806397070,
          2132335812,
          1641426668,
          2135158446,
          367316268,
          350381515,
          1264310836,
          30343206,
          405136812,
          1145727611,
          540654286,
          57312735,
          397582059,
          1479115056,
          86773632,
          133753727,
          123124076,
          463564958,
          64533040,
          65496046,
          68616963,
          161460990,
          70106975,
          113509496,
          89933133,
          71007139,
          43522589,
          232896922,
          37126685,
          195576623,
          532336353,
          538115192,
          46142772,
          401036314,
          127026613,
          345031710,
          288101651,
          60350538,
          335074782,
          76767396,
          46065667,
          459276435,
          39666245,
          138517666,
          822633917,
          595900742,
          51985779,
          57945987,
          115010040,
          175097833,
          57089066,
          488386797,
          32761689,
          1047480053,
          153454328,
          217672943,
          457184829,
          939844851,
          726434358,
          573633020,
          1406111294,
          71573339,
          24975653,
          145458418,
          1424589568,
          231332117,
          415932686,
          988515741,
          50847624,
          39893489,
          92035115,
          118810253,
          77233241,
          206399629,
          117747907,
          266624541,
          293186992,
          139681964,
          123132751,
          103762518,
          162887075,
          91221625,
          190490915,
          96180277,
          185240616,
          885093467,
          104992946,
          147290338,
          1302184087,
          158950978,
          76910644,
          137123880,
          782369383,
          502574952,
          207033255,
          404887295,
          381161027,
          466231982,
          357580552,
          61105704,
          198275403,
          168448603,
          705469769,
          34502215,
          482175240,
          304118600,
          1449799467,
          173627354,
          90025258,
          652704649,
          1829992958,
          655466831,
          146409671,
          95816024,
          117206995,
          100409613,
          80758350,
          325592432,
          58473276,
          52722996,
          191945597,
          77377503,
          743693613,
          267789608,
          1221813483,
          449701773,
          67070410,
          116334601,
          433356509,
          165584767,
          367814306,
          477033549,
          156214700,
          448843705,
          1357608774,
          294352144,
          972164968,
          920045682,
          2420461338,
          1947371785,
          244658767,
          68216992,
          223582566,
          471819764,
          272377463,
          1361425037,
          149778242,
          116599790,
          148469433,
          497225336,
          88791109,
          125917280,
          105062254,
          95623148,
          144584800,
          298063749,
          166570053,
          83021468,
          139836056,
          303216294,
          221409663,
          58890931,
          81419389,
          156777415,
          284908316,
          93438910,
          363472647,
          372476382,
          380726517,
          56533272,
          175399345,
          203221468,
          1624165576,
          134294498,
          70069745,
          609293408,
          671365962,
          362361576,
          93587665,
          1223481149,
          1022258230,
          263453310,
          1435127549,
          236857112,
          147538971,
          698086140,
          723894473,
          34450974,
          403097450,
          309483971,
          319566866,
          909001996,
          1061966512,
          32526947,
          124988687,
          103787664,
          134255790,
          301051721,
          156338624,
          152850295,
          309653982,
          297328960,
          332506354,
          480507035,
          1065580332,
          122763672,
          445763624,
          1365184,
          184308753,
          789753877,
          323358833,
          606361689,
          120972253,
          338564981,
          1606986953,
          1301799902,
          140187018,
          1897517891,
          107642809,
          551305895,
          556585270,
          2303033973,
          646886885,
          222612678,
          1814349763,
          872137015,
          571386359,
          304079786,
          174006928,
          284785823,
          163284000,
          246390068,
          482257456,
          168684524,
          78489819,
          195516622,
          1260594497,
          428685680,
          1024858327,
          838586769,
          199386237,
          972509632,
          213438580,
          1555511105,
          210038833,
          227918678,
          826623384,
          1802514301,
          1329090101,
          181831132,
          462791599,
          348647203,
          366599607,
          90598517,
          1479264469,
          1449779435,
          1159176109,
          769213520,
          741301563,
          807561936,
          834129063,
          663832097,
          446390129,
          690104769,
          485285717,
          520034544,
          476244795,
          629173063,
          404664135,
          98709329,
          110849052,
          460492795,
          94005786,
          395591396,
          389771964,
          403939487,
          481697415,
          110073250,
          88092256,
          351636786,
          473248298,
          73981293,
          155653938,
          395591396,
          429504768,
          242767149,
          65362788,
          67540165,
          62019074,
          135723538,
          295998468,
          261116938,
          136689549,
          135611421,
          356709897,
          110649992,
          301869854,
          127027715,
          57144458,
          56870689,
          323437194,
          317726339,
          116144341,
          328207708,
          608228647,
          180577478,
          809306935,
          49262961,
          614555082,
          245350949,
          178660459,
          51641685,
          78139948,
          322336177,
          1007612429,
          326792833,
          391251368,
          349585590,
          339659802,
          674772936,
          432719968,
          1309887447,
          119238316,
          116903579,
          888046992,
          200660871,
          130655803,
          1887039593,
          88103848,
          101114984,
          1575467011,
          91656026,
          1042568408,
          1735441776,
          726837877,
          53933526,
          267758538,
          74601456,
          920797189,
          539595276,
          1367810478,
          578207856,
          775542072,
          863625566,
          656013912,
          1056760045,
          611994237,
          1230855859,
          582981380,
          1858144199,
          240684449,
          583687007,
          63803529,
          466214729,
          236940480,
          41924466,
          225259194,
          393230256,
          287201015,
          599770206,
          342779426,
          673801126,
          1168642797,
          540539717,
          383550148,
          530511203,
          37307967,
          510876816,
          1445941661,
          1763363713,
          374191487,
          108809090,
          436695353,
          421040617,
          501541661,
          354065229,
          1143647827,
          311395144,
          672656250,
          1256880657,
          1692897992,
          245095641,
          686734357,
          261414174,
          610045621,
          1115880852,
          594482982,
          566954746,
          374706940,
          184937148,
          31959571,
          167076418,
          824420218,
          363467642,
          1127468248,
          60680939,
          247737946,
          1699402402,
          154797871,
          198883004,
          124407432,
          850608354,
          376333030,
          516784627,
          1608045237,
          506778838,
          1472799873,
          513643924,
          261286503,
          783706581,
          422691058,
          1062345656,
          1252563873,
          851070493,
          263894529,
          345903614,
          951637566,
          956865266,
          427486004,
          156658366,
          624515457,
          777765388,
          412795151,
          1138474110,
          355219175,
          290228626,
          1062956628,
          1180094974,
          1456081449,
          432702334,
          489945871,
          465959382,
          1223481149,
          2864791672,
          2288695111,
          720825549,
          2086124197,
          1690192927,
          991336132,
          593917618,
          200972675,
          71014967,
          560222750,
          1806617704,
          77337771,
          528544703,
          865640097,
          2159346687,
          211372494,
          651732901,
          608334048,
          863756573,
          797402345,
          1695712020,
          1759567999,
          223319934,
          54937991,
          226897599,
          258316038,
          596152090,
          177129919,
          716591492,
          1210599487,
          246376690,
          496311364,
          146789379,
          843309044,
          500340342,
          107255472,
          135079152,
          822239726,
          1202722675,
          343197054,
          240769997,
          426204830,
          421135627,
          554875730,
          467727006,
          327498031,
          185408548,
          245400167,
          579395142,
          675039469,
          252871192,
          231996128,
          1929770265,
          918915401,
          1180896317,
          498960285,
          685071800,
          258714692,
          143139338,
          209768491,
          64714573,
          50746620,
          154119539,
          181328253,
          370068639,
          2280566092,
          563902868,
          317622165,
          291709698,
          203680270,
          81350745,
          282883169,
          64787943,
          2484812918,
          461437791,
          1439191367,
          759208783,
          368646862,
          299634472,
          756907987,
          682475162,
          546191065,
          229473310,
          202677468,
          121913181,
          208166039,
          527033089,
          94616487,
          394030335,
          193443895,
          299648208,
          182978249,
          319757142,
          109091573,
          153240879,
          346127840,
          312622938,
          2197010679,
          1200808494,
          797196073,
          1970673297,
          665765558,
          263779030,
          339473453,
          2204080728,
          2591224264,
          135444283,
          1457139296,
          236872197,
          694525298,
          240661097,
          421365166,
          349746291,
          255120451,
          190981339,
          924193303,
          305771063,
          273005485,
          89566512,
          677389855,
          75476209,
          408843328,
          187772591,
          178512385,
          101780047,
          118381354,
          146363130,
          126443991,
          157990698,
          176290831,
          1023187129,
          106933107,
          139193812,
          212234990,
          1714490998,
          197643795,
          807015863,
          933815613,
          499710590,
          120847157,
          53909146,
          2236667932,
          2123309722,
          301242089,
          723894473,
          237351106,
          461558540,
          417230415,
          156898322,
          127309180,
          313113297,
          173702135,
          271666301,
          305650299,
          123216717,
          479655659,
          126191104,
          344055883,
          338422004,
          68895644,
          86176890,
          403231558,
          319546754,
          61739839,
          283359161,
          76831876,
          283332261,
          307752576,
          279737940,
          212351890,
          1304313953,
          150500965,
          246127838,
          582863434,
          58687425,
          212109195,
          382199619,
          41210087,
          231657891,
          53729194,
          244741137,
          42485571,
          37778188,
          254218729,
          53603447,
          160035717,
          164163229,
          37091576,
          284249832,
          33381454,
          184622518,
          300983101,
          121077868,
          106919680,
          136996305,
          65719930,
          229497852,
          185550869,
          54682594,
          240580042,
          1284942608,
          71423324,
          244891912,
          132171975,
          184706613,
          184826429,
          302006641,
          330881149,
          334733572,
          366214458,
          114546317,
          290833204,
          448500832,
          136676504,
          190625045,
          79095270,
          273194684,
          333146475,
          194902696,
          311482393,
          195918494,
          248511839,
          233671263,
          199587884,
          91781263,
          383835984,
          236060709,
          189236868,
          160845341,
          588955257,
          238350348,
          187703102,
          295307001,
          138334433,
          445590495,
          286739476,
          1122364376,
          157136970,
          137070925,
          183273246,
          184807630,
          164856284,
          704171068,
          354614964,
          279717388,
          195628667,
          221752937,
          263280370,
          213505179,
          130419412,
          155795783,
          1553497987,
          293466523,
          711366595,
          191448892,
          85924992,
          176103902,
          121189256,
          131746175,
          244790012,
          129314708,
          331511413,
          219196651,
          170732845,
          273914335,
          179061440,
          185236961,
          171788484,
          387080183,
          264717480,
          244928911,
          97610446,
          287278853,
          887906111,
          123473120,
          295152154,
          323455692,
          240918092,
          191873381,
          284216603,
          239411309,
          265548837,
          703301727,
          244585109,
          189476119,
          277132266,
          278920007,
          222410722,
          185392587,
          202452860,
          1608164312,
          624101957,
          148461629,
          47093942,
          380319238,
          209106362,
          53987404,
          115331792,
          225093344,
          84697729,
          159240673,
          170709584,
          154356956,
          723043854,
          247689123,
          176474912,
          235549288,
          140430339,
          85559365,
          146223492,
          187701588,
          154863153,
          191333656,
          253650850,
          223064273,
          170413877,
          218320587,
          141720999,
          187339835,
          198365537,
          186104310,
          177503916,
          71095708,
          112436403,
          203436468,
          93367537,
          106249219,
          181382590,
          91473363,
          121871870,
          73513683,
          133895612,
          96007391
         ],
         "yaxis": "y"
        }
       ],
       "layout": {
        "bargap": 0.2,
        "barmode": "relative",
        "legend": {
         "tracegroupgap": 0
        },
        "template": {
         "data": {
          "bar": [
           {
            "error_x": {
             "color": "#2a3f5f"
            },
            "error_y": {
             "color": "#2a3f5f"
            },
            "marker": {
             "line": {
              "color": "#E5ECF6",
              "width": 0.5
             },
             "pattern": {
              "fillmode": "overlay",
              "size": 10,
              "solidity": 0.2
             }
            },
            "type": "bar"
           }
          ],
          "barpolar": [
           {
            "marker": {
             "line": {
              "color": "#E5ECF6",
              "width": 0.5
             },
             "pattern": {
              "fillmode": "overlay",
              "size": 10,
              "solidity": 0.2
             }
            },
            "type": "barpolar"
           }
          ],
          "carpet": [
           {
            "aaxis": {
             "endlinecolor": "#2a3f5f",
             "gridcolor": "white",
             "linecolor": "white",
             "minorgridcolor": "white",
             "startlinecolor": "#2a3f5f"
            },
            "baxis": {
             "endlinecolor": "#2a3f5f",
             "gridcolor": "white",
             "linecolor": "white",
             "minorgridcolor": "white",
             "startlinecolor": "#2a3f5f"
            },
            "type": "carpet"
           }
          ],
          "choropleth": [
           {
            "colorbar": {
             "outlinewidth": 0,
             "ticks": ""
            },
            "type": "choropleth"
           }
          ],
          "contour": [
           {
            "colorbar": {
             "outlinewidth": 0,
             "ticks": ""
            },
            "colorscale": [
             [
              0,
              "#0d0887"
             ],
             [
              0.1111111111111111,
              "#46039f"
             ],
             [
              0.2222222222222222,
              "#7201a8"
             ],
             [
              0.3333333333333333,
              "#9c179e"
             ],
             [
              0.4444444444444444,
              "#bd3786"
             ],
             [
              0.5555555555555556,
              "#d8576b"
             ],
             [
              0.6666666666666666,
              "#ed7953"
             ],
             [
              0.7777777777777778,
              "#fb9f3a"
             ],
             [
              0.8888888888888888,
              "#fdca26"
             ],
             [
              1,
              "#f0f921"
             ]
            ],
            "type": "contour"
           }
          ],
          "contourcarpet": [
           {
            "colorbar": {
             "outlinewidth": 0,
             "ticks": ""
            },
            "type": "contourcarpet"
           }
          ],
          "heatmap": [
           {
            "colorbar": {
             "outlinewidth": 0,
             "ticks": ""
            },
            "colorscale": [
             [
              0,
              "#0d0887"
             ],
             [
              0.1111111111111111,
              "#46039f"
             ],
             [
              0.2222222222222222,
              "#7201a8"
             ],
             [
              0.3333333333333333,
              "#9c179e"
             ],
             [
              0.4444444444444444,
              "#bd3786"
             ],
             [
              0.5555555555555556,
              "#d8576b"
             ],
             [
              0.6666666666666666,
              "#ed7953"
             ],
             [
              0.7777777777777778,
              "#fb9f3a"
             ],
             [
              0.8888888888888888,
              "#fdca26"
             ],
             [
              1,
              "#f0f921"
             ]
            ],
            "type": "heatmap"
           }
          ],
          "histogram": [
           {
            "marker": {
             "pattern": {
              "fillmode": "overlay",
              "size": 10,
              "solidity": 0.2
             }
            },
            "type": "histogram"
           }
          ],
          "histogram2d": [
           {
            "colorbar": {
             "outlinewidth": 0,
             "ticks": ""
            },
            "colorscale": [
             [
              0,
              "#0d0887"
             ],
             [
              0.1111111111111111,
              "#46039f"
             ],
             [
              0.2222222222222222,
              "#7201a8"
             ],
             [
              0.3333333333333333,
              "#9c179e"
             ],
             [
              0.4444444444444444,
              "#bd3786"
             ],
             [
              0.5555555555555556,
              "#d8576b"
             ],
             [
              0.6666666666666666,
              "#ed7953"
             ],
             [
              0.7777777777777778,
              "#fb9f3a"
             ],
             [
              0.8888888888888888,
              "#fdca26"
             ],
             [
              1,
              "#f0f921"
             ]
            ],
            "type": "histogram2d"
           }
          ],
          "histogram2dcontour": [
           {
            "colorbar": {
             "outlinewidth": 0,
             "ticks": ""
            },
            "colorscale": [
             [
              0,
              "#0d0887"
             ],
             [
              0.1111111111111111,
              "#46039f"
             ],
             [
              0.2222222222222222,
              "#7201a8"
             ],
             [
              0.3333333333333333,
              "#9c179e"
             ],
             [
              0.4444444444444444,
              "#bd3786"
             ],
             [
              0.5555555555555556,
              "#d8576b"
             ],
             [
              0.6666666666666666,
              "#ed7953"
             ],
             [
              0.7777777777777778,
              "#fb9f3a"
             ],
             [
              0.8888888888888888,
              "#fdca26"
             ],
             [
              1,
              "#f0f921"
             ]
            ],
            "type": "histogram2dcontour"
           }
          ],
          "mesh3d": [
           {
            "colorbar": {
             "outlinewidth": 0,
             "ticks": ""
            },
            "type": "mesh3d"
           }
          ],
          "parcoords": [
           {
            "line": {
             "colorbar": {
              "outlinewidth": 0,
              "ticks": ""
             }
            },
            "type": "parcoords"
           }
          ],
          "pie": [
           {
            "automargin": true,
            "type": "pie"
           }
          ],
          "scatter": [
           {
            "fillpattern": {
             "fillmode": "overlay",
             "size": 10,
             "solidity": 0.2
            },
            "type": "scatter"
           }
          ],
          "scatter3d": [
           {
            "line": {
             "colorbar": {
              "outlinewidth": 0,
              "ticks": ""
             }
            },
            "marker": {
             "colorbar": {
              "outlinewidth": 0,
              "ticks": ""
             }
            },
            "type": "scatter3d"
           }
          ],
          "scattercarpet": [
           {
            "marker": {
             "colorbar": {
              "outlinewidth": 0,
              "ticks": ""
             }
            },
            "type": "scattercarpet"
           }
          ],
          "scattergeo": [
           {
            "marker": {
             "colorbar": {
              "outlinewidth": 0,
              "ticks": ""
             }
            },
            "type": "scattergeo"
           }
          ],
          "scattergl": [
           {
            "marker": {
             "colorbar": {
              "outlinewidth": 0,
              "ticks": ""
             }
            },
            "type": "scattergl"
           }
          ],
          "scattermap": [
           {
            "marker": {
             "colorbar": {
              "outlinewidth": 0,
              "ticks": ""
             }
            },
            "type": "scattermap"
           }
          ],
          "scattermapbox": [
           {
            "marker": {
             "colorbar": {
              "outlinewidth": 0,
              "ticks": ""
             }
            },
            "type": "scattermapbox"
           }
          ],
          "scatterpolar": [
           {
            "marker": {
             "colorbar": {
              "outlinewidth": 0,
              "ticks": ""
             }
            },
            "type": "scatterpolar"
           }
          ],
          "scatterpolargl": [
           {
            "marker": {
             "colorbar": {
              "outlinewidth": 0,
              "ticks": ""
             }
            },
            "type": "scatterpolargl"
           }
          ],
          "scatterternary": [
           {
            "marker": {
             "colorbar": {
              "outlinewidth": 0,
              "ticks": ""
             }
            },
            "type": "scatterternary"
           }
          ],
          "surface": [
           {
            "colorbar": {
             "outlinewidth": 0,
             "ticks": ""
            },
            "colorscale": [
             [
              0,
              "#0d0887"
             ],
             [
              0.1111111111111111,
              "#46039f"
             ],
             [
              0.2222222222222222,
              "#7201a8"
             ],
             [
              0.3333333333333333,
              "#9c179e"
             ],
             [
              0.4444444444444444,
              "#bd3786"
             ],
             [
              0.5555555555555556,
              "#d8576b"
             ],
             [
              0.6666666666666666,
              "#ed7953"
             ],
             [
              0.7777777777777778,
              "#fb9f3a"
             ],
             [
              0.8888888888888888,
              "#fdca26"
             ],
             [
              1,
              "#f0f921"
             ]
            ],
            "type": "surface"
           }
          ],
          "table": [
           {
            "cells": {
             "fill": {
              "color": "#EBF0F8"
             },
             "line": {
              "color": "white"
             }
            },
            "header": {
             "fill": {
              "color": "#C8D4E3"
             },
             "line": {
              "color": "white"
             }
            },
            "type": "table"
           }
          ]
         },
         "layout": {
          "annotationdefaults": {
           "arrowcolor": "#2a3f5f",
           "arrowhead": 0,
           "arrowwidth": 1
          },
          "autotypenumbers": "strict",
          "coloraxis": {
           "colorbar": {
            "outlinewidth": 0,
            "ticks": ""
           }
          },
          "colorscale": {
           "diverging": [
            [
             0,
             "#8e0152"
            ],
            [
             0.1,
             "#c51b7d"
            ],
            [
             0.2,
             "#de77ae"
            ],
            [
             0.3,
             "#f1b6da"
            ],
            [
             0.4,
             "#fde0ef"
            ],
            [
             0.5,
             "#f7f7f7"
            ],
            [
             0.6,
             "#e6f5d0"
            ],
            [
             0.7,
             "#b8e186"
            ],
            [
             0.8,
             "#7fbc41"
            ],
            [
             0.9,
             "#4d9221"
            ],
            [
             1,
             "#276419"
            ]
           ],
           "sequential": [
            [
             0,
             "#0d0887"
            ],
            [
             0.1111111111111111,
             "#46039f"
            ],
            [
             0.2222222222222222,
             "#7201a8"
            ],
            [
             0.3333333333333333,
             "#9c179e"
            ],
            [
             0.4444444444444444,
             "#bd3786"
            ],
            [
             0.5555555555555556,
             "#d8576b"
            ],
            [
             0.6666666666666666,
             "#ed7953"
            ],
            [
             0.7777777777777778,
             "#fb9f3a"
            ],
            [
             0.8888888888888888,
             "#fdca26"
            ],
            [
             1,
             "#f0f921"
            ]
           ],
           "sequentialminus": [
            [
             0,
             "#0d0887"
            ],
            [
             0.1111111111111111,
             "#46039f"
            ],
            [
             0.2222222222222222,
             "#7201a8"
            ],
            [
             0.3333333333333333,
             "#9c179e"
            ],
            [
             0.4444444444444444,
             "#bd3786"
            ],
            [
             0.5555555555555556,
             "#d8576b"
            ],
            [
             0.6666666666666666,
             "#ed7953"
            ],
            [
             0.7777777777777778,
             "#fb9f3a"
            ],
            [
             0.8888888888888888,
             "#fdca26"
            ],
            [
             1,
             "#f0f921"
            ]
           ]
          },
          "colorway": [
           "#636efa",
           "#EF553B",
           "#00cc96",
           "#ab63fa",
           "#FFA15A",
           "#19d3f3",
           "#FF6692",
           "#B6E880",
           "#FF97FF",
           "#FECB52"
          ],
          "font": {
           "color": "#2a3f5f"
          },
          "geo": {
           "bgcolor": "white",
           "lakecolor": "white",
           "landcolor": "#E5ECF6",
           "showlakes": true,
           "showland": true,
           "subunitcolor": "white"
          },
          "hoverlabel": {
           "align": "left"
          },
          "hovermode": "closest",
          "mapbox": {
           "style": "light"
          },
          "paper_bgcolor": "white",
          "plot_bgcolor": "#E5ECF6",
          "polar": {
           "angularaxis": {
            "gridcolor": "white",
            "linecolor": "white",
            "ticks": ""
           },
           "bgcolor": "#E5ECF6",
           "radialaxis": {
            "gridcolor": "white",
            "linecolor": "white",
            "ticks": ""
           }
          },
          "scene": {
           "xaxis": {
            "backgroundcolor": "#E5ECF6",
            "gridcolor": "white",
            "gridwidth": 2,
            "linecolor": "white",
            "showbackground": true,
            "ticks": "",
            "zerolinecolor": "white"
           },
           "yaxis": {
            "backgroundcolor": "#E5ECF6",
            "gridcolor": "white",
            "gridwidth": 2,
            "linecolor": "white",
            "showbackground": true,
            "ticks": "",
            "zerolinecolor": "white"
           },
           "zaxis": {
            "backgroundcolor": "#E5ECF6",
            "gridcolor": "white",
            "gridwidth": 2,
            "linecolor": "white",
            "showbackground": true,
            "ticks": "",
            "zerolinecolor": "white"
           }
          },
          "shapedefaults": {
           "line": {
            "color": "#2a3f5f"
           }
          },
          "ternary": {
           "aaxis": {
            "gridcolor": "white",
            "linecolor": "white",
            "ticks": ""
           },
           "baxis": {
            "gridcolor": "white",
            "linecolor": "white",
            "ticks": ""
           },
           "bgcolor": "#E5ECF6",
           "caxis": {
            "gridcolor": "white",
            "linecolor": "white",
            "ticks": ""
           }
          },
          "title": {
           "x": 0.05
          },
          "xaxis": {
           "automargin": true,
           "gridcolor": "white",
           "linecolor": "white",
           "ticks": "",
           "title": {
            "standoff": 15
           },
           "zerolinecolor": "white",
           "zerolinewidth": 2
          },
          "yaxis": {
           "automargin": true,
           "gridcolor": "white",
           "linecolor": "white",
           "ticks": "",
           "title": {
            "standoff": 15
           },
           "zerolinecolor": "white",
           "zerolinewidth": 2
          }
         }
        },
        "title": {
         "text": "Streams vs Danceability %"
        },
        "xaxis": {
         "anchor": "y",
         "domain": [
          0,
          1
         ],
         "title": {
          "text": "Danceability %"
         }
        },
        "yaxis": {
         "anchor": "x",
         "domain": [
          0,
          1
         ],
         "title": {
          "text": "Streams"
         }
        }
       }
      }
     },
     "metadata": {},
     "output_type": "display_data"
    }
   ],
   "source": [
    "px.histogram(\n",
    "    df_percentage,\n",
    "    x=\"Danceability %\",\n",
    "    y=\"Streams\",\n",
    "    nbins=20,\n",
    "    title=\"Streams vs Danceability %\",\n",
    "    color_discrete_sequence=[\"#0A6983\"],\n",
    "    opacity=0.7\n",
    ").update_layout(\n",
    "    xaxis=dict(title='Danceability %'),\n",
    "    yaxis=dict(title='Streams'),\n",
    "    bargap=0.2\n",
    ")"
   ]
  },
  {
   "cell_type": "markdown",
   "id": "bee233bd",
   "metadata": {},
   "source": [
    "![Track Age vs Streams](screenshots/streams-vs-danceability.png)"
   ]
  },
  {
   "cell_type": "markdown",
   "id": "e2bfdd5d",
   "metadata": {},
   "source": [
    "###  Streams vs Energy %\n",
    "\n",
    "This histogram explores the relationship between **track energy levels** and their **streaming performance**, offering insights into how intensity and dynamics influence audience engagement. Key observations:\n",
    "\n",
    "- Tracks with **higher energy percentages** generally attract **more streams**, indicating that listeners prefer songs that are **vibrant, dynamic, and stimulating**.  \n",
    "\n",
    "- Mid-energy tracks also perform well, suggesting that **moderate energy levels still resonate with a broad audience**, potentially due to versatility across playlists and moods.  \n",
    "\n",
    "- Low-energy tracks are less represented among high-stream counts, implying that **slower or calmer tracks may have a niche appeal** rather than mass consumption.  \n",
    "\n",
    "- Peaks in the histogram identify **energy ranges where streams are concentrated**, highlighting the **sweet spots for listener preference**.  \n",
    "\n",
    "- This visualization demonstrates that **energy is a significant feature influencing a track's commercial success**, yet it interacts with other attributes like danceability, valence, and artist influence to fully explain streaming performance.\n"
   ]
  },
  {
   "cell_type": "code",
   "execution_count": 30,
   "id": "14b57e37",
   "metadata": {},
   "outputs": [
    {
     "data": {
      "application/vnd.plotly.v1+json": {
       "config": {
        "plotlyServerURL": "https://plot.ly"
       },
       "data": [
        {
         "bingroup": "x",
         "histfunc": "sum",
         "hovertemplate": "Energy %=%{x}<br>sum of Streams=%{y}<extra></extra>",
         "legendgroup": "",
         "marker": {
          "color": "#400A83",
          "opacity": 0.7,
          "pattern": {
           "shape": ""
          }
         },
         "name": "",
         "nbinsx": 20,
         "orientation": "v",
         "showlegend": false,
         "type": "histogram",
         "x": {
          "bdata": "U0o1SFA6TEc+MEhSRCtJSTsJQklKTCpDRFZQR0RVVFc9Pz9ESURPVUEyYTg6QFE0OzVAW0ZYNlBIREg6YFE7QDtCPipJNVk1O1FOPjAvSU9JOSJATEQpR0JSPExMNS8sIzdCOzdHWkNIKFBFSEQ1LD5OUTROR1U9P1dEQDw3XVIeQVNNVj9VNjVILTdOMkFCWTBFOyNQTVFcR0Y0Q0dKRVNQPz5SPC0lTRs3NTVHXjJQP0BBNDYiOC8/N0tVQjxJSFkpRk1QQFowQzBJN05ORB4nK0o+Jzc1SkY+O1RTPCg0Tjo4PFwzRUo+PixGLDMwWTo3TjM0JS9FQ0JPNSBCTFhUOjApTiFCWEkvWD05LzREO1ZRRik+NVo1TFdARjBSSjBFQjxMREdJTEM5OE5BT1BWLkxJV08mQk8lSVVPT2E9RUNOODkOH1dTN1ZNUltKUExDVUwtK1E4T0pMSSYcT15BRkM/RlpNO0UyOCRMGV9BOSg5SlFMSTNDREI/WllQVEQtHkhUVjNOSk1PWEBHGTErUFZZRUBPPFtGPTBTNEAcNDlRVEJBWTcrPkA+Wl4iTlNML0UnOVBKP0EpJRc/PBgzUVIvNk1BGj1FJA86OSsUVyBCOxk6TCxKRF4gSDtNJzY5JEQuIChKOERYRURQRyI3O1Y2TzovSlEtTTNJQ09NQkA7QlQ9M0kxOilVTlBMRjdMGEMhPSs9ND5JLDIvRh06KVY/PD4vXlZEOVI3VUQxNSQqPjxNQUQ/RT4lTx4/MCReTzRJSUhHTyMtN0I8W0xNKh1aPlA9U1ouWVQtNCE5RlRDPSVVSjw/SjswUhpbIS9FWD1dWUIuKENISlY2VSBMNllFNktGTkw9H1k/UDw9R0BHQ1hCK0g+S1RKVj48Sks2TzQ0SkY8VjVMLT8mUzczLlY0SU1XFD9GNUklLBQ5RkpEOixALUZBLFAoLlhOOjkuQTRNNCs4U0NTRTdHR0ouPkA5QFQ9TywtWy0bQDJQUEtUUTFIOiYmQkpKWjdTTjsrTkE5Tys+Q0VHRTwvQVIyVU9GPkE6UjZgNipYUkIYJkJBKlorPCVHTjRCPFE+T1MrSFEkMjgsWVJIHTMtPDhGVDZVVi5DSzZIPlAwQDpZP1FNUi1HMF0UTCg+U1hSREtBVlxIWjhAMUU5U0NbKCtXLkw6PkBaQTM1O0FJSztYSk1KXEJZWzI5QlAfLBtMRjxVPjg8NUtbOiVNVT5KQ1E8Nz8cMiQjPR9GEFQsPUwrNUonGENNQw==",
          "dtype": "i1"
         },
         "xaxis": "x",
         "y": [
          141381703,
          133716286,
          140003974,
          800840817,
          303236322,
          183706234,
          725980112,
          58149378,
          95217315,
          553634067,
          505671438,
          58255150,
          1316855716,
          387570742,
          2513188493,
          1163093654,
          496795686,
          30546883,
          335222234,
          363369738,
          86444842,
          52135248,
          1297026226,
          200647221,
          115364561,
          78300654,
          899183384,
          61245289,
          429829812,
          127408954,
          22581161,
          52294266,
          843957510,
          999748277,
          618990393,
          123122413,
          188933502,
          1355959075,
          786181836,
          176553476,
          354495408,
          2808096550,
          1109433169,
          1047101291,
          65156199,
          570515054,
          1085685420,
          1647990401,
          2565529693,
          518745108,
          107753850,
          177740666,
          153372011,
          57876440,
          1813673666,
          3703895074,
          256483385,
          1214083358,
          16011326,
          812019557,
          111947664,
          156338624,
          720434240,
          357925728,
          674072710,
          1755214421,
          404562836,
          373199958,
          14780425,
          39578178,
          54266102,
          2557975762,
          751134527,
          2282771485,
          1356565093,
          1592909789,
          635412045,
          1230675890,
          585695368,
          43857627,
          2009094673,
          600976848,
          39709092,
          39228929,
          2665343922,
          223633238,
          2887241814,
          1440757818,
          165484133,
          58054811,
          157058870,
          95131998,
          250305248,
          685032533,
          38411956,
          144565150,
          127567540,
          399686758,
          983637508,
          118482347,
          882831184,
          286400165,
          172825906,
          1241559043,
          29562220,
          77309611,
          1605224506,
          1116995633,
          838079900,
          1163620694,
          1093605526,
          179659294,
          39058561,
          36912123,
          1205951614,
          1791000570,
          201660859,
          248088961,
          90839753,
          607123776,
          55842345,
          211050784,
          342897938,
          2762,
          330346424,
          601863821,
          1953533826,
          2322580122,
          2355719893,
          66902503,
          96273746,
          430977451,
          284819874,
          721975598,
          1217120710,
          109276132,
          276259178,
          54225632,
          2559529074,
          681583126,
          2594040133,
          81102253,
          11956641,
          1687664027,
          11599388,
          611700552,
          1133865788,
          1089402494,
          411747614,
          255932395,
          31873544,
          95053634,
          1279434863,
          233801632,
          1481349984,
          142095275,
          618885532,
          2011464183,
          1167330737,
          929964809,
          436027885,
          657723613,
          2713922350,
          621660989,
          1591223784,
          950906471,
          1593270737,
          1410088830,
          1235005533,
          1661187319,
          1374581173,
          94186466,
          1788326445,
          1840364617,
          143573775,
          684675814,
          1113838873,
          1267333350,
          726307468,
          3562543890,
          1131090940,
          307370144,
          1271293243,
          265882712,
          841749534,
          47956378,
          806397070,
          2132335812,
          1641426668,
          2135158446,
          367316268,
          350381515,
          1264310836,
          30343206,
          405136812,
          1145727611,
          540654286,
          57312735,
          397582059,
          1479115056,
          86773632,
          133753727,
          123124076,
          463564958,
          64533040,
          65496046,
          68616963,
          161460990,
          70106975,
          113509496,
          89933133,
          71007139,
          43522589,
          232896922,
          37126685,
          195576623,
          532336353,
          538115192,
          46142772,
          401036314,
          127026613,
          345031710,
          288101651,
          60350538,
          335074782,
          76767396,
          46065667,
          459276435,
          39666245,
          138517666,
          822633917,
          595900742,
          51985779,
          57945987,
          115010040,
          175097833,
          57089066,
          488386797,
          32761689,
          1047480053,
          153454328,
          217672943,
          457184829,
          939844851,
          726434358,
          573633020,
          1406111294,
          71573339,
          24975653,
          145458418,
          1424589568,
          231332117,
          415932686,
          988515741,
          50847624,
          39893489,
          92035115,
          118810253,
          77233241,
          206399629,
          117747907,
          266624541,
          293186992,
          139681964,
          123132751,
          103762518,
          162887075,
          91221625,
          190490915,
          96180277,
          185240616,
          885093467,
          104992946,
          147290338,
          1302184087,
          158950978,
          76910644,
          137123880,
          782369383,
          502574952,
          207033255,
          404887295,
          381161027,
          466231982,
          357580552,
          61105704,
          198275403,
          168448603,
          705469769,
          34502215,
          482175240,
          304118600,
          1449799467,
          173627354,
          90025258,
          652704649,
          1829992958,
          655466831,
          146409671,
          95816024,
          117206995,
          100409613,
          80758350,
          325592432,
          58473276,
          52722996,
          191945597,
          77377503,
          743693613,
          267789608,
          1221813483,
          449701773,
          67070410,
          116334601,
          433356509,
          165584767,
          367814306,
          477033549,
          156214700,
          448843705,
          1357608774,
          294352144,
          972164968,
          920045682,
          2420461338,
          1947371785,
          244658767,
          68216992,
          223582566,
          471819764,
          272377463,
          1361425037,
          149778242,
          116599790,
          148469433,
          497225336,
          88791109,
          125917280,
          105062254,
          95623148,
          144584800,
          298063749,
          166570053,
          83021468,
          139836056,
          303216294,
          221409663,
          58890931,
          81419389,
          156777415,
          284908316,
          93438910,
          363472647,
          372476382,
          380726517,
          56533272,
          175399345,
          203221468,
          1624165576,
          134294498,
          70069745,
          609293408,
          671365962,
          362361576,
          93587665,
          1223481149,
          1022258230,
          263453310,
          1435127549,
          236857112,
          147538971,
          698086140,
          723894473,
          34450974,
          403097450,
          309483971,
          319566866,
          909001996,
          1061966512,
          32526947,
          124988687,
          103787664,
          134255790,
          301051721,
          156338624,
          152850295,
          309653982,
          297328960,
          332506354,
          480507035,
          1065580332,
          122763672,
          445763624,
          1365184,
          184308753,
          789753877,
          323358833,
          606361689,
          120972253,
          338564981,
          1606986953,
          1301799902,
          140187018,
          1897517891,
          107642809,
          551305895,
          556585270,
          2303033973,
          646886885,
          222612678,
          1814349763,
          872137015,
          571386359,
          304079786,
          174006928,
          284785823,
          163284000,
          246390068,
          482257456,
          168684524,
          78489819,
          195516622,
          1260594497,
          428685680,
          1024858327,
          838586769,
          199386237,
          972509632,
          213438580,
          1555511105,
          210038833,
          227918678,
          826623384,
          1802514301,
          1329090101,
          181831132,
          462791599,
          348647203,
          366599607,
          90598517,
          1479264469,
          1449779435,
          1159176109,
          769213520,
          741301563,
          807561936,
          834129063,
          663832097,
          446390129,
          690104769,
          485285717,
          520034544,
          476244795,
          629173063,
          404664135,
          98709329,
          110849052,
          460492795,
          94005786,
          395591396,
          389771964,
          403939487,
          481697415,
          110073250,
          88092256,
          351636786,
          473248298,
          73981293,
          155653938,
          395591396,
          429504768,
          242767149,
          65362788,
          67540165,
          62019074,
          135723538,
          295998468,
          261116938,
          136689549,
          135611421,
          356709897,
          110649992,
          301869854,
          127027715,
          57144458,
          56870689,
          323437194,
          317726339,
          116144341,
          328207708,
          608228647,
          180577478,
          809306935,
          49262961,
          614555082,
          245350949,
          178660459,
          51641685,
          78139948,
          322336177,
          1007612429,
          326792833,
          391251368,
          349585590,
          339659802,
          674772936,
          432719968,
          1309887447,
          119238316,
          116903579,
          888046992,
          200660871,
          130655803,
          1887039593,
          88103848,
          101114984,
          1575467011,
          91656026,
          1042568408,
          1735441776,
          726837877,
          53933526,
          267758538,
          74601456,
          920797189,
          539595276,
          1367810478,
          578207856,
          775542072,
          863625566,
          656013912,
          1056760045,
          611994237,
          1230855859,
          582981380,
          1858144199,
          240684449,
          583687007,
          63803529,
          466214729,
          236940480,
          41924466,
          225259194,
          393230256,
          287201015,
          599770206,
          342779426,
          673801126,
          1168642797,
          540539717,
          383550148,
          530511203,
          37307967,
          510876816,
          1445941661,
          1763363713,
          374191487,
          108809090,
          436695353,
          421040617,
          501541661,
          354065229,
          1143647827,
          311395144,
          672656250,
          1256880657,
          1692897992,
          245095641,
          686734357,
          261414174,
          610045621,
          1115880852,
          594482982,
          566954746,
          374706940,
          184937148,
          31959571,
          167076418,
          824420218,
          363467642,
          1127468248,
          60680939,
          247737946,
          1699402402,
          154797871,
          198883004,
          124407432,
          850608354,
          376333030,
          516784627,
          1608045237,
          506778838,
          1472799873,
          513643924,
          261286503,
          783706581,
          422691058,
          1062345656,
          1252563873,
          851070493,
          263894529,
          345903614,
          951637566,
          956865266,
          427486004,
          156658366,
          624515457,
          777765388,
          412795151,
          1138474110,
          355219175,
          290228626,
          1062956628,
          1180094974,
          1456081449,
          432702334,
          489945871,
          465959382,
          1223481149,
          2864791672,
          2288695111,
          720825549,
          2086124197,
          1690192927,
          991336132,
          593917618,
          200972675,
          71014967,
          560222750,
          1806617704,
          77337771,
          528544703,
          865640097,
          2159346687,
          211372494,
          651732901,
          608334048,
          863756573,
          797402345,
          1695712020,
          1759567999,
          223319934,
          54937991,
          226897599,
          258316038,
          596152090,
          177129919,
          716591492,
          1210599487,
          246376690,
          496311364,
          146789379,
          843309044,
          500340342,
          107255472,
          135079152,
          822239726,
          1202722675,
          343197054,
          240769997,
          426204830,
          421135627,
          554875730,
          467727006,
          327498031,
          185408548,
          245400167,
          579395142,
          675039469,
          252871192,
          231996128,
          1929770265,
          918915401,
          1180896317,
          498960285,
          685071800,
          258714692,
          143139338,
          209768491,
          64714573,
          50746620,
          154119539,
          181328253,
          370068639,
          2280566092,
          563902868,
          317622165,
          291709698,
          203680270,
          81350745,
          282883169,
          64787943,
          2484812918,
          461437791,
          1439191367,
          759208783,
          368646862,
          299634472,
          756907987,
          682475162,
          546191065,
          229473310,
          202677468,
          121913181,
          208166039,
          527033089,
          94616487,
          394030335,
          193443895,
          299648208,
          182978249,
          319757142,
          109091573,
          153240879,
          346127840,
          312622938,
          2197010679,
          1200808494,
          797196073,
          1970673297,
          665765558,
          263779030,
          339473453,
          2204080728,
          2591224264,
          135444283,
          1457139296,
          236872197,
          694525298,
          240661097,
          421365166,
          349746291,
          255120451,
          190981339,
          924193303,
          305771063,
          273005485,
          89566512,
          677389855,
          75476209,
          408843328,
          187772591,
          178512385,
          101780047,
          118381354,
          146363130,
          126443991,
          157990698,
          176290831,
          1023187129,
          106933107,
          139193812,
          212234990,
          1714490998,
          197643795,
          807015863,
          933815613,
          499710590,
          120847157,
          53909146,
          2236667932,
          2123309722,
          301242089,
          723894473,
          237351106,
          461558540,
          417230415,
          156898322,
          127309180,
          313113297,
          173702135,
          271666301,
          305650299,
          123216717,
          479655659,
          126191104,
          344055883,
          338422004,
          68895644,
          86176890,
          403231558,
          319546754,
          61739839,
          283359161,
          76831876,
          283332261,
          307752576,
          279737940,
          212351890,
          1304313953,
          150500965,
          246127838,
          582863434,
          58687425,
          212109195,
          382199619,
          41210087,
          231657891,
          53729194,
          244741137,
          42485571,
          37778188,
          254218729,
          53603447,
          160035717,
          164163229,
          37091576,
          284249832,
          33381454,
          184622518,
          300983101,
          121077868,
          106919680,
          136996305,
          65719930,
          229497852,
          185550869,
          54682594,
          240580042,
          1284942608,
          71423324,
          244891912,
          132171975,
          184706613,
          184826429,
          302006641,
          330881149,
          334733572,
          366214458,
          114546317,
          290833204,
          448500832,
          136676504,
          190625045,
          79095270,
          273194684,
          333146475,
          194902696,
          311482393,
          195918494,
          248511839,
          233671263,
          199587884,
          91781263,
          383835984,
          236060709,
          189236868,
          160845341,
          588955257,
          238350348,
          187703102,
          295307001,
          138334433,
          445590495,
          286739476,
          1122364376,
          157136970,
          137070925,
          183273246,
          184807630,
          164856284,
          704171068,
          354614964,
          279717388,
          195628667,
          221752937,
          263280370,
          213505179,
          130419412,
          155795783,
          1553497987,
          293466523,
          711366595,
          191448892,
          85924992,
          176103902,
          121189256,
          131746175,
          244790012,
          129314708,
          331511413,
          219196651,
          170732845,
          273914335,
          179061440,
          185236961,
          171788484,
          387080183,
          264717480,
          244928911,
          97610446,
          287278853,
          887906111,
          123473120,
          295152154,
          323455692,
          240918092,
          191873381,
          284216603,
          239411309,
          265548837,
          703301727,
          244585109,
          189476119,
          277132266,
          278920007,
          222410722,
          185392587,
          202452860,
          1608164312,
          624101957,
          148461629,
          47093942,
          380319238,
          209106362,
          53987404,
          115331792,
          225093344,
          84697729,
          159240673,
          170709584,
          154356956,
          723043854,
          247689123,
          176474912,
          235549288,
          140430339,
          85559365,
          146223492,
          187701588,
          154863153,
          191333656,
          253650850,
          223064273,
          170413877,
          218320587,
          141720999,
          187339835,
          198365537,
          186104310,
          177503916,
          71095708,
          112436403,
          203436468,
          93367537,
          106249219,
          181382590,
          91473363,
          121871870,
          73513683,
          133895612,
          96007391
         ],
         "yaxis": "y"
        }
       ],
       "layout": {
        "bargap": 0.2,
        "barmode": "relative",
        "legend": {
         "tracegroupgap": 0
        },
        "template": {
         "data": {
          "bar": [
           {
            "error_x": {
             "color": "#2a3f5f"
            },
            "error_y": {
             "color": "#2a3f5f"
            },
            "marker": {
             "line": {
              "color": "#E5ECF6",
              "width": 0.5
             },
             "pattern": {
              "fillmode": "overlay",
              "size": 10,
              "solidity": 0.2
             }
            },
            "type": "bar"
           }
          ],
          "barpolar": [
           {
            "marker": {
             "line": {
              "color": "#E5ECF6",
              "width": 0.5
             },
             "pattern": {
              "fillmode": "overlay",
              "size": 10,
              "solidity": 0.2
             }
            },
            "type": "barpolar"
           }
          ],
          "carpet": [
           {
            "aaxis": {
             "endlinecolor": "#2a3f5f",
             "gridcolor": "white",
             "linecolor": "white",
             "minorgridcolor": "white",
             "startlinecolor": "#2a3f5f"
            },
            "baxis": {
             "endlinecolor": "#2a3f5f",
             "gridcolor": "white",
             "linecolor": "white",
             "minorgridcolor": "white",
             "startlinecolor": "#2a3f5f"
            },
            "type": "carpet"
           }
          ],
          "choropleth": [
           {
            "colorbar": {
             "outlinewidth": 0,
             "ticks": ""
            },
            "type": "choropleth"
           }
          ],
          "contour": [
           {
            "colorbar": {
             "outlinewidth": 0,
             "ticks": ""
            },
            "colorscale": [
             [
              0,
              "#0d0887"
             ],
             [
              0.1111111111111111,
              "#46039f"
             ],
             [
              0.2222222222222222,
              "#7201a8"
             ],
             [
              0.3333333333333333,
              "#9c179e"
             ],
             [
              0.4444444444444444,
              "#bd3786"
             ],
             [
              0.5555555555555556,
              "#d8576b"
             ],
             [
              0.6666666666666666,
              "#ed7953"
             ],
             [
              0.7777777777777778,
              "#fb9f3a"
             ],
             [
              0.8888888888888888,
              "#fdca26"
             ],
             [
              1,
              "#f0f921"
             ]
            ],
            "type": "contour"
           }
          ],
          "contourcarpet": [
           {
            "colorbar": {
             "outlinewidth": 0,
             "ticks": ""
            },
            "type": "contourcarpet"
           }
          ],
          "heatmap": [
           {
            "colorbar": {
             "outlinewidth": 0,
             "ticks": ""
            },
            "colorscale": [
             [
              0,
              "#0d0887"
             ],
             [
              0.1111111111111111,
              "#46039f"
             ],
             [
              0.2222222222222222,
              "#7201a8"
             ],
             [
              0.3333333333333333,
              "#9c179e"
             ],
             [
              0.4444444444444444,
              "#bd3786"
             ],
             [
              0.5555555555555556,
              "#d8576b"
             ],
             [
              0.6666666666666666,
              "#ed7953"
             ],
             [
              0.7777777777777778,
              "#fb9f3a"
             ],
             [
              0.8888888888888888,
              "#fdca26"
             ],
             [
              1,
              "#f0f921"
             ]
            ],
            "type": "heatmap"
           }
          ],
          "histogram": [
           {
            "marker": {
             "pattern": {
              "fillmode": "overlay",
              "size": 10,
              "solidity": 0.2
             }
            },
            "type": "histogram"
           }
          ],
          "histogram2d": [
           {
            "colorbar": {
             "outlinewidth": 0,
             "ticks": ""
            },
            "colorscale": [
             [
              0,
              "#0d0887"
             ],
             [
              0.1111111111111111,
              "#46039f"
             ],
             [
              0.2222222222222222,
              "#7201a8"
             ],
             [
              0.3333333333333333,
              "#9c179e"
             ],
             [
              0.4444444444444444,
              "#bd3786"
             ],
             [
              0.5555555555555556,
              "#d8576b"
             ],
             [
              0.6666666666666666,
              "#ed7953"
             ],
             [
              0.7777777777777778,
              "#fb9f3a"
             ],
             [
              0.8888888888888888,
              "#fdca26"
             ],
             [
              1,
              "#f0f921"
             ]
            ],
            "type": "histogram2d"
           }
          ],
          "histogram2dcontour": [
           {
            "colorbar": {
             "outlinewidth": 0,
             "ticks": ""
            },
            "colorscale": [
             [
              0,
              "#0d0887"
             ],
             [
              0.1111111111111111,
              "#46039f"
             ],
             [
              0.2222222222222222,
              "#7201a8"
             ],
             [
              0.3333333333333333,
              "#9c179e"
             ],
             [
              0.4444444444444444,
              "#bd3786"
             ],
             [
              0.5555555555555556,
              "#d8576b"
             ],
             [
              0.6666666666666666,
              "#ed7953"
             ],
             [
              0.7777777777777778,
              "#fb9f3a"
             ],
             [
              0.8888888888888888,
              "#fdca26"
             ],
             [
              1,
              "#f0f921"
             ]
            ],
            "type": "histogram2dcontour"
           }
          ],
          "mesh3d": [
           {
            "colorbar": {
             "outlinewidth": 0,
             "ticks": ""
            },
            "type": "mesh3d"
           }
          ],
          "parcoords": [
           {
            "line": {
             "colorbar": {
              "outlinewidth": 0,
              "ticks": ""
             }
            },
            "type": "parcoords"
           }
          ],
          "pie": [
           {
            "automargin": true,
            "type": "pie"
           }
          ],
          "scatter": [
           {
            "fillpattern": {
             "fillmode": "overlay",
             "size": 10,
             "solidity": 0.2
            },
            "type": "scatter"
           }
          ],
          "scatter3d": [
           {
            "line": {
             "colorbar": {
              "outlinewidth": 0,
              "ticks": ""
             }
            },
            "marker": {
             "colorbar": {
              "outlinewidth": 0,
              "ticks": ""
             }
            },
            "type": "scatter3d"
           }
          ],
          "scattercarpet": [
           {
            "marker": {
             "colorbar": {
              "outlinewidth": 0,
              "ticks": ""
             }
            },
            "type": "scattercarpet"
           }
          ],
          "scattergeo": [
           {
            "marker": {
             "colorbar": {
              "outlinewidth": 0,
              "ticks": ""
             }
            },
            "type": "scattergeo"
           }
          ],
          "scattergl": [
           {
            "marker": {
             "colorbar": {
              "outlinewidth": 0,
              "ticks": ""
             }
            },
            "type": "scattergl"
           }
          ],
          "scattermap": [
           {
            "marker": {
             "colorbar": {
              "outlinewidth": 0,
              "ticks": ""
             }
            },
            "type": "scattermap"
           }
          ],
          "scattermapbox": [
           {
            "marker": {
             "colorbar": {
              "outlinewidth": 0,
              "ticks": ""
             }
            },
            "type": "scattermapbox"
           }
          ],
          "scatterpolar": [
           {
            "marker": {
             "colorbar": {
              "outlinewidth": 0,
              "ticks": ""
             }
            },
            "type": "scatterpolar"
           }
          ],
          "scatterpolargl": [
           {
            "marker": {
             "colorbar": {
              "outlinewidth": 0,
              "ticks": ""
             }
            },
            "type": "scatterpolargl"
           }
          ],
          "scatterternary": [
           {
            "marker": {
             "colorbar": {
              "outlinewidth": 0,
              "ticks": ""
             }
            },
            "type": "scatterternary"
           }
          ],
          "surface": [
           {
            "colorbar": {
             "outlinewidth": 0,
             "ticks": ""
            },
            "colorscale": [
             [
              0,
              "#0d0887"
             ],
             [
              0.1111111111111111,
              "#46039f"
             ],
             [
              0.2222222222222222,
              "#7201a8"
             ],
             [
              0.3333333333333333,
              "#9c179e"
             ],
             [
              0.4444444444444444,
              "#bd3786"
             ],
             [
              0.5555555555555556,
              "#d8576b"
             ],
             [
              0.6666666666666666,
              "#ed7953"
             ],
             [
              0.7777777777777778,
              "#fb9f3a"
             ],
             [
              0.8888888888888888,
              "#fdca26"
             ],
             [
              1,
              "#f0f921"
             ]
            ],
            "type": "surface"
           }
          ],
          "table": [
           {
            "cells": {
             "fill": {
              "color": "#EBF0F8"
             },
             "line": {
              "color": "white"
             }
            },
            "header": {
             "fill": {
              "color": "#C8D4E3"
             },
             "line": {
              "color": "white"
             }
            },
            "type": "table"
           }
          ]
         },
         "layout": {
          "annotationdefaults": {
           "arrowcolor": "#2a3f5f",
           "arrowhead": 0,
           "arrowwidth": 1
          },
          "autotypenumbers": "strict",
          "coloraxis": {
           "colorbar": {
            "outlinewidth": 0,
            "ticks": ""
           }
          },
          "colorscale": {
           "diverging": [
            [
             0,
             "#8e0152"
            ],
            [
             0.1,
             "#c51b7d"
            ],
            [
             0.2,
             "#de77ae"
            ],
            [
             0.3,
             "#f1b6da"
            ],
            [
             0.4,
             "#fde0ef"
            ],
            [
             0.5,
             "#f7f7f7"
            ],
            [
             0.6,
             "#e6f5d0"
            ],
            [
             0.7,
             "#b8e186"
            ],
            [
             0.8,
             "#7fbc41"
            ],
            [
             0.9,
             "#4d9221"
            ],
            [
             1,
             "#276419"
            ]
           ],
           "sequential": [
            [
             0,
             "#0d0887"
            ],
            [
             0.1111111111111111,
             "#46039f"
            ],
            [
             0.2222222222222222,
             "#7201a8"
            ],
            [
             0.3333333333333333,
             "#9c179e"
            ],
            [
             0.4444444444444444,
             "#bd3786"
            ],
            [
             0.5555555555555556,
             "#d8576b"
            ],
            [
             0.6666666666666666,
             "#ed7953"
            ],
            [
             0.7777777777777778,
             "#fb9f3a"
            ],
            [
             0.8888888888888888,
             "#fdca26"
            ],
            [
             1,
             "#f0f921"
            ]
           ],
           "sequentialminus": [
            [
             0,
             "#0d0887"
            ],
            [
             0.1111111111111111,
             "#46039f"
            ],
            [
             0.2222222222222222,
             "#7201a8"
            ],
            [
             0.3333333333333333,
             "#9c179e"
            ],
            [
             0.4444444444444444,
             "#bd3786"
            ],
            [
             0.5555555555555556,
             "#d8576b"
            ],
            [
             0.6666666666666666,
             "#ed7953"
            ],
            [
             0.7777777777777778,
             "#fb9f3a"
            ],
            [
             0.8888888888888888,
             "#fdca26"
            ],
            [
             1,
             "#f0f921"
            ]
           ]
          },
          "colorway": [
           "#636efa",
           "#EF553B",
           "#00cc96",
           "#ab63fa",
           "#FFA15A",
           "#19d3f3",
           "#FF6692",
           "#B6E880",
           "#FF97FF",
           "#FECB52"
          ],
          "font": {
           "color": "#2a3f5f"
          },
          "geo": {
           "bgcolor": "white",
           "lakecolor": "white",
           "landcolor": "#E5ECF6",
           "showlakes": true,
           "showland": true,
           "subunitcolor": "white"
          },
          "hoverlabel": {
           "align": "left"
          },
          "hovermode": "closest",
          "mapbox": {
           "style": "light"
          },
          "paper_bgcolor": "white",
          "plot_bgcolor": "#E5ECF6",
          "polar": {
           "angularaxis": {
            "gridcolor": "white",
            "linecolor": "white",
            "ticks": ""
           },
           "bgcolor": "#E5ECF6",
           "radialaxis": {
            "gridcolor": "white",
            "linecolor": "white",
            "ticks": ""
           }
          },
          "scene": {
           "xaxis": {
            "backgroundcolor": "#E5ECF6",
            "gridcolor": "white",
            "gridwidth": 2,
            "linecolor": "white",
            "showbackground": true,
            "ticks": "",
            "zerolinecolor": "white"
           },
           "yaxis": {
            "backgroundcolor": "#E5ECF6",
            "gridcolor": "white",
            "gridwidth": 2,
            "linecolor": "white",
            "showbackground": true,
            "ticks": "",
            "zerolinecolor": "white"
           },
           "zaxis": {
            "backgroundcolor": "#E5ECF6",
            "gridcolor": "white",
            "gridwidth": 2,
            "linecolor": "white",
            "showbackground": true,
            "ticks": "",
            "zerolinecolor": "white"
           }
          },
          "shapedefaults": {
           "line": {
            "color": "#2a3f5f"
           }
          },
          "ternary": {
           "aaxis": {
            "gridcolor": "white",
            "linecolor": "white",
            "ticks": ""
           },
           "baxis": {
            "gridcolor": "white",
            "linecolor": "white",
            "ticks": ""
           },
           "bgcolor": "#E5ECF6",
           "caxis": {
            "gridcolor": "white",
            "linecolor": "white",
            "ticks": ""
           }
          },
          "title": {
           "x": 0.05
          },
          "xaxis": {
           "automargin": true,
           "gridcolor": "white",
           "linecolor": "white",
           "ticks": "",
           "title": {
            "standoff": 15
           },
           "zerolinecolor": "white",
           "zerolinewidth": 2
          },
          "yaxis": {
           "automargin": true,
           "gridcolor": "white",
           "linecolor": "white",
           "ticks": "",
           "title": {
            "standoff": 15
           },
           "zerolinecolor": "white",
           "zerolinewidth": 2
          }
         }
        },
        "title": {
         "text": "Streams vs Energy %"
        },
        "xaxis": {
         "anchor": "y",
         "domain": [
          0,
          1
         ],
         "title": {
          "text": "Energy %"
         }
        },
        "yaxis": {
         "anchor": "x",
         "domain": [
          0,
          1
         ],
         "title": {
          "text": "Streams"
         }
        }
       }
      }
     },
     "metadata": {},
     "output_type": "display_data"
    }
   ],
   "source": [
    "px.histogram(\n",
    "    df_percentage,\n",
    "    x=\"Energy %\",\n",
    "    y=\"Streams\",\n",
    "    nbins=20,\n",
    "    title=\"Streams vs Energy %\",\n",
    "    color_discrete_sequence=[\"#400A83\"],\n",
    "    opacity=0.7\n",
    ").update_layout(\n",
    "    xaxis=dict(title='Energy %'),\n",
    "    yaxis=dict(title='Streams'),\n",
    "    bargap=0.2\n",
    ")"
   ]
  },
  {
   "cell_type": "markdown",
   "id": "4f8b32d1",
   "metadata": {},
   "source": [
    "![Track Age vs Streams](screenshots/streams-vs-energy.png)"
   ]
  },
  {
   "cell_type": "markdown",
   "id": "467dc1e0",
   "metadata": {},
   "source": [
    "### Streams vs Valence %\n",
    "\n",
    "This histogram examines the impact of **valence**, a measure of a track's positivity and mood—on its **streaming performance**. Key insights:\n",
    "\n",
    "- Tracks with **higher valence percentages**, representing **happier and more upbeat songs**, tend to receive **more streams**, indicating listener preference for positive and feel-good music.  \n",
    "\n",
    "- Mid-range valence tracks also accumulate substantial streams, suggesting that **songs with a balance of mood** can appeal to diverse listener emotions.  \n",
    "\n",
    "- Low-valence tracks, which are **darker or more melancholic**, generally show **lower streaming numbers**, reflecting a more selective or niche audience.  \n",
    "\n",
    "- Clusters of high-stream tracks within specific valence ranges highlight **popular mood zones**, which may inform playlist curation or production focus.  \n",
    "\n",
    "- Overall, the visualization underscores that **valence is a meaningful predictor of track popularity**, though it must be considered alongside energy, danceability, and artist influence for comprehensive insight.\n"
   ]
  },
  {
   "cell_type": "code",
   "execution_count": 31,
   "id": "1c4438a5",
   "metadata": {},
   "outputs": [
    {
     "data": {
      "application/vnd.plotly.v1+json": {
       "config": {
        "plotlyServerURL": "https://plot.ly"
       },
       "data": [
        {
         "bingroup": "x",
         "histfunc": "sum",
         "hovertemplate": "Valence %=%{x}<br>sum of Streams=%{y}<extra></extra>",
         "legendgroup": "",
         "marker": {
          "color": "#0A8353",
          "opacity": 0.7,
          "pattern": {
           "shape": ""
          }
         },
         "name": "",
         "nbinsx": 20,
         "orientation": "v",
         "showlegend": false,
         "type": "histogram",
         "x": {
          "bdata": "WT0gOhdCUxoWODg0QSBCK0wOQyRXUixRU2BSSjROIz8RMz0/JzkwYFRbJjpLMVIzMTIRFzdgDSZYVSo1O1ZINSgcCkcwFlQ1Dik3KhsYOigyICQUMEYtKyhUQ0wOEyJFEScYOTIRJRg1MlwtQS8lEk8xNi8eYFkqTx9ETic5WDgMO0VKFDIUFjBgERRKQURDXDQbIRhgWkZWPVdVKDApH1lKJBg9M0kKPCszDSomVChfUTVdKCUMGBEkNjsuKUsxE0MlTDQ3ElYUGCNPNUMYNQUzKlUtQBwnGToHLVo9VSA+RT07GktFQA46LzYUCjsXPz8EGxkqDTcZN05gLhs4LCZTRTkkOhteJksvI0cKKDVKUFJQGiNOWCRFNzkPIU04ERNDPREgVlQGQDUsR09QRjIWSwtaTz8WKkwSYEAuQDkoKy5NLQxAKUg6IhgeUVwUQyssSEQzFFMsQUIxHRocRE4xUjBgMyhhPSsrMSg7EkgrWC8QSD00QCgdKiA4VBlSSjw3ER8vUElSPiY+IjlTCTIZQTtTRyJEBD1ZCRcUNCc8D2FMBhgsWxQYLhoROx0fNVxYJEYoLDEzIVhVTiY1TEghRWBGWFQjNydHURZKFzsTW1YzFhNXIyovTjxIRVwqKQ85YCFNEwQwJypdMyMvXl4wMyIqWzwtUkBTLD4jMjIjRBsxSlUTTDUKJQ03SDskDiguHxAMRRU0FRk3PTcuTwckC085LFUoNF0xDkw6PEM5H0YxLBZKJxJOP0gWM1I4Fy8pMyEdO0w2Vh8kFU8TODQ/RxMoGEJgPlw7LU8fQQsMLzpMBwhCNSEaNjYWTSFJGx1EQQ4YKE8THkFDQVAsCjw9SkY+XEtaNTIXHx9bMiwxT0ElER4XKzEvSkw9BFwqNVMIWT1WJUs8WUIsOh8SRC02Ez5NLjk7CERgUigkTBo3OEZHC1Y3SUQYIVEXF1pCRyMlL0AcSyEgOBs7Oik/Nj8WHi0pPzAWWzc/Wk0GOxxHYVMZVz5JGBQ1J0goPRYgMl0pJytOOjMtMjRCSjc4Q0cpGk08GClIMBpbHkpQIBQOPBwdPSBTQzItNSVSLjsrLSEOMU8bBxsfREYkJx0/Sg9MRChNJx5YKhRYHSpaWkQeFVo/OBkuHD0gNg5hO1c7BT5IJCkfQzc0CDRTUCxETjheEi4uJi44RkkrQEJaR2ExSjFIUBxHTks6TzQWFREaMARLSxoYGCtBGBhcMjUNFlI+Fy0QCyEMGQ8UJzcZPhYoCzcYB1FDIA==",
          "dtype": "i1"
         },
         "xaxis": "x",
         "y": [
          141381703,
          133716286,
          140003974,
          800840817,
          303236322,
          183706234,
          725980112,
          58149378,
          95217315,
          553634067,
          505671438,
          58255150,
          1316855716,
          387570742,
          2513188493,
          1163093654,
          496795686,
          30546883,
          335222234,
          363369738,
          86444842,
          52135248,
          1297026226,
          200647221,
          115364561,
          78300654,
          899183384,
          61245289,
          429829812,
          127408954,
          22581161,
          52294266,
          843957510,
          999748277,
          618990393,
          123122413,
          188933502,
          1355959075,
          786181836,
          176553476,
          354495408,
          2808096550,
          1109433169,
          1047101291,
          65156199,
          570515054,
          1085685420,
          1647990401,
          2565529693,
          518745108,
          107753850,
          177740666,
          153372011,
          57876440,
          1813673666,
          3703895074,
          256483385,
          1214083358,
          16011326,
          812019557,
          111947664,
          156338624,
          720434240,
          357925728,
          674072710,
          1755214421,
          404562836,
          373199958,
          14780425,
          39578178,
          54266102,
          2557975762,
          751134527,
          2282771485,
          1356565093,
          1592909789,
          635412045,
          1230675890,
          585695368,
          43857627,
          2009094673,
          600976848,
          39709092,
          39228929,
          2665343922,
          223633238,
          2887241814,
          1440757818,
          165484133,
          58054811,
          157058870,
          95131998,
          250305248,
          685032533,
          38411956,
          144565150,
          127567540,
          399686758,
          983637508,
          118482347,
          882831184,
          286400165,
          172825906,
          1241559043,
          29562220,
          77309611,
          1605224506,
          1116995633,
          838079900,
          1163620694,
          1093605526,
          179659294,
          39058561,
          36912123,
          1205951614,
          1791000570,
          201660859,
          248088961,
          90839753,
          607123776,
          55842345,
          211050784,
          342897938,
          2762,
          330346424,
          601863821,
          1953533826,
          2322580122,
          2355719893,
          66902503,
          96273746,
          430977451,
          284819874,
          721975598,
          1217120710,
          109276132,
          276259178,
          54225632,
          2559529074,
          681583126,
          2594040133,
          81102253,
          11956641,
          1687664027,
          11599388,
          611700552,
          1133865788,
          1089402494,
          411747614,
          255932395,
          31873544,
          95053634,
          1279434863,
          233801632,
          1481349984,
          142095275,
          618885532,
          2011464183,
          1167330737,
          929964809,
          436027885,
          657723613,
          2713922350,
          621660989,
          1591223784,
          950906471,
          1593270737,
          1410088830,
          1235005533,
          1661187319,
          1374581173,
          94186466,
          1788326445,
          1840364617,
          143573775,
          684675814,
          1113838873,
          1267333350,
          726307468,
          3562543890,
          1131090940,
          307370144,
          1271293243,
          265882712,
          841749534,
          47956378,
          806397070,
          2132335812,
          1641426668,
          2135158446,
          367316268,
          350381515,
          1264310836,
          30343206,
          405136812,
          1145727611,
          540654286,
          57312735,
          397582059,
          1479115056,
          86773632,
          133753727,
          123124076,
          463564958,
          64533040,
          65496046,
          68616963,
          161460990,
          70106975,
          113509496,
          89933133,
          71007139,
          43522589,
          232896922,
          37126685,
          195576623,
          532336353,
          538115192,
          46142772,
          401036314,
          127026613,
          345031710,
          288101651,
          60350538,
          335074782,
          76767396,
          46065667,
          459276435,
          39666245,
          138517666,
          822633917,
          595900742,
          51985779,
          57945987,
          115010040,
          175097833,
          57089066,
          488386797,
          32761689,
          1047480053,
          153454328,
          217672943,
          457184829,
          939844851,
          726434358,
          573633020,
          1406111294,
          71573339,
          24975653,
          145458418,
          1424589568,
          231332117,
          415932686,
          988515741,
          50847624,
          39893489,
          92035115,
          118810253,
          77233241,
          206399629,
          117747907,
          266624541,
          293186992,
          139681964,
          123132751,
          103762518,
          162887075,
          91221625,
          190490915,
          96180277,
          185240616,
          885093467,
          104992946,
          147290338,
          1302184087,
          158950978,
          76910644,
          137123880,
          782369383,
          502574952,
          207033255,
          404887295,
          381161027,
          466231982,
          357580552,
          61105704,
          198275403,
          168448603,
          705469769,
          34502215,
          482175240,
          304118600,
          1449799467,
          173627354,
          90025258,
          652704649,
          1829992958,
          655466831,
          146409671,
          95816024,
          117206995,
          100409613,
          80758350,
          325592432,
          58473276,
          52722996,
          191945597,
          77377503,
          743693613,
          267789608,
          1221813483,
          449701773,
          67070410,
          116334601,
          433356509,
          165584767,
          367814306,
          477033549,
          156214700,
          448843705,
          1357608774,
          294352144,
          972164968,
          920045682,
          2420461338,
          1947371785,
          244658767,
          68216992,
          223582566,
          471819764,
          272377463,
          1361425037,
          149778242,
          116599790,
          148469433,
          497225336,
          88791109,
          125917280,
          105062254,
          95623148,
          144584800,
          298063749,
          166570053,
          83021468,
          139836056,
          303216294,
          221409663,
          58890931,
          81419389,
          156777415,
          284908316,
          93438910,
          363472647,
          372476382,
          380726517,
          56533272,
          175399345,
          203221468,
          1624165576,
          134294498,
          70069745,
          609293408,
          671365962,
          362361576,
          93587665,
          1223481149,
          1022258230,
          263453310,
          1435127549,
          236857112,
          147538971,
          698086140,
          723894473,
          34450974,
          403097450,
          309483971,
          319566866,
          909001996,
          1061966512,
          32526947,
          124988687,
          103787664,
          134255790,
          301051721,
          156338624,
          152850295,
          309653982,
          297328960,
          332506354,
          480507035,
          1065580332,
          122763672,
          445763624,
          1365184,
          184308753,
          789753877,
          323358833,
          606361689,
          120972253,
          338564981,
          1606986953,
          1301799902,
          140187018,
          1897517891,
          107642809,
          551305895,
          556585270,
          2303033973,
          646886885,
          222612678,
          1814349763,
          872137015,
          571386359,
          304079786,
          174006928,
          284785823,
          163284000,
          246390068,
          482257456,
          168684524,
          78489819,
          195516622,
          1260594497,
          428685680,
          1024858327,
          838586769,
          199386237,
          972509632,
          213438580,
          1555511105,
          210038833,
          227918678,
          826623384,
          1802514301,
          1329090101,
          181831132,
          462791599,
          348647203,
          366599607,
          90598517,
          1479264469,
          1449779435,
          1159176109,
          769213520,
          741301563,
          807561936,
          834129063,
          663832097,
          446390129,
          690104769,
          485285717,
          520034544,
          476244795,
          629173063,
          404664135,
          98709329,
          110849052,
          460492795,
          94005786,
          395591396,
          389771964,
          403939487,
          481697415,
          110073250,
          88092256,
          351636786,
          473248298,
          73981293,
          155653938,
          395591396,
          429504768,
          242767149,
          65362788,
          67540165,
          62019074,
          135723538,
          295998468,
          261116938,
          136689549,
          135611421,
          356709897,
          110649992,
          301869854,
          127027715,
          57144458,
          56870689,
          323437194,
          317726339,
          116144341,
          328207708,
          608228647,
          180577478,
          809306935,
          49262961,
          614555082,
          245350949,
          178660459,
          51641685,
          78139948,
          322336177,
          1007612429,
          326792833,
          391251368,
          349585590,
          339659802,
          674772936,
          432719968,
          1309887447,
          119238316,
          116903579,
          888046992,
          200660871,
          130655803,
          1887039593,
          88103848,
          101114984,
          1575467011,
          91656026,
          1042568408,
          1735441776,
          726837877,
          53933526,
          267758538,
          74601456,
          920797189,
          539595276,
          1367810478,
          578207856,
          775542072,
          863625566,
          656013912,
          1056760045,
          611994237,
          1230855859,
          582981380,
          1858144199,
          240684449,
          583687007,
          63803529,
          466214729,
          236940480,
          41924466,
          225259194,
          393230256,
          287201015,
          599770206,
          342779426,
          673801126,
          1168642797,
          540539717,
          383550148,
          530511203,
          37307967,
          510876816,
          1445941661,
          1763363713,
          374191487,
          108809090,
          436695353,
          421040617,
          501541661,
          354065229,
          1143647827,
          311395144,
          672656250,
          1256880657,
          1692897992,
          245095641,
          686734357,
          261414174,
          610045621,
          1115880852,
          594482982,
          566954746,
          374706940,
          184937148,
          31959571,
          167076418,
          824420218,
          363467642,
          1127468248,
          60680939,
          247737946,
          1699402402,
          154797871,
          198883004,
          124407432,
          850608354,
          376333030,
          516784627,
          1608045237,
          506778838,
          1472799873,
          513643924,
          261286503,
          783706581,
          422691058,
          1062345656,
          1252563873,
          851070493,
          263894529,
          345903614,
          951637566,
          956865266,
          427486004,
          156658366,
          624515457,
          777765388,
          412795151,
          1138474110,
          355219175,
          290228626,
          1062956628,
          1180094974,
          1456081449,
          432702334,
          489945871,
          465959382,
          1223481149,
          2864791672,
          2288695111,
          720825549,
          2086124197,
          1690192927,
          991336132,
          593917618,
          200972675,
          71014967,
          560222750,
          1806617704,
          77337771,
          528544703,
          865640097,
          2159346687,
          211372494,
          651732901,
          608334048,
          863756573,
          797402345,
          1695712020,
          1759567999,
          223319934,
          54937991,
          226897599,
          258316038,
          596152090,
          177129919,
          716591492,
          1210599487,
          246376690,
          496311364,
          146789379,
          843309044,
          500340342,
          107255472,
          135079152,
          822239726,
          1202722675,
          343197054,
          240769997,
          426204830,
          421135627,
          554875730,
          467727006,
          327498031,
          185408548,
          245400167,
          579395142,
          675039469,
          252871192,
          231996128,
          1929770265,
          918915401,
          1180896317,
          498960285,
          685071800,
          258714692,
          143139338,
          209768491,
          64714573,
          50746620,
          154119539,
          181328253,
          370068639,
          2280566092,
          563902868,
          317622165,
          291709698,
          203680270,
          81350745,
          282883169,
          64787943,
          2484812918,
          461437791,
          1439191367,
          759208783,
          368646862,
          299634472,
          756907987,
          682475162,
          546191065,
          229473310,
          202677468,
          121913181,
          208166039,
          527033089,
          94616487,
          394030335,
          193443895,
          299648208,
          182978249,
          319757142,
          109091573,
          153240879,
          346127840,
          312622938,
          2197010679,
          1200808494,
          797196073,
          1970673297,
          665765558,
          263779030,
          339473453,
          2204080728,
          2591224264,
          135444283,
          1457139296,
          236872197,
          694525298,
          240661097,
          421365166,
          349746291,
          255120451,
          190981339,
          924193303,
          305771063,
          273005485,
          89566512,
          677389855,
          75476209,
          408843328,
          187772591,
          178512385,
          101780047,
          118381354,
          146363130,
          126443991,
          157990698,
          176290831,
          1023187129,
          106933107,
          139193812,
          212234990,
          1714490998,
          197643795,
          807015863,
          933815613,
          499710590,
          120847157,
          53909146,
          2236667932,
          2123309722,
          301242089,
          723894473,
          237351106,
          461558540,
          417230415,
          156898322,
          127309180,
          313113297,
          173702135,
          271666301,
          305650299,
          123216717,
          479655659,
          126191104,
          344055883,
          338422004,
          68895644,
          86176890,
          403231558,
          319546754,
          61739839,
          283359161,
          76831876,
          283332261,
          307752576,
          279737940,
          212351890,
          1304313953,
          150500965,
          246127838,
          582863434,
          58687425,
          212109195,
          382199619,
          41210087,
          231657891,
          53729194,
          244741137,
          42485571,
          37778188,
          254218729,
          53603447,
          160035717,
          164163229,
          37091576,
          284249832,
          33381454,
          184622518,
          300983101,
          121077868,
          106919680,
          136996305,
          65719930,
          229497852,
          185550869,
          54682594,
          240580042,
          1284942608,
          71423324,
          244891912,
          132171975,
          184706613,
          184826429,
          302006641,
          330881149,
          334733572,
          366214458,
          114546317,
          290833204,
          448500832,
          136676504,
          190625045,
          79095270,
          273194684,
          333146475,
          194902696,
          311482393,
          195918494,
          248511839,
          233671263,
          199587884,
          91781263,
          383835984,
          236060709,
          189236868,
          160845341,
          588955257,
          238350348,
          187703102,
          295307001,
          138334433,
          445590495,
          286739476,
          1122364376,
          157136970,
          137070925,
          183273246,
          184807630,
          164856284,
          704171068,
          354614964,
          279717388,
          195628667,
          221752937,
          263280370,
          213505179,
          130419412,
          155795783,
          1553497987,
          293466523,
          711366595,
          191448892,
          85924992,
          176103902,
          121189256,
          131746175,
          244790012,
          129314708,
          331511413,
          219196651,
          170732845,
          273914335,
          179061440,
          185236961,
          171788484,
          387080183,
          264717480,
          244928911,
          97610446,
          287278853,
          887906111,
          123473120,
          295152154,
          323455692,
          240918092,
          191873381,
          284216603,
          239411309,
          265548837,
          703301727,
          244585109,
          189476119,
          277132266,
          278920007,
          222410722,
          185392587,
          202452860,
          1608164312,
          624101957,
          148461629,
          47093942,
          380319238,
          209106362,
          53987404,
          115331792,
          225093344,
          84697729,
          159240673,
          170709584,
          154356956,
          723043854,
          247689123,
          176474912,
          235549288,
          140430339,
          85559365,
          146223492,
          187701588,
          154863153,
          191333656,
          253650850,
          223064273,
          170413877,
          218320587,
          141720999,
          187339835,
          198365537,
          186104310,
          177503916,
          71095708,
          112436403,
          203436468,
          93367537,
          106249219,
          181382590,
          91473363,
          121871870,
          73513683,
          133895612,
          96007391
         ],
         "yaxis": "y"
        }
       ],
       "layout": {
        "bargap": 0.2,
        "barmode": "relative",
        "legend": {
         "tracegroupgap": 0
        },
        "template": {
         "data": {
          "bar": [
           {
            "error_x": {
             "color": "#2a3f5f"
            },
            "error_y": {
             "color": "#2a3f5f"
            },
            "marker": {
             "line": {
              "color": "#E5ECF6",
              "width": 0.5
             },
             "pattern": {
              "fillmode": "overlay",
              "size": 10,
              "solidity": 0.2
             }
            },
            "type": "bar"
           }
          ],
          "barpolar": [
           {
            "marker": {
             "line": {
              "color": "#E5ECF6",
              "width": 0.5
             },
             "pattern": {
              "fillmode": "overlay",
              "size": 10,
              "solidity": 0.2
             }
            },
            "type": "barpolar"
           }
          ],
          "carpet": [
           {
            "aaxis": {
             "endlinecolor": "#2a3f5f",
             "gridcolor": "white",
             "linecolor": "white",
             "minorgridcolor": "white",
             "startlinecolor": "#2a3f5f"
            },
            "baxis": {
             "endlinecolor": "#2a3f5f",
             "gridcolor": "white",
             "linecolor": "white",
             "minorgridcolor": "white",
             "startlinecolor": "#2a3f5f"
            },
            "type": "carpet"
           }
          ],
          "choropleth": [
           {
            "colorbar": {
             "outlinewidth": 0,
             "ticks": ""
            },
            "type": "choropleth"
           }
          ],
          "contour": [
           {
            "colorbar": {
             "outlinewidth": 0,
             "ticks": ""
            },
            "colorscale": [
             [
              0,
              "#0d0887"
             ],
             [
              0.1111111111111111,
              "#46039f"
             ],
             [
              0.2222222222222222,
              "#7201a8"
             ],
             [
              0.3333333333333333,
              "#9c179e"
             ],
             [
              0.4444444444444444,
              "#bd3786"
             ],
             [
              0.5555555555555556,
              "#d8576b"
             ],
             [
              0.6666666666666666,
              "#ed7953"
             ],
             [
              0.7777777777777778,
              "#fb9f3a"
             ],
             [
              0.8888888888888888,
              "#fdca26"
             ],
             [
              1,
              "#f0f921"
             ]
            ],
            "type": "contour"
           }
          ],
          "contourcarpet": [
           {
            "colorbar": {
             "outlinewidth": 0,
             "ticks": ""
            },
            "type": "contourcarpet"
           }
          ],
          "heatmap": [
           {
            "colorbar": {
             "outlinewidth": 0,
             "ticks": ""
            },
            "colorscale": [
             [
              0,
              "#0d0887"
             ],
             [
              0.1111111111111111,
              "#46039f"
             ],
             [
              0.2222222222222222,
              "#7201a8"
             ],
             [
              0.3333333333333333,
              "#9c179e"
             ],
             [
              0.4444444444444444,
              "#bd3786"
             ],
             [
              0.5555555555555556,
              "#d8576b"
             ],
             [
              0.6666666666666666,
              "#ed7953"
             ],
             [
              0.7777777777777778,
              "#fb9f3a"
             ],
             [
              0.8888888888888888,
              "#fdca26"
             ],
             [
              1,
              "#f0f921"
             ]
            ],
            "type": "heatmap"
           }
          ],
          "histogram": [
           {
            "marker": {
             "pattern": {
              "fillmode": "overlay",
              "size": 10,
              "solidity": 0.2
             }
            },
            "type": "histogram"
           }
          ],
          "histogram2d": [
           {
            "colorbar": {
             "outlinewidth": 0,
             "ticks": ""
            },
            "colorscale": [
             [
              0,
              "#0d0887"
             ],
             [
              0.1111111111111111,
              "#46039f"
             ],
             [
              0.2222222222222222,
              "#7201a8"
             ],
             [
              0.3333333333333333,
              "#9c179e"
             ],
             [
              0.4444444444444444,
              "#bd3786"
             ],
             [
              0.5555555555555556,
              "#d8576b"
             ],
             [
              0.6666666666666666,
              "#ed7953"
             ],
             [
              0.7777777777777778,
              "#fb9f3a"
             ],
             [
              0.8888888888888888,
              "#fdca26"
             ],
             [
              1,
              "#f0f921"
             ]
            ],
            "type": "histogram2d"
           }
          ],
          "histogram2dcontour": [
           {
            "colorbar": {
             "outlinewidth": 0,
             "ticks": ""
            },
            "colorscale": [
             [
              0,
              "#0d0887"
             ],
             [
              0.1111111111111111,
              "#46039f"
             ],
             [
              0.2222222222222222,
              "#7201a8"
             ],
             [
              0.3333333333333333,
              "#9c179e"
             ],
             [
              0.4444444444444444,
              "#bd3786"
             ],
             [
              0.5555555555555556,
              "#d8576b"
             ],
             [
              0.6666666666666666,
              "#ed7953"
             ],
             [
              0.7777777777777778,
              "#fb9f3a"
             ],
             [
              0.8888888888888888,
              "#fdca26"
             ],
             [
              1,
              "#f0f921"
             ]
            ],
            "type": "histogram2dcontour"
           }
          ],
          "mesh3d": [
           {
            "colorbar": {
             "outlinewidth": 0,
             "ticks": ""
            },
            "type": "mesh3d"
           }
          ],
          "parcoords": [
           {
            "line": {
             "colorbar": {
              "outlinewidth": 0,
              "ticks": ""
             }
            },
            "type": "parcoords"
           }
          ],
          "pie": [
           {
            "automargin": true,
            "type": "pie"
           }
          ],
          "scatter": [
           {
            "fillpattern": {
             "fillmode": "overlay",
             "size": 10,
             "solidity": 0.2
            },
            "type": "scatter"
           }
          ],
          "scatter3d": [
           {
            "line": {
             "colorbar": {
              "outlinewidth": 0,
              "ticks": ""
             }
            },
            "marker": {
             "colorbar": {
              "outlinewidth": 0,
              "ticks": ""
             }
            },
            "type": "scatter3d"
           }
          ],
          "scattercarpet": [
           {
            "marker": {
             "colorbar": {
              "outlinewidth": 0,
              "ticks": ""
             }
            },
            "type": "scattercarpet"
           }
          ],
          "scattergeo": [
           {
            "marker": {
             "colorbar": {
              "outlinewidth": 0,
              "ticks": ""
             }
            },
            "type": "scattergeo"
           }
          ],
          "scattergl": [
           {
            "marker": {
             "colorbar": {
              "outlinewidth": 0,
              "ticks": ""
             }
            },
            "type": "scattergl"
           }
          ],
          "scattermap": [
           {
            "marker": {
             "colorbar": {
              "outlinewidth": 0,
              "ticks": ""
             }
            },
            "type": "scattermap"
           }
          ],
          "scattermapbox": [
           {
            "marker": {
             "colorbar": {
              "outlinewidth": 0,
              "ticks": ""
             }
            },
            "type": "scattermapbox"
           }
          ],
          "scatterpolar": [
           {
            "marker": {
             "colorbar": {
              "outlinewidth": 0,
              "ticks": ""
             }
            },
            "type": "scatterpolar"
           }
          ],
          "scatterpolargl": [
           {
            "marker": {
             "colorbar": {
              "outlinewidth": 0,
              "ticks": ""
             }
            },
            "type": "scatterpolargl"
           }
          ],
          "scatterternary": [
           {
            "marker": {
             "colorbar": {
              "outlinewidth": 0,
              "ticks": ""
             }
            },
            "type": "scatterternary"
           }
          ],
          "surface": [
           {
            "colorbar": {
             "outlinewidth": 0,
             "ticks": ""
            },
            "colorscale": [
             [
              0,
              "#0d0887"
             ],
             [
              0.1111111111111111,
              "#46039f"
             ],
             [
              0.2222222222222222,
              "#7201a8"
             ],
             [
              0.3333333333333333,
              "#9c179e"
             ],
             [
              0.4444444444444444,
              "#bd3786"
             ],
             [
              0.5555555555555556,
              "#d8576b"
             ],
             [
              0.6666666666666666,
              "#ed7953"
             ],
             [
              0.7777777777777778,
              "#fb9f3a"
             ],
             [
              0.8888888888888888,
              "#fdca26"
             ],
             [
              1,
              "#f0f921"
             ]
            ],
            "type": "surface"
           }
          ],
          "table": [
           {
            "cells": {
             "fill": {
              "color": "#EBF0F8"
             },
             "line": {
              "color": "white"
             }
            },
            "header": {
             "fill": {
              "color": "#C8D4E3"
             },
             "line": {
              "color": "white"
             }
            },
            "type": "table"
           }
          ]
         },
         "layout": {
          "annotationdefaults": {
           "arrowcolor": "#2a3f5f",
           "arrowhead": 0,
           "arrowwidth": 1
          },
          "autotypenumbers": "strict",
          "coloraxis": {
           "colorbar": {
            "outlinewidth": 0,
            "ticks": ""
           }
          },
          "colorscale": {
           "diverging": [
            [
             0,
             "#8e0152"
            ],
            [
             0.1,
             "#c51b7d"
            ],
            [
             0.2,
             "#de77ae"
            ],
            [
             0.3,
             "#f1b6da"
            ],
            [
             0.4,
             "#fde0ef"
            ],
            [
             0.5,
             "#f7f7f7"
            ],
            [
             0.6,
             "#e6f5d0"
            ],
            [
             0.7,
             "#b8e186"
            ],
            [
             0.8,
             "#7fbc41"
            ],
            [
             0.9,
             "#4d9221"
            ],
            [
             1,
             "#276419"
            ]
           ],
           "sequential": [
            [
             0,
             "#0d0887"
            ],
            [
             0.1111111111111111,
             "#46039f"
            ],
            [
             0.2222222222222222,
             "#7201a8"
            ],
            [
             0.3333333333333333,
             "#9c179e"
            ],
            [
             0.4444444444444444,
             "#bd3786"
            ],
            [
             0.5555555555555556,
             "#d8576b"
            ],
            [
             0.6666666666666666,
             "#ed7953"
            ],
            [
             0.7777777777777778,
             "#fb9f3a"
            ],
            [
             0.8888888888888888,
             "#fdca26"
            ],
            [
             1,
             "#f0f921"
            ]
           ],
           "sequentialminus": [
            [
             0,
             "#0d0887"
            ],
            [
             0.1111111111111111,
             "#46039f"
            ],
            [
             0.2222222222222222,
             "#7201a8"
            ],
            [
             0.3333333333333333,
             "#9c179e"
            ],
            [
             0.4444444444444444,
             "#bd3786"
            ],
            [
             0.5555555555555556,
             "#d8576b"
            ],
            [
             0.6666666666666666,
             "#ed7953"
            ],
            [
             0.7777777777777778,
             "#fb9f3a"
            ],
            [
             0.8888888888888888,
             "#fdca26"
            ],
            [
             1,
             "#f0f921"
            ]
           ]
          },
          "colorway": [
           "#636efa",
           "#EF553B",
           "#00cc96",
           "#ab63fa",
           "#FFA15A",
           "#19d3f3",
           "#FF6692",
           "#B6E880",
           "#FF97FF",
           "#FECB52"
          ],
          "font": {
           "color": "#2a3f5f"
          },
          "geo": {
           "bgcolor": "white",
           "lakecolor": "white",
           "landcolor": "#E5ECF6",
           "showlakes": true,
           "showland": true,
           "subunitcolor": "white"
          },
          "hoverlabel": {
           "align": "left"
          },
          "hovermode": "closest",
          "mapbox": {
           "style": "light"
          },
          "paper_bgcolor": "white",
          "plot_bgcolor": "#E5ECF6",
          "polar": {
           "angularaxis": {
            "gridcolor": "white",
            "linecolor": "white",
            "ticks": ""
           },
           "bgcolor": "#E5ECF6",
           "radialaxis": {
            "gridcolor": "white",
            "linecolor": "white",
            "ticks": ""
           }
          },
          "scene": {
           "xaxis": {
            "backgroundcolor": "#E5ECF6",
            "gridcolor": "white",
            "gridwidth": 2,
            "linecolor": "white",
            "showbackground": true,
            "ticks": "",
            "zerolinecolor": "white"
           },
           "yaxis": {
            "backgroundcolor": "#E5ECF6",
            "gridcolor": "white",
            "gridwidth": 2,
            "linecolor": "white",
            "showbackground": true,
            "ticks": "",
            "zerolinecolor": "white"
           },
           "zaxis": {
            "backgroundcolor": "#E5ECF6",
            "gridcolor": "white",
            "gridwidth": 2,
            "linecolor": "white",
            "showbackground": true,
            "ticks": "",
            "zerolinecolor": "white"
           }
          },
          "shapedefaults": {
           "line": {
            "color": "#2a3f5f"
           }
          },
          "ternary": {
           "aaxis": {
            "gridcolor": "white",
            "linecolor": "white",
            "ticks": ""
           },
           "baxis": {
            "gridcolor": "white",
            "linecolor": "white",
            "ticks": ""
           },
           "bgcolor": "#E5ECF6",
           "caxis": {
            "gridcolor": "white",
            "linecolor": "white",
            "ticks": ""
           }
          },
          "title": {
           "x": 0.05
          },
          "xaxis": {
           "automargin": true,
           "gridcolor": "white",
           "linecolor": "white",
           "ticks": "",
           "title": {
            "standoff": 15
           },
           "zerolinecolor": "white",
           "zerolinewidth": 2
          },
          "yaxis": {
           "automargin": true,
           "gridcolor": "white",
           "linecolor": "white",
           "ticks": "",
           "title": {
            "standoff": 15
           },
           "zerolinecolor": "white",
           "zerolinewidth": 2
          }
         }
        },
        "title": {
         "text": "Streams vs Valence %"
        },
        "xaxis": {
         "anchor": "y",
         "domain": [
          0,
          1
         ],
         "title": {
          "text": "Valence %"
         }
        },
        "yaxis": {
         "anchor": "x",
         "domain": [
          0,
          1
         ],
         "title": {
          "text": "Streams"
         }
        }
       }
      }
     },
     "metadata": {},
     "output_type": "display_data"
    }
   ],
   "source": [
    "px.histogram(\n",
    "    df_percentage,\n",
    "    x=\"Valence %\",\n",
    "    y=\"Streams\",\n",
    "    nbins=20,\n",
    "    title=\"Streams vs Valence %\",\n",
    "    color_discrete_sequence=[\"#0A8353\"],\n",
    "    opacity=0.7\n",
    ").update_layout(\n",
    "    xaxis=dict(title='Valence %'),\n",
    "    yaxis=dict(title='Streams'),\n",
    "    bargap=0.2\n",
    ")"
   ]
  },
  {
   "cell_type": "markdown",
   "id": "7367b573",
   "metadata": {},
   "source": [
    "![Track Age vs Streams](screenshots/streams-vs-valence.png)\n"
   ]
  },
  {
   "cell_type": "markdown",
   "id": "c9d1387f",
   "metadata": {},
   "source": [
    "### Streams vs Acousticness %\n",
    "\n",
    "This histogram explores the relationship between a track's **acousticness**—indicating how acoustic or organic a song sounds—and its **streaming performance**. Key observations:\n",
    "\n",
    "- Tracks with **low to moderate acousticness** tend to attract **the highest number of streams**, suggesting that listeners generally favor **electronic or produced music** over purely acoustic tracks.  \n",
    "\n",
    "- Songs with **high acousticness percentages**, representing more stripped-down or unplugged styles, typically show **lower streaming figures**, indicating a smaller, more niche audience.  \n",
    "\n",
    "- The distribution reveals that **mainstream popular tracks are often characterized by a blend of electronic and acoustic elements**, rather than fully acoustic compositions.  \n",
    "\n",
    "- Peaks in streams at specific low acousticness bins highlight **popular production styles** that dominate contemporary Spotify trends.  \n",
    "\n",
    "- Overall, this plot indicates that while acoustic elements can enhance musicality, **lower acousticness correlates more strongly with mass listener appeal** in 2023."
   ]
  },
  {
   "cell_type": "code",
   "execution_count": 32,
   "id": "ad721c09",
   "metadata": {},
   "outputs": [
    {
     "data": {
      "application/vnd.plotly.v1+json": {
       "config": {
        "plotlyServerURL": "https://plot.ly"
       },
       "data": [
        {
         "bingroup": "x",
         "histfunc": "sum",
         "hovertemplate": "Acousticness %=%{x}<br>sum of Streams=%{y}<extra></extra>",
         "legendgroup": "",
         "marker": {
          "color": "#180A83",
          "opacity": 0.7,
          "pattern": {
           "shape": ""
          }
         },
         "name": "",
         "nbinsx": 20,
         "orientation": "v",
         "showlegend": false,
         "type": "histogram",
         "x": {
          "bdata": "HwcRCw4TMCUMFRcSBlMiBStgDgAWBgwaBwkrDi4CACckDEMLJQkAGxc2BCU0CgsJEBcHABIMRgAzOjs3Mhk+SgAABzcAAREsQQUBCTIBBSErTkwBBANLCSdGEwYECwkPRw4HAzIPABUzPQQCAgAHTCEAJB4YEgQ1IQQDEx8KAwxdCgMkFRsALhIgEC0EQyoABSYIBkkSATkIIQYLAAYVBgohAQgCAzZhA15JBBEUCxAFBAs6VgYBBAIaQxgBPx4FCgAgBwwPAwIVC1QPNQkPKBUCTj4cAxIeDh4GDh8LKFEDHAYELh8/BAELCgYBGikOEjQHC0UFOhoEPAMrEFkSCgsfJ1YyIjBBASohEAwBR0IOCBwTASkSIwEMGQArFiUMDiQAERUAGCMBAiInBDczBygfPggeLQMqEhpIPhkfBQEJL0EtRQlDTxEVKwAuNQABADEIAAdWWQlQBQgMDFtRJxsCKgoZMQFLHgwHUEkYTh8POEgKCgURBiMdASYNEQAIGQcPWg8BCTcmCgkWEBcDVDg+BgQBAh8BBw8CAgUAHxVbJiYPBRMcBkgnAzQSBQA8FwEJHwEpORYCEBxHVFsFTVswAC9XMygsVSA1QFQkAFRODlhDTFskJzkJHBhNEQMDMwkJURgFRQYeBgIBJE4CT0lDTBoeAwQ+GwIkAQIADwABHCQsHgoeHj0+AjIBBA0MCRADTABEVEwmHCIJKEcMOT4FACooLAYCCwgmKC8jEQATKwABAj0BBQkdFRINFF8MS0wABQcABhYaC11RASA/Gg0OOVYDKSwANQk4BQJVLloHEgomM08CAgA6F0UmA1wAUgUNAAEACQsVJi4AAQEpB1QKEAQcEBEJEh4XXAMLCigDGgEIAgcEFwgDLAMJAQYABA4bER5CHAYLEDwILy9GN0kvXAsECgIDShESCg8jRhMEBDgGACgxLAYCPhQbQgUAGAwNAykENiYDBSAJAhADAA4YASIBAQ0CHUotBhlUBQwPJCkVBDMNLD1UJgokJB8YExwnBBcuF0VMDB81FTtMKhNFFxMFPAAJAB4DIlgADglQTAYXHxlUB1cSEz4NAQ0FARJAABJWIAhUBAIaWiswCAEQBEgLAg4UBkMkBAYgI1MKBR8MCgEDNjFeFVIvAAQIDAAEBAABCQ0LCQA2CgcCLhgCBx4PDgAAGCcYHAUcITcULwseCg4YDgsZHwUrSUsIDQshBg4ABgUEEQsJBQcAAA4MAQYRFAI3AVABYSszAAAEARY5UwQIDw==",
          "dtype": "i1"
         },
         "xaxis": "x",
         "y": [
          141381703,
          133716286,
          140003974,
          800840817,
          303236322,
          183706234,
          725980112,
          58149378,
          95217315,
          553634067,
          505671438,
          58255150,
          1316855716,
          387570742,
          2513188493,
          1163093654,
          496795686,
          30546883,
          335222234,
          363369738,
          86444842,
          52135248,
          1297026226,
          200647221,
          115364561,
          78300654,
          899183384,
          61245289,
          429829812,
          127408954,
          22581161,
          52294266,
          843957510,
          999748277,
          618990393,
          123122413,
          188933502,
          1355959075,
          786181836,
          176553476,
          354495408,
          2808096550,
          1109433169,
          1047101291,
          65156199,
          570515054,
          1085685420,
          1647990401,
          2565529693,
          518745108,
          107753850,
          177740666,
          153372011,
          57876440,
          1813673666,
          3703895074,
          256483385,
          1214083358,
          16011326,
          812019557,
          111947664,
          156338624,
          720434240,
          357925728,
          674072710,
          1755214421,
          404562836,
          373199958,
          14780425,
          39578178,
          54266102,
          2557975762,
          751134527,
          2282771485,
          1356565093,
          1592909789,
          635412045,
          1230675890,
          585695368,
          43857627,
          2009094673,
          600976848,
          39709092,
          39228929,
          2665343922,
          223633238,
          2887241814,
          1440757818,
          165484133,
          58054811,
          157058870,
          95131998,
          250305248,
          685032533,
          38411956,
          144565150,
          127567540,
          399686758,
          983637508,
          118482347,
          882831184,
          286400165,
          172825906,
          1241559043,
          29562220,
          77309611,
          1605224506,
          1116995633,
          838079900,
          1163620694,
          1093605526,
          179659294,
          39058561,
          36912123,
          1205951614,
          1791000570,
          201660859,
          248088961,
          90839753,
          607123776,
          55842345,
          211050784,
          342897938,
          2762,
          330346424,
          601863821,
          1953533826,
          2322580122,
          2355719893,
          66902503,
          96273746,
          430977451,
          284819874,
          721975598,
          1217120710,
          109276132,
          276259178,
          54225632,
          2559529074,
          681583126,
          2594040133,
          81102253,
          11956641,
          1687664027,
          11599388,
          611700552,
          1133865788,
          1089402494,
          411747614,
          255932395,
          31873544,
          95053634,
          1279434863,
          233801632,
          1481349984,
          142095275,
          618885532,
          2011464183,
          1167330737,
          929964809,
          436027885,
          657723613,
          2713922350,
          621660989,
          1591223784,
          950906471,
          1593270737,
          1410088830,
          1235005533,
          1661187319,
          1374581173,
          94186466,
          1788326445,
          1840364617,
          143573775,
          684675814,
          1113838873,
          1267333350,
          726307468,
          3562543890,
          1131090940,
          307370144,
          1271293243,
          265882712,
          841749534,
          47956378,
          806397070,
          2132335812,
          1641426668,
          2135158446,
          367316268,
          350381515,
          1264310836,
          30343206,
          405136812,
          1145727611,
          540654286,
          57312735,
          397582059,
          1479115056,
          86773632,
          133753727,
          123124076,
          463564958,
          64533040,
          65496046,
          68616963,
          161460990,
          70106975,
          113509496,
          89933133,
          71007139,
          43522589,
          232896922,
          37126685,
          195576623,
          532336353,
          538115192,
          46142772,
          401036314,
          127026613,
          345031710,
          288101651,
          60350538,
          335074782,
          76767396,
          46065667,
          459276435,
          39666245,
          138517666,
          822633917,
          595900742,
          51985779,
          57945987,
          115010040,
          175097833,
          57089066,
          488386797,
          32761689,
          1047480053,
          153454328,
          217672943,
          457184829,
          939844851,
          726434358,
          573633020,
          1406111294,
          71573339,
          24975653,
          145458418,
          1424589568,
          231332117,
          415932686,
          988515741,
          50847624,
          39893489,
          92035115,
          118810253,
          77233241,
          206399629,
          117747907,
          266624541,
          293186992,
          139681964,
          123132751,
          103762518,
          162887075,
          91221625,
          190490915,
          96180277,
          185240616,
          885093467,
          104992946,
          147290338,
          1302184087,
          158950978,
          76910644,
          137123880,
          782369383,
          502574952,
          207033255,
          404887295,
          381161027,
          466231982,
          357580552,
          61105704,
          198275403,
          168448603,
          705469769,
          34502215,
          482175240,
          304118600,
          1449799467,
          173627354,
          90025258,
          652704649,
          1829992958,
          655466831,
          146409671,
          95816024,
          117206995,
          100409613,
          80758350,
          325592432,
          58473276,
          52722996,
          191945597,
          77377503,
          743693613,
          267789608,
          1221813483,
          449701773,
          67070410,
          116334601,
          433356509,
          165584767,
          367814306,
          477033549,
          156214700,
          448843705,
          1357608774,
          294352144,
          972164968,
          920045682,
          2420461338,
          1947371785,
          244658767,
          68216992,
          223582566,
          471819764,
          272377463,
          1361425037,
          149778242,
          116599790,
          148469433,
          497225336,
          88791109,
          125917280,
          105062254,
          95623148,
          144584800,
          298063749,
          166570053,
          83021468,
          139836056,
          303216294,
          221409663,
          58890931,
          81419389,
          156777415,
          284908316,
          93438910,
          363472647,
          372476382,
          380726517,
          56533272,
          175399345,
          203221468,
          1624165576,
          134294498,
          70069745,
          609293408,
          671365962,
          362361576,
          93587665,
          1223481149,
          1022258230,
          263453310,
          1435127549,
          236857112,
          147538971,
          698086140,
          723894473,
          34450974,
          403097450,
          309483971,
          319566866,
          909001996,
          1061966512,
          32526947,
          124988687,
          103787664,
          134255790,
          301051721,
          156338624,
          152850295,
          309653982,
          297328960,
          332506354,
          480507035,
          1065580332,
          122763672,
          445763624,
          1365184,
          184308753,
          789753877,
          323358833,
          606361689,
          120972253,
          338564981,
          1606986953,
          1301799902,
          140187018,
          1897517891,
          107642809,
          551305895,
          556585270,
          2303033973,
          646886885,
          222612678,
          1814349763,
          872137015,
          571386359,
          304079786,
          174006928,
          284785823,
          163284000,
          246390068,
          482257456,
          168684524,
          78489819,
          195516622,
          1260594497,
          428685680,
          1024858327,
          838586769,
          199386237,
          972509632,
          213438580,
          1555511105,
          210038833,
          227918678,
          826623384,
          1802514301,
          1329090101,
          181831132,
          462791599,
          348647203,
          366599607,
          90598517,
          1479264469,
          1449779435,
          1159176109,
          769213520,
          741301563,
          807561936,
          834129063,
          663832097,
          446390129,
          690104769,
          485285717,
          520034544,
          476244795,
          629173063,
          404664135,
          98709329,
          110849052,
          460492795,
          94005786,
          395591396,
          389771964,
          403939487,
          481697415,
          110073250,
          88092256,
          351636786,
          473248298,
          73981293,
          155653938,
          395591396,
          429504768,
          242767149,
          65362788,
          67540165,
          62019074,
          135723538,
          295998468,
          261116938,
          136689549,
          135611421,
          356709897,
          110649992,
          301869854,
          127027715,
          57144458,
          56870689,
          323437194,
          317726339,
          116144341,
          328207708,
          608228647,
          180577478,
          809306935,
          49262961,
          614555082,
          245350949,
          178660459,
          51641685,
          78139948,
          322336177,
          1007612429,
          326792833,
          391251368,
          349585590,
          339659802,
          674772936,
          432719968,
          1309887447,
          119238316,
          116903579,
          888046992,
          200660871,
          130655803,
          1887039593,
          88103848,
          101114984,
          1575467011,
          91656026,
          1042568408,
          1735441776,
          726837877,
          53933526,
          267758538,
          74601456,
          920797189,
          539595276,
          1367810478,
          578207856,
          775542072,
          863625566,
          656013912,
          1056760045,
          611994237,
          1230855859,
          582981380,
          1858144199,
          240684449,
          583687007,
          63803529,
          466214729,
          236940480,
          41924466,
          225259194,
          393230256,
          287201015,
          599770206,
          342779426,
          673801126,
          1168642797,
          540539717,
          383550148,
          530511203,
          37307967,
          510876816,
          1445941661,
          1763363713,
          374191487,
          108809090,
          436695353,
          421040617,
          501541661,
          354065229,
          1143647827,
          311395144,
          672656250,
          1256880657,
          1692897992,
          245095641,
          686734357,
          261414174,
          610045621,
          1115880852,
          594482982,
          566954746,
          374706940,
          184937148,
          31959571,
          167076418,
          824420218,
          363467642,
          1127468248,
          60680939,
          247737946,
          1699402402,
          154797871,
          198883004,
          124407432,
          850608354,
          376333030,
          516784627,
          1608045237,
          506778838,
          1472799873,
          513643924,
          261286503,
          783706581,
          422691058,
          1062345656,
          1252563873,
          851070493,
          263894529,
          345903614,
          951637566,
          956865266,
          427486004,
          156658366,
          624515457,
          777765388,
          412795151,
          1138474110,
          355219175,
          290228626,
          1062956628,
          1180094974,
          1456081449,
          432702334,
          489945871,
          465959382,
          1223481149,
          2864791672,
          2288695111,
          720825549,
          2086124197,
          1690192927,
          991336132,
          593917618,
          200972675,
          71014967,
          560222750,
          1806617704,
          77337771,
          528544703,
          865640097,
          2159346687,
          211372494,
          651732901,
          608334048,
          863756573,
          797402345,
          1695712020,
          1759567999,
          223319934,
          54937991,
          226897599,
          258316038,
          596152090,
          177129919,
          716591492,
          1210599487,
          246376690,
          496311364,
          146789379,
          843309044,
          500340342,
          107255472,
          135079152,
          822239726,
          1202722675,
          343197054,
          240769997,
          426204830,
          421135627,
          554875730,
          467727006,
          327498031,
          185408548,
          245400167,
          579395142,
          675039469,
          252871192,
          231996128,
          1929770265,
          918915401,
          1180896317,
          498960285,
          685071800,
          258714692,
          143139338,
          209768491,
          64714573,
          50746620,
          154119539,
          181328253,
          370068639,
          2280566092,
          563902868,
          317622165,
          291709698,
          203680270,
          81350745,
          282883169,
          64787943,
          2484812918,
          461437791,
          1439191367,
          759208783,
          368646862,
          299634472,
          756907987,
          682475162,
          546191065,
          229473310,
          202677468,
          121913181,
          208166039,
          527033089,
          94616487,
          394030335,
          193443895,
          299648208,
          182978249,
          319757142,
          109091573,
          153240879,
          346127840,
          312622938,
          2197010679,
          1200808494,
          797196073,
          1970673297,
          665765558,
          263779030,
          339473453,
          2204080728,
          2591224264,
          135444283,
          1457139296,
          236872197,
          694525298,
          240661097,
          421365166,
          349746291,
          255120451,
          190981339,
          924193303,
          305771063,
          273005485,
          89566512,
          677389855,
          75476209,
          408843328,
          187772591,
          178512385,
          101780047,
          118381354,
          146363130,
          126443991,
          157990698,
          176290831,
          1023187129,
          106933107,
          139193812,
          212234990,
          1714490998,
          197643795,
          807015863,
          933815613,
          499710590,
          120847157,
          53909146,
          2236667932,
          2123309722,
          301242089,
          723894473,
          237351106,
          461558540,
          417230415,
          156898322,
          127309180,
          313113297,
          173702135,
          271666301,
          305650299,
          123216717,
          479655659,
          126191104,
          344055883,
          338422004,
          68895644,
          86176890,
          403231558,
          319546754,
          61739839,
          283359161,
          76831876,
          283332261,
          307752576,
          279737940,
          212351890,
          1304313953,
          150500965,
          246127838,
          582863434,
          58687425,
          212109195,
          382199619,
          41210087,
          231657891,
          53729194,
          244741137,
          42485571,
          37778188,
          254218729,
          53603447,
          160035717,
          164163229,
          37091576,
          284249832,
          33381454,
          184622518,
          300983101,
          121077868,
          106919680,
          136996305,
          65719930,
          229497852,
          185550869,
          54682594,
          240580042,
          1284942608,
          71423324,
          244891912,
          132171975,
          184706613,
          184826429,
          302006641,
          330881149,
          334733572,
          366214458,
          114546317,
          290833204,
          448500832,
          136676504,
          190625045,
          79095270,
          273194684,
          333146475,
          194902696,
          311482393,
          195918494,
          248511839,
          233671263,
          199587884,
          91781263,
          383835984,
          236060709,
          189236868,
          160845341,
          588955257,
          238350348,
          187703102,
          295307001,
          138334433,
          445590495,
          286739476,
          1122364376,
          157136970,
          137070925,
          183273246,
          184807630,
          164856284,
          704171068,
          354614964,
          279717388,
          195628667,
          221752937,
          263280370,
          213505179,
          130419412,
          155795783,
          1553497987,
          293466523,
          711366595,
          191448892,
          85924992,
          176103902,
          121189256,
          131746175,
          244790012,
          129314708,
          331511413,
          219196651,
          170732845,
          273914335,
          179061440,
          185236961,
          171788484,
          387080183,
          264717480,
          244928911,
          97610446,
          287278853,
          887906111,
          123473120,
          295152154,
          323455692,
          240918092,
          191873381,
          284216603,
          239411309,
          265548837,
          703301727,
          244585109,
          189476119,
          277132266,
          278920007,
          222410722,
          185392587,
          202452860,
          1608164312,
          624101957,
          148461629,
          47093942,
          380319238,
          209106362,
          53987404,
          115331792,
          225093344,
          84697729,
          159240673,
          170709584,
          154356956,
          723043854,
          247689123,
          176474912,
          235549288,
          140430339,
          85559365,
          146223492,
          187701588,
          154863153,
          191333656,
          253650850,
          223064273,
          170413877,
          218320587,
          141720999,
          187339835,
          198365537,
          186104310,
          177503916,
          71095708,
          112436403,
          203436468,
          93367537,
          106249219,
          181382590,
          91473363,
          121871870,
          73513683,
          133895612,
          96007391
         ],
         "yaxis": "y"
        }
       ],
       "layout": {
        "bargap": 0.2,
        "barmode": "relative",
        "legend": {
         "tracegroupgap": 0
        },
        "template": {
         "data": {
          "bar": [
           {
            "error_x": {
             "color": "#2a3f5f"
            },
            "error_y": {
             "color": "#2a3f5f"
            },
            "marker": {
             "line": {
              "color": "#E5ECF6",
              "width": 0.5
             },
             "pattern": {
              "fillmode": "overlay",
              "size": 10,
              "solidity": 0.2
             }
            },
            "type": "bar"
           }
          ],
          "barpolar": [
           {
            "marker": {
             "line": {
              "color": "#E5ECF6",
              "width": 0.5
             },
             "pattern": {
              "fillmode": "overlay",
              "size": 10,
              "solidity": 0.2
             }
            },
            "type": "barpolar"
           }
          ],
          "carpet": [
           {
            "aaxis": {
             "endlinecolor": "#2a3f5f",
             "gridcolor": "white",
             "linecolor": "white",
             "minorgridcolor": "white",
             "startlinecolor": "#2a3f5f"
            },
            "baxis": {
             "endlinecolor": "#2a3f5f",
             "gridcolor": "white",
             "linecolor": "white",
             "minorgridcolor": "white",
             "startlinecolor": "#2a3f5f"
            },
            "type": "carpet"
           }
          ],
          "choropleth": [
           {
            "colorbar": {
             "outlinewidth": 0,
             "ticks": ""
            },
            "type": "choropleth"
           }
          ],
          "contour": [
           {
            "colorbar": {
             "outlinewidth": 0,
             "ticks": ""
            },
            "colorscale": [
             [
              0,
              "#0d0887"
             ],
             [
              0.1111111111111111,
              "#46039f"
             ],
             [
              0.2222222222222222,
              "#7201a8"
             ],
             [
              0.3333333333333333,
              "#9c179e"
             ],
             [
              0.4444444444444444,
              "#bd3786"
             ],
             [
              0.5555555555555556,
              "#d8576b"
             ],
             [
              0.6666666666666666,
              "#ed7953"
             ],
             [
              0.7777777777777778,
              "#fb9f3a"
             ],
             [
              0.8888888888888888,
              "#fdca26"
             ],
             [
              1,
              "#f0f921"
             ]
            ],
            "type": "contour"
           }
          ],
          "contourcarpet": [
           {
            "colorbar": {
             "outlinewidth": 0,
             "ticks": ""
            },
            "type": "contourcarpet"
           }
          ],
          "heatmap": [
           {
            "colorbar": {
             "outlinewidth": 0,
             "ticks": ""
            },
            "colorscale": [
             [
              0,
              "#0d0887"
             ],
             [
              0.1111111111111111,
              "#46039f"
             ],
             [
              0.2222222222222222,
              "#7201a8"
             ],
             [
              0.3333333333333333,
              "#9c179e"
             ],
             [
              0.4444444444444444,
              "#bd3786"
             ],
             [
              0.5555555555555556,
              "#d8576b"
             ],
             [
              0.6666666666666666,
              "#ed7953"
             ],
             [
              0.7777777777777778,
              "#fb9f3a"
             ],
             [
              0.8888888888888888,
              "#fdca26"
             ],
             [
              1,
              "#f0f921"
             ]
            ],
            "type": "heatmap"
           }
          ],
          "histogram": [
           {
            "marker": {
             "pattern": {
              "fillmode": "overlay",
              "size": 10,
              "solidity": 0.2
             }
            },
            "type": "histogram"
           }
          ],
          "histogram2d": [
           {
            "colorbar": {
             "outlinewidth": 0,
             "ticks": ""
            },
            "colorscale": [
             [
              0,
              "#0d0887"
             ],
             [
              0.1111111111111111,
              "#46039f"
             ],
             [
              0.2222222222222222,
              "#7201a8"
             ],
             [
              0.3333333333333333,
              "#9c179e"
             ],
             [
              0.4444444444444444,
              "#bd3786"
             ],
             [
              0.5555555555555556,
              "#d8576b"
             ],
             [
              0.6666666666666666,
              "#ed7953"
             ],
             [
              0.7777777777777778,
              "#fb9f3a"
             ],
             [
              0.8888888888888888,
              "#fdca26"
             ],
             [
              1,
              "#f0f921"
             ]
            ],
            "type": "histogram2d"
           }
          ],
          "histogram2dcontour": [
           {
            "colorbar": {
             "outlinewidth": 0,
             "ticks": ""
            },
            "colorscale": [
             [
              0,
              "#0d0887"
             ],
             [
              0.1111111111111111,
              "#46039f"
             ],
             [
              0.2222222222222222,
              "#7201a8"
             ],
             [
              0.3333333333333333,
              "#9c179e"
             ],
             [
              0.4444444444444444,
              "#bd3786"
             ],
             [
              0.5555555555555556,
              "#d8576b"
             ],
             [
              0.6666666666666666,
              "#ed7953"
             ],
             [
              0.7777777777777778,
              "#fb9f3a"
             ],
             [
              0.8888888888888888,
              "#fdca26"
             ],
             [
              1,
              "#f0f921"
             ]
            ],
            "type": "histogram2dcontour"
           }
          ],
          "mesh3d": [
           {
            "colorbar": {
             "outlinewidth": 0,
             "ticks": ""
            },
            "type": "mesh3d"
           }
          ],
          "parcoords": [
           {
            "line": {
             "colorbar": {
              "outlinewidth": 0,
              "ticks": ""
             }
            },
            "type": "parcoords"
           }
          ],
          "pie": [
           {
            "automargin": true,
            "type": "pie"
           }
          ],
          "scatter": [
           {
            "fillpattern": {
             "fillmode": "overlay",
             "size": 10,
             "solidity": 0.2
            },
            "type": "scatter"
           }
          ],
          "scatter3d": [
           {
            "line": {
             "colorbar": {
              "outlinewidth": 0,
              "ticks": ""
             }
            },
            "marker": {
             "colorbar": {
              "outlinewidth": 0,
              "ticks": ""
             }
            },
            "type": "scatter3d"
           }
          ],
          "scattercarpet": [
           {
            "marker": {
             "colorbar": {
              "outlinewidth": 0,
              "ticks": ""
             }
            },
            "type": "scattercarpet"
           }
          ],
          "scattergeo": [
           {
            "marker": {
             "colorbar": {
              "outlinewidth": 0,
              "ticks": ""
             }
            },
            "type": "scattergeo"
           }
          ],
          "scattergl": [
           {
            "marker": {
             "colorbar": {
              "outlinewidth": 0,
              "ticks": ""
             }
            },
            "type": "scattergl"
           }
          ],
          "scattermap": [
           {
            "marker": {
             "colorbar": {
              "outlinewidth": 0,
              "ticks": ""
             }
            },
            "type": "scattermap"
           }
          ],
          "scattermapbox": [
           {
            "marker": {
             "colorbar": {
              "outlinewidth": 0,
              "ticks": ""
             }
            },
            "type": "scattermapbox"
           }
          ],
          "scatterpolar": [
           {
            "marker": {
             "colorbar": {
              "outlinewidth": 0,
              "ticks": ""
             }
            },
            "type": "scatterpolar"
           }
          ],
          "scatterpolargl": [
           {
            "marker": {
             "colorbar": {
              "outlinewidth": 0,
              "ticks": ""
             }
            },
            "type": "scatterpolargl"
           }
          ],
          "scatterternary": [
           {
            "marker": {
             "colorbar": {
              "outlinewidth": 0,
              "ticks": ""
             }
            },
            "type": "scatterternary"
           }
          ],
          "surface": [
           {
            "colorbar": {
             "outlinewidth": 0,
             "ticks": ""
            },
            "colorscale": [
             [
              0,
              "#0d0887"
             ],
             [
              0.1111111111111111,
              "#46039f"
             ],
             [
              0.2222222222222222,
              "#7201a8"
             ],
             [
              0.3333333333333333,
              "#9c179e"
             ],
             [
              0.4444444444444444,
              "#bd3786"
             ],
             [
              0.5555555555555556,
              "#d8576b"
             ],
             [
              0.6666666666666666,
              "#ed7953"
             ],
             [
              0.7777777777777778,
              "#fb9f3a"
             ],
             [
              0.8888888888888888,
              "#fdca26"
             ],
             [
              1,
              "#f0f921"
             ]
            ],
            "type": "surface"
           }
          ],
          "table": [
           {
            "cells": {
             "fill": {
              "color": "#EBF0F8"
             },
             "line": {
              "color": "white"
             }
            },
            "header": {
             "fill": {
              "color": "#C8D4E3"
             },
             "line": {
              "color": "white"
             }
            },
            "type": "table"
           }
          ]
         },
         "layout": {
          "annotationdefaults": {
           "arrowcolor": "#2a3f5f",
           "arrowhead": 0,
           "arrowwidth": 1
          },
          "autotypenumbers": "strict",
          "coloraxis": {
           "colorbar": {
            "outlinewidth": 0,
            "ticks": ""
           }
          },
          "colorscale": {
           "diverging": [
            [
             0,
             "#8e0152"
            ],
            [
             0.1,
             "#c51b7d"
            ],
            [
             0.2,
             "#de77ae"
            ],
            [
             0.3,
             "#f1b6da"
            ],
            [
             0.4,
             "#fde0ef"
            ],
            [
             0.5,
             "#f7f7f7"
            ],
            [
             0.6,
             "#e6f5d0"
            ],
            [
             0.7,
             "#b8e186"
            ],
            [
             0.8,
             "#7fbc41"
            ],
            [
             0.9,
             "#4d9221"
            ],
            [
             1,
             "#276419"
            ]
           ],
           "sequential": [
            [
             0,
             "#0d0887"
            ],
            [
             0.1111111111111111,
             "#46039f"
            ],
            [
             0.2222222222222222,
             "#7201a8"
            ],
            [
             0.3333333333333333,
             "#9c179e"
            ],
            [
             0.4444444444444444,
             "#bd3786"
            ],
            [
             0.5555555555555556,
             "#d8576b"
            ],
            [
             0.6666666666666666,
             "#ed7953"
            ],
            [
             0.7777777777777778,
             "#fb9f3a"
            ],
            [
             0.8888888888888888,
             "#fdca26"
            ],
            [
             1,
             "#f0f921"
            ]
           ],
           "sequentialminus": [
            [
             0,
             "#0d0887"
            ],
            [
             0.1111111111111111,
             "#46039f"
            ],
            [
             0.2222222222222222,
             "#7201a8"
            ],
            [
             0.3333333333333333,
             "#9c179e"
            ],
            [
             0.4444444444444444,
             "#bd3786"
            ],
            [
             0.5555555555555556,
             "#d8576b"
            ],
            [
             0.6666666666666666,
             "#ed7953"
            ],
            [
             0.7777777777777778,
             "#fb9f3a"
            ],
            [
             0.8888888888888888,
             "#fdca26"
            ],
            [
             1,
             "#f0f921"
            ]
           ]
          },
          "colorway": [
           "#636efa",
           "#EF553B",
           "#00cc96",
           "#ab63fa",
           "#FFA15A",
           "#19d3f3",
           "#FF6692",
           "#B6E880",
           "#FF97FF",
           "#FECB52"
          ],
          "font": {
           "color": "#2a3f5f"
          },
          "geo": {
           "bgcolor": "white",
           "lakecolor": "white",
           "landcolor": "#E5ECF6",
           "showlakes": true,
           "showland": true,
           "subunitcolor": "white"
          },
          "hoverlabel": {
           "align": "left"
          },
          "hovermode": "closest",
          "mapbox": {
           "style": "light"
          },
          "paper_bgcolor": "white",
          "plot_bgcolor": "#E5ECF6",
          "polar": {
           "angularaxis": {
            "gridcolor": "white",
            "linecolor": "white",
            "ticks": ""
           },
           "bgcolor": "#E5ECF6",
           "radialaxis": {
            "gridcolor": "white",
            "linecolor": "white",
            "ticks": ""
           }
          },
          "scene": {
           "xaxis": {
            "backgroundcolor": "#E5ECF6",
            "gridcolor": "white",
            "gridwidth": 2,
            "linecolor": "white",
            "showbackground": true,
            "ticks": "",
            "zerolinecolor": "white"
           },
           "yaxis": {
            "backgroundcolor": "#E5ECF6",
            "gridcolor": "white",
            "gridwidth": 2,
            "linecolor": "white",
            "showbackground": true,
            "ticks": "",
            "zerolinecolor": "white"
           },
           "zaxis": {
            "backgroundcolor": "#E5ECF6",
            "gridcolor": "white",
            "gridwidth": 2,
            "linecolor": "white",
            "showbackground": true,
            "ticks": "",
            "zerolinecolor": "white"
           }
          },
          "shapedefaults": {
           "line": {
            "color": "#2a3f5f"
           }
          },
          "ternary": {
           "aaxis": {
            "gridcolor": "white",
            "linecolor": "white",
            "ticks": ""
           },
           "baxis": {
            "gridcolor": "white",
            "linecolor": "white",
            "ticks": ""
           },
           "bgcolor": "#E5ECF6",
           "caxis": {
            "gridcolor": "white",
            "linecolor": "white",
            "ticks": ""
           }
          },
          "title": {
           "x": 0.05
          },
          "xaxis": {
           "automargin": true,
           "gridcolor": "white",
           "linecolor": "white",
           "ticks": "",
           "title": {
            "standoff": 15
           },
           "zerolinecolor": "white",
           "zerolinewidth": 2
          },
          "yaxis": {
           "automargin": true,
           "gridcolor": "white",
           "linecolor": "white",
           "ticks": "",
           "title": {
            "standoff": 15
           },
           "zerolinecolor": "white",
           "zerolinewidth": 2
          }
         }
        },
        "title": {
         "text": "Streams vs Acousticness %"
        },
        "xaxis": {
         "anchor": "y",
         "domain": [
          0,
          1
         ],
         "title": {
          "text": "Acousticness %"
         }
        },
        "yaxis": {
         "anchor": "x",
         "domain": [
          0,
          1
         ],
         "title": {
          "text": "Streams"
         }
        }
       }
      }
     },
     "metadata": {},
     "output_type": "display_data"
    }
   ],
   "source": [
    "px.histogram(\n",
    "    df_percentage,\n",
    "    x=\"Acousticness %\",\n",
    "    y=\"Streams\",\n",
    "    nbins=20,\n",
    "    title=\"Streams vs Acousticness %\",\n",
    "    color_discrete_sequence=[\"#180A83\"],\n",
    "    opacity=0.7\n",
    ").update_layout(\n",
    "    xaxis=dict(title='Acousticness %'),\n",
    "    yaxis=dict(title='Streams'),\n",
    "    bargap=0.2\n",
    ")"
   ]
  },
  {
   "cell_type": "markdown",
   "id": "f114e7ac",
   "metadata": {},
   "source": [
    "![Track Age vs Streams](screenshots/streams-vs-acousticness.png)\n"
   ]
  },
  {
   "cell_type": "markdown",
   "id": "bb4a9136",
   "metadata": {},
   "source": [
    "### Correlation Heatmap: Streams & Audio Features\n",
    "\n",
    "This heatmap presents the **pairwise correlations** between Spotify track streams and four key audio features: Danceability, Valence, Energy, and Acousticness. Insights derived from the data:\n",
    "\n",
    "- **Streams vs Danceability, Valence, Energy, Acousticness:** All correlations are **very weak and slightly negative**, indicating that none of these individual audio features strongly predicts high streaming numbers.  \n",
    "\n",
    "- **Danceability and Valence** show a **moderate positive correlation** with each other (≈0.41), suggesting that more danceable tracks often have a more positive or happy tone.  \n",
    "\n",
    "- **Energy vs Acousticness** exhibits a **strong negative correlation** (≈-0.58), highlighting that higher-energy tracks are generally less acoustic.  \n",
    "\n",
    "- Overall, the heatmap confirms that **popularity in streams is influenced by a combination of features**, rather than any single audio attribute dominating listener preference.  \n",
    "\n",
    "- These correlations provide a **foundation for further predictive modeling**, though they suggest that **other factors like artist, release date, or promotion may play a larger role** in determining streaming success."
   ]
  },
  {
   "cell_type": "code",
   "execution_count": 33,
   "id": "f864a36c",
   "metadata": {},
   "outputs": [
    {
     "data": {
      "application/vnd.plotly.v1+json": {
       "config": {
        "plotlyServerURL": "https://plot.ly"
       },
       "data": [
        {
         "coloraxis": "coloraxis",
         "hovertemplate": "x: %{x}<br>y: %{y}<br>color: %{z}<extra></extra>",
         "name": "0",
         "texttemplate": "%{z}",
         "type": "heatmap",
         "x": [
          "Streams",
          "Danceability %",
          "Valence %",
          "Energy %",
          "Acousticness %"
         ],
         "xaxis": "x",
         "y": [
          "Streams",
          "Danceability %",
          "Valence %",
          "Energy %",
          "Acousticness %"
         ],
         "yaxis": "y",
         "z": {
          "bdata": "AAAAAAAA8D+CvJfqOP+6v3rYFVjZ56S/p3Mlyj2tmr/mBe/Kf15yv4K8l+o4/7q/AAAAAAAA8D8KrggfWzvaP+l5u97zZ8k/p6QKMjZazr962BVY2eekvwquCB9bO9o/AAAAAAAA8D8ww3pdieHWPyWqacj8xrS/p3Mlyj2tmr/pebve82fJPzDDel2J4dY/AAAAAAAA8D9mQkkKZHniv+YF78p/XnK/p6QKMjZazr8lqmnI/Ma0v2ZCSQpkeeK/AAAAAAAA8D8=",
          "dtype": "f8",
          "shape": "5, 5"
         }
        }
       ],
       "layout": {
        "coloraxis": {
         "colorscale": [
          [
           0,
           "rgb(5,48,97)"
          ],
          [
           0.1,
           "rgb(33,102,172)"
          ],
          [
           0.2,
           "rgb(67,147,195)"
          ],
          [
           0.3,
           "rgb(146,197,222)"
          ],
          [
           0.4,
           "rgb(209,229,240)"
          ],
          [
           0.5,
           "rgb(247,247,247)"
          ],
          [
           0.6,
           "rgb(253,219,199)"
          ],
          [
           0.7,
           "rgb(244,165,130)"
          ],
          [
           0.8,
           "rgb(214,96,77)"
          ],
          [
           0.9,
           "rgb(178,24,43)"
          ],
          [
           1,
           "rgb(103,0,31)"
          ]
         ]
        },
        "height": 500,
        "template": {
         "data": {
          "bar": [
           {
            "error_x": {
             "color": "#2a3f5f"
            },
            "error_y": {
             "color": "#2a3f5f"
            },
            "marker": {
             "line": {
              "color": "#E5ECF6",
              "width": 0.5
             },
             "pattern": {
              "fillmode": "overlay",
              "size": 10,
              "solidity": 0.2
             }
            },
            "type": "bar"
           }
          ],
          "barpolar": [
           {
            "marker": {
             "line": {
              "color": "#E5ECF6",
              "width": 0.5
             },
             "pattern": {
              "fillmode": "overlay",
              "size": 10,
              "solidity": 0.2
             }
            },
            "type": "barpolar"
           }
          ],
          "carpet": [
           {
            "aaxis": {
             "endlinecolor": "#2a3f5f",
             "gridcolor": "white",
             "linecolor": "white",
             "minorgridcolor": "white",
             "startlinecolor": "#2a3f5f"
            },
            "baxis": {
             "endlinecolor": "#2a3f5f",
             "gridcolor": "white",
             "linecolor": "white",
             "minorgridcolor": "white",
             "startlinecolor": "#2a3f5f"
            },
            "type": "carpet"
           }
          ],
          "choropleth": [
           {
            "colorbar": {
             "outlinewidth": 0,
             "ticks": ""
            },
            "type": "choropleth"
           }
          ],
          "contour": [
           {
            "colorbar": {
             "outlinewidth": 0,
             "ticks": ""
            },
            "colorscale": [
             [
              0,
              "#0d0887"
             ],
             [
              0.1111111111111111,
              "#46039f"
             ],
             [
              0.2222222222222222,
              "#7201a8"
             ],
             [
              0.3333333333333333,
              "#9c179e"
             ],
             [
              0.4444444444444444,
              "#bd3786"
             ],
             [
              0.5555555555555556,
              "#d8576b"
             ],
             [
              0.6666666666666666,
              "#ed7953"
             ],
             [
              0.7777777777777778,
              "#fb9f3a"
             ],
             [
              0.8888888888888888,
              "#fdca26"
             ],
             [
              1,
              "#f0f921"
             ]
            ],
            "type": "contour"
           }
          ],
          "contourcarpet": [
           {
            "colorbar": {
             "outlinewidth": 0,
             "ticks": ""
            },
            "type": "contourcarpet"
           }
          ],
          "heatmap": [
           {
            "colorbar": {
             "outlinewidth": 0,
             "ticks": ""
            },
            "colorscale": [
             [
              0,
              "#0d0887"
             ],
             [
              0.1111111111111111,
              "#46039f"
             ],
             [
              0.2222222222222222,
              "#7201a8"
             ],
             [
              0.3333333333333333,
              "#9c179e"
             ],
             [
              0.4444444444444444,
              "#bd3786"
             ],
             [
              0.5555555555555556,
              "#d8576b"
             ],
             [
              0.6666666666666666,
              "#ed7953"
             ],
             [
              0.7777777777777778,
              "#fb9f3a"
             ],
             [
              0.8888888888888888,
              "#fdca26"
             ],
             [
              1,
              "#f0f921"
             ]
            ],
            "type": "heatmap"
           }
          ],
          "histogram": [
           {
            "marker": {
             "pattern": {
              "fillmode": "overlay",
              "size": 10,
              "solidity": 0.2
             }
            },
            "type": "histogram"
           }
          ],
          "histogram2d": [
           {
            "colorbar": {
             "outlinewidth": 0,
             "ticks": ""
            },
            "colorscale": [
             [
              0,
              "#0d0887"
             ],
             [
              0.1111111111111111,
              "#46039f"
             ],
             [
              0.2222222222222222,
              "#7201a8"
             ],
             [
              0.3333333333333333,
              "#9c179e"
             ],
             [
              0.4444444444444444,
              "#bd3786"
             ],
             [
              0.5555555555555556,
              "#d8576b"
             ],
             [
              0.6666666666666666,
              "#ed7953"
             ],
             [
              0.7777777777777778,
              "#fb9f3a"
             ],
             [
              0.8888888888888888,
              "#fdca26"
             ],
             [
              1,
              "#f0f921"
             ]
            ],
            "type": "histogram2d"
           }
          ],
          "histogram2dcontour": [
           {
            "colorbar": {
             "outlinewidth": 0,
             "ticks": ""
            },
            "colorscale": [
             [
              0,
              "#0d0887"
             ],
             [
              0.1111111111111111,
              "#46039f"
             ],
             [
              0.2222222222222222,
              "#7201a8"
             ],
             [
              0.3333333333333333,
              "#9c179e"
             ],
             [
              0.4444444444444444,
              "#bd3786"
             ],
             [
              0.5555555555555556,
              "#d8576b"
             ],
             [
              0.6666666666666666,
              "#ed7953"
             ],
             [
              0.7777777777777778,
              "#fb9f3a"
             ],
             [
              0.8888888888888888,
              "#fdca26"
             ],
             [
              1,
              "#f0f921"
             ]
            ],
            "type": "histogram2dcontour"
           }
          ],
          "mesh3d": [
           {
            "colorbar": {
             "outlinewidth": 0,
             "ticks": ""
            },
            "type": "mesh3d"
           }
          ],
          "parcoords": [
           {
            "line": {
             "colorbar": {
              "outlinewidth": 0,
              "ticks": ""
             }
            },
            "type": "parcoords"
           }
          ],
          "pie": [
           {
            "automargin": true,
            "type": "pie"
           }
          ],
          "scatter": [
           {
            "fillpattern": {
             "fillmode": "overlay",
             "size": 10,
             "solidity": 0.2
            },
            "type": "scatter"
           }
          ],
          "scatter3d": [
           {
            "line": {
             "colorbar": {
              "outlinewidth": 0,
              "ticks": ""
             }
            },
            "marker": {
             "colorbar": {
              "outlinewidth": 0,
              "ticks": ""
             }
            },
            "type": "scatter3d"
           }
          ],
          "scattercarpet": [
           {
            "marker": {
             "colorbar": {
              "outlinewidth": 0,
              "ticks": ""
             }
            },
            "type": "scattercarpet"
           }
          ],
          "scattergeo": [
           {
            "marker": {
             "colorbar": {
              "outlinewidth": 0,
              "ticks": ""
             }
            },
            "type": "scattergeo"
           }
          ],
          "scattergl": [
           {
            "marker": {
             "colorbar": {
              "outlinewidth": 0,
              "ticks": ""
             }
            },
            "type": "scattergl"
           }
          ],
          "scattermap": [
           {
            "marker": {
             "colorbar": {
              "outlinewidth": 0,
              "ticks": ""
             }
            },
            "type": "scattermap"
           }
          ],
          "scattermapbox": [
           {
            "marker": {
             "colorbar": {
              "outlinewidth": 0,
              "ticks": ""
             }
            },
            "type": "scattermapbox"
           }
          ],
          "scatterpolar": [
           {
            "marker": {
             "colorbar": {
              "outlinewidth": 0,
              "ticks": ""
             }
            },
            "type": "scatterpolar"
           }
          ],
          "scatterpolargl": [
           {
            "marker": {
             "colorbar": {
              "outlinewidth": 0,
              "ticks": ""
             }
            },
            "type": "scatterpolargl"
           }
          ],
          "scatterternary": [
           {
            "marker": {
             "colorbar": {
              "outlinewidth": 0,
              "ticks": ""
             }
            },
            "type": "scatterternary"
           }
          ],
          "surface": [
           {
            "colorbar": {
             "outlinewidth": 0,
             "ticks": ""
            },
            "colorscale": [
             [
              0,
              "#0d0887"
             ],
             [
              0.1111111111111111,
              "#46039f"
             ],
             [
              0.2222222222222222,
              "#7201a8"
             ],
             [
              0.3333333333333333,
              "#9c179e"
             ],
             [
              0.4444444444444444,
              "#bd3786"
             ],
             [
              0.5555555555555556,
              "#d8576b"
             ],
             [
              0.6666666666666666,
              "#ed7953"
             ],
             [
              0.7777777777777778,
              "#fb9f3a"
             ],
             [
              0.8888888888888888,
              "#fdca26"
             ],
             [
              1,
              "#f0f921"
             ]
            ],
            "type": "surface"
           }
          ],
          "table": [
           {
            "cells": {
             "fill": {
              "color": "#EBF0F8"
             },
             "line": {
              "color": "white"
             }
            },
            "header": {
             "fill": {
              "color": "#C8D4E3"
             },
             "line": {
              "color": "white"
             }
            },
            "type": "table"
           }
          ]
         },
         "layout": {
          "annotationdefaults": {
           "arrowcolor": "#2a3f5f",
           "arrowhead": 0,
           "arrowwidth": 1
          },
          "autotypenumbers": "strict",
          "coloraxis": {
           "colorbar": {
            "outlinewidth": 0,
            "ticks": ""
           }
          },
          "colorscale": {
           "diverging": [
            [
             0,
             "#8e0152"
            ],
            [
             0.1,
             "#c51b7d"
            ],
            [
             0.2,
             "#de77ae"
            ],
            [
             0.3,
             "#f1b6da"
            ],
            [
             0.4,
             "#fde0ef"
            ],
            [
             0.5,
             "#f7f7f7"
            ],
            [
             0.6,
             "#e6f5d0"
            ],
            [
             0.7,
             "#b8e186"
            ],
            [
             0.8,
             "#7fbc41"
            ],
            [
             0.9,
             "#4d9221"
            ],
            [
             1,
             "#276419"
            ]
           ],
           "sequential": [
            [
             0,
             "#0d0887"
            ],
            [
             0.1111111111111111,
             "#46039f"
            ],
            [
             0.2222222222222222,
             "#7201a8"
            ],
            [
             0.3333333333333333,
             "#9c179e"
            ],
            [
             0.4444444444444444,
             "#bd3786"
            ],
            [
             0.5555555555555556,
             "#d8576b"
            ],
            [
             0.6666666666666666,
             "#ed7953"
            ],
            [
             0.7777777777777778,
             "#fb9f3a"
            ],
            [
             0.8888888888888888,
             "#fdca26"
            ],
            [
             1,
             "#f0f921"
            ]
           ],
           "sequentialminus": [
            [
             0,
             "#0d0887"
            ],
            [
             0.1111111111111111,
             "#46039f"
            ],
            [
             0.2222222222222222,
             "#7201a8"
            ],
            [
             0.3333333333333333,
             "#9c179e"
            ],
            [
             0.4444444444444444,
             "#bd3786"
            ],
            [
             0.5555555555555556,
             "#d8576b"
            ],
            [
             0.6666666666666666,
             "#ed7953"
            ],
            [
             0.7777777777777778,
             "#fb9f3a"
            ],
            [
             0.8888888888888888,
             "#fdca26"
            ],
            [
             1,
             "#f0f921"
            ]
           ]
          },
          "colorway": [
           "#636efa",
           "#EF553B",
           "#00cc96",
           "#ab63fa",
           "#FFA15A",
           "#19d3f3",
           "#FF6692",
           "#B6E880",
           "#FF97FF",
           "#FECB52"
          ],
          "font": {
           "color": "#2a3f5f"
          },
          "geo": {
           "bgcolor": "white",
           "lakecolor": "white",
           "landcolor": "#E5ECF6",
           "showlakes": true,
           "showland": true,
           "subunitcolor": "white"
          },
          "hoverlabel": {
           "align": "left"
          },
          "hovermode": "closest",
          "mapbox": {
           "style": "light"
          },
          "paper_bgcolor": "white",
          "plot_bgcolor": "#E5ECF6",
          "polar": {
           "angularaxis": {
            "gridcolor": "white",
            "linecolor": "white",
            "ticks": ""
           },
           "bgcolor": "#E5ECF6",
           "radialaxis": {
            "gridcolor": "white",
            "linecolor": "white",
            "ticks": ""
           }
          },
          "scene": {
           "xaxis": {
            "backgroundcolor": "#E5ECF6",
            "gridcolor": "white",
            "gridwidth": 2,
            "linecolor": "white",
            "showbackground": true,
            "ticks": "",
            "zerolinecolor": "white"
           },
           "yaxis": {
            "backgroundcolor": "#E5ECF6",
            "gridcolor": "white",
            "gridwidth": 2,
            "linecolor": "white",
            "showbackground": true,
            "ticks": "",
            "zerolinecolor": "white"
           },
           "zaxis": {
            "backgroundcolor": "#E5ECF6",
            "gridcolor": "white",
            "gridwidth": 2,
            "linecolor": "white",
            "showbackground": true,
            "ticks": "",
            "zerolinecolor": "white"
           }
          },
          "shapedefaults": {
           "line": {
            "color": "#2a3f5f"
           }
          },
          "ternary": {
           "aaxis": {
            "gridcolor": "white",
            "linecolor": "white",
            "ticks": ""
           },
           "baxis": {
            "gridcolor": "white",
            "linecolor": "white",
            "ticks": ""
           },
           "bgcolor": "#E5ECF6",
           "caxis": {
            "gridcolor": "white",
            "linecolor": "white",
            "ticks": ""
           }
          },
          "title": {
           "x": 0.05
          },
          "xaxis": {
           "automargin": true,
           "gridcolor": "white",
           "linecolor": "white",
           "ticks": "",
           "title": {
            "standoff": 15
           },
           "zerolinecolor": "white",
           "zerolinewidth": 2
          },
          "yaxis": {
           "automargin": true,
           "gridcolor": "white",
           "linecolor": "white",
           "ticks": "",
           "title": {
            "standoff": 15
           },
           "zerolinecolor": "white",
           "zerolinewidth": 2
          }
         }
        },
        "title": {
         "text": "Correlation Heatmap: Streams & Audio Features"
        },
        "xaxis": {
         "anchor": "y",
         "constrain": "domain",
         "domain": [
          0,
          1
         ],
         "scaleanchor": "y"
        },
        "yaxis": {
         "anchor": "x",
         "autorange": "reversed",
         "constrain": "domain",
         "domain": [
          0,
          1
         ]
        }
       }
      }
     },
     "metadata": {},
     "output_type": "display_data"
    }
   ],
   "source": [
    "corr_features = df_spotify[['Streams', 'Danceability %', 'Valence %', 'Energy %', 'Acousticness %']]\n",
    "corr_matrix = corr_features.corr()\n",
    "\n",
    "fig = px.imshow(\n",
    "    corr_matrix,\n",
    "    text_auto=True,\n",
    "    color_continuous_scale=\"RdBu_r\",\n",
    "    title=\"Correlation Heatmap: Streams & Audio Features\",\n",
    "    height=500\n",
    ")\n",
    "\n",
    "fig.show()"
   ]
  },
  {
   "cell_type": "markdown",
   "id": "2a73594c",
   "metadata": {},
   "source": [
    "![Track Age vs Streams](screenshots/streams-and-audio-features.png)\n"
   ]
  },
  {
   "cell_type": "markdown",
   "id": "dac29245",
   "metadata": {},
   "source": [
    "---"
   ]
  },
  {
   "cell_type": "markdown",
   "id": "4a1c1b5f",
   "metadata": {},
   "source": [
    "### Machine Learning Models: Predicting Spotify Streams\n",
    "\n",
    "The next phase involves applying **predictive modeling** to understand the relationship between audio features and track popularity (measured in streams). Key points:  \n",
    "\n",
    "- **Objective:** Evaluate how well track-level audio features (Danceability, Valence, Energy, Acousticness) can predict the logarithm of track streams.  \n",
    "\n",
    "- **Models Implemented:**  \n",
    "  1. **Random Forest Regressor** – a non-linear ensemble model capturing complex interactions between features.  \n",
    "  2. **Linear Regression** – a simple baseline model to measure linear relationships between features and streams.  \n",
    "  \n",
    "- **Data Preparation:**  \n",
    "  - Log transformation of streams to reduce skewness.  \n",
    "  - Standard scaling of features to ensure all variables are on a comparable scale.  \n",
    "  - Train-test split (80%-20%) to evaluate model generalization.  \n",
    "  \n",
    "- **Purpose:**  \n",
    "  - Determine which features contribute most to predicting streams.  \n",
    "  - Assess model performance using **R²** and **RMSE**, guiding interpretation of predictive power.  \n",
    "\n",
    "This modeling step bridges **exploratory analysis** with **quantitative prediction**, enabling a more analytical understanding of Spotify track performance beyond visualizations."
   ]
  },
  {
   "cell_type": "markdown",
   "id": "79d88cc5",
   "metadata": {},
   "source": [
    "---"
   ]
  },
  {
   "cell_type": "markdown",
   "id": "7834dff5",
   "metadata": {},
   "source": [
    "### Feature Selection for Modeling\n",
    "\n",
    "In this step, we define the **input features (X)** and the **target variable (y)** for our predictive models:\n",
    "\n",
    "- **Features (X):**  \n",
    "  - `Danceability %` – measures how suitable a track is for dancing  \n",
    "  - `Valence %` – indicates the musical positivity of a track  \n",
    "  - `Energy %` – represents the intensity and activity level of the track  \n",
    "  - `Acousticness %` – estimates the likelihood of the track being acoustic  \n",
    "\n",
    "- **Target (y):**  \n",
    "  - `Streams` – the total number of streams for each track on Spotify  \n",
    "\n",
    "**Rationale:**  \n",
    "By selecting these four core audio features, we aim to capture key aspects of a song’s characteristics that could influence listener engagement and streaming popularity, while keeping the model interpretable and focused.\n",
    "\n",
    "It is important to note that we **do not include `Track Age Years`** in our feature set:\n",
    "\n",
    "- `Streams` only reflects Spotify plays for the year 2023.  \n",
    "- Including `Track Age Years` would **introduce a temporal bias**, as older tracks naturally accumulate more plays over time.  \n",
    "- By excluding it, we ensure that the models focus solely on **audio characteristics**, avoiding artificial correlations that could mislead predictions.  \n",
    "\n",
    "This decision preserves the integrity and predictive validity of our machine learning models."
   ]
  },
  {
   "cell_type": "code",
   "execution_count": 34,
   "id": "7a0136af",
   "metadata": {},
   "outputs": [],
   "source": [
    "X = df_spotify[['Danceability %', 'Valence %', 'Energy %', 'Acousticness %']]\n",
    "y = df_spotify['Streams']"
   ]
  },
  {
   "cell_type": "markdown",
   "id": "bf82b594",
   "metadata": {},
   "source": [
    "### Log Transformation of the Target Variable\n",
    "\n",
    "The target variable `Streams` is heavily skewed, with some tracks having billions of streams while others have only thousands. To address this:\n",
    "\n",
    "- We apply a **logarithmic transformation** using `np.log1p(y)`, which computes `log(1 + y)`.  \n",
    "- This reduces the **impact of extreme outliers** and stabilizes variance.  \n",
    "- Log-transforming allows the models to better **capture relative differences** in stream counts, improving learning efficiency and prediction accuracy.  \n",
    "\n",
    "This step is crucial for datasets with **wide-ranging numeric targets**, especially in streaming data."
   ]
  },
  {
   "cell_type": "code",
   "execution_count": 35,
   "id": "20ad1066",
   "metadata": {},
   "outputs": [],
   "source": [
    "y_log = np.log1p(y)"
   ]
  },
  {
   "cell_type": "markdown",
   "id": "880351db",
   "metadata": {},
   "source": [
    "### Train-Test Split\n",
    "\n",
    "We split the dataset into training and testing subsets to evaluate model performance on unseen data:\n",
    "\n",
    "- **80% Training Set**: Used to train the machine learning models and learn patterns in the features (`Danceability %`, `Valence %`, `Energy %`, `Acousticness %`).  \n",
    "- **20% Test Set**: Reserved to assess model generalization and prevent overfitting.  \n",
    "- `random_state=42` ensures **reproducibility**, so results are consistent across runs.  \n",
    "\n",
    "This separation is essential for obtaining **reliable performance metrics** and avoiding biased evaluation.\n"
   ]
  },
  {
   "cell_type": "code",
   "execution_count": 36,
   "id": "c4fb801a",
   "metadata": {},
   "outputs": [],
   "source": [
    "X_train, X_test, y_train, y_test = train_test_split(X, y_log, test_size=0.2, random_state=42)"
   ]
  },
  {
   "cell_type": "markdown",
   "id": "fc6c866d",
   "metadata": {},
   "source": [
    "### Feature Scaling with StandardScaler\n",
    "\n",
    "We apply standardization to the feature set to ensure all variables are on the same scale:  \n",
    "\n",
    "- **Mean centering and unit variance**: Each feature is transformed to have a mean of 0 and standard deviation of 1.  \n",
    "- **`fit_transform` on training data**: Learns the scaling parameters from the training set and applies them.  \n",
    "- **`transform` on test data**: Uses the same parameters from training to avoid data leakage.  \n",
    "\n",
    "Scaling is particularly important for algorithms sensitive to feature magnitudes, such as **Linear Regression**, and ensures stable convergence during training.\n"
   ]
  },
  {
   "cell_type": "code",
   "execution_count": 37,
   "id": "bb746857",
   "metadata": {},
   "outputs": [],
   "source": [
    "scaler = StandardScaler()\n",
    "X_train_scaled = scaler.fit_transform(X_train)\n",
    "X_test_scaled = scaler.transform(X_test)"
   ]
  },
  {
   "cell_type": "markdown",
   "id": "4fd02d69",
   "metadata": {},
   "source": [
    "### Random Forest Regressor Initialization\n",
    "\n",
    "Here, we define a Random Forest model for regression tasks:  \n",
    "\n",
    "- **`n_estimators=100`**: Constructs 100 decision trees in the ensemble, balancing performance and computation.  \n",
    "- **`max_depth=None`**: Allows trees to expand until all leaves are pure or contain minimal samples, capturing complex patterns.  \n",
    "- **`random_state=42`**: Ensures reproducibility by fixing the randomness in tree construction.  \n",
    "\n",
    "This setup is intended to leverage the ensemble's ability to **reduce variance and overfitting**, while capturing **non-linear relationships** between audio features and Spotify streams."
   ]
  },
  {
   "cell_type": "code",
   "execution_count": 38,
   "id": "a853cd75",
   "metadata": {},
   "outputs": [],
   "source": [
    "rf = RandomForestRegressor(\n",
    "    n_estimators=100,\n",
    "    max_depth=None,\n",
    "    random_state=42\n",
    ")"
   ]
  },
  {
   "cell_type": "markdown",
   "id": "c54d41c0",
   "metadata": {},
   "source": [
    "### Training the Random Forest Model\n",
    "\n",
    "The Random Forest Regressor is now trained using the **scaled training dataset**.  \n",
    "\n",
    "Key points:  \n",
    "\n",
    "- The model learns patterns between the **four audio features** (Danceability, Valence, Energy, Acousticness) and the **log-transformed Streams**.  \n",
    "- Each tree in the forest independently fits the training data, and the ensemble combines their predictions to improve **accuracy and robustness**.  \n",
    "- Scaling ensures all features contribute **evenly** during tree splitting, although Random Forest is generally less sensitive to feature scales compared to linear models.  \n",
    "\n",
    "At this stage, the model is ready to make predictions and evaluate its performance on unseen data."
   ]
  },
  {
   "cell_type": "code",
   "execution_count": 39,
   "id": "156b7f20",
   "metadata": {},
   "outputs": [
    {
     "data": {
      "text/html": [
       "<style>#sk-container-id-1 {\n",
       "  /* Definition of color scheme common for light and dark mode */\n",
       "  --sklearn-color-text: #000;\n",
       "  --sklearn-color-text-muted: #666;\n",
       "  --sklearn-color-line: gray;\n",
       "  /* Definition of color scheme for unfitted estimators */\n",
       "  --sklearn-color-unfitted-level-0: #fff5e6;\n",
       "  --sklearn-color-unfitted-level-1: #f6e4d2;\n",
       "  --sklearn-color-unfitted-level-2: #ffe0b3;\n",
       "  --sklearn-color-unfitted-level-3: chocolate;\n",
       "  /* Definition of color scheme for fitted estimators */\n",
       "  --sklearn-color-fitted-level-0: #f0f8ff;\n",
       "  --sklearn-color-fitted-level-1: #d4ebff;\n",
       "  --sklearn-color-fitted-level-2: #b3dbfd;\n",
       "  --sklearn-color-fitted-level-3: cornflowerblue;\n",
       "\n",
       "  /* Specific color for light theme */\n",
       "  --sklearn-color-text-on-default-background: var(--sg-text-color, var(--theme-code-foreground, var(--jp-content-font-color1, black)));\n",
       "  --sklearn-color-background: var(--sg-background-color, var(--theme-background, var(--jp-layout-color0, white)));\n",
       "  --sklearn-color-border-box: var(--sg-text-color, var(--theme-code-foreground, var(--jp-content-font-color1, black)));\n",
       "  --sklearn-color-icon: #696969;\n",
       "\n",
       "  @media (prefers-color-scheme: dark) {\n",
       "    /* Redefinition of color scheme for dark theme */\n",
       "    --sklearn-color-text-on-default-background: var(--sg-text-color, var(--theme-code-foreground, var(--jp-content-font-color1, white)));\n",
       "    --sklearn-color-background: var(--sg-background-color, var(--theme-background, var(--jp-layout-color0, #111)));\n",
       "    --sklearn-color-border-box: var(--sg-text-color, var(--theme-code-foreground, var(--jp-content-font-color1, white)));\n",
       "    --sklearn-color-icon: #878787;\n",
       "  }\n",
       "}\n",
       "\n",
       "#sk-container-id-1 {\n",
       "  color: var(--sklearn-color-text);\n",
       "}\n",
       "\n",
       "#sk-container-id-1 pre {\n",
       "  padding: 0;\n",
       "}\n",
       "\n",
       "#sk-container-id-1 input.sk-hidden--visually {\n",
       "  border: 0;\n",
       "  clip: rect(1px 1px 1px 1px);\n",
       "  clip: rect(1px, 1px, 1px, 1px);\n",
       "  height: 1px;\n",
       "  margin: -1px;\n",
       "  overflow: hidden;\n",
       "  padding: 0;\n",
       "  position: absolute;\n",
       "  width: 1px;\n",
       "}\n",
       "\n",
       "#sk-container-id-1 div.sk-dashed-wrapped {\n",
       "  border: 1px dashed var(--sklearn-color-line);\n",
       "  margin: 0 0.4em 0.5em 0.4em;\n",
       "  box-sizing: border-box;\n",
       "  padding-bottom: 0.4em;\n",
       "  background-color: var(--sklearn-color-background);\n",
       "}\n",
       "\n",
       "#sk-container-id-1 div.sk-container {\n",
       "  /* jupyter's `normalize.less` sets `[hidden] { display: none; }`\n",
       "     but bootstrap.min.css set `[hidden] { display: none !important; }`\n",
       "     so we also need the `!important` here to be able to override the\n",
       "     default hidden behavior on the sphinx rendered scikit-learn.org.\n",
       "     See: https://github.com/scikit-learn/scikit-learn/issues/21755 */\n",
       "  display: inline-block !important;\n",
       "  position: relative;\n",
       "}\n",
       "\n",
       "#sk-container-id-1 div.sk-text-repr-fallback {\n",
       "  display: none;\n",
       "}\n",
       "\n",
       "div.sk-parallel-item,\n",
       "div.sk-serial,\n",
       "div.sk-item {\n",
       "  /* draw centered vertical line to link estimators */\n",
       "  background-image: linear-gradient(var(--sklearn-color-text-on-default-background), var(--sklearn-color-text-on-default-background));\n",
       "  background-size: 2px 100%;\n",
       "  background-repeat: no-repeat;\n",
       "  background-position: center center;\n",
       "}\n",
       "\n",
       "/* Parallel-specific style estimator block */\n",
       "\n",
       "#sk-container-id-1 div.sk-parallel-item::after {\n",
       "  content: \"\";\n",
       "  width: 100%;\n",
       "  border-bottom: 2px solid var(--sklearn-color-text-on-default-background);\n",
       "  flex-grow: 1;\n",
       "}\n",
       "\n",
       "#sk-container-id-1 div.sk-parallel {\n",
       "  display: flex;\n",
       "  align-items: stretch;\n",
       "  justify-content: center;\n",
       "  background-color: var(--sklearn-color-background);\n",
       "  position: relative;\n",
       "}\n",
       "\n",
       "#sk-container-id-1 div.sk-parallel-item {\n",
       "  display: flex;\n",
       "  flex-direction: column;\n",
       "}\n",
       "\n",
       "#sk-container-id-1 div.sk-parallel-item:first-child::after {\n",
       "  align-self: flex-end;\n",
       "  width: 50%;\n",
       "}\n",
       "\n",
       "#sk-container-id-1 div.sk-parallel-item:last-child::after {\n",
       "  align-self: flex-start;\n",
       "  width: 50%;\n",
       "}\n",
       "\n",
       "#sk-container-id-1 div.sk-parallel-item:only-child::after {\n",
       "  width: 0;\n",
       "}\n",
       "\n",
       "/* Serial-specific style estimator block */\n",
       "\n",
       "#sk-container-id-1 div.sk-serial {\n",
       "  display: flex;\n",
       "  flex-direction: column;\n",
       "  align-items: center;\n",
       "  background-color: var(--sklearn-color-background);\n",
       "  padding-right: 1em;\n",
       "  padding-left: 1em;\n",
       "}\n",
       "\n",
       "\n",
       "/* Toggleable style: style used for estimator/Pipeline/ColumnTransformer box that is\n",
       "clickable and can be expanded/collapsed.\n",
       "- Pipeline and ColumnTransformer use this feature and define the default style\n",
       "- Estimators will overwrite some part of the style using the `sk-estimator` class\n",
       "*/\n",
       "\n",
       "/* Pipeline and ColumnTransformer style (default) */\n",
       "\n",
       "#sk-container-id-1 div.sk-toggleable {\n",
       "  /* Default theme specific background. It is overwritten whether we have a\n",
       "  specific estimator or a Pipeline/ColumnTransformer */\n",
       "  background-color: var(--sklearn-color-background);\n",
       "}\n",
       "\n",
       "/* Toggleable label */\n",
       "#sk-container-id-1 label.sk-toggleable__label {\n",
       "  cursor: pointer;\n",
       "  display: flex;\n",
       "  width: 100%;\n",
       "  margin-bottom: 0;\n",
       "  padding: 0.5em;\n",
       "  box-sizing: border-box;\n",
       "  text-align: center;\n",
       "  align-items: start;\n",
       "  justify-content: space-between;\n",
       "  gap: 0.5em;\n",
       "}\n",
       "\n",
       "#sk-container-id-1 label.sk-toggleable__label .caption {\n",
       "  font-size: 0.6rem;\n",
       "  font-weight: lighter;\n",
       "  color: var(--sklearn-color-text-muted);\n",
       "}\n",
       "\n",
       "#sk-container-id-1 label.sk-toggleable__label-arrow:before {\n",
       "  /* Arrow on the left of the label */\n",
       "  content: \"▸\";\n",
       "  float: left;\n",
       "  margin-right: 0.25em;\n",
       "  color: var(--sklearn-color-icon);\n",
       "}\n",
       "\n",
       "#sk-container-id-1 label.sk-toggleable__label-arrow:hover:before {\n",
       "  color: var(--sklearn-color-text);\n",
       "}\n",
       "\n",
       "/* Toggleable content - dropdown */\n",
       "\n",
       "#sk-container-id-1 div.sk-toggleable__content {\n",
       "  max-height: 0;\n",
       "  max-width: 0;\n",
       "  overflow: hidden;\n",
       "  text-align: left;\n",
       "  /* unfitted */\n",
       "  background-color: var(--sklearn-color-unfitted-level-0);\n",
       "}\n",
       "\n",
       "#sk-container-id-1 div.sk-toggleable__content.fitted {\n",
       "  /* fitted */\n",
       "  background-color: var(--sklearn-color-fitted-level-0);\n",
       "}\n",
       "\n",
       "#sk-container-id-1 div.sk-toggleable__content pre {\n",
       "  margin: 0.2em;\n",
       "  border-radius: 0.25em;\n",
       "  color: var(--sklearn-color-text);\n",
       "  /* unfitted */\n",
       "  background-color: var(--sklearn-color-unfitted-level-0);\n",
       "}\n",
       "\n",
       "#sk-container-id-1 div.sk-toggleable__content.fitted pre {\n",
       "  /* unfitted */\n",
       "  background-color: var(--sklearn-color-fitted-level-0);\n",
       "}\n",
       "\n",
       "#sk-container-id-1 input.sk-toggleable__control:checked~div.sk-toggleable__content {\n",
       "  /* Expand drop-down */\n",
       "  max-height: 200px;\n",
       "  max-width: 100%;\n",
       "  overflow: auto;\n",
       "}\n",
       "\n",
       "#sk-container-id-1 input.sk-toggleable__control:checked~label.sk-toggleable__label-arrow:before {\n",
       "  content: \"▾\";\n",
       "}\n",
       "\n",
       "/* Pipeline/ColumnTransformer-specific style */\n",
       "\n",
       "#sk-container-id-1 div.sk-label input.sk-toggleable__control:checked~label.sk-toggleable__label {\n",
       "  color: var(--sklearn-color-text);\n",
       "  background-color: var(--sklearn-color-unfitted-level-2);\n",
       "}\n",
       "\n",
       "#sk-container-id-1 div.sk-label.fitted input.sk-toggleable__control:checked~label.sk-toggleable__label {\n",
       "  background-color: var(--sklearn-color-fitted-level-2);\n",
       "}\n",
       "\n",
       "/* Estimator-specific style */\n",
       "\n",
       "/* Colorize estimator box */\n",
       "#sk-container-id-1 div.sk-estimator input.sk-toggleable__control:checked~label.sk-toggleable__label {\n",
       "  /* unfitted */\n",
       "  background-color: var(--sklearn-color-unfitted-level-2);\n",
       "}\n",
       "\n",
       "#sk-container-id-1 div.sk-estimator.fitted input.sk-toggleable__control:checked~label.sk-toggleable__label {\n",
       "  /* fitted */\n",
       "  background-color: var(--sklearn-color-fitted-level-2);\n",
       "}\n",
       "\n",
       "#sk-container-id-1 div.sk-label label.sk-toggleable__label,\n",
       "#sk-container-id-1 div.sk-label label {\n",
       "  /* The background is the default theme color */\n",
       "  color: var(--sklearn-color-text-on-default-background);\n",
       "}\n",
       "\n",
       "/* On hover, darken the color of the background */\n",
       "#sk-container-id-1 div.sk-label:hover label.sk-toggleable__label {\n",
       "  color: var(--sklearn-color-text);\n",
       "  background-color: var(--sklearn-color-unfitted-level-2);\n",
       "}\n",
       "\n",
       "/* Label box, darken color on hover, fitted */\n",
       "#sk-container-id-1 div.sk-label.fitted:hover label.sk-toggleable__label.fitted {\n",
       "  color: var(--sklearn-color-text);\n",
       "  background-color: var(--sklearn-color-fitted-level-2);\n",
       "}\n",
       "\n",
       "/* Estimator label */\n",
       "\n",
       "#sk-container-id-1 div.sk-label label {\n",
       "  font-family: monospace;\n",
       "  font-weight: bold;\n",
       "  display: inline-block;\n",
       "  line-height: 1.2em;\n",
       "}\n",
       "\n",
       "#sk-container-id-1 div.sk-label-container {\n",
       "  text-align: center;\n",
       "}\n",
       "\n",
       "/* Estimator-specific */\n",
       "#sk-container-id-1 div.sk-estimator {\n",
       "  font-family: monospace;\n",
       "  border: 1px dotted var(--sklearn-color-border-box);\n",
       "  border-radius: 0.25em;\n",
       "  box-sizing: border-box;\n",
       "  margin-bottom: 0.5em;\n",
       "  /* unfitted */\n",
       "  background-color: var(--sklearn-color-unfitted-level-0);\n",
       "}\n",
       "\n",
       "#sk-container-id-1 div.sk-estimator.fitted {\n",
       "  /* fitted */\n",
       "  background-color: var(--sklearn-color-fitted-level-0);\n",
       "}\n",
       "\n",
       "/* on hover */\n",
       "#sk-container-id-1 div.sk-estimator:hover {\n",
       "  /* unfitted */\n",
       "  background-color: var(--sklearn-color-unfitted-level-2);\n",
       "}\n",
       "\n",
       "#sk-container-id-1 div.sk-estimator.fitted:hover {\n",
       "  /* fitted */\n",
       "  background-color: var(--sklearn-color-fitted-level-2);\n",
       "}\n",
       "\n",
       "/* Specification for estimator info (e.g. \"i\" and \"?\") */\n",
       "\n",
       "/* Common style for \"i\" and \"?\" */\n",
       "\n",
       ".sk-estimator-doc-link,\n",
       "a:link.sk-estimator-doc-link,\n",
       "a:visited.sk-estimator-doc-link {\n",
       "  float: right;\n",
       "  font-size: smaller;\n",
       "  line-height: 1em;\n",
       "  font-family: monospace;\n",
       "  background-color: var(--sklearn-color-background);\n",
       "  border-radius: 1em;\n",
       "  height: 1em;\n",
       "  width: 1em;\n",
       "  text-decoration: none !important;\n",
       "  margin-left: 0.5em;\n",
       "  text-align: center;\n",
       "  /* unfitted */\n",
       "  border: var(--sklearn-color-unfitted-level-1) 1pt solid;\n",
       "  color: var(--sklearn-color-unfitted-level-1);\n",
       "}\n",
       "\n",
       ".sk-estimator-doc-link.fitted,\n",
       "a:link.sk-estimator-doc-link.fitted,\n",
       "a:visited.sk-estimator-doc-link.fitted {\n",
       "  /* fitted */\n",
       "  border: var(--sklearn-color-fitted-level-1) 1pt solid;\n",
       "  color: var(--sklearn-color-fitted-level-1);\n",
       "}\n",
       "\n",
       "/* On hover */\n",
       "div.sk-estimator:hover .sk-estimator-doc-link:hover,\n",
       ".sk-estimator-doc-link:hover,\n",
       "div.sk-label-container:hover .sk-estimator-doc-link:hover,\n",
       ".sk-estimator-doc-link:hover {\n",
       "  /* unfitted */\n",
       "  background-color: var(--sklearn-color-unfitted-level-3);\n",
       "  color: var(--sklearn-color-background);\n",
       "  text-decoration: none;\n",
       "}\n",
       "\n",
       "div.sk-estimator.fitted:hover .sk-estimator-doc-link.fitted:hover,\n",
       ".sk-estimator-doc-link.fitted:hover,\n",
       "div.sk-label-container:hover .sk-estimator-doc-link.fitted:hover,\n",
       ".sk-estimator-doc-link.fitted:hover {\n",
       "  /* fitted */\n",
       "  background-color: var(--sklearn-color-fitted-level-3);\n",
       "  color: var(--sklearn-color-background);\n",
       "  text-decoration: none;\n",
       "}\n",
       "\n",
       "/* Span, style for the box shown on hovering the info icon */\n",
       ".sk-estimator-doc-link span {\n",
       "  display: none;\n",
       "  z-index: 9999;\n",
       "  position: relative;\n",
       "  font-weight: normal;\n",
       "  right: .2ex;\n",
       "  padding: .5ex;\n",
       "  margin: .5ex;\n",
       "  width: min-content;\n",
       "  min-width: 20ex;\n",
       "  max-width: 50ex;\n",
       "  color: var(--sklearn-color-text);\n",
       "  box-shadow: 2pt 2pt 4pt #999;\n",
       "  /* unfitted */\n",
       "  background: var(--sklearn-color-unfitted-level-0);\n",
       "  border: .5pt solid var(--sklearn-color-unfitted-level-3);\n",
       "}\n",
       "\n",
       ".sk-estimator-doc-link.fitted span {\n",
       "  /* fitted */\n",
       "  background: var(--sklearn-color-fitted-level-0);\n",
       "  border: var(--sklearn-color-fitted-level-3);\n",
       "}\n",
       "\n",
       ".sk-estimator-doc-link:hover span {\n",
       "  display: block;\n",
       "}\n",
       "\n",
       "/* \"?\"-specific style due to the `<a>` HTML tag */\n",
       "\n",
       "#sk-container-id-1 a.estimator_doc_link {\n",
       "  float: right;\n",
       "  font-size: 1rem;\n",
       "  line-height: 1em;\n",
       "  font-family: monospace;\n",
       "  background-color: var(--sklearn-color-background);\n",
       "  border-radius: 1rem;\n",
       "  height: 1rem;\n",
       "  width: 1rem;\n",
       "  text-decoration: none;\n",
       "  /* unfitted */\n",
       "  color: var(--sklearn-color-unfitted-level-1);\n",
       "  border: var(--sklearn-color-unfitted-level-1) 1pt solid;\n",
       "}\n",
       "\n",
       "#sk-container-id-1 a.estimator_doc_link.fitted {\n",
       "  /* fitted */\n",
       "  border: var(--sklearn-color-fitted-level-1) 1pt solid;\n",
       "  color: var(--sklearn-color-fitted-level-1);\n",
       "}\n",
       "\n",
       "/* On hover */\n",
       "#sk-container-id-1 a.estimator_doc_link:hover {\n",
       "  /* unfitted */\n",
       "  background-color: var(--sklearn-color-unfitted-level-3);\n",
       "  color: var(--sklearn-color-background);\n",
       "  text-decoration: none;\n",
       "}\n",
       "\n",
       "#sk-container-id-1 a.estimator_doc_link.fitted:hover {\n",
       "  /* fitted */\n",
       "  background-color: var(--sklearn-color-fitted-level-3);\n",
       "}\n",
       "</style><div id=\"sk-container-id-1\" class=\"sk-top-container\"><div class=\"sk-text-repr-fallback\"><pre>RandomForestRegressor(random_state=42)</pre><b>In a Jupyter environment, please rerun this cell to show the HTML representation or trust the notebook. <br />On GitHub, the HTML representation is unable to render, please try loading this page with nbviewer.org.</b></div><div class=\"sk-container\" hidden><div class=\"sk-item\"><div class=\"sk-estimator fitted sk-toggleable\"><input class=\"sk-toggleable__control sk-hidden--visually\" id=\"sk-estimator-id-1\" type=\"checkbox\" checked><label for=\"sk-estimator-id-1\" class=\"sk-toggleable__label fitted sk-toggleable__label-arrow\"><div><div>RandomForestRegressor</div></div><div><a class=\"sk-estimator-doc-link fitted\" rel=\"noreferrer\" target=\"_blank\" href=\"https://scikit-learn.org/1.6/modules/generated/sklearn.ensemble.RandomForestRegressor.html\">?<span>Documentation for RandomForestRegressor</span></a><span class=\"sk-estimator-doc-link fitted\">i<span>Fitted</span></span></div></label><div class=\"sk-toggleable__content fitted\"><pre>RandomForestRegressor(random_state=42)</pre></div> </div></div></div></div>"
      ],
      "text/plain": [
       "RandomForestRegressor(random_state=42)"
      ]
     },
     "execution_count": 39,
     "metadata": {},
     "output_type": "execute_result"
    }
   ],
   "source": [
    "rf.fit(X_train_scaled, y_train)"
   ]
  },
  {
   "cell_type": "markdown",
   "id": "46610310",
   "metadata": {},
   "source": [
    "### Generating Predictions with Random Forest\n",
    "\n",
    "The trained Random Forest model is used to predict the **log-transformed Streams** for the **test set**.  \n",
    "\n",
    "Key points:  \n",
    "\n",
    "- `y_pred` contains the model's predicted values, which can now be compared to the **actual log-transformed Streams** in `y_test`.  \n",
    "- This step is crucial to assess how well the model **generalizes** to unseen data.  \n",
    "- Subsequent evaluation metrics will quantify the model's predictive accuracy and highlight potential limitations in capturing the underlying patterns."
   ]
  },
  {
   "cell_type": "code",
   "execution_count": 40,
   "id": "a1703d0b",
   "metadata": {},
   "outputs": [],
   "source": [
    "y_pred = rf.predict(X_test_scaled)"
   ]
  },
  {
   "cell_type": "markdown",
   "id": "77d3c1f2",
   "metadata": {},
   "source": [
    "### Random Forest Model Performance\n",
    "\n",
    "The evaluation metrics for the Random Forest Regressor indicate the **predictive strength** of the model on the test set:  \n",
    "\n",
    "- **R² Score: -0.152**  \n",
    "  - A negative R² indicates that the model performs **worse than simply predicting the mean** of the target variable.  \n",
    "  - This suggests that the audio features alone are **not strong predictors** of Spotify streams for 2023.  \n",
    "\n",
    "- **RMSE: 1.088 (log-transformed scale)**  \n",
    "  - This measures the **average prediction error** in the log-transformed streams.  \n",
    "  - The relatively high RMSE further confirms the model's **limited accuracy**.  \n",
    "\n",
    "Overall, these results imply that while Random Forest can model complex relationships, the available features (Danceability, Valence, Energy, Acousticness) **do not sufficiently explain the variation in 2023 streams**.\n"
   ]
  },
  {
   "cell_type": "code",
   "execution_count": 41,
   "id": "92a8df7d",
   "metadata": {},
   "outputs": [
    {
     "name": "stdout",
     "output_type": "stream",
     "text": [
      "Random Forest Regressor R²: -0.152\n",
      "Random Forest Regressor RMSE: 1.088\n"
     ]
    }
   ],
   "source": [
    "r2 = r2_score(y_test, y_pred)\n",
    "rmse = np.sqrt(mean_squared_error(y_test, y_pred))\n",
    "\n",
    "print(f\"Random Forest Regressor R²: {r2:.3f}\")\n",
    "print(f\"Random Forest Regressor RMSE: {rmse:.3f}\")\n"
   ]
  },
  {
   "cell_type": "markdown",
   "id": "aa46167f",
   "metadata": {},
   "source": [
    "### Random Forest: Actual vs Predicted Streams\n",
    "\n",
    "This scatter plot visualizes the **relationship between actual and predicted log-transformed streams**:  \n",
    "\n",
    "- Each point represents a track in the test set, with the x-axis showing **true streams** and the y-axis showing **predicted streams**.  \n",
    "- Ideally, points should align closely along the **diagonal line**, indicating accurate predictions.  \n",
    "- In this plot, the points are **widely scattered**, reflecting the model's **poor predictive power** and the negative R² score.  \n",
    "- The spread suggests that **highly streamed tracks and low-stream tracks are not reliably predicted**, emphasizing that the chosen audio features have **limited explanatory value** for streams in 2023.  \n",
    "\n",
    "This visualization reinforces the insight that **audio features alone cannot capture the dynamics driving Spotify popularity**.\n"
   ]
  },
  {
   "cell_type": "code",
   "execution_count": 42,
   "id": "82e3f956",
   "metadata": {},
   "outputs": [
    {
     "data": {
      "image/png": "[encoded data removed]",
      "text/plain": [
       "<Figure size 640x480 with 1 Axes>"
      ]
     },
     "metadata": {},
     "output_type": "display_data"
    }
   ],
   "source": [
    "plt.scatter(y_test, y_pred, alpha=0.5)\n",
    "plt.xlabel(\"Actual Streams (log10)\")\n",
    "plt.ylabel(\"Predicted Streams (log10)\")\n",
    "plt.title(\"Random Forest: Actual vs Predicted Streams\")\n",
    "plt.show()"
   ]
  },
  {
   "cell_type": "markdown",
   "id": "2ee9c5ef",
   "metadata": {},
   "source": [
    "### Random Forest Feature Importance\n",
    "\n",
    "This table ranks the **relative importance of each audio feature** in predicting log-transformed streams:  \n",
    "\n",
    "- **Valence %** appears as the most influential feature, followed closely by **Danceability %**, then **Energy %** and **Acousticness %**.  \n",
    "- The differences in importance scores are **moderate**, suggesting that no single feature dominates the model’s predictions.  \n",
    "- Despite these rankings, the overall **negative R²** indicates that even the most important features provide **minimal predictive power** for actual streaming numbers.  \n",
    "\n",
    "This reinforces the idea that **audio characteristics alone do not strongly drive streaming success** in 2023, at least within the scope of this dataset."
   ]
  },
  {
   "cell_type": "code",
   "execution_count": 43,
   "id": "555f04d5",
   "metadata": {},
   "outputs": [
    {
     "data": {
      "text/html": [
       "<div>\n",
       "<style scoped>\n",
       "    .dataframe tbody tr th:only-of-type {\n",
       "        vertical-align: middle;\n",
       "    }\n",
       "\n",
       "    .dataframe tbody tr th {\n",
       "        vertical-align: top;\n",
       "    }\n",
       "\n",
       "    .dataframe thead th {\n",
       "        text-align: right;\n",
       "    }\n",
       "</style>\n",
       "<table border=\"1\" class=\"dataframe\">\n",
       "  <thead>\n",
       "    <tr style=\"text-align: right;\">\n",
       "      <th></th>\n",
       "      <th>Feature</th>\n",
       "      <th>Importance</th>\n",
       "    </tr>\n",
       "  </thead>\n",
       "  <tbody>\n",
       "    <tr>\n",
       "      <th>1</th>\n",
       "      <td>Valence %</td>\n",
       "      <td>0.292028</td>\n",
       "    </tr>\n",
       "    <tr>\n",
       "      <th>0</th>\n",
       "      <td>Danceability %</td>\n",
       "      <td>0.265175</td>\n",
       "    </tr>\n",
       "    <tr>\n",
       "      <th>2</th>\n",
       "      <td>Energy %</td>\n",
       "      <td>0.227667</td>\n",
       "    </tr>\n",
       "    <tr>\n",
       "      <th>3</th>\n",
       "      <td>Acousticness %</td>\n",
       "      <td>0.215129</td>\n",
       "    </tr>\n",
       "  </tbody>\n",
       "</table>\n",
       "</div>"
      ],
      "text/plain": [
       "          Feature  Importance\n",
       "1       Valence %    0.292028\n",
       "0  Danceability %    0.265175\n",
       "2        Energy %    0.227667\n",
       "3  Acousticness %    0.215129"
      ]
     },
     "execution_count": 43,
     "metadata": {},
     "output_type": "execute_result"
    }
   ],
   "source": [
    "feat_importances = pd.DataFrame({\n",
    "    \"Feature\": X.columns,\n",
    "    \"Importance\": rf.feature_importances_\n",
    "})\n",
    "feat_importances = feat_importances.sort_values(by=\"Importance\", ascending=False)\n",
    "feat_importances"
   ]
  },
  {
   "cell_type": "markdown",
   "id": "848ec902",
   "metadata": {},
   "source": [
    "### Feature Importance Visualization: Random Forest (Without Track Age)\n",
    "\n",
    "This horizontal bar chart visualizes the **importance scores of each audio feature** as computed by the Random Forest model:  \n",
    "\n",
    "- **Valence %** is the top contributor to predictions, followed by **Danceability %**, **Energy %**, and **Acousticness %**.  \n",
    "- The **relatively close importance scores** indicate that all features provide some predictive signal, but none dominates substantially.  \n",
    "- The visual emphasis on Valence % highlights that **tracks with higher or lower valence levels** slightly influence predicted streaming counts more than the other audio attributes.  \n",
    "- Despite the model ranking features, the **negative R²** from earlier indicates that **even the most important features fail to accurately predict actual streams**, confirming the weak explanatory power of these audio features alone.  \n",
    "\n",
    "This chart provides a **clear comparative view** of feature relevance, useful for understanding the model’s internal logic and for future feature engineering or analysis."
   ]
  },
  {
   "cell_type": "code",
   "execution_count": 44,
   "id": "809b81e9",
   "metadata": {},
   "outputs": [
    {
     "data": {
      "application/vnd.plotly.v1+json": {
       "config": {
        "plotlyServerURL": "https://plot.ly"
       },
       "data": [
        {
         "hovertemplate": "Importance Score=%{marker.color}<br>Audio Features=%{y}<extra></extra>",
         "legendgroup": "",
         "marker": {
          "color": {
           "bdata": "XdQT8pew0j8KAB29oPjQP6P55XUyJM0/jV24K1yJyz8=",
           "dtype": "f8"
          },
          "coloraxis": "coloraxis",
          "pattern": {
           "shape": ""
          }
         },
         "name": "",
         "orientation": "h",
         "showlegend": false,
         "textposition": "auto",
         "type": "bar",
         "x": {
          "bdata": "XdQT8pew0j8KAB29oPjQP6P55XUyJM0/jV24K1yJyz8=",
          "dtype": "f8"
         },
         "xaxis": "x",
         "y": [
          "Valence %",
          "Danceability %",
          "Energy %",
          "Acousticness %"
         ],
         "yaxis": "y"
        }
       ],
       "layout": {
        "barmode": "relative",
        "coloraxis": {
         "colorbar": {
          "title": {
           "text": "Importance Score"
          }
         },
         "colorscale": [
          [
           0,
           "rgb(247,251,255)"
          ],
          [
           0.125,
           "rgb(222,235,247)"
          ],
          [
           0.25,
           "rgb(198,219,239)"
          ],
          [
           0.375,
           "rgb(158,202,225)"
          ],
          [
           0.5,
           "rgb(107,174,214)"
          ],
          [
           0.625,
           "rgb(66,146,198)"
          ],
          [
           0.75,
           "rgb(33,113,181)"
          ],
          [
           0.875,
           "rgb(8,81,156)"
          ],
          [
           1,
           "rgb(8,48,107)"
          ]
         ]
        },
        "legend": {
         "tracegroupgap": 0
        },
        "template": {
         "data": {
          "bar": [
           {
            "error_x": {
             "color": "#2a3f5f"
            },
            "error_y": {
             "color": "#2a3f5f"
            },
            "marker": {
             "line": {
              "color": "#E5ECF6",
              "width": 0.5
             },
             "pattern": {
              "fillmode": "overlay",
              "size": 10,
              "solidity": 0.2
             }
            },
            "type": "bar"
           }
          ],
          "barpolar": [
           {
            "marker": {
             "line": {
              "color": "#E5ECF6",
              "width": 0.5
             },
             "pattern": {
              "fillmode": "overlay",
              "size": 10,
              "solidity": 0.2
             }
            },
            "type": "barpolar"
           }
          ],
          "carpet": [
           {
            "aaxis": {
             "endlinecolor": "#2a3f5f",
             "gridcolor": "white",
             "linecolor": "white",
             "minorgridcolor": "white",
             "startlinecolor": "#2a3f5f"
            },
            "baxis": {
             "endlinecolor": "#2a3f5f",
             "gridcolor": "white",
             "linecolor": "white",
             "minorgridcolor": "white",
             "startlinecolor": "#2a3f5f"
            },
            "type": "carpet"
           }
          ],
          "choropleth": [
           {
            "colorbar": {
             "outlinewidth": 0,
             "ticks": ""
            },
            "type": "choropleth"
           }
          ],
          "contour": [
           {
            "colorbar": {
             "outlinewidth": 0,
             "ticks": ""
            },
            "colorscale": [
             [
              0,
              "#0d0887"
             ],
             [
              0.1111111111111111,
              "#46039f"
             ],
             [
              0.2222222222222222,
              "#7201a8"
             ],
             [
              0.3333333333333333,
              "#9c179e"
             ],
             [
              0.4444444444444444,
              "#bd3786"
             ],
             [
              0.5555555555555556,
              "#d8576b"
             ],
             [
              0.6666666666666666,
              "#ed7953"
             ],
             [
              0.7777777777777778,
              "#fb9f3a"
             ],
             [
              0.8888888888888888,
              "#fdca26"
             ],
             [
              1,
              "#f0f921"
             ]
            ],
            "type": "contour"
           }
          ],
          "contourcarpet": [
           {
            "colorbar": {
             "outlinewidth": 0,
             "ticks": ""
            },
            "type": "contourcarpet"
           }
          ],
          "heatmap": [
           {
            "colorbar": {
             "outlinewidth": 0,
             "ticks": ""
            },
            "colorscale": [
             [
              0,
              "#0d0887"
             ],
             [
              0.1111111111111111,
              "#46039f"
             ],
             [
              0.2222222222222222,
              "#7201a8"
             ],
             [
              0.3333333333333333,
              "#9c179e"
             ],
             [
              0.4444444444444444,
              "#bd3786"
             ],
             [
              0.5555555555555556,
              "#d8576b"
             ],
             [
              0.6666666666666666,
              "#ed7953"
             ],
             [
              0.7777777777777778,
              "#fb9f3a"
             ],
             [
              0.8888888888888888,
              "#fdca26"
             ],
             [
              1,
              "#f0f921"
             ]
            ],
            "type": "heatmap"
           }
          ],
          "histogram": [
           {
            "marker": {
             "pattern": {
              "fillmode": "overlay",
              "size": 10,
              "solidity": 0.2
             }
            },
            "type": "histogram"
           }
          ],
          "histogram2d": [
           {
            "colorbar": {
             "outlinewidth": 0,
             "ticks": ""
            },
            "colorscale": [
             [
              0,
              "#0d0887"
             ],
             [
              0.1111111111111111,
              "#46039f"
             ],
             [
              0.2222222222222222,
              "#7201a8"
             ],
             [
              0.3333333333333333,
              "#9c179e"
             ],
             [
              0.4444444444444444,
              "#bd3786"
             ],
             [
              0.5555555555555556,
              "#d8576b"
             ],
             [
              0.6666666666666666,
              "#ed7953"
             ],
             [
              0.7777777777777778,
              "#fb9f3a"
             ],
             [
              0.8888888888888888,
              "#fdca26"
             ],
             [
              1,
              "#f0f921"
             ]
            ],
            "type": "histogram2d"
           }
          ],
          "histogram2dcontour": [
           {
            "colorbar": {
             "outlinewidth": 0,
             "ticks": ""
            },
            "colorscale": [
             [
              0,
              "#0d0887"
             ],
             [
              0.1111111111111111,
              "#46039f"
             ],
             [
              0.2222222222222222,
              "#7201a8"
             ],
             [
              0.3333333333333333,
              "#9c179e"
             ],
             [
              0.4444444444444444,
              "#bd3786"
             ],
             [
              0.5555555555555556,
              "#d8576b"
             ],
             [
              0.6666666666666666,
              "#ed7953"
             ],
             [
              0.7777777777777778,
              "#fb9f3a"
             ],
             [
              0.8888888888888888,
              "#fdca26"
             ],
             [
              1,
              "#f0f921"
             ]
            ],
            "type": "histogram2dcontour"
           }
          ],
          "mesh3d": [
           {
            "colorbar": {
             "outlinewidth": 0,
             "ticks": ""
            },
            "type": "mesh3d"
           }
          ],
          "parcoords": [
           {
            "line": {
             "colorbar": {
              "outlinewidth": 0,
              "ticks": ""
             }
            },
            "type": "parcoords"
           }
          ],
          "pie": [
           {
            "automargin": true,
            "type": "pie"
           }
          ],
          "scatter": [
           {
            "fillpattern": {
             "fillmode": "overlay",
             "size": 10,
             "solidity": 0.2
            },
            "type": "scatter"
           }
          ],
          "scatter3d": [
           {
            "line": {
             "colorbar": {
              "outlinewidth": 0,
              "ticks": ""
             }
            },
            "marker": {
             "colorbar": {
              "outlinewidth": 0,
              "ticks": ""
             }
            },
            "type": "scatter3d"
           }
          ],
          "scattercarpet": [
           {
            "marker": {
             "colorbar": {
              "outlinewidth": 0,
              "ticks": ""
             }
            },
            "type": "scattercarpet"
           }
          ],
          "scattergeo": [
           {
            "marker": {
             "colorbar": {
              "outlinewidth": 0,
              "ticks": ""
             }
            },
            "type": "scattergeo"
           }
          ],
          "scattergl": [
           {
            "marker": {
             "colorbar": {
              "outlinewidth": 0,
              "ticks": ""
             }
            },
            "type": "scattergl"
           }
          ],
          "scattermap": [
           {
            "marker": {
             "colorbar": {
              "outlinewidth": 0,
              "ticks": ""
             }
            },
            "type": "scattermap"
           }
          ],
          "scattermapbox": [
           {
            "marker": {
             "colorbar": {
              "outlinewidth": 0,
              "ticks": ""
             }
            },
            "type": "scattermapbox"
           }
          ],
          "scatterpolar": [
           {
            "marker": {
             "colorbar": {
              "outlinewidth": 0,
              "ticks": ""
             }
            },
            "type": "scatterpolar"
           }
          ],
          "scatterpolargl": [
           {
            "marker": {
             "colorbar": {
              "outlinewidth": 0,
              "ticks": ""
             }
            },
            "type": "scatterpolargl"
           }
          ],
          "scatterternary": [
           {
            "marker": {
             "colorbar": {
              "outlinewidth": 0,
              "ticks": ""
             }
            },
            "type": "scatterternary"
           }
          ],
          "surface": [
           {
            "colorbar": {
             "outlinewidth": 0,
             "ticks": ""
            },
            "colorscale": [
             [
              0,
              "#0d0887"
             ],
             [
              0.1111111111111111,
              "#46039f"
             ],
             [
              0.2222222222222222,
              "#7201a8"
             ],
             [
              0.3333333333333333,
              "#9c179e"
             ],
             [
              0.4444444444444444,
              "#bd3786"
             ],
             [
              0.5555555555555556,
              "#d8576b"
             ],
             [
              0.6666666666666666,
              "#ed7953"
             ],
             [
              0.7777777777777778,
              "#fb9f3a"
             ],
             [
              0.8888888888888888,
              "#fdca26"
             ],
             [
              1,
              "#f0f921"
             ]
            ],
            "type": "surface"
           }
          ],
          "table": [
           {
            "cells": {
             "fill": {
              "color": "#EBF0F8"
             },
             "line": {
              "color": "white"
             }
            },
            "header": {
             "fill": {
              "color": "#C8D4E3"
             },
             "line": {
              "color": "white"
             }
            },
            "type": "table"
           }
          ]
         },
         "layout": {
          "annotationdefaults": {
           "arrowcolor": "#2a3f5f",
           "arrowhead": 0,
           "arrowwidth": 1
          },
          "autotypenumbers": "strict",
          "coloraxis": {
           "colorbar": {
            "outlinewidth": 0,
            "ticks": ""
           }
          },
          "colorscale": {
           "diverging": [
            [
             0,
             "#8e0152"
            ],
            [
             0.1,
             "#c51b7d"
            ],
            [
             0.2,
             "#de77ae"
            ],
            [
             0.3,
             "#f1b6da"
            ],
            [
             0.4,
             "#fde0ef"
            ],
            [
             0.5,
             "#f7f7f7"
            ],
            [
             0.6,
             "#e6f5d0"
            ],
            [
             0.7,
             "#b8e186"
            ],
            [
             0.8,
             "#7fbc41"
            ],
            [
             0.9,
             "#4d9221"
            ],
            [
             1,
             "#276419"
            ]
           ],
           "sequential": [
            [
             0,
             "#0d0887"
            ],
            [
             0.1111111111111111,
             "#46039f"
            ],
            [
             0.2222222222222222,
             "#7201a8"
            ],
            [
             0.3333333333333333,
             "#9c179e"
            ],
            [
             0.4444444444444444,
             "#bd3786"
            ],
            [
             0.5555555555555556,
             "#d8576b"
            ],
            [
             0.6666666666666666,
             "#ed7953"
            ],
            [
             0.7777777777777778,
             "#fb9f3a"
            ],
            [
             0.8888888888888888,
             "#fdca26"
            ],
            [
             1,
             "#f0f921"
            ]
           ],
           "sequentialminus": [
            [
             0,
             "#0d0887"
            ],
            [
             0.1111111111111111,
             "#46039f"
            ],
            [
             0.2222222222222222,
             "#7201a8"
            ],
            [
             0.3333333333333333,
             "#9c179e"
            ],
            [
             0.4444444444444444,
             "#bd3786"
            ],
            [
             0.5555555555555556,
             "#d8576b"
            ],
            [
             0.6666666666666666,
             "#ed7953"
            ],
            [
             0.7777777777777778,
             "#fb9f3a"
            ],
            [
             0.8888888888888888,
             "#fdca26"
            ],
            [
             1,
             "#f0f921"
            ]
           ]
          },
          "colorway": [
           "#636efa",
           "#EF553B",
           "#00cc96",
           "#ab63fa",
           "#FFA15A",
           "#19d3f3",
           "#FF6692",
           "#B6E880",
           "#FF97FF",
           "#FECB52"
          ],
          "font": {
           "color": "#2a3f5f"
          },
          "geo": {
           "bgcolor": "white",
           "lakecolor": "white",
           "landcolor": "#E5ECF6",
           "showlakes": true,
           "showland": true,
           "subunitcolor": "white"
          },
          "hoverlabel": {
           "align": "left"
          },
          "hovermode": "closest",
          "mapbox": {
           "style": "light"
          },
          "paper_bgcolor": "white",
          "plot_bgcolor": "#E5ECF6",
          "polar": {
           "angularaxis": {
            "gridcolor": "white",
            "linecolor": "white",
            "ticks": ""
           },
           "bgcolor": "#E5ECF6",
           "radialaxis": {
            "gridcolor": "white",
            "linecolor": "white",
            "ticks": ""
           }
          },
          "scene": {
           "xaxis": {
            "backgroundcolor": "#E5ECF6",
            "gridcolor": "white",
            "gridwidth": 2,
            "linecolor": "white",
            "showbackground": true,
            "ticks": "",
            "zerolinecolor": "white"
           },
           "yaxis": {
            "backgroundcolor": "#E5ECF6",
            "gridcolor": "white",
            "gridwidth": 2,
            "linecolor": "white",
            "showbackground": true,
            "ticks": "",
            "zerolinecolor": "white"
           },
           "zaxis": {
            "backgroundcolor": "#E5ECF6",
            "gridcolor": "white",
            "gridwidth": 2,
            "linecolor": "white",
            "showbackground": true,
            "ticks": "",
            "zerolinecolor": "white"
           }
          },
          "shapedefaults": {
           "line": {
            "color": "#2a3f5f"
           }
          },
          "ternary": {
           "aaxis": {
            "gridcolor": "white",
            "linecolor": "white",
            "ticks": ""
           },
           "baxis": {
            "gridcolor": "white",
            "linecolor": "white",
            "ticks": ""
           },
           "bgcolor": "#E5ECF6",
           "caxis": {
            "gridcolor": "white",
            "linecolor": "white",
            "ticks": ""
           }
          },
          "title": {
           "x": 0.05
          },
          "xaxis": {
           "automargin": true,
           "gridcolor": "white",
           "linecolor": "white",
           "ticks": "",
           "title": {
            "standoff": 15
           },
           "zerolinecolor": "white",
           "zerolinewidth": 2
          },
          "yaxis": {
           "automargin": true,
           "gridcolor": "white",
           "linecolor": "white",
           "ticks": "",
           "title": {
            "standoff": 15
           },
           "zerolinecolor": "white",
           "zerolinewidth": 2
          }
         }
        },
        "title": {
         "text": "Feature Importance in Random Forest"
        },
        "xaxis": {
         "anchor": "y",
         "domain": [
          0,
          1
         ],
         "title": {
          "text": "Importance Score"
         }
        },
        "yaxis": {
         "anchor": "x",
         "domain": [
          0,
          1
         ],
         "title": {
          "text": "Audio Features"
         }
        }
       }
      }
     },
     "metadata": {},
     "output_type": "display_data"
    }
   ],
   "source": [
    "px.bar(\n",
    "    feat_importances,\n",
    "    x=\"Importance\",\n",
    "    y=\"Feature\",\n",
    "    orientation=\"h\",\n",
    "    title=\"Feature Importance in Random Forest\",\n",
    "    labels={\"Importance\": \"Importance Score\", \"Feature\": \"Audio Features\"},\n",
    "    color=\"Importance\",\n",
    "    color_continuous_scale=\"Blues\"\n",
    ")\n"
   ]
  },
  {
   "cell_type": "markdown",
   "id": "d6c4295e",
   "metadata": {},
   "source": [
    "![Track Age vs Streams](screenshots/feature-importance-in-random-forest.png)\n"
   ]
  },
  {
   "cell_type": "markdown",
   "id": "1484876f",
   "metadata": {},
   "source": [
    "### Linear Regression Model Initialization\n",
    "\n",
    "At this stage, a **Linear Regression model** is initialized to serve as a **baseline predictive model**.  \n",
    "\n",
    "Key points:  \n",
    "- Linear Regression assumes a **linear relationship** between input features (`Danceability %`, `Valence %`, `Energy %`, `Acousticness %`) and the target variable (`Streams`).  \n",
    "- Unlike Random Forest, this model will provide **coefficients for each feature**, giving insights into the **direction and strength** of the relationship.  \n",
    "- The initialization does **not yet fit the model**; it simply prepares the algorithm to learn from the scaled training data.  \n",
    "\n",
    "This step is foundational before training, evaluation, and interpreting **feature impact on predicted streams**."
   ]
  },
  {
   "cell_type": "code",
   "execution_count": 45,
   "id": "7167a7cf",
   "metadata": {},
   "outputs": [],
   "source": [
    "lr = LinearRegression()"
   ]
  },
  {
   "cell_type": "markdown",
   "id": "aad06ea3",
   "metadata": {},
   "source": [
    "### Fitting the Linear Regression Model\n",
    "\n",
    "Here, the Linear Regression model is **trained on the scaled training data** (`X_train_scaled` and `y_train`).  \n",
    "\n",
    "Key points:  \n",
    "- The model learns **coefficients for each feature**, capturing how changes in `Danceability %`, `Valence %`, `Energy %`, and `Acousticness %` affect `Streams` (log-transformed).  \n",
    "- Unlike Random Forest, this model assumes a **linear relationship**, so it is sensitive to outliers and cannot capture complex non-linear patterns.  \n",
    "- After fitting, the model is ready to **predict streams on unseen test data** and to **analyze feature coefficients** for interpretability.  \n",
    "\n",
    "This step finalizes the model’s internal parameters, allowing evaluation of its **predictive performance and feature influence**.\n"
   ]
  },
  {
   "cell_type": "code",
   "execution_count": 46,
   "id": "a33c4043",
   "metadata": {},
   "outputs": [
    {
     "data": {
      "text/html": [
       "<style>#sk-container-id-2 {\n",
       "  /* Definition of color scheme common for light and dark mode */\n",
       "  --sklearn-color-text: #000;\n",
       "  --sklearn-color-text-muted: #666;\n",
       "  --sklearn-color-line: gray;\n",
       "  /* Definition of color scheme for unfitted estimators */\n",
       "  --sklearn-color-unfitted-level-0: #fff5e6;\n",
       "  --sklearn-color-unfitted-level-1: #f6e4d2;\n",
       "  --sklearn-color-unfitted-level-2: #ffe0b3;\n",
       "  --sklearn-color-unfitted-level-3: chocolate;\n",
       "  /* Definition of color scheme for fitted estimators */\n",
       "  --sklearn-color-fitted-level-0: #f0f8ff;\n",
       "  --sklearn-color-fitted-level-1: #d4ebff;\n",
       "  --sklearn-color-fitted-level-2: #b3dbfd;\n",
       "  --sklearn-color-fitted-level-3: cornflowerblue;\n",
       "\n",
       "  /* Specific color for light theme */\n",
       "  --sklearn-color-text-on-default-background: var(--sg-text-color, var(--theme-code-foreground, var(--jp-content-font-color1, black)));\n",
       "  --sklearn-color-background: var(--sg-background-color, var(--theme-background, var(--jp-layout-color0, white)));\n",
       "  --sklearn-color-border-box: var(--sg-text-color, var(--theme-code-foreground, var(--jp-content-font-color1, black)));\n",
       "  --sklearn-color-icon: #696969;\n",
       "\n",
       "  @media (prefers-color-scheme: dark) {\n",
       "    /* Redefinition of color scheme for dark theme */\n",
       "    --sklearn-color-text-on-default-background: var(--sg-text-color, var(--theme-code-foreground, var(--jp-content-font-color1, white)));\n",
       "    --sklearn-color-background: var(--sg-background-color, var(--theme-background, var(--jp-layout-color0, #111)));\n",
       "    --sklearn-color-border-box: var(--sg-text-color, var(--theme-code-foreground, var(--jp-content-font-color1, white)));\n",
       "    --sklearn-color-icon: #878787;\n",
       "  }\n",
       "}\n",
       "\n",
       "#sk-container-id-2 {\n",
       "  color: var(--sklearn-color-text);\n",
       "}\n",
       "\n",
       "#sk-container-id-2 pre {\n",
       "  padding: 0;\n",
       "}\n",
       "\n",
       "#sk-container-id-2 input.sk-hidden--visually {\n",
       "  border: 0;\n",
       "  clip: rect(1px 1px 1px 1px);\n",
       "  clip: rect(1px, 1px, 1px, 1px);\n",
       "  height: 1px;\n",
       "  margin: -1px;\n",
       "  overflow: hidden;\n",
       "  padding: 0;\n",
       "  position: absolute;\n",
       "  width: 1px;\n",
       "}\n",
       "\n",
       "#sk-container-id-2 div.sk-dashed-wrapped {\n",
       "  border: 1px dashed var(--sklearn-color-line);\n",
       "  margin: 0 0.4em 0.5em 0.4em;\n",
       "  box-sizing: border-box;\n",
       "  padding-bottom: 0.4em;\n",
       "  background-color: var(--sklearn-color-background);\n",
       "}\n",
       "\n",
       "#sk-container-id-2 div.sk-container {\n",
       "  /* jupyter's `normalize.less` sets `[hidden] { display: none; }`\n",
       "     but bootstrap.min.css set `[hidden] { display: none !important; }`\n",
       "     so we also need the `!important` here to be able to override the\n",
       "     default hidden behavior on the sphinx rendered scikit-learn.org.\n",
       "     See: https://github.com/scikit-learn/scikit-learn/issues/21755 */\n",
       "  display: inline-block !important;\n",
       "  position: relative;\n",
       "}\n",
       "\n",
       "#sk-container-id-2 div.sk-text-repr-fallback {\n",
       "  display: none;\n",
       "}\n",
       "\n",
       "div.sk-parallel-item,\n",
       "div.sk-serial,\n",
       "div.sk-item {\n",
       "  /* draw centered vertical line to link estimators */\n",
       "  background-image: linear-gradient(var(--sklearn-color-text-on-default-background), var(--sklearn-color-text-on-default-background));\n",
       "  background-size: 2px 100%;\n",
       "  background-repeat: no-repeat;\n",
       "  background-position: center center;\n",
       "}\n",
       "\n",
       "/* Parallel-specific style estimator block */\n",
       "\n",
       "#sk-container-id-2 div.sk-parallel-item::after {\n",
       "  content: \"\";\n",
       "  width: 100%;\n",
       "  border-bottom: 2px solid var(--sklearn-color-text-on-default-background);\n",
       "  flex-grow: 1;\n",
       "}\n",
       "\n",
       "#sk-container-id-2 div.sk-parallel {\n",
       "  display: flex;\n",
       "  align-items: stretch;\n",
       "  justify-content: center;\n",
       "  background-color: var(--sklearn-color-background);\n",
       "  position: relative;\n",
       "}\n",
       "\n",
       "#sk-container-id-2 div.sk-parallel-item {\n",
       "  display: flex;\n",
       "  flex-direction: column;\n",
       "}\n",
       "\n",
       "#sk-container-id-2 div.sk-parallel-item:first-child::after {\n",
       "  align-self: flex-end;\n",
       "  width: 50%;\n",
       "}\n",
       "\n",
       "#sk-container-id-2 div.sk-parallel-item:last-child::after {\n",
       "  align-self: flex-start;\n",
       "  width: 50%;\n",
       "}\n",
       "\n",
       "#sk-container-id-2 div.sk-parallel-item:only-child::after {\n",
       "  width: 0;\n",
       "}\n",
       "\n",
       "/* Serial-specific style estimator block */\n",
       "\n",
       "#sk-container-id-2 div.sk-serial {\n",
       "  display: flex;\n",
       "  flex-direction: column;\n",
       "  align-items: center;\n",
       "  background-color: var(--sklearn-color-background);\n",
       "  padding-right: 1em;\n",
       "  padding-left: 1em;\n",
       "}\n",
       "\n",
       "\n",
       "/* Toggleable style: style used for estimator/Pipeline/ColumnTransformer box that is\n",
       "clickable and can be expanded/collapsed.\n",
       "- Pipeline and ColumnTransformer use this feature and define the default style\n",
       "- Estimators will overwrite some part of the style using the `sk-estimator` class\n",
       "*/\n",
       "\n",
       "/* Pipeline and ColumnTransformer style (default) */\n",
       "\n",
       "#sk-container-id-2 div.sk-toggleable {\n",
       "  /* Default theme specific background. It is overwritten whether we have a\n",
       "  specific estimator or a Pipeline/ColumnTransformer */\n",
       "  background-color: var(--sklearn-color-background);\n",
       "}\n",
       "\n",
       "/* Toggleable label */\n",
       "#sk-container-id-2 label.sk-toggleable__label {\n",
       "  cursor: pointer;\n",
       "  display: flex;\n",
       "  width: 100%;\n",
       "  margin-bottom: 0;\n",
       "  padding: 0.5em;\n",
       "  box-sizing: border-box;\n",
       "  text-align: center;\n",
       "  align-items: start;\n",
       "  justify-content: space-between;\n",
       "  gap: 0.5em;\n",
       "}\n",
       "\n",
       "#sk-container-id-2 label.sk-toggleable__label .caption {\n",
       "  font-size: 0.6rem;\n",
       "  font-weight: lighter;\n",
       "  color: var(--sklearn-color-text-muted);\n",
       "}\n",
       "\n",
       "#sk-container-id-2 label.sk-toggleable__label-arrow:before {\n",
       "  /* Arrow on the left of the label */\n",
       "  content: \"▸\";\n",
       "  float: left;\n",
       "  margin-right: 0.25em;\n",
       "  color: var(--sklearn-color-icon);\n",
       "}\n",
       "\n",
       "#sk-container-id-2 label.sk-toggleable__label-arrow:hover:before {\n",
       "  color: var(--sklearn-color-text);\n",
       "}\n",
       "\n",
       "/* Toggleable content - dropdown */\n",
       "\n",
       "#sk-container-id-2 div.sk-toggleable__content {\n",
       "  max-height: 0;\n",
       "  max-width: 0;\n",
       "  overflow: hidden;\n",
       "  text-align: left;\n",
       "  /* unfitted */\n",
       "  background-color: var(--sklearn-color-unfitted-level-0);\n",
       "}\n",
       "\n",
       "#sk-container-id-2 div.sk-toggleable__content.fitted {\n",
       "  /* fitted */\n",
       "  background-color: var(--sklearn-color-fitted-level-0);\n",
       "}\n",
       "\n",
       "#sk-container-id-2 div.sk-toggleable__content pre {\n",
       "  margin: 0.2em;\n",
       "  border-radius: 0.25em;\n",
       "  color: var(--sklearn-color-text);\n",
       "  /* unfitted */\n",
       "  background-color: var(--sklearn-color-unfitted-level-0);\n",
       "}\n",
       "\n",
       "#sk-container-id-2 div.sk-toggleable__content.fitted pre {\n",
       "  /* unfitted */\n",
       "  background-color: var(--sklearn-color-fitted-level-0);\n",
       "}\n",
       "\n",
       "#sk-container-id-2 input.sk-toggleable__control:checked~div.sk-toggleable__content {\n",
       "  /* Expand drop-down */\n",
       "  max-height: 200px;\n",
       "  max-width: 100%;\n",
       "  overflow: auto;\n",
       "}\n",
       "\n",
       "#sk-container-id-2 input.sk-toggleable__control:checked~label.sk-toggleable__label-arrow:before {\n",
       "  content: \"▾\";\n",
       "}\n",
       "\n",
       "/* Pipeline/ColumnTransformer-specific style */\n",
       "\n",
       "#sk-container-id-2 div.sk-label input.sk-toggleable__control:checked~label.sk-toggleable__label {\n",
       "  color: var(--sklearn-color-text);\n",
       "  background-color: var(--sklearn-color-unfitted-level-2);\n",
       "}\n",
       "\n",
       "#sk-container-id-2 div.sk-label.fitted input.sk-toggleable__control:checked~label.sk-toggleable__label {\n",
       "  background-color: var(--sklearn-color-fitted-level-2);\n",
       "}\n",
       "\n",
       "/* Estimator-specific style */\n",
       "\n",
       "/* Colorize estimator box */\n",
       "#sk-container-id-2 div.sk-estimator input.sk-toggleable__control:checked~label.sk-toggleable__label {\n",
       "  /* unfitted */\n",
       "  background-color: var(--sklearn-color-unfitted-level-2);\n",
       "}\n",
       "\n",
       "#sk-container-id-2 div.sk-estimator.fitted input.sk-toggleable__control:checked~label.sk-toggleable__label {\n",
       "  /* fitted */\n",
       "  background-color: var(--sklearn-color-fitted-level-2);\n",
       "}\n",
       "\n",
       "#sk-container-id-2 div.sk-label label.sk-toggleable__label,\n",
       "#sk-container-id-2 div.sk-label label {\n",
       "  /* The background is the default theme color */\n",
       "  color: var(--sklearn-color-text-on-default-background);\n",
       "}\n",
       "\n",
       "/* On hover, darken the color of the background */\n",
       "#sk-container-id-2 div.sk-label:hover label.sk-toggleable__label {\n",
       "  color: var(--sklearn-color-text);\n",
       "  background-color: var(--sklearn-color-unfitted-level-2);\n",
       "}\n",
       "\n",
       "/* Label box, darken color on hover, fitted */\n",
       "#sk-container-id-2 div.sk-label.fitted:hover label.sk-toggleable__label.fitted {\n",
       "  color: var(--sklearn-color-text);\n",
       "  background-color: var(--sklearn-color-fitted-level-2);\n",
       "}\n",
       "\n",
       "/* Estimator label */\n",
       "\n",
       "#sk-container-id-2 div.sk-label label {\n",
       "  font-family: monospace;\n",
       "  font-weight: bold;\n",
       "  display: inline-block;\n",
       "  line-height: 1.2em;\n",
       "}\n",
       "\n",
       "#sk-container-id-2 div.sk-label-container {\n",
       "  text-align: center;\n",
       "}\n",
       "\n",
       "/* Estimator-specific */\n",
       "#sk-container-id-2 div.sk-estimator {\n",
       "  font-family: monospace;\n",
       "  border: 1px dotted var(--sklearn-color-border-box);\n",
       "  border-radius: 0.25em;\n",
       "  box-sizing: border-box;\n",
       "  margin-bottom: 0.5em;\n",
       "  /* unfitted */\n",
       "  background-color: var(--sklearn-color-unfitted-level-0);\n",
       "}\n",
       "\n",
       "#sk-container-id-2 div.sk-estimator.fitted {\n",
       "  /* fitted */\n",
       "  background-color: var(--sklearn-color-fitted-level-0);\n",
       "}\n",
       "\n",
       "/* on hover */\n",
       "#sk-container-id-2 div.sk-estimator:hover {\n",
       "  /* unfitted */\n",
       "  background-color: var(--sklearn-color-unfitted-level-2);\n",
       "}\n",
       "\n",
       "#sk-container-id-2 div.sk-estimator.fitted:hover {\n",
       "  /* fitted */\n",
       "  background-color: var(--sklearn-color-fitted-level-2);\n",
       "}\n",
       "\n",
       "/* Specification for estimator info (e.g. \"i\" and \"?\") */\n",
       "\n",
       "/* Common style for \"i\" and \"?\" */\n",
       "\n",
       ".sk-estimator-doc-link,\n",
       "a:link.sk-estimator-doc-link,\n",
       "a:visited.sk-estimator-doc-link {\n",
       "  float: right;\n",
       "  font-size: smaller;\n",
       "  line-height: 1em;\n",
       "  font-family: monospace;\n",
       "  background-color: var(--sklearn-color-background);\n",
       "  border-radius: 1em;\n",
       "  height: 1em;\n",
       "  width: 1em;\n",
       "  text-decoration: none !important;\n",
       "  margin-left: 0.5em;\n",
       "  text-align: center;\n",
       "  /* unfitted */\n",
       "  border: var(--sklearn-color-unfitted-level-1) 1pt solid;\n",
       "  color: var(--sklearn-color-unfitted-level-1);\n",
       "}\n",
       "\n",
       ".sk-estimator-doc-link.fitted,\n",
       "a:link.sk-estimator-doc-link.fitted,\n",
       "a:visited.sk-estimator-doc-link.fitted {\n",
       "  /* fitted */\n",
       "  border: var(--sklearn-color-fitted-level-1) 1pt solid;\n",
       "  color: var(--sklearn-color-fitted-level-1);\n",
       "}\n",
       "\n",
       "/* On hover */\n",
       "div.sk-estimator:hover .sk-estimator-doc-link:hover,\n",
       ".sk-estimator-doc-link:hover,\n",
       "div.sk-label-container:hover .sk-estimator-doc-link:hover,\n",
       ".sk-estimator-doc-link:hover {\n",
       "  /* unfitted */\n",
       "  background-color: var(--sklearn-color-unfitted-level-3);\n",
       "  color: var(--sklearn-color-background);\n",
       "  text-decoration: none;\n",
       "}\n",
       "\n",
       "div.sk-estimator.fitted:hover .sk-estimator-doc-link.fitted:hover,\n",
       ".sk-estimator-doc-link.fitted:hover,\n",
       "div.sk-label-container:hover .sk-estimator-doc-link.fitted:hover,\n",
       ".sk-estimator-doc-link.fitted:hover {\n",
       "  /* fitted */\n",
       "  background-color: var(--sklearn-color-fitted-level-3);\n",
       "  color: var(--sklearn-color-background);\n",
       "  text-decoration: none;\n",
       "}\n",
       "\n",
       "/* Span, style for the box shown on hovering the info icon */\n",
       ".sk-estimator-doc-link span {\n",
       "  display: none;\n",
       "  z-index: 9999;\n",
       "  position: relative;\n",
       "  font-weight: normal;\n",
       "  right: .2ex;\n",
       "  padding: .5ex;\n",
       "  margin: .5ex;\n",
       "  width: min-content;\n",
       "  min-width: 20ex;\n",
       "  max-width: 50ex;\n",
       "  color: var(--sklearn-color-text);\n",
       "  box-shadow: 2pt 2pt 4pt #999;\n",
       "  /* unfitted */\n",
       "  background: var(--sklearn-color-unfitted-level-0);\n",
       "  border: .5pt solid var(--sklearn-color-unfitted-level-3);\n",
       "}\n",
       "\n",
       ".sk-estimator-doc-link.fitted span {\n",
       "  /* fitted */\n",
       "  background: var(--sklearn-color-fitted-level-0);\n",
       "  border: var(--sklearn-color-fitted-level-3);\n",
       "}\n",
       "\n",
       ".sk-estimator-doc-link:hover span {\n",
       "  display: block;\n",
       "}\n",
       "\n",
       "/* \"?\"-specific style due to the `<a>` HTML tag */\n",
       "\n",
       "#sk-container-id-2 a.estimator_doc_link {\n",
       "  float: right;\n",
       "  font-size: 1rem;\n",
       "  line-height: 1em;\n",
       "  font-family: monospace;\n",
       "  background-color: var(--sklearn-color-background);\n",
       "  border-radius: 1rem;\n",
       "  height: 1rem;\n",
       "  width: 1rem;\n",
       "  text-decoration: none;\n",
       "  /* unfitted */\n",
       "  color: var(--sklearn-color-unfitted-level-1);\n",
       "  border: var(--sklearn-color-unfitted-level-1) 1pt solid;\n",
       "}\n",
       "\n",
       "#sk-container-id-2 a.estimator_doc_link.fitted {\n",
       "  /* fitted */\n",
       "  border: var(--sklearn-color-fitted-level-1) 1pt solid;\n",
       "  color: var(--sklearn-color-fitted-level-1);\n",
       "}\n",
       "\n",
       "/* On hover */\n",
       "#sk-container-id-2 a.estimator_doc_link:hover {\n",
       "  /* unfitted */\n",
       "  background-color: var(--sklearn-color-unfitted-level-3);\n",
       "  color: var(--sklearn-color-background);\n",
       "  text-decoration: none;\n",
       "}\n",
       "\n",
       "#sk-container-id-2 a.estimator_doc_link.fitted:hover {\n",
       "  /* fitted */\n",
       "  background-color: var(--sklearn-color-fitted-level-3);\n",
       "}\n",
       "</style><div id=\"sk-container-id-2\" class=\"sk-top-container\"><div class=\"sk-text-repr-fallback\"><pre>LinearRegression()</pre><b>In a Jupyter environment, please rerun this cell to show the HTML representation or trust the notebook. <br />On GitHub, the HTML representation is unable to render, please try loading this page with nbviewer.org.</b></div><div class=\"sk-container\" hidden><div class=\"sk-item\"><div class=\"sk-estimator fitted sk-toggleable\"><input class=\"sk-toggleable__control sk-hidden--visually\" id=\"sk-estimator-id-2\" type=\"checkbox\" checked><label for=\"sk-estimator-id-2\" class=\"sk-toggleable__label fitted sk-toggleable__label-arrow\"><div><div>LinearRegression</div></div><div><a class=\"sk-estimator-doc-link fitted\" rel=\"noreferrer\" target=\"_blank\" href=\"https://scikit-learn.org/1.6/modules/generated/sklearn.linear_model.LinearRegression.html\">?<span>Documentation for LinearRegression</span></a><span class=\"sk-estimator-doc-link fitted\">i<span>Fitted</span></span></div></label><div class=\"sk-toggleable__content fitted\"><pre>LinearRegression()</pre></div> </div></div></div></div>"
      ],
      "text/plain": [
       "LinearRegression()"
      ]
     },
     "execution_count": 46,
     "metadata": {},
     "output_type": "execute_result"
    }
   ],
   "source": [
    "lr.fit(X_train_scaled, y_train)"
   ]
  },
  {
   "cell_type": "markdown",
   "id": "95e84483",
   "metadata": {},
   "source": [
    "### Generating Predictions with Linear Regression\n",
    "\n",
    "The trained Linear Regression model is used to **predict the log-transformed streams** for the test dataset (`X_test_scaled`).  \n",
    "\n",
    "Key observations:  \n",
    "- These predictions represent the model’s **best estimate of each track’s performance** based on its audio features.  \n",
    "- Since the target variable is **log-transformed**, the predicted values are in the same logarithmic scale as the training data.  \n",
    "- These predictions will be compared to the actual log-stream values to **assess model accuracy** using metrics like R² and RMSE.  \n",
    "- This step is essential for evaluating **how well the linear relationships captured by the model generalize** to unseen data.\n"
   ]
  },
  {
   "cell_type": "code",
   "execution_count": 47,
   "id": "2cc8d649",
   "metadata": {},
   "outputs": [],
   "source": [
    "y_pred_lr = lr.predict(X_test_scaled)"
   ]
  },
  {
   "cell_type": "markdown",
   "id": "0c75cd87",
   "metadata": {},
   "source": [
    "### Linear Regression Model Evaluation\n",
    "\n",
    "The Linear Regression model achieves the following performance metrics on the test set:  \n",
    "\n",
    "- **R²: 0.016**  \n",
    "- **RMSE: 1.006**  \n",
    "\n",
    "Insights from these results:  \n",
    "- The **R² value close to zero** indicates that the linear model explains **very little of the variance** in Spotify streams based on the audio features alone.  \n",
    "- The **RMSE value** shows the average magnitude of error in predicting log-transformed streams, suggesting the predictions deviate **significantly from actual values**.  \n",
    "- These metrics imply that a **simple linear combination of danceability, valence, energy, and acousticness** is insufficient to predict track popularity in 2023.  \n",
    "- While the model captures **some minimal trends**, the overall predictive power is extremely limited, signaling that **other factors beyond these audio features** likely drive streaming success.\n"
   ]
  },
  {
   "cell_type": "code",
   "execution_count": 48,
   "id": "dd041362",
   "metadata": {},
   "outputs": [
    {
     "name": "stdout",
     "output_type": "stream",
     "text": [
      "Linear Regression R²: 0.016\n",
      "Linear Regression RMSE: 1.006\n"
     ]
    }
   ],
   "source": [
    "r2_lr = r2_score(y_test, y_pred_lr)\n",
    "rmse_lr = np.sqrt(mean_squared_error(y_test, y_pred_lr))\n",
    "\n",
    "print(f\"Linear Regression R²: {r2_lr:.3f}\")\n",
    "print(f\"Linear Regression RMSE: {rmse_lr:.3f}\")"
   ]
  },
  {
   "cell_type": "markdown",
   "id": "ed93f00e",
   "metadata": {},
   "source": [
    "### Linear Regression: Actual vs Predicted Streams Scatter Plot\n",
    "\n",
    "This scatter plot visualizes the **relationship between the actual and predicted log-transformed streams** for the Linear Regression model.  \n",
    "\n",
    "Key observations:  \n",
    "\n",
    "- The points are **widely dispersed around the diagonal**, confirming the **poor fit** indicated by the low R² value.  \n",
    "- There is **no clear linear trend**, which means the model struggles to capture the variation in track popularity based solely on the selected audio features.  \n",
    "- Outliers with extremely high streams, such as **viral hits**, are notably **underestimated**, highlighting the model's inability to handle tracks with exceptional performance.  \n",
    "- The visualization reinforces that **a linear approach is insufficient**, suggesting that **non-linear or more complex models** might be needed to capture the dynamics of Spotify streaming data.\n"
   ]
  },
  {
   "cell_type": "code",
   "execution_count": 49,
   "id": "7fa461eb",
   "metadata": {},
   "outputs": [
    {
     "data": {
      "image/png": "[encoded data removed]",
      "text/plain": [
       "<Figure size 640x480 with 1 Axes>"
      ]
     },
     "metadata": {},
     "output_type": "display_data"
    }
   ],
   "source": [
    "plt.scatter(y_test, y_pred_lr, alpha=0.5, color=\"orange\")\n",
    "plt.xlabel(\"Actual Streams (log)\")\n",
    "plt.ylabel(\"Predicted Streams (log)\")\n",
    "plt.title(\"Linear Regression: Actual vs Predicted Streams\")\n",
    "plt.show()"
   ]
  },
  {
   "cell_type": "markdown",
   "id": "7cf45752",
   "metadata": {},
   "source": [
    "### Linear Regression Feature Coefficients\n",
    "\n",
    "This table and bar chart present the **coefficients assigned to each audio feature** by the Linear Regression model.  \n",
    "\n",
    "Key insights:  \n",
    "\n",
    "- **Danceability %** has the **largest negative coefficient**, suggesting that higher danceability is slightly associated with lower predicted streams in this model.  \n",
    "- **Valence %** has a **small positive coefficient**, indicating a minimal positive effect on predicted streams.  \n",
    "- **Energy %** and **Acousticness %** also show **small negative contributions**, further emphasizing the **weak linear relationship** between these audio features and track popularity.  \n",
    "- Overall, the **low magnitude of all coefficients** aligns with the model’s **poor predictive performance**, as confirmed by the R² value near zero.  \n",
    "\n",
    "This analysis highlights that **linear assumptions do not capture the true impact of audio features** on Spotify streams, motivating the exploration of **more flexible, non-linear models**.\n"
   ]
  },
  {
   "cell_type": "code",
   "execution_count": 50,
   "id": "e881641a",
   "metadata": {},
   "outputs": [
    {
     "data": {
      "text/html": [
       "<div>\n",
       "<style scoped>\n",
       "    .dataframe tbody tr th:only-of-type {\n",
       "        vertical-align: middle;\n",
       "    }\n",
       "\n",
       "    .dataframe tbody tr th {\n",
       "        vertical-align: top;\n",
       "    }\n",
       "\n",
       "    .dataframe thead th {\n",
       "        text-align: right;\n",
       "    }\n",
       "</style>\n",
       "<table border=\"1\" class=\"dataframe\">\n",
       "  <thead>\n",
       "    <tr style=\"text-align: right;\">\n",
       "      <th></th>\n",
       "      <th>Feature</th>\n",
       "      <th>Coefficient</th>\n",
       "    </tr>\n",
       "  </thead>\n",
       "  <tbody>\n",
       "    <tr>\n",
       "      <th>1</th>\n",
       "      <td>Valence %</td>\n",
       "      <td>0.035784</td>\n",
       "    </tr>\n",
       "    <tr>\n",
       "      <th>2</th>\n",
       "      <td>Energy %</td>\n",
       "      <td>-0.066193</td>\n",
       "    </tr>\n",
       "    <tr>\n",
       "      <th>3</th>\n",
       "      <td>Acousticness %</td>\n",
       "      <td>-0.078969</td>\n",
       "    </tr>\n",
       "    <tr>\n",
       "      <th>0</th>\n",
       "      <td>Danceability %</td>\n",
       "      <td>-0.091625</td>\n",
       "    </tr>\n",
       "  </tbody>\n",
       "</table>\n",
       "</div>"
      ],
      "text/plain": [
       "          Feature  Coefficient\n",
       "1       Valence %     0.035784\n",
       "2        Energy %    -0.066193\n",
       "3  Acousticness %    -0.078969\n",
       "0  Danceability %    -0.091625"
      ]
     },
     "execution_count": 50,
     "metadata": {},
     "output_type": "execute_result"
    }
   ],
   "source": [
    "coeffs = pd.DataFrame({\n",
    "    \"Feature\": X.columns,\n",
    "    \"Coefficient\": lr.coef_\n",
    "})\n",
    "coeffs = coeffs.sort_values(by=\"Coefficient\", ascending=False)\n",
    "coeffs"
   ]
  },
  {
   "cell_type": "markdown",
   "id": "ed71adb8",
   "metadata": {},
   "source": [
    "### Linear Regression Feature Coefficients Visualization\n",
    "\n",
    "This horizontal bar chart illustrates the **magnitude and direction of influence** for each audio feature according to the Linear Regression model:\n",
    "\n",
    "- **Danceability %** shows the **strongest negative effect**, suggesting that tracks with higher danceability slightly predict lower streams in this linear framework.  \n",
    "- **Acousticness %** and **Energy %** also exhibit **negative associations**, but their impact is moderate.  \n",
    "- **Valence %** is the only feature with a **positive coefficient**, indicating a minor positive influence on predicted streams.  \n",
    "- The overall small coefficient values **reinforce the weak linear relationship** between these audio features and actual Spotify streams, consistent with the low R² score observed.  \n",
    "\n",
    "This visualization clarifies how **linear models fail to capture complex patterns**, guiding future analysis toward more sophisticated or non-linear approaches for modeling track popularity.\n"
   ]
  },
  {
   "cell_type": "code",
   "execution_count": 51,
   "id": "552c5530",
   "metadata": {},
   "outputs": [
    {
     "data": {
      "application/vnd.plotly.v1+json": {
       "config": {
        "plotlyServerURL": "https://plot.ly"
       },
       "data": [
        {
         "hovertemplate": "Coefficient Score=%{marker.color}<br>Audio Features=%{y}<extra></extra>",
         "legendgroup": "",
         "marker": {
          "color": {
           "bdata": "il2SQDhSoj9xAE4X/vGwv/QbKRRTN7S/Q16rSsF0t78=",
           "dtype": "f8"
          },
          "coloraxis": "coloraxis",
          "pattern": {
           "shape": ""
          }
         },
         "name": "",
         "orientation": "h",
         "showlegend": false,
         "textposition": "auto",
         "type": "bar",
         "x": {
          "bdata": "il2SQDhSoj9xAE4X/vGwv/QbKRRTN7S/Q16rSsF0t78=",
          "dtype": "f8"
         },
         "xaxis": "x",
         "y": [
          "Valence %",
          "Energy %",
          "Acousticness %",
          "Danceability %"
         ],
         "yaxis": "y"
        }
       ],
       "layout": {
        "barmode": "relative",
        "coloraxis": {
         "colorbar": {
          "title": {
           "text": "Coefficient Score"
          }
         },
         "colorscale": [
          [
           0,
           "rgb(247,252,245)"
          ],
          [
           0.125,
           "rgb(229,245,224)"
          ],
          [
           0.25,
           "rgb(199,233,192)"
          ],
          [
           0.375,
           "rgb(161,217,155)"
          ],
          [
           0.5,
           "rgb(116,196,118)"
          ],
          [
           0.625,
           "rgb(65,171,93)"
          ],
          [
           0.75,
           "rgb(35,139,69)"
          ],
          [
           0.875,
           "rgb(0,109,44)"
          ],
          [
           1,
           "rgb(0,68,27)"
          ]
         ]
        },
        "legend": {
         "tracegroupgap": 0
        },
        "template": {
         "data": {
          "bar": [
           {
            "error_x": {
             "color": "#2a3f5f"
            },
            "error_y": {
             "color": "#2a3f5f"
            },
            "marker": {
             "line": {
              "color": "#E5ECF6",
              "width": 0.5
             },
             "pattern": {
              "fillmode": "overlay",
              "size": 10,
              "solidity": 0.2
             }
            },
            "type": "bar"
           }
          ],
          "barpolar": [
           {
            "marker": {
             "line": {
              "color": "#E5ECF6",
              "width": 0.5
             },
             "pattern": {
              "fillmode": "overlay",
              "size": 10,
              "solidity": 0.2
             }
            },
            "type": "barpolar"
           }
          ],
          "carpet": [
           {
            "aaxis": {
             "endlinecolor": "#2a3f5f",
             "gridcolor": "white",
             "linecolor": "white",
             "minorgridcolor": "white",
             "startlinecolor": "#2a3f5f"
            },
            "baxis": {
             "endlinecolor": "#2a3f5f",
             "gridcolor": "white",
             "linecolor": "white",
             "minorgridcolor": "white",
             "startlinecolor": "#2a3f5f"
            },
            "type": "carpet"
           }
          ],
          "choropleth": [
           {
            "colorbar": {
             "outlinewidth": 0,
             "ticks": ""
            },
            "type": "choropleth"
           }
          ],
          "contour": [
           {
            "colorbar": {
             "outlinewidth": 0,
             "ticks": ""
            },
            "colorscale": [
             [
              0,
              "#0d0887"
             ],
             [
              0.1111111111111111,
              "#46039f"
             ],
             [
              0.2222222222222222,
              "#7201a8"
             ],
             [
              0.3333333333333333,
              "#9c179e"
             ],
             [
              0.4444444444444444,
              "#bd3786"
             ],
             [
              0.5555555555555556,
              "#d8576b"
             ],
             [
              0.6666666666666666,
              "#ed7953"
             ],
             [
              0.7777777777777778,
              "#fb9f3a"
             ],
             [
              0.8888888888888888,
              "#fdca26"
             ],
             [
              1,
              "#f0f921"
             ]
            ],
            "type": "contour"
           }
          ],
          "contourcarpet": [
           {
            "colorbar": {
             "outlinewidth": 0,
             "ticks": ""
            },
            "type": "contourcarpet"
           }
          ],
          "heatmap": [
           {
            "colorbar": {
             "outlinewidth": 0,
             "ticks": ""
            },
            "colorscale": [
             [
              0,
              "#0d0887"
             ],
             [
              0.1111111111111111,
              "#46039f"
             ],
             [
              0.2222222222222222,
              "#7201a8"
             ],
             [
              0.3333333333333333,
              "#9c179e"
             ],
             [
              0.4444444444444444,
              "#bd3786"
             ],
             [
              0.5555555555555556,
              "#d8576b"
             ],
             [
              0.6666666666666666,
              "#ed7953"
             ],
             [
              0.7777777777777778,
              "#fb9f3a"
             ],
             [
              0.8888888888888888,
              "#fdca26"
             ],
             [
              1,
              "#f0f921"
             ]
            ],
            "type": "heatmap"
           }
          ],
          "histogram": [
           {
            "marker": {
             "pattern": {
              "fillmode": "overlay",
              "size": 10,
              "solidity": 0.2
             }
            },
            "type": "histogram"
           }
          ],
          "histogram2d": [
           {
            "colorbar": {
             "outlinewidth": 0,
             "ticks": ""
            },
            "colorscale": [
             [
              0,
              "#0d0887"
             ],
             [
              0.1111111111111111,
              "#46039f"
             ],
             [
              0.2222222222222222,
              "#7201a8"
             ],
             [
              0.3333333333333333,
              "#9c179e"
             ],
             [
              0.4444444444444444,
              "#bd3786"
             ],
             [
              0.5555555555555556,
              "#d8576b"
             ],
             [
              0.6666666666666666,
              "#ed7953"
             ],
             [
              0.7777777777777778,
              "#fb9f3a"
             ],
             [
              0.8888888888888888,
              "#fdca26"
             ],
             [
              1,
              "#f0f921"
             ]
            ],
            "type": "histogram2d"
           }
          ],
          "histogram2dcontour": [
           {
            "colorbar": {
             "outlinewidth": 0,
             "ticks": ""
            },
            "colorscale": [
             [
              0,
              "#0d0887"
             ],
             [
              0.1111111111111111,
              "#46039f"
             ],
             [
              0.2222222222222222,
              "#7201a8"
             ],
             [
              0.3333333333333333,
              "#9c179e"
             ],
             [
              0.4444444444444444,
              "#bd3786"
             ],
             [
              0.5555555555555556,
              "#d8576b"
             ],
             [
              0.6666666666666666,
              "#ed7953"
             ],
             [
              0.7777777777777778,
              "#fb9f3a"
             ],
             [
              0.8888888888888888,
              "#fdca26"
             ],
             [
              1,
              "#f0f921"
             ]
            ],
            "type": "histogram2dcontour"
           }
          ],
          "mesh3d": [
           {
            "colorbar": {
             "outlinewidth": 0,
             "ticks": ""
            },
            "type": "mesh3d"
           }
          ],
          "parcoords": [
           {
            "line": {
             "colorbar": {
              "outlinewidth": 0,
              "ticks": ""
             }
            },
            "type": "parcoords"
           }
          ],
          "pie": [
           {
            "automargin": true,
            "type": "pie"
           }
          ],
          "scatter": [
           {
            "fillpattern": {
             "fillmode": "overlay",
             "size": 10,
             "solidity": 0.2
            },
            "type": "scatter"
           }
          ],
          "scatter3d": [
           {
            "line": {
             "colorbar": {
              "outlinewidth": 0,
              "ticks": ""
             }
            },
            "marker": {
             "colorbar": {
              "outlinewidth": 0,
              "ticks": ""
             }
            },
            "type": "scatter3d"
           }
          ],
          "scattercarpet": [
           {
            "marker": {
             "colorbar": {
              "outlinewidth": 0,
              "ticks": ""
             }
            },
            "type": "scattercarpet"
           }
          ],
          "scattergeo": [
           {
            "marker": {
             "colorbar": {
              "outlinewidth": 0,
              "ticks": ""
             }
            },
            "type": "scattergeo"
           }
          ],
          "scattergl": [
           {
            "marker": {
             "colorbar": {
              "outlinewidth": 0,
              "ticks": ""
             }
            },
            "type": "scattergl"
           }
          ],
          "scattermap": [
           {
            "marker": {
             "colorbar": {
              "outlinewidth": 0,
              "ticks": ""
             }
            },
            "type": "scattermap"
           }
          ],
          "scattermapbox": [
           {
            "marker": {
             "colorbar": {
              "outlinewidth": 0,
              "ticks": ""
             }
            },
            "type": "scattermapbox"
           }
          ],
          "scatterpolar": [
           {
            "marker": {
             "colorbar": {
              "outlinewidth": 0,
              "ticks": ""
             }
            },
            "type": "scatterpolar"
           }
          ],
          "scatterpolargl": [
           {
            "marker": {
             "colorbar": {
              "outlinewidth": 0,
              "ticks": ""
             }
            },
            "type": "scatterpolargl"
           }
          ],
          "scatterternary": [
           {
            "marker": {
             "colorbar": {
              "outlinewidth": 0,
              "ticks": ""
             }
            },
            "type": "scatterternary"
           }
          ],
          "surface": [
           {
            "colorbar": {
             "outlinewidth": 0,
             "ticks": ""
            },
            "colorscale": [
             [
              0,
              "#0d0887"
             ],
             [
              0.1111111111111111,
              "#46039f"
             ],
             [
              0.2222222222222222,
              "#7201a8"
             ],
             [
              0.3333333333333333,
              "#9c179e"
             ],
             [
              0.4444444444444444,
              "#bd3786"
             ],
             [
              0.5555555555555556,
              "#d8576b"
             ],
             [
              0.6666666666666666,
              "#ed7953"
             ],
             [
              0.7777777777777778,
              "#fb9f3a"
             ],
             [
              0.8888888888888888,
              "#fdca26"
             ],
             [
              1,
              "#f0f921"
             ]
            ],
            "type": "surface"
           }
          ],
          "table": [
           {
            "cells": {
             "fill": {
              "color": "#EBF0F8"
             },
             "line": {
              "color": "white"
             }
            },
            "header": {
             "fill": {
              "color": "#C8D4E3"
             },
             "line": {
              "color": "white"
             }
            },
            "type": "table"
           }
          ]
         },
         "layout": {
          "annotationdefaults": {
           "arrowcolor": "#2a3f5f",
           "arrowhead": 0,
           "arrowwidth": 1
          },
          "autotypenumbers": "strict",
          "coloraxis": {
           "colorbar": {
            "outlinewidth": 0,
            "ticks": ""
           }
          },
          "colorscale": {
           "diverging": [
            [
             0,
             "#8e0152"
            ],
            [
             0.1,
             "#c51b7d"
            ],
            [
             0.2,
             "#de77ae"
            ],
            [
             0.3,
             "#f1b6da"
            ],
            [
             0.4,
             "#fde0ef"
            ],
            [
             0.5,
             "#f7f7f7"
            ],
            [
             0.6,
             "#e6f5d0"
            ],
            [
             0.7,
             "#b8e186"
            ],
            [
             0.8,
             "#7fbc41"
            ],
            [
             0.9,
             "#4d9221"
            ],
            [
             1,
             "#276419"
            ]
           ],
           "sequential": [
            [
             0,
             "#0d0887"
            ],
            [
             0.1111111111111111,
             "#46039f"
            ],
            [
             0.2222222222222222,
             "#7201a8"
            ],
            [
             0.3333333333333333,
             "#9c179e"
            ],
            [
             0.4444444444444444,
             "#bd3786"
            ],
            [
             0.5555555555555556,
             "#d8576b"
            ],
            [
             0.6666666666666666,
             "#ed7953"
            ],
            [
             0.7777777777777778,
             "#fb9f3a"
            ],
            [
             0.8888888888888888,
             "#fdca26"
            ],
            [
             1,
             "#f0f921"
            ]
           ],
           "sequentialminus": [
            [
             0,
             "#0d0887"
            ],
            [
             0.1111111111111111,
             "#46039f"
            ],
            [
             0.2222222222222222,
             "#7201a8"
            ],
            [
             0.3333333333333333,
             "#9c179e"
            ],
            [
             0.4444444444444444,
             "#bd3786"
            ],
            [
             0.5555555555555556,
             "#d8576b"
            ],
            [
             0.6666666666666666,
             "#ed7953"
            ],
            [
             0.7777777777777778,
             "#fb9f3a"
            ],
            [
             0.8888888888888888,
             "#fdca26"
            ],
            [
             1,
             "#f0f921"
            ]
           ]
          },
          "colorway": [
           "#636efa",
           "#EF553B",
           "#00cc96",
           "#ab63fa",
           "#FFA15A",
           "#19d3f3",
           "#FF6692",
           "#B6E880",
           "#FF97FF",
           "#FECB52"
          ],
          "font": {
           "color": "#2a3f5f"
          },
          "geo": {
           "bgcolor": "white",
           "lakecolor": "white",
           "landcolor": "#E5ECF6",
           "showlakes": true,
           "showland": true,
           "subunitcolor": "white"
          },
          "hoverlabel": {
           "align": "left"
          },
          "hovermode": "closest",
          "mapbox": {
           "style": "light"
          },
          "paper_bgcolor": "white",
          "plot_bgcolor": "#E5ECF6",
          "polar": {
           "angularaxis": {
            "gridcolor": "white",
            "linecolor": "white",
            "ticks": ""
           },
           "bgcolor": "#E5ECF6",
           "radialaxis": {
            "gridcolor": "white",
            "linecolor": "white",
            "ticks": ""
           }
          },
          "scene": {
           "xaxis": {
            "backgroundcolor": "#E5ECF6",
            "gridcolor": "white",
            "gridwidth": 2,
            "linecolor": "white",
            "showbackground": true,
            "ticks": "",
            "zerolinecolor": "white"
           },
           "yaxis": {
            "backgroundcolor": "#E5ECF6",
            "gridcolor": "white",
            "gridwidth": 2,
            "linecolor": "white",
            "showbackground": true,
            "ticks": "",
            "zerolinecolor": "white"
           },
           "zaxis": {
            "backgroundcolor": "#E5ECF6",
            "gridcolor": "white",
            "gridwidth": 2,
            "linecolor": "white",
            "showbackground": true,
            "ticks": "",
            "zerolinecolor": "white"
           }
          },
          "shapedefaults": {
           "line": {
            "color": "#2a3f5f"
           }
          },
          "ternary": {
           "aaxis": {
            "gridcolor": "white",
            "linecolor": "white",
            "ticks": ""
           },
           "baxis": {
            "gridcolor": "white",
            "linecolor": "white",
            "ticks": ""
           },
           "bgcolor": "#E5ECF6",
           "caxis": {
            "gridcolor": "white",
            "linecolor": "white",
            "ticks": ""
           }
          },
          "title": {
           "x": 0.05
          },
          "xaxis": {
           "automargin": true,
           "gridcolor": "white",
           "linecolor": "white",
           "ticks": "",
           "title": {
            "standoff": 15
           },
           "zerolinecolor": "white",
           "zerolinewidth": 2
          },
          "yaxis": {
           "automargin": true,
           "gridcolor": "white",
           "linecolor": "white",
           "ticks": "",
           "title": {
            "standoff": 15
           },
           "zerolinecolor": "white",
           "zerolinewidth": 2
          }
         }
        },
        "title": {
         "text": "Feature Coefficient in Linear Regression"
        },
        "xaxis": {
         "anchor": "y",
         "domain": [
          0,
          1
         ],
         "title": {
          "text": "Coefficient Score"
         }
        },
        "yaxis": {
         "anchor": "x",
         "domain": [
          0,
          1
         ],
         "title": {
          "text": "Audio Features"
         }
        }
       }
      }
     },
     "metadata": {},
     "output_type": "display_data"
    }
   ],
   "source": [
    "px.bar(\n",
    "    coeffs,\n",
    "    x=\"Coefficient\",\n",
    "    y=\"Feature\",\n",
    "    orientation=\"h\",\n",
    "    title=\"Feature Coefficient in Linear Regression\",\n",
    "    labels={\"Coefficient\": \"Coefficient Score\", \"Feature\": \"Audio Features\"},\n",
    "    color=\"Coefficient\",\n",
    "    color_continuous_scale=\"Greens\"\n",
    ")\n"
   ]
  },
  {
   "cell_type": "markdown",
   "id": "bc20861e",
   "metadata": {},
   "source": [
    "![Track Age vs Streams](screenshots/feature-coefficient-in-linear-regression.png)\n"
   ]
  },
  {
   "cell_type": "markdown",
   "id": "569cd8f3",
   "metadata": {},
   "source": [
    "### Machine Learning Models Summary: Random Forest vs Linear Regression\n",
    "\n",
    "This section provides a comparative overview of the two regression models applied to predict Spotify streams based on audio features:\n",
    "\n",
    "- **Random Forest Regressor**  \n",
    "  - R²: **-0.152**, RMSE: **1.088**  \n",
    "  - Feature importances indicate that **Valence %** and **Danceability %** are slightly more influential than **Energy %** or **Acousticness %**.  \n",
    "  - Despite its ability to capture non-linear relationships, the model **performs poorly**, suggesting that **audio features alone are insufficient** to predict streams.  \n",
    "\n",
    "- **Linear Regression**  \n",
    "  - R²: **0.016**, RMSE: **1.006**  \n",
    "  - Coefficients show that only **Valence %** has a small positive effect, while **Danceability %, Energy %, and Acousticness %** have negative associations.  \n",
    "  - The extremely low R² confirms that **linear assumptions do not capture the complex factors** influencing streaming performance.  \n",
    "\n",
    "**Key Insights on Model Performance**:  \n",
    "- Both models highlight the **limited predictive power of intrinsic audio features** for streaming success in 2023.  \n",
    "- **External factors likely dominate track popularity**, including:  \n",
    "  - **Marketing campaigns, playlist placements, and promotional activities**  \n",
    "  - **Viral trends on social media platforms like TikTok**  \n",
    "  - **Seasonal or cultural influences** that drive short-term spikes in streaming  \n",
    "- The **absence of these variables** in the dataset explains why models cannot effectively forecast streams.  \n",
    "\n",
    "**Conclusion**:  \n",
    "- Audio features provide some information about song characteristics but are **not strong determinants of commercial success**.  \n",
    "- To enhance predictive performance, future models should incorporate **external engagement metrics, marketing data, and social trends**, which have a far greater impact on Spotify streams than the track's acoustic profile alone.\n"
   ]
  },
  {
   "cell_type": "markdown",
   "id": "ad4d60be",
   "metadata": {},
   "source": [
    "---"
   ]
  },
  {
   "cell_type": "markdown",
   "id": "9f5e11ee",
   "metadata": {},
   "source": [
    "### Project Summary and Key Insights\n",
    "\n",
    "This project explored Spotify 2023 data to analyze trends in track popularity, artist performance, and the influence of audio features on streaming success. Below is a consolidated summary of the key findings:\n",
    "\n",
    "#### **1. Track Age and Streaming Performance**\n",
    "- Most streams are dominated by **recent releases**, but some older tracks still maintain high streaming numbers.  \n",
    "- Tracks released in the last **5–6 years** capture the majority of streams, emphasizing the **recency effect** in digital music consumption.  \n",
    "- Older classics can still achieve notable streams, but these are **exceptions rather than the rule**.\n",
    "\n",
    "#### **2. Solo vs Collaboration Tracks**\n",
    "- **Solo tracks** represent a larger portion of the dataset (~61%), but **collaborations** (~38%) frequently appear among top-streamed tracks.  \n",
    "- Collaborations can leverage fanbases from multiple artists, often leading to **higher streaming potential**.\n",
    "\n",
    "#### **3. Top Artists and Tracks**\n",
    "- **Top artists** such as The Weeknd, Taylor Swift, and Ed Sheeran dominate cumulative streams, highlighting the **power of established fanbases and global reach**.  \n",
    "- **Top tracks** are mostly recent hits, but some iconic songs like “Blinding Lights” maintain longevity in streaming numbers.  \n",
    "- High-stream tracks often correlate with **high visibility and viral trends**, rather than purely audio characteristics.\n",
    "\n",
    "#### **4. Audio Feature Analysis**\n",
    "- **Danceability, Valence, Energy, and Acousticness** show varying relationships with streams:  \n",
    "  - Top danceable tracks are not always the most streamed.  \n",
    "  - High valence (positivity) sometimes aligns with higher streams, but not consistently.  \n",
    "  - Energy and acousticness have **weak correlations** with streams.  \n",
    "- Histograms reveal that **streams are not strongly dependent** on any single audio feature, implying that **other external factors** drive popularity.\n",
    "\n",
    "#### **5. Correlation Insights**\n",
    "- Weak correlations were observed between streams and audio features:  \n",
    "  - **Danceability %:** slightly negative with streams  \n",
    "  - **Valence %:** minimal positive correlation  \n",
    "  - **Energy % and Acousticness %:** negligible to negative correlation  \n",
    "- Indicates that **audio features alone cannot predict streaming success**.\n",
    "\n",
    "#### **6. Machine Learning Models**\n",
    "- Both **Random Forest** and **Linear Regression** struggled to predict streams (R² near zero or negative).  \n",
    "- **Key takeaway:**  \n",
    "  - Streams are influenced by **external factors** such as marketing, playlist placement, virality on social media, and seasonal trends.  \n",
    "  - Audio features provide limited predictive power, highlighting the **importance of real-world engagement metrics**.\n",
    "\n",
    "### **Overall Lessons Learned**\n",
    "- Streaming success is **multi-faceted**, heavily influenced by **artist reputation, promotions, and cultural trends**, rather than just musical characteristics.  \n",
    "- Visualizations effectively illustrate patterns in **artist dominance, track longevity, and feature distribution**, but predictive modeling requires **additional contextual data**.  \n",
    "- For future projects, combining **audio analysis with marketing, social media, and engagement metrics** will offer **more accurate insights and predictions**.\n",
    "\n",
    "This project demonstrates how **data-driven analysis can reveal both measurable trends and the limitations of prediction** in the complex ecosystem of digital music streaming.\n"
   ]
  }
 ],
 "metadata": {
  "kernelspec": {
   "display_name": "Python 3",
   "language": "python",
   "name": "python3"
  },
  "language_info": {
   "codemirror_mode": {
    "name": "ipython",
    "version": 3
   },
   "file_extension": ".py",
   "mimetype": "text/x-python",
   "name": "python",
   "nbconvert_exporter": "python",
   "pygments_lexer": "ipython3",
   "version": "3.13.5"
  }
 },
 "nbformat": 4,
 "nbformat_minor": 5
}
